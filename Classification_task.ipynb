{
 "cells": [
  {
   "cell_type": "code",
   "execution_count": 1,
   "metadata": {},
   "outputs": [
    {
     "name": "stderr",
     "output_type": "stream",
     "text": [
      "Using TensorFlow backend.\n"
     ]
    }
   ],
   "source": [
    "import warnings\n",
    "warnings.filterwarnings('ignore')\n",
    "\n",
    "from utils import *\n",
    "# data processing\n",
    "import pandas as pd\n",
    "import numpy as np\n",
    "\n",
    "# image processing\n",
    "from PIL import Image\n",
    "\n",
    "# data visualization\n",
    "import matplotlib.pyplot as plt\n",
    "import seaborn as sn\n",
    "\n",
    "# tf and keras\n",
    "import tensorflow as tf\n",
    "import keras\n",
    "from keras.models import Sequential, Model, load_model\n",
    "from keras.layers import Input, concatenate, Conv2D, MaxPooling2D, AveragePooling2D, Conv2DTranspose, Dropout, BatchNormalization\n",
    "from keras.layers.core import Dense, Activation, Flatten\n",
    "from keras.optimizers import SGD, Adam, RMSprop\n",
    "from keras.utils import plot_model\n",
    "from keras.callbacks import ModelCheckpoint\n",
    "from keras import backend as K\n",
    "\n",
    "# dataset processing, ml models and metrics\n",
    "from sklearn.model_selection import train_test_split\n",
    "from sklearn.metrics import confusion_matrix\n",
    "from sklearn.model_selection import KFold\n",
    "from sklearn.model_selection import StratifiedKFold\n",
    "from sklearn.metrics import confusion_matrix\n",
    "from sklearn.metrics import classification_report\n",
    "import scipy\n",
    "import glob\n",
    "from pprint import pprint\n",
    "import datetime\n",
    "import os\n",
    "import json\n",
    "# import itertools"
   ]
  },
  {
   "cell_type": "code",
   "execution_count": 4,
   "metadata": {},
   "outputs": [],
   "source": [
    "%matplotlib inline"
   ]
  },
  {
   "cell_type": "code",
   "execution_count": 5,
   "metadata": {},
   "outputs": [],
   "source": [
    "pd.set_option('display.max_rows',None)"
   ]
  },
  {
   "cell_type": "code",
   "execution_count": 6,
   "metadata": {},
   "outputs": [],
   "source": [
    "K.clear_session()"
   ]
  },
  {
   "cell_type": "code",
   "execution_count": 7,
   "metadata": {},
   "outputs": [],
   "source": [
    "dir_ = 'datasets/HASYv2/'\n",
    "model_dir = 'trained_models/'\n",
    "processed_data_dir ='processed_data/'\n",
    "plot_dir = 'plots/'\n",
    "model_logs = model_dir+'/logs/'\n",
    "K.set_image_data_format('channels_first')"
   ]
  },
  {
   "cell_type": "markdown",
   "metadata": {},
   "source": [
    "## Networks"
   ]
  },
  {
   "cell_type": "code",
   "execution_count": 8,
   "metadata": {},
   "outputs": [],
   "source": [
    "# CNN 1\n",
    "# adapted from large layer\n",
    "def get_layers1(input_shape, data_format, classes):\n",
    "    return [\n",
    "        Conv2D(4, (2,2), padding='same', data_format=data_format, input_shape=input_shape),\n",
    "        Activation('relu'),\n",
    "        #MaxPooling2D(pool_size=(2,2), strides=(2,2)),\n",
    "        \n",
    "        Conv2D(16,(2,2), padding='same', data_format=data_format),\n",
    "        Activation('relu'),\n",
    "        MaxPooling2D(pool_size=(2,2), strides=(2,2)),\n",
    "                \n",
    "        Flatten(),\n",
    "        Dense(3200),\n",
    "        Activation('relu'),\n",
    "        \n",
    "        Dense(classes),\n",
    "        Activation('softmax'),\n",
    "    ]\n",
    "\n",
    "def create_network1(input_shape, data_format, classes):\n",
    "    model = Sequential()\n",
    "    layers = get_layers1(input_shape, data_format, classes)\n",
    "    for i in layers:\n",
    "        model.add(i)\n",
    "    return model                "
   ]
  },
  {
   "cell_type": "code",
   "execution_count": 9,
   "metadata": {},
   "outputs": [],
   "source": [
    "# CNN 2 without Batch Normalization\n",
    "def get_layers2(input_shape, data_format, classes):\n",
    "    return [\n",
    "        Conv2D(25, (5, 5), padding='same', data_format=data_format, input_shape=input_shape),\n",
    "        Activation('relu'),\n",
    "        MaxPooling2D(pool_size=(2,2), strides=(2,2)),\n",
    "        \n",
    "        Conv2D(50, (3, 3), padding='same', data_format=data_format),\n",
    "        Activation('relu'),\n",
    "        MaxPooling2D(pool_size=(2,2), strides=(2,2)),\n",
    "                \n",
    "        Conv2D(100, (2,2), padding='same', data_format=data_format),\n",
    "        Activation('relu'),\n",
    "        MaxPooling2D(pool_size=(2,2), strides=(2,2)),\n",
    "        \n",
    "        Conv2D(200, (2,2), padding='same', data_format=data_format),\n",
    "        Activation('relu'),\n",
    "        MaxPooling2D(pool_size=(2,2), strides=(2,2)),\n",
    "        \n",
    "        Flatten(),\n",
    "        Dense(3200),\n",
    "        Activation('relu'),\n",
    "        \n",
    "        Dense(1600),\n",
    "        Activation('relu'),\n",
    "        \n",
    "        Dense(classes),\n",
    "        Activation('softmax'),\n",
    "    ]\n",
    "\n",
    "def create_network2(input_shape, data_format, classes):\n",
    "    model = Sequential()\n",
    "    layers = get_layers2(input_shape, data_format, classes)\n",
    "    for i in layers:\n",
    "        model.add(i)\n",
    "    return model"
   ]
  },
  {
   "cell_type": "code",
   "execution_count": 10,
   "metadata": {},
   "outputs": [],
   "source": [
    "# CNN 2 with Batch Normalization\n",
    "def get_layers3(input_shape, data_format, classes):\n",
    "    return [\n",
    "        Conv2D(25, (5, 5), padding='same', data_format=data_format, input_shape=input_shape),\n",
    "        BatchNormalization(),\n",
    "        Activation('relu'),\n",
    "        MaxPooling2D(pool_size=(2,2), strides=(2,2)),\n",
    "        \n",
    "        Conv2D(50, (3, 3), padding='same', data_format=data_format),\n",
    "        BatchNormalization(),\n",
    "        Activation('relu'),\n",
    "        MaxPooling2D(pool_size=(2,2), strides=(2,2)),\n",
    "                \n",
    "        Conv2D(100, (2,2), padding='same', data_format=data_format),\n",
    "        BatchNormalization(),\n",
    "        Activation('relu'),\n",
    "        MaxPooling2D(pool_size=(2,2), strides=(2,2)),\n",
    "        \n",
    "        Conv2D(200, (2,2), padding='same', data_format=data_format),\n",
    "        BatchNormalization(),\n",
    "        Activation('relu'),\n",
    "        MaxPooling2D(pool_size=(2,2), strides=(2,2)),\n",
    "        \n",
    "        Flatten(),\n",
    "        Dense(3200),\n",
    "        Activation('relu'),\n",
    "        \n",
    "        Dense(1600),\n",
    "        Activation('relu'),\n",
    "        \n",
    "        Dense(classes),\n",
    "        Activation('softmax'),\n",
    "    ]\n",
    "\n",
    "def create_network3(input_shape, data_format, classes):\n",
    "    model = Sequential()\n",
    "    layers = get_layers3(input_shape, data_format, classes)\n",
    "    for i in layers:\n",
    "        model.add(i)\n",
    "    return model                "
   ]
  },
  {
   "cell_type": "code",
   "execution_count": 11,
   "metadata": {},
   "outputs": [],
   "source": [
    "def get_layers_ann1(input_shape, classes):\n",
    "    return [\n",
    "        Dense(1024,\n",
    "              input_shape=input_shape,\n",
    "              kernel_initializer=keras.initializers.lecun_normal(seed=25)\n",
    "             ),\n",
    "        Activation('relu'),\n",
    "        Dropout(0.2),\n",
    "        Dense(1024,\n",
    "              kernel_initializer=keras.initializers.lecun_normal(seed=26)\n",
    "             ),\n",
    "        Activation('relu'),\n",
    "        Dropout(0.2),\n",
    "        Dense(2048,\n",
    "              kernel_initializer=keras.initializers.lecun_normal(seed=27)\n",
    "             ),\n",
    "        Activation('relu'),\n",
    "        Dropout(0.2),\n",
    "        Dense(classes,\n",
    "              kernel_initializer=keras.initializers.lecun_normal(seed=29)\n",
    "             ),\n",
    "        Activation('softmax')\n",
    "    ]\n",
    "\n",
    "def create_network_ann1(input_shape, classes):\n",
    "    model = Sequential()\n",
    "    layers = get_layers_ann1(input_shape, classes)\n",
    "    for i in layers:\n",
    "        model.add(i)\n",
    "    return model"
   ]
  },
  {
   "cell_type": "code",
   "execution_count": 12,
   "metadata": {},
   "outputs": [],
   "source": [
    "def get_layers_ann2(input_shape, classes):\n",
    "    return [\n",
    "        Dense(1024, \n",
    "              input_shape=input_shape, \n",
    "              kernel_initializer=keras.initializers.lecun_normal(seed=25), \n",
    "              kernel_regularizer=keras.regularizers.l2(0.01)\n",
    "             ),\n",
    "        Activation('relu'),\n",
    "        Dropout(0.1),\n",
    "        Dense(1024, \n",
    "              kernel_initializer=keras.initializers.lecun_normal(seed=26),\n",
    "              kernel_regularizer=keras.regularizers.l2(0.01)\n",
    "             ),\n",
    "        Activation('relu'),\n",
    "        Dropout(0.1),\n",
    "        Dense(2048,\n",
    "              kernel_initializer=keras.initializers.lecun_normal(seed=27),\n",
    "              kernel_regularizer=keras.regularizers.l2(0.01)\n",
    "             ),\n",
    "        Activation('relu'),\n",
    "        Dropout(0.1),\n",
    "        Dense(classes,\n",
    "              kernel_initializer=keras.initializers.lecun_normal(seed=29)\n",
    "             ),\n",
    "        Activation('softmax'),\n",
    "    ]\n",
    "\n",
    "def create_network_ann2(input_shape, classes):\n",
    "    model = Sequential()\n",
    "    layers = get_layers_ann2(input_shape, classes)\n",
    "    for i in layers:\n",
    "        model.add(i)\n",
    "    return model"
   ]
  },
  {
   "cell_type": "code",
   "execution_count": 13,
   "metadata": {},
   "outputs": [],
   "source": [
    "# LeNet\n",
    "def get_layers6(input_shape, classes):\n",
    "    return [\n",
    "        # 1st Layer: Conv2D\n",
    "        Conv2D(\n",
    "            filters=6, \n",
    "            kernel_size=(5, 5), \n",
    "            strides=1,\n",
    "            padding='same', \n",
    "            data_format=data_format, \n",
    "            input_shape=input_shape\n",
    "        ),\n",
    "        Activation('tanh'),\n",
    "        \n",
    "        # 2nd Layer: AveragePooling2D\n",
    "        AveragePooling2D(\n",
    "            pool_size=(2,2), \n",
    "            strides=(1,1),\n",
    "            padding='valid'\n",
    "        ),\n",
    "        \n",
    "        # 3rd Layer: Conv2D\n",
    "        Conv2D(\n",
    "            filters=16, \n",
    "            kernel_size=(5, 5),\n",
    "            strides=1,\n",
    "            padding='valid', \n",
    "            data_format=data_format\n",
    "        ),\n",
    "        Activation('tanh'),\n",
    "        \n",
    "        # 4th Layer: AveragePooling2D\n",
    "        AveragePooling2D(\n",
    "            pool_size=(2,2), \n",
    "            strides=(2,2),\n",
    "            padding='valid'\n",
    "        ),\n",
    "        \n",
    "        # 5th Layer: Conv2D\n",
    "        Conv2D(\n",
    "            filters=120, \n",
    "            kernel_size=(5, 5),\n",
    "            strides=1,\n",
    "            padding='valid', \n",
    "            data_format=data_format\n",
    "        ),\n",
    "        Activation('tanh'),\n",
    "        \n",
    "        # Flatten output\n",
    "        Flatten(),\n",
    "        \n",
    "        # 6th Layer: FC 1\n",
    "        Dense(1024),\n",
    "        Activation('tanh'),\n",
    "        Dropout(0.2),\n",
    "        \n",
    "        # 7th Layer: FC 2 (Added this extra layer to account for more classes)\n",
    "        Dense(512),\n",
    "        Activation('tanh'),\n",
    "        Dropout(0.2),\n",
    "        \n",
    "        # 8th layer: Output layer\n",
    "        Dense(classes),\n",
    "        Activation('softmax'),\n",
    "    ]\n",
    "\n",
    "def create_network6(input_shape, classes):\n",
    "    model = Sequential()\n",
    "    layers = get_layers6(input_shape, classes)\n",
    "    for i in layers:\n",
    "        model.add(i)\n",
    "    return model"
   ]
  },
  {
   "cell_type": "markdown",
   "metadata": {},
   "source": [
    "Evaluation"
   ]
  },
  {
   "cell_type": "code",
   "execution_count": 1,
   "metadata": {},
   "outputs": [],
   "source": [
    "def t_test(test_x, test_y, models, sym2latex_dict):\n",
    "    if len(models) < 0:\n",
    "        raise ValueError(\"No models found in models variable\")\n",
    "    if len(test_x) != len(test_y):\n",
    "        raise ValueError(\"Varibales test_x and test_y are of different length\")\n",
    "    \n",
    "    # convert test values from one hot encoded to label value\n",
    "    y_true = []\n",
    "    for i in range(len(test_y)):\n",
    "        # print(one_hot_encode_to_char(res[i], threshold = 0.5, get_max=False))\n",
    "        val = one_hot_encode_to_char(test_y[i], threshold = 0.9, get_max=True)\n",
    "        if len(val) > 0:\n",
    "            y_true.append(val[0])\n",
    "        else:\n",
    "            y_true.append(None)\n",
    "            print(\":(\")\n",
    "    \n",
    "    # test_x_ann for ann with shape (samples, 32*32)\n",
    "    # test_x for cnn with shape (samples, 1, 32, 32)\n",
    "    test_x_ann = test_x.reshape(test_x.shape[0], test_x.shape[-1] * test_x.shape[-2])\n",
    "    no_models = len(models)\n",
    "    cols = ['symbol','latex']\n",
    "    preds = []\n",
    "    # convert predictions from one hot encoded to label value\n",
    "    for i in range(no_models):\n",
    "        print(\"Predictng labels for Model \"+str(i+1))\n",
    "        cols.append('model'+str(i+1))\n",
    "        \n",
    "        # check if model is cnn or ann with a cnn flag\n",
    "        if models[i][1] == 1:\n",
    "            res = models[i][0].predict(test_x)\n",
    "        else:\n",
    "            res = models[i][0].predict(test_x_ann)\n",
    "        \n",
    "        y_pred = []\n",
    "        for j in range(len(res)):\n",
    "            # print(one_hot_encode_to_char(res[i], threshold = 0.5, get_max=False))\n",
    "            val = one_hot_encode_to_char(res[j], threshold = 0.1, get_max=True)\n",
    "            if len(val) > 0:\n",
    "                y_pred.append(val[0])\n",
    "            else:\n",
    "                y_pred.append(None)\n",
    "                print(\":(\")\n",
    "        preds.append(y_pred)\n",
    "    print(\"Predictions Done\")\n",
    "    print(\"Comparing Results...\")\n",
    "    \n",
    "    # perform t test\n",
    "    t_test_result = pd.DataFrame(columns=cols)\n",
    "    for i in range(len(y_true)):\n",
    "        t_test_result.loc[i,'symbol'] = y_true[i]\n",
    "        t_test_result.loc[i,'latex'] = sym2latex_dict[y_true[i]]\n",
    "        for j in range(no_models):\n",
    "            t_test_result.loc[i, 'model'+str(j+1)] = sym2latex_dict[preds[j][i]]\n",
    "    print(\"Done\")    \n",
    "    return t_test_result\n",
    "\n",
    "def create_t_test_report(test_res):\n",
    "    models_names = list(test_res.columns.values[2:])\n",
    "    res = pd.DataFrame(columns=['latex','total_count']+models_names)\n",
    "    for i in range(len(symbols)):\n",
    "        res.loc[i,'latex'] = symbols.loc[i,'latex']\n",
    "        res.loc[i,'total_count'] = 0\n",
    "        for j in models_names:\n",
    "            res.loc[i,j] = 0\n",
    "    for i in range(len(test_res)):\n",
    "        res.loc[test_res.loc[i,'symbol'],'total_count'] += 1\n",
    "        for j in models_names:\n",
    "            if test_res.loc[i,'latex'] == test_res.loc[i,j]:\n",
    "                res.loc[latex2sym[test_res.loc[i,j]],j] += 1\n",
    "    for i in range(len(res)):\n",
    "        for j in models_names:\n",
    "            res.loc[i,j+'_acc'] = round((res.loc[i,j]/res.loc[i,'total_count']) * 100, 2)\n",
    "    return res"
   ]
  },
  {
   "cell_type": "markdown",
   "metadata": {},
   "source": [
    "Stratified Train Test Split"
   ]
  },
  {
   "cell_type": "code",
   "execution_count": 15,
   "metadata": {},
   "outputs": [],
   "source": [
    "symbols = read_csv(processed_data_dir+'symbols.csv')\n",
    "symbols_dict = {}\n",
    "for i in range(len(symbols)):\n",
    "    symbols_dict[symbols['old_symbol'][i]] = symbols['new_id'][i]\n",
    "# symbols_list = np.array(whole_dataset['symbol_id']).reshape(-1)"
   ]
  },
  {
   "cell_type": "code",
   "execution_count": 16,
   "metadata": {},
   "outputs": [],
   "source": [
    "# Use this cell to load csvs\n",
    "train = read_csv(processed_data_dir+'train.csv').drop(['Unnamed: 0'], axis=1).reset_index(drop=True)\n",
    "test = read_csv(processed_data_dir+'test.csv').drop(['Unnamed: 0'], axis=1).reset_index(drop=True)"
   ]
  },
  {
   "cell_type": "code",
   "execution_count": 137,
   "metadata": {},
   "outputs": [],
   "source": [
    "# (train_count, test_count, percentage of train count to total)\n",
    "labels_count = get_label_count_train_test_dfs(train, test)\n",
    "# pprint(labels_count)"
   ]
  },
  {
   "cell_type": "markdown",
   "metadata": {},
   "source": [
    "One Hot Encode labels"
   ]
  },
  {
   "cell_type": "code",
   "execution_count": 18,
   "metadata": {},
   "outputs": [
    {
     "name": "stdout",
     "output_type": "stream",
     "text": [
      "No of categories is  107\n"
     ]
    }
   ],
   "source": [
    "num_classes = len(symbols)\n",
    "print('No of categories is ', num_classes)\n",
    "train_one_hot_symbols = keras.utils.to_categorical(train['symbol_id'], num_classes)\n",
    "test_one_hot_symbols = keras.utils.to_categorical(test['symbol_id'], num_classes)\n",
    "\n",
    "# whole_dataset['symbol_id_ohe'] = [list(one_hot_symbols[i]) for i in range(len(whole_dataset))]\n",
    "train['symbol_id_ohe'] = [list(train_one_hot_symbols[i]) for i in range(len(train))]\n",
    "test['symbol_id_ohe'] = [list(test_one_hot_symbols[i]) for i in range(len(test))]"
   ]
  },
  {
   "cell_type": "code",
   "execution_count": 19,
   "metadata": {},
   "outputs": [],
   "source": [
    "# Load all images into memory\n",
    "train = populate_images(train)\n",
    "test = populate_images(test)"
   ]
  },
  {
   "cell_type": "code",
   "execution_count": 20,
   "metadata": {},
   "outputs": [
    {
     "data": {
      "text/html": [
       "<div>\n",
       "<style scoped>\n",
       "    .dataframe tbody tr th:only-of-type {\n",
       "        vertical-align: middle;\n",
       "    }\n",
       "\n",
       "    .dataframe tbody tr th {\n",
       "        vertical-align: top;\n",
       "    }\n",
       "\n",
       "    .dataframe thead th {\n",
       "        text-align: right;\n",
       "    }\n",
       "</style>\n",
       "<table border=\"1\" class=\"dataframe\">\n",
       "  <thead>\n",
       "    <tr style=\"text-align: right;\">\n",
       "      <th></th>\n",
       "      <th>path</th>\n",
       "      <th>symbol_id</th>\n",
       "      <th>latex</th>\n",
       "      <th>symbol_id_ohe</th>\n",
       "      <th>img</th>\n",
       "    </tr>\n",
       "  </thead>\n",
       "  <tbody>\n",
       "    <tr>\n",
       "      <th>0</th>\n",
       "      <td>hasy-data/v2-71022.png</td>\n",
       "      <td>89</td>\n",
       "      <td>\\#</td>\n",
       "      <td>[0.0, 0.0, 0.0, 0.0, 0.0, 0.0, 0.0, 0.0, 0.0, ...</td>\n",
       "      <td>[[255, 255, 255, 255, 255, 255, 255, 255, 255,...</td>\n",
       "    </tr>\n",
       "    <tr>\n",
       "      <th>1</th>\n",
       "      <td>hasy-data/v2-70169.png</td>\n",
       "      <td>88</td>\n",
       "      <td>\\&amp;</td>\n",
       "      <td>[0.0, 0.0, 0.0, 0.0, 0.0, 0.0, 0.0, 0.0, 0.0, ...</td>\n",
       "      <td>[[255, 255, 255, 255, 255, 255, 255, 255, 255,...</td>\n",
       "    </tr>\n",
       "    <tr>\n",
       "      <th>2</th>\n",
       "      <td>hasy-data/v2-66865.png</td>\n",
       "      <td>85</td>\n",
       "      <td>\\$</td>\n",
       "      <td>[0.0, 0.0, 0.0, 0.0, 0.0, 0.0, 0.0, 0.0, 0.0, ...</td>\n",
       "      <td>[[255, 255, 255, 255, 255, 255, 255, 255, 255,...</td>\n",
       "    </tr>\n",
       "    <tr>\n",
       "      <th>3</th>\n",
       "      <td>hasy-data/v2-13825.png</td>\n",
       "      <td>102</td>\n",
       "      <td>\\infty</td>\n",
       "      <td>[0.0, 0.0, 0.0, 0.0, 0.0, 0.0, 0.0, 0.0, 0.0, ...</td>\n",
       "      <td>[[255, 255, 255, 255, 255, 255, 255, 255, 255,...</td>\n",
       "    </tr>\n",
       "    <tr>\n",
       "      <th>4</th>\n",
       "      <td>hasy-data/v2-138917.png</td>\n",
       "      <td>102</td>\n",
       "      <td>\\infty</td>\n",
       "      <td>[0.0, 0.0, 0.0, 0.0, 0.0, 0.0, 0.0, 0.0, 0.0, ...</td>\n",
       "      <td>[[255, 255, 255, 255, 255, 255, 255, 255, 255,...</td>\n",
       "    </tr>\n",
       "  </tbody>\n",
       "</table>\n",
       "</div>"
      ],
      "text/plain": [
       "                      path  symbol_id   latex  \\\n",
       "0   hasy-data/v2-71022.png         89      \\#   \n",
       "1   hasy-data/v2-70169.png         88      \\&   \n",
       "2   hasy-data/v2-66865.png         85      \\$   \n",
       "3   hasy-data/v2-13825.png        102  \\infty   \n",
       "4  hasy-data/v2-138917.png        102  \\infty   \n",
       "\n",
       "                                       symbol_id_ohe  \\\n",
       "0  [0.0, 0.0, 0.0, 0.0, 0.0, 0.0, 0.0, 0.0, 0.0, ...   \n",
       "1  [0.0, 0.0, 0.0, 0.0, 0.0, 0.0, 0.0, 0.0, 0.0, ...   \n",
       "2  [0.0, 0.0, 0.0, 0.0, 0.0, 0.0, 0.0, 0.0, 0.0, ...   \n",
       "3  [0.0, 0.0, 0.0, 0.0, 0.0, 0.0, 0.0, 0.0, 0.0, ...   \n",
       "4  [0.0, 0.0, 0.0, 0.0, 0.0, 0.0, 0.0, 0.0, 0.0, ...   \n",
       "\n",
       "                                                 img  \n",
       "0  [[255, 255, 255, 255, 255, 255, 255, 255, 255,...  \n",
       "1  [[255, 255, 255, 255, 255, 255, 255, 255, 255,...  \n",
       "2  [[255, 255, 255, 255, 255, 255, 255, 255, 255,...  \n",
       "3  [[255, 255, 255, 255, 255, 255, 255, 255, 255,...  \n",
       "4  [[255, 255, 255, 255, 255, 255, 255, 255, 255,...  "
      ]
     },
     "execution_count": 20,
     "metadata": {},
     "output_type": "execute_result"
    }
   ],
   "source": [
    "train.head()"
   ]
  },
  {
   "cell_type": "code",
   "execution_count": 21,
   "metadata": {},
   "outputs": [
    {
     "data": {
      "text/html": [
       "<div>\n",
       "<style scoped>\n",
       "    .dataframe tbody tr th:only-of-type {\n",
       "        vertical-align: middle;\n",
       "    }\n",
       "\n",
       "    .dataframe tbody tr th {\n",
       "        vertical-align: top;\n",
       "    }\n",
       "\n",
       "    .dataframe thead th {\n",
       "        text-align: right;\n",
       "    }\n",
       "</style>\n",
       "<table border=\"1\" class=\"dataframe\">\n",
       "  <thead>\n",
       "    <tr style=\"text-align: right;\">\n",
       "      <th></th>\n",
       "      <th>path</th>\n",
       "      <th>symbol_id</th>\n",
       "      <th>latex</th>\n",
       "      <th>symbol_id_ohe</th>\n",
       "      <th>img</th>\n",
       "    </tr>\n",
       "  </thead>\n",
       "  <tbody>\n",
       "    <tr>\n",
       "      <th>0</th>\n",
       "      <td>hasy-data/v2-61274.png</td>\n",
       "      <td>80</td>\n",
       "      <td>\\subset</td>\n",
       "      <td>[0.0, 0.0, 0.0, 0.0, 0.0, 0.0, 0.0, 0.0, 0.0, ...</td>\n",
       "      <td>[[255, 255, 255, 255, 255, 255, 255, 255, 255,...</td>\n",
       "    </tr>\n",
       "    <tr>\n",
       "      <th>1</th>\n",
       "      <td>hasy-data/v2-61852.png</td>\n",
       "      <td>81</td>\n",
       "      <td>\\supset</td>\n",
       "      <td>[0.0, 0.0, 0.0, 0.0, 0.0, 0.0, 0.0, 0.0, 0.0, ...</td>\n",
       "      <td>[[255, 255, 255, 255, 255, 255, 255, 255, 255,...</td>\n",
       "    </tr>\n",
       "    <tr>\n",
       "      <th>2</th>\n",
       "      <td>hasy-data/v2-51999.png</td>\n",
       "      <td>74</td>\n",
       "      <td>\\omega</td>\n",
       "      <td>[0.0, 0.0, 0.0, 0.0, 0.0, 0.0, 0.0, 0.0, 0.0, ...</td>\n",
       "      <td>[[255, 255, 255, 255, 255, 255, 255, 255, 255,...</td>\n",
       "    </tr>\n",
       "    <tr>\n",
       "      <th>3</th>\n",
       "      <td>hasy-data/v2-33163.png</td>\n",
       "      <td>63</td>\n",
       "      <td>\\gamma</td>\n",
       "      <td>[0.0, 0.0, 0.0, 0.0, 0.0, 0.0, 0.0, 0.0, 0.0, ...</td>\n",
       "      <td>[[255, 255, 255, 255, 255, 255, 255, 255, 255,...</td>\n",
       "    </tr>\n",
       "    <tr>\n",
       "      <th>4</th>\n",
       "      <td>hasy-data/v2-134232.png</td>\n",
       "      <td>101</td>\n",
       "      <td>\\|</td>\n",
       "      <td>[0.0, 0.0, 0.0, 0.0, 0.0, 0.0, 0.0, 0.0, 0.0, ...</td>\n",
       "      <td>[[255, 255, 255, 255, 255, 255, 255, 255, 255,...</td>\n",
       "    </tr>\n",
       "  </tbody>\n",
       "</table>\n",
       "</div>"
      ],
      "text/plain": [
       "                      path  symbol_id    latex  \\\n",
       "0   hasy-data/v2-61274.png         80  \\subset   \n",
       "1   hasy-data/v2-61852.png         81  \\supset   \n",
       "2   hasy-data/v2-51999.png         74   \\omega   \n",
       "3   hasy-data/v2-33163.png         63   \\gamma   \n",
       "4  hasy-data/v2-134232.png        101       \\|   \n",
       "\n",
       "                                       symbol_id_ohe  \\\n",
       "0  [0.0, 0.0, 0.0, 0.0, 0.0, 0.0, 0.0, 0.0, 0.0, ...   \n",
       "1  [0.0, 0.0, 0.0, 0.0, 0.0, 0.0, 0.0, 0.0, 0.0, ...   \n",
       "2  [0.0, 0.0, 0.0, 0.0, 0.0, 0.0, 0.0, 0.0, 0.0, ...   \n",
       "3  [0.0, 0.0, 0.0, 0.0, 0.0, 0.0, 0.0, 0.0, 0.0, ...   \n",
       "4  [0.0, 0.0, 0.0, 0.0, 0.0, 0.0, 0.0, 0.0, 0.0, ...   \n",
       "\n",
       "                                                 img  \n",
       "0  [[255, 255, 255, 255, 255, 255, 255, 255, 255,...  \n",
       "1  [[255, 255, 255, 255, 255, 255, 255, 255, 255,...  \n",
       "2  [[255, 255, 255, 255, 255, 255, 255, 255, 255,...  \n",
       "3  [[255, 255, 255, 255, 255, 255, 255, 255, 255,...  \n",
       "4  [[255, 255, 255, 255, 255, 255, 255, 255, 255,...  "
      ]
     },
     "execution_count": 21,
     "metadata": {},
     "output_type": "execute_result"
    }
   ],
   "source": [
    "test.head()"
   ]
  },
  {
   "cell_type": "markdown",
   "metadata": {},
   "source": [
    "# CNN"
   ]
  },
  {
   "cell_type": "markdown",
   "metadata": {},
   "source": [
    "Split set for CNN Models"
   ]
  },
  {
   "cell_type": "code",
   "execution_count": 255,
   "metadata": {},
   "outputs": [
    {
     "name": "stdout",
     "output_type": "stream",
     "text": [
      "CNN Input Shape is (1, 32, 32)\n"
     ]
    }
   ],
   "source": [
    "input_shape = (1, 32, 32)\n",
    "print(\"CNN Input Shape is\", input_shape)\n",
    "\n",
    "data_format = 'channels_first'\n",
    "\n",
    "X_train, X_test, y_train, y_test = process_x_y_train_test_stratified_2df(train, test, input_shape=input_shape)"
   ]
  },
  {
   "cell_type": "markdown",
   "metadata": {},
   "source": [
    "## Model 1: CNN 1 (based on LeNet-1)"
   ]
  },
  {
   "cell_type": "code",
   "execution_count": 256,
   "metadata": {},
   "outputs": [],
   "source": [
    "# optimizer\n",
    "lr = 0.01\n",
    "mtn=0.9\n",
    "optimizer = SGD(lr=lr, momentum=mtn)\n",
    "# optimizer = RMSprop(lr=lr)\n",
    "\n",
    "# loss function\n",
    "loss = 'categorical_crossentropy'\n",
    "\n",
    "batch_size = 512\n",
    "epochs = 30"
   ]
  },
  {
   "cell_type": "code",
   "execution_count": 257,
   "metadata": {},
   "outputs": [],
   "source": [
    "# create network\n",
    "model1 = create_network1(input_shape, data_format, num_classes)\n",
    "# compile network\n",
    "model1.compile(loss=loss, optimizer=optimizer, metrics = ['accuracy'])"
   ]
  },
  {
   "cell_type": "code",
   "execution_count": 258,
   "metadata": {},
   "outputs": [
    {
     "name": "stdout",
     "output_type": "stream",
     "text": [
      "Model 1 summary\n",
      "_________________________________________________________________\n",
      "Layer (type)                 Output Shape              Param #   \n",
      "=================================================================\n",
      "conv2d_1 (Conv2D)            (None, 4, 32, 32)         20        \n",
      "_________________________________________________________________\n",
      "activation_5 (Activation)    (None, 4, 32, 32)         0         \n",
      "_________________________________________________________________\n",
      "conv2d_2 (Conv2D)            (None, 16, 32, 32)        272       \n",
      "_________________________________________________________________\n",
      "activation_6 (Activation)    (None, 16, 32, 32)        0         \n",
      "_________________________________________________________________\n",
      "max_pooling2d_1 (MaxPooling2 (None, 16, 16, 16)        0         \n",
      "_________________________________________________________________\n",
      "flatten_1 (Flatten)          (None, 4096)              0         \n",
      "_________________________________________________________________\n",
      "dense_5 (Dense)              (None, 3200)              13110400  \n",
      "_________________________________________________________________\n",
      "activation_7 (Activation)    (None, 3200)              0         \n",
      "_________________________________________________________________\n",
      "dense_6 (Dense)              (None, 107)               342507    \n",
      "_________________________________________________________________\n",
      "activation_8 (Activation)    (None, 107)               0         \n",
      "=================================================================\n",
      "Total params: 13,453,199\n",
      "Trainable params: 13,453,199\n",
      "Non-trainable params: 0\n",
      "_________________________________________________________________\n",
      "None\n"
     ]
    }
   ],
   "source": [
    "# Model 1 Summary\n",
    "print('Model 1 summary')\n",
    "print(model1.summary())\n",
    "# plot_model(model1, to_file=model_dir+'model1.png')"
   ]
  },
  {
   "cell_type": "code",
   "execution_count": 259,
   "metadata": {},
   "outputs": [
    {
     "name": "stdout",
     "output_type": "stream",
     "text": [
      "Train on 38484 samples, validate on 4276 samples\n",
      "Epoch 1/30\n",
      "38484/38484 [==============================] - 4s 104us/step - loss: 3.3721 - acc: 0.2717 - val_loss: 1.7830 - val_acc: 0.6239\n",
      "Epoch 2/30\n",
      "38484/38484 [==============================] - 4s 95us/step - loss: 1.2611 - acc: 0.7231 - val_loss: 0.9426 - val_acc: 0.7823\n",
      "Epoch 3/30\n",
      "38484/38484 [==============================] - 4s 95us/step - loss: 0.7826 - acc: 0.8167 - val_loss: 0.7371 - val_acc: 0.8258\n",
      "Epoch 4/30\n",
      "38484/38484 [==============================] - 4s 95us/step - loss: 0.5962 - acc: 0.8579 - val_loss: 0.6177 - val_acc: 0.8562\n",
      "Epoch 5/30\n",
      "38484/38484 [==============================] - 4s 95us/step - loss: 0.4747 - acc: 0.8881 - val_loss: 0.5590 - val_acc: 0.8660\n",
      "Epoch 6/30\n",
      "38484/38484 [==============================] - 4s 95us/step - loss: 0.3804 - acc: 0.9078 - val_loss: 0.5214 - val_acc: 0.8768\n",
      "Epoch 7/30\n",
      "38484/38484 [==============================] - 4s 95us/step - loss: 0.3029 - acc: 0.9283 - val_loss: 0.4861 - val_acc: 0.8866\n",
      "Epoch 8/30\n",
      "38484/38484 [==============================] - 4s 95us/step - loss: 0.2414 - acc: 0.9432 - val_loss: 0.4612 - val_acc: 0.8952\n",
      "Epoch 9/30\n",
      "38484/38484 [==============================] - 4s 95us/step - loss: 0.1841 - acc: 0.9562 - val_loss: 0.4597 - val_acc: 0.8950- loss: 0.1865 -\n",
      "Epoch 10/30\n",
      "38484/38484 [==============================] - 4s 95us/step - loss: 0.1390 - acc: 0.9675 - val_loss: 0.4536 - val_acc: 0.8990\n",
      "Epoch 11/30\n",
      "38484/38484 [==============================] - 4s 95us/step - loss: 0.1016 - acc: 0.9777 - val_loss: 0.4509 - val_acc: 0.9011 - loss: 0.1016 - acc: 0.9\n",
      "Epoch 12/30\n",
      "38484/38484 [==============================] - 4s 95us/step - loss: 0.0768 - acc: 0.9841 - val_loss: 0.4577 - val_acc: 0.9039\n",
      "Epoch 13/30\n",
      "38484/38484 [==============================] - 4s 95us/step - loss: 0.0561 - acc: 0.9896 - val_loss: 0.4796 - val_acc: 0.9018\n",
      "Epoch 14/30\n",
      "38484/38484 [==============================] - 4s 95us/step - loss: 0.0441 - acc: 0.9918 - val_loss: 0.4666 - val_acc: 0.9053\n",
      "Epoch 15/30\n",
      "38484/38484 [==============================] - 4s 95us/step - loss: 0.0319 - acc: 0.9949 - val_loss: 0.4832 - val_acc: 0.9039\n",
      "Epoch 16/30\n",
      "38484/38484 [==============================] - 4s 95us/step - loss: 0.0279 - acc: 0.9953 - val_loss: 0.4811 - val_acc: 0.9043\n",
      "Epoch 17/30\n",
      "38484/38484 [==============================] - 4s 95us/step - loss: 0.0308 - acc: 0.9949 - val_loss: 0.4820 - val_acc: 0.9104\n",
      "Epoch 18/30\n",
      "38484/38484 [==============================] - 4s 95us/step - loss: 0.0205 - acc: 0.9969 - val_loss: 0.4885 - val_acc: 0.9109\n",
      "Epoch 19/30\n",
      "38484/38484 [==============================] - 4s 95us/step - loss: 0.0164 - acc: 0.9980 - val_loss: 0.4906 - val_acc: 0.9072\n",
      "Epoch 20/30\n",
      "38484/38484 [==============================] - 4s 95us/step - loss: 0.0160 - acc: 0.9980 - val_loss: 0.5020 - val_acc: 0.9097\n",
      "Epoch 21/30\n",
      "38484/38484 [==============================] - 4s 95us/step - loss: 0.0145 - acc: 0.9978 - val_loss: 0.4993 - val_acc: 0.9104\n",
      "Epoch 22/30\n",
      "38484/38484 [==============================] - 4s 95us/step - loss: 0.0131 - acc: 0.9981 - val_loss: 0.5081 - val_acc: 0.9074\n",
      "Epoch 23/30\n",
      "38484/38484 [==============================] - 4s 95us/step - loss: 0.0112 - acc: 0.9988 - val_loss: 0.5105 - val_acc: 0.9104\n",
      "Epoch 24/30\n",
      "38484/38484 [==============================] - 4s 95us/step - loss: 0.0129 - acc: 0.9978 - val_loss: 0.5150 - val_acc: 0.9093\n",
      "Epoch 25/30\n",
      "38484/38484 [==============================] - 4s 95us/step - loss: 0.0107 - acc: 0.9987 - val_loss: 0.5174 - val_acc: 0.9116\n",
      "Epoch 26/30\n",
      "38484/38484 [==============================] - 4s 95us/step - loss: 0.0102 - acc: 0.9986 - val_loss: 0.5188 - val_acc: 0.9093\n",
      "Epoch 27/30\n",
      "38484/38484 [==============================] - 4s 96us/step - loss: 0.0100 - acc: 0.9988 - val_loss: 0.5211 - val_acc: 0.9116\n",
      "Epoch 28/30\n",
      "38484/38484 [==============================] - 4s 96us/step - loss: 0.0107 - acc: 0.9985 - val_loss: 0.5213 - val_acc: 0.9093\n",
      "Epoch 29/30\n",
      "38484/38484 [==============================] - 4s 97us/step - loss: 0.0100 - acc: 0.9987 - val_loss: 0.5230 - val_acc: 0.9104\n",
      "Epoch 30/30\n",
      "38484/38484 [==============================] - 4s 97us/step - loss: 0.0096 - acc: 0.9988 - val_loss: 0.5274 - val_acc: 0.9118\n",
      "Training completed on 2020-04-23, 20-15\n"
     ]
    }
   ],
   "source": [
    "# Fit dataset\n",
    "tensorboard_callback1 = keras.callbacks.TensorBoard(os.path.join(model_dir+'logs','model1'))\n",
    "history1 = model1.fit(X_train, \n",
    "                      y_train, \n",
    "                      validation_data=(X_test, y_test), \n",
    "                      batch_size=batch_size, \n",
    "                      epochs=epochs, \n",
    "                      verbose=1, \n",
    "                      callbacks=[tensorboard_callback1])\n",
    "model1.save(model_dir+'model1.h5')\n",
    "print(f\"Training completed on {datetime.datetime.now().strftime('%Y-%m-%d, %H-%M')}\")\n",
    "df_history1 = pd.DataFrame(data=history1.history)\n",
    "df_history1.to_csv(model_logs+'logs_model1.csv')"
   ]
  },
  {
   "cell_type": "markdown",
   "metadata": {},
   "source": [
    "Metrics"
   ]
  },
  {
   "cell_type": "code",
   "execution_count": 260,
   "metadata": {},
   "outputs": [],
   "source": [
    "model1 = load_model(model_dir+'model1.h5')"
   ]
  },
  {
   "cell_type": "code",
   "execution_count": 261,
   "metadata": {},
   "outputs": [],
   "source": [
    "res = model1.predict(X_test)"
   ]
  },
  {
   "cell_type": "code",
   "execution_count": 262,
   "metadata": {},
   "outputs": [],
   "source": [
    "# convert predictions from one hot encoded to label value\n",
    "y_pred = convert_pred_list_ohe_to_labels(res, threshold=0.1, get_max=True)\n",
    "# convert test values from one hot encoded to label value\n",
    "y_true = convert_pred_list_ohe_to_labels(y_test, threshold=0.9, get_max=True)"
   ]
  },
  {
   "cell_type": "markdown",
   "metadata": {},
   "source": [
    "Confusion Matrix"
   ]
  },
  {
   "cell_type": "code",
   "execution_count": 263,
   "metadata": {},
   "outputs": [
    {
     "data": {
      "image/png": "[encoded data removed]",
      "text/plain": [
       "<Figure size 1440x1440 with 2 Axes>"
      ]
     },
     "metadata": {
      "needs_background": "light"
     },
     "output_type": "display_data"
    }
   ],
   "source": [
    "# Spectral Color Map used: Violet means 1, Red means -1 and Yellow means 0\n",
    "cfs1 = confusion_matrix(y_true, y_pred)\n",
    "plt.figure(figsize=(20,20))\n",
    "sn.heatmap(cfs1, cmap=\"Blues\", robust=True)\n",
    "plt.show()"
   ]
  },
  {
   "cell_type": "markdown",
   "metadata": {},
   "source": [
    "Multiclass Precision, Recall and Accuracy"
   ]
  },
  {
   "cell_type": "code",
   "execution_count": 264,
   "metadata": {},
   "outputs": [
    {
     "name": "stdout",
     "output_type": "stream",
     "text": [
      "              precision    recall  f1-score   support\n",
      "\n",
      "           0       0.80      1.00      0.89        16\n",
      "           1       0.80      0.67      0.73         6\n",
      "           2       0.91      0.77      0.83        13\n",
      "           3       0.83      0.83      0.83         6\n",
      "           4       1.00      0.60      0.75         5\n",
      "           5       0.80      0.67      0.73         6\n",
      "           6       0.92      0.92      0.92        12\n",
      "           7       1.00      0.83      0.91         6\n",
      "           8       0.67      1.00      0.80        10\n",
      "           9       0.73      0.80      0.76        10\n",
      "          10       0.89      0.80      0.84        10\n",
      "          11       0.91      0.91      0.91        11\n",
      "          12       0.73      0.92      0.81        12\n",
      "          13       0.83      0.50      0.62        10\n",
      "          14       0.57      0.50      0.53         8\n",
      "          15       0.80      0.57      0.67         7\n",
      "          16       1.00      0.57      0.73         7\n",
      "          17       0.78      0.88      0.82         8\n",
      "          18       0.50      0.50      0.50         6\n",
      "          19       1.00      0.50      0.67         6\n",
      "          20       0.50      0.17      0.25         6\n",
      "          21       0.50      0.50      0.50         6\n",
      "          22       0.50      0.33      0.40         6\n",
      "          23       0.40      0.40      0.40         5\n",
      "          24       1.00      0.50      0.67         6\n",
      "          25       1.00      0.50      0.67         6\n",
      "          26       0.62      0.62      0.62        13\n",
      "          27       0.83      0.83      0.83        12\n",
      "          28       1.00      0.75      0.86        12\n",
      "          29       0.90      0.75      0.82        12\n",
      "          30       1.00      0.33      0.50         6\n",
      "          31       0.67      0.75      0.71         8\n",
      "          32       0.89      0.80      0.84        10\n",
      "          33       0.86      0.86      0.86         7\n",
      "          34       0.62      0.67      0.64        12\n",
      "          35       0.56      0.56      0.56         9\n",
      "          36       0.89      0.93      0.91       112\n",
      "          37       0.88      0.78      0.82         9\n",
      "          38       1.00      1.00      1.00         6\n",
      "          39       0.60      0.43      0.50         7\n",
      "          40       1.00      1.00      1.00         6\n",
      "          41       0.50      0.33      0.40         6\n",
      "          42       1.00      0.57      0.73         7\n",
      "          43       0.40      0.33      0.36         6\n",
      "          44       0.75      0.50      0.60         6\n",
      "          45       1.00      1.00      1.00         6\n",
      "          46       1.00      0.80      0.89         5\n",
      "          47       1.00      1.00      1.00         6\n",
      "          48       0.33      0.33      0.33         6\n",
      "          49       0.50      0.50      0.50         6\n",
      "          50       0.67      0.33      0.44         6\n",
      "          51       0.50      0.50      0.50         6\n",
      "          52       0.50      0.80      0.62         5\n",
      "          53       0.50      0.43      0.46         7\n",
      "          54       0.80      0.67      0.73         6\n",
      "          55       0.00      0.00      0.00         6\n",
      "          56       0.71      0.83      0.77         6\n",
      "          57       0.67      0.33      0.44         6\n",
      "          58       0.67      0.33      0.44         6\n",
      "          59       1.00      0.14      0.25         7\n",
      "          60       0.57      0.67      0.62         6\n",
      "          61       0.00      0.00      0.00         6\n",
      "          62       0.97      0.95      0.96       191\n",
      "          63       0.87      0.90      0.89       114\n",
      "          64       0.89      0.91      0.90       124\n",
      "          65       0.94      0.98      0.96       100\n",
      "          66       0.90      0.93      0.91        69\n",
      "          67       0.89      0.88      0.88        65\n",
      "          68       0.91      0.76      0.83        54\n",
      "          69       0.91      0.94      0.93       100\n",
      "          70       0.95      0.95      0.95       115\n",
      "          71       0.99      0.96      0.97        80\n",
      "          72       0.86      0.93      0.90        69\n",
      "          73       0.87      0.99      0.93        69\n",
      "          74       0.87      0.86      0.86        63\n",
      "          75       1.00      0.99      0.99        75\n",
      "          76       0.92      0.95      0.93       105\n",
      "          77       0.93      0.98      0.96        87\n",
      "          78       0.77      0.91      0.83        11\n",
      "          79       0.82      0.90      0.86        10\n",
      "          80       0.88      0.97      0.93        77\n",
      "          81       0.97      0.95      0.96        41\n",
      "          82       0.96      0.99      0.98       157\n",
      "          83       1.00      1.00      1.00        12\n",
      "          84       0.90      1.00      0.95         9\n",
      "          85       0.86      0.77      0.81        39\n",
      "          86       0.92      0.91      0.92       114\n",
      "          87       0.88      0.91      0.89        32\n",
      "          88       0.88      0.90      0.89       129\n",
      "          89       0.94      0.88      0.91       107\n",
      "          90       0.89      0.82      0.85        89\n",
      "          91       0.94      0.98      0.96        92\n",
      "          92       0.93      0.97      0.95       151\n",
      "          93       0.82      0.91      0.86        56\n",
      "          94       0.97      0.97      0.97        33\n",
      "          95       0.97      1.00      0.99       110\n",
      "          96       0.96      0.99      0.97       110\n",
      "          97       0.95      0.96      0.95       214\n",
      "          98       0.98      0.98      0.98       140\n",
      "          99       0.95      0.96      0.95        92\n",
      "         100       0.93      0.96      0.94        26\n",
      "         101       0.92      0.97      0.95        37\n",
      "         102       0.96      0.99      0.98       291\n",
      "         103       0.94      0.94      0.94        33\n",
      "         104       1.00      1.00      1.00         2\n",
      "         105       1.00      0.50      0.67         2\n",
      "         106       1.00      1.00      1.00         2\n",
      "\n",
      "    accuracy                           0.91      4276\n",
      "   macro avg       0.82      0.75      0.77      4276\n",
      "weighted avg       0.91      0.91      0.91      4276\n",
      "\n"
     ]
    }
   ],
   "source": [
    "cr1 = classification_report(y_true, y_pred, digits=2)\n",
    "print(cr1)\n",
    "cr1 = classification_report(y_true, y_pred, digits=4, output_dict=True)"
   ]
  },
  {
   "cell_type": "code",
   "execution_count": 265,
   "metadata": {},
   "outputs": [],
   "source": [
    "# Use this line before each model training to save memory\n",
    "del model1, history1, tensorboard_callback1, res"
   ]
  },
  {
   "cell_type": "markdown",
   "metadata": {},
   "source": [
    "## Model 2: CNN 2 (based on AlexNet) without Batch Normalization"
   ]
  },
  {
   "cell_type": "code",
   "execution_count": 169,
   "metadata": {},
   "outputs": [],
   "source": [
    "K.clear_session()"
   ]
  },
  {
   "cell_type": "code",
   "execution_count": 170,
   "metadata": {},
   "outputs": [],
   "source": [
    "# optimizer\n",
    "lr = 0.01\n",
    "mtn=0.9\n",
    "optimizer = SGD(lr=lr, momentum=mtn)\n",
    "# optimizer = RMSprop(lr=lr)\n",
    "\n",
    "# loss function\n",
    "loss = 'categorical_crossentropy'\n",
    "\n",
    "batch_size = 512\n",
    "epochs = 30"
   ]
  },
  {
   "cell_type": "code",
   "execution_count": 171,
   "metadata": {},
   "outputs": [],
   "source": [
    "# create network\n",
    "model2 = create_network2(input_shape, data_format, num_classes)\n",
    "# compile network\n",
    "model2.compile(loss=loss, optimizer=optimizer, metrics = ['accuracy'])"
   ]
  },
  {
   "cell_type": "code",
   "execution_count": 172,
   "metadata": {},
   "outputs": [
    {
     "name": "stdout",
     "output_type": "stream",
     "text": [
      "Model 2 summary\n",
      "_________________________________________________________________\n",
      "Layer (type)                 Output Shape              Param #   \n",
      "=================================================================\n",
      "conv2d_1 (Conv2D)            (None, 25, 32, 32)        650       \n",
      "_________________________________________________________________\n",
      "activation_1 (Activation)    (None, 25, 32, 32)        0         \n",
      "_________________________________________________________________\n",
      "max_pooling2d_1 (MaxPooling2 (None, 25, 16, 16)        0         \n",
      "_________________________________________________________________\n",
      "conv2d_2 (Conv2D)            (None, 50, 16, 16)        11300     \n",
      "_________________________________________________________________\n",
      "activation_2 (Activation)    (None, 50, 16, 16)        0         \n",
      "_________________________________________________________________\n",
      "max_pooling2d_2 (MaxPooling2 (None, 50, 8, 8)          0         \n",
      "_________________________________________________________________\n",
      "conv2d_3 (Conv2D)            (None, 100, 8, 8)         20100     \n",
      "_________________________________________________________________\n",
      "activation_3 (Activation)    (None, 100, 8, 8)         0         \n",
      "_________________________________________________________________\n",
      "max_pooling2d_3 (MaxPooling2 (None, 100, 4, 4)         0         \n",
      "_________________________________________________________________\n",
      "conv2d_4 (Conv2D)            (None, 200, 4, 4)         80200     \n",
      "_________________________________________________________________\n",
      "activation_4 (Activation)    (None, 200, 4, 4)         0         \n",
      "_________________________________________________________________\n",
      "max_pooling2d_4 (MaxPooling2 (None, 200, 2, 2)         0         \n",
      "_________________________________________________________________\n",
      "flatten_1 (Flatten)          (None, 800)               0         \n",
      "_________________________________________________________________\n",
      "dense_1 (Dense)              (None, 3200)              2563200   \n",
      "_________________________________________________________________\n",
      "activation_5 (Activation)    (None, 3200)              0         \n",
      "_________________________________________________________________\n",
      "dense_2 (Dense)              (None, 1600)              5121600   \n",
      "_________________________________________________________________\n",
      "activation_6 (Activation)    (None, 1600)              0         \n",
      "_________________________________________________________________\n",
      "dense_3 (Dense)              (None, 107)               171307    \n",
      "_________________________________________________________________\n",
      "activation_7 (Activation)    (None, 107)               0         \n",
      "=================================================================\n",
      "Total params: 7,968,357\n",
      "Trainable params: 7,968,357\n",
      "Non-trainable params: 0\n",
      "_________________________________________________________________\n",
      "None\n"
     ]
    }
   ],
   "source": [
    "# Model 2 Summary\n",
    "print('Model 2 summary')\n",
    "print(model2.summary())\n",
    "# plot_model(model2, to_file=model_dir+'model2.png')"
   ]
  },
  {
   "cell_type": "code",
   "execution_count": 173,
   "metadata": {},
   "outputs": [
    {
     "name": "stdout",
     "output_type": "stream",
     "text": [
      "Train on 38484 samples, validate on 4276 samples\n",
      "Epoch 1/30\n",
      "38484/38484 [==============================] - 5s 141us/step - loss: 4.1694 - acc: 0.0592 - val_loss: 3.9533 - val_acc: 0.0716\n",
      "Epoch 2/30\n",
      "38484/38484 [==============================] - 4s 116us/step - loss: 3.8114 - acc: 0.1109 - val_loss: 3.1337 - val_acc: 0.2993\n",
      "Epoch 3/30\n",
      "38484/38484 [==============================] - 4s 116us/step - loss: 2.1652 - acc: 0.5048 - val_loss: 1.3114 - val_acc: 0.6819\n",
      "Epoch 4/30\n",
      "38484/38484 [==============================] - 4s 116us/step - loss: 1.0234 - acc: 0.7465 - val_loss: 0.7771 - val_acc: 0.8066\n",
      "Epoch 5/30\n",
      "38484/38484 [==============================] - 4s 116us/step - loss: 0.6659 - acc: 0.8297 - val_loss: 0.5823 - val_acc: 0.8454\n",
      "Epoch 6/30\n",
      "38484/38484 [==============================] - 4s 116us/step - loss: 0.5132 - acc: 0.8681 - val_loss: 0.4959 - val_acc: 0.8739\n",
      "Epoch 7/30\n",
      "38484/38484 [==============================] - 4s 116us/step - loss: 0.4061 - acc: 0.8939 - val_loss: 0.4230 - val_acc: 0.8896\n",
      "Epoch 8/30\n",
      "38484/38484 [==============================] - 4s 116us/step - loss: 0.3396 - acc: 0.9096 - val_loss: 0.4383 - val_acc: 0.8875\n",
      "Epoch 9/30\n",
      "38484/38484 [==============================] - 4s 116us/step - loss: 0.3004 - acc: 0.9190 - val_loss: 0.3637 - val_acc: 0.9100\n",
      "Epoch 10/30\n",
      "38484/38484 [==============================] - 4s 117us/step - loss: 0.2663 - acc: 0.9269 - val_loss: 0.3268 - val_acc: 0.9165\n",
      "Epoch 11/30\n",
      "38484/38484 [==============================] - 4s 116us/step - loss: 0.2250 - acc: 0.9383 - val_loss: 0.3307 - val_acc: 0.9149\n",
      "Epoch 12/30\n",
      "38484/38484 [==============================] - 4s 117us/step - loss: 0.2030 - acc: 0.9430 - val_loss: 0.3213 - val_acc: 0.9200\n",
      "Epoch 13/30\n",
      "38484/38484 [==============================] - 4s 117us/step - loss: 0.1813 - acc: 0.9490 - val_loss: 0.3278 - val_acc: 0.9203\n",
      "Epoch 14/30\n",
      "38484/38484 [==============================] - 5s 118us/step - loss: 0.1574 - acc: 0.9557 - val_loss: 0.3154 - val_acc: 0.9256\n",
      "Epoch 15/30\n",
      "38484/38484 [==============================] - 5s 118us/step - loss: 0.1377 - acc: 0.9596 - val_loss: 0.3030 - val_acc: 0.9254\n",
      "Epoch 16/30\n",
      "38484/38484 [==============================] - 4s 116us/step - loss: 0.1219 - acc: 0.9642 - val_loss: 0.3030 - val_acc: 0.9298\n",
      "Epoch 17/30\n",
      "38484/38484 [==============================] - 4s 117us/step - loss: 0.1080 - acc: 0.9688 - val_loss: 0.3008 - val_acc: 0.9331\n",
      "Epoch 18/30\n",
      "38484/38484 [==============================] - 4s 117us/step - loss: 0.1016 - acc: 0.9703 - val_loss: 0.3178 - val_acc: 0.9268\n",
      "Epoch 19/30\n",
      "38484/38484 [==============================] - 4s 117us/step - loss: 0.0813 - acc: 0.9760 - val_loss: 0.3306 - val_acc: 0.9200\n",
      "Epoch 20/30\n",
      "38484/38484 [==============================] - 5s 117us/step - loss: 0.0798 - acc: 0.9760 - val_loss: 0.3740 - val_acc: 0.9036\n",
      "Epoch 21/30\n",
      "38484/38484 [==============================] - 4s 117us/step - loss: 0.0778 - acc: 0.9780 - val_loss: 0.3247 - val_acc: 0.9333\n",
      "Epoch 22/30\n",
      "38484/38484 [==============================] - 4s 117us/step - loss: 0.0621 - acc: 0.9811 - val_loss: 0.3276 - val_acc: 0.9319\n",
      "Epoch 23/30\n",
      "38484/38484 [==============================] - 4s 117us/step - loss: 0.0569 - acc: 0.9835 - val_loss: 0.3173 - val_acc: 0.9373\n",
      "Epoch 24/30\n",
      "38484/38484 [==============================] - 4s 117us/step - loss: 0.0551 - acc: 0.9841 - val_loss: 0.3359 - val_acc: 0.9324\n",
      "Epoch 25/30\n",
      "38484/38484 [==============================] - 4s 117us/step - loss: 0.0484 - acc: 0.9855 - val_loss: 0.3403 - val_acc: 0.9249\n",
      "Epoch 26/30\n",
      "38484/38484 [==============================] - 5s 118us/step - loss: 0.0394 - acc: 0.9880 - val_loss: 0.3525 - val_acc: 0.9275\n",
      "Epoch 27/30\n",
      "38484/38484 [==============================] - 5s 117us/step - loss: 0.0399 - acc: 0.9876 - val_loss: 0.3415 - val_acc: 0.9308\n",
      "Epoch 28/30\n",
      "38484/38484 [==============================] - 5s 117us/step - loss: 0.0393 - acc: 0.9888 - val_loss: 0.3475 - val_acc: 0.9364\n",
      "Epoch 29/30\n",
      "38484/38484 [==============================] - 5s 117us/step - loss: 0.0381 - acc: 0.9888 - val_loss: 0.3409 - val_acc: 0.9336\n",
      "Epoch 30/30\n",
      "38484/38484 [==============================] - 5s 117us/step - loss: 0.0308 - acc: 0.9911 - val_loss: 0.3392 - val_acc: 0.9315\n",
      "Training completed on 2020-04-23, 19-42\n"
     ]
    }
   ],
   "source": [
    "# Fit dataset\n",
    "tensorboard_callback2 = keras.callbacks.TensorBoard(os.path.join(model_dir+'logs','model2'))\n",
    "history2 = model2.fit(X_train, \n",
    "                      y_train, \n",
    "                      validation_data=(X_test, y_test), \n",
    "                      batch_size=batch_size, \n",
    "                      epochs=epochs, \n",
    "                      verbose=1, \n",
    "                      callbacks=[tensorboard_callback2])\n",
    "model2.save(model_dir+'model2.h5')\n",
    "print(f\"Training completed on {datetime.datetime.now().strftime('%Y-%m-%d, %H-%M')}\")\n",
    "\n",
    "# store logs to csv file\n",
    "df_history2 = pd.DataFrame(data=history2.history)\n",
    "df_history2.to_csv(model_logs+'logs_model2.csv')"
   ]
  },
  {
   "cell_type": "markdown",
   "metadata": {},
   "source": [
    "Metrics"
   ]
  },
  {
   "cell_type": "code",
   "execution_count": 174,
   "metadata": {},
   "outputs": [],
   "source": [
    "model2 = load_model(model_dir+'model2.h5')"
   ]
  },
  {
   "cell_type": "code",
   "execution_count": 175,
   "metadata": {},
   "outputs": [],
   "source": [
    "res = model2.predict(X_test)"
   ]
  },
  {
   "cell_type": "code",
   "execution_count": 176,
   "metadata": {},
   "outputs": [],
   "source": [
    "# convert predictions from one hot encoded to label value\n",
    "y_pred = convert_pred_list_ohe_to_labels(res, threshold=0.1, get_max=True)\n",
    "# convert test values from one hot encoded to label value\n",
    "y_true = convert_pred_list_ohe_to_labels(y_test, threshold=0.9, get_max=True)"
   ]
  },
  {
   "cell_type": "markdown",
   "metadata": {},
   "source": [
    "Confusion Matrix"
   ]
  },
  {
   "cell_type": "code",
   "execution_count": 177,
   "metadata": {},
   "outputs": [
    {
     "data": {
      "image/png": "[encoded data removed]",
      "text/plain": [
       "<Figure size 1440x1440 with 2 Axes>"
      ]
     },
     "metadata": {
      "needs_background": "light"
     },
     "output_type": "display_data"
    }
   ],
   "source": [
    "# Spectral Color Map used: Violet means 1, Red means -1 and Yellow means 0\n",
    "cfs2 = confusion_matrix(y_true, y_pred)\n",
    "plt.figure(figsize=(20,20))\n",
    "sn.heatmap(cfs2, cmap=\"Blues\", robust=True)\n",
    "plt.show()"
   ]
  },
  {
   "cell_type": "markdown",
   "metadata": {},
   "source": [
    "Multiclass Precision, Recall and Accuracy"
   ]
  },
  {
   "cell_type": "code",
   "execution_count": 178,
   "metadata": {},
   "outputs": [
    {
     "name": "stdout",
     "output_type": "stream",
     "text": [
      "              precision    recall  f1-score   support\n",
      "\n",
      "           0       0.89      1.00      0.94        16\n",
      "           1       0.75      1.00      0.86         6\n",
      "           2       0.57      0.92      0.71        13\n",
      "           3       1.00      0.83      0.91         6\n",
      "           4       0.80      0.80      0.80         5\n",
      "           5       1.00      0.67      0.80         6\n",
      "           6       1.00      1.00      1.00        12\n",
      "           7       0.86      1.00      0.92         6\n",
      "           8       0.89      0.80      0.84        10\n",
      "           9       0.80      0.80      0.80        10\n",
      "          10       0.91      1.00      0.95        10\n",
      "          11       0.92      1.00      0.96        11\n",
      "          12       0.85      0.92      0.88        12\n",
      "          13       0.90      0.90      0.90        10\n",
      "          14       0.29      0.62      0.40         8\n",
      "          15       0.42      0.71      0.53         7\n",
      "          16       0.83      0.71      0.77         7\n",
      "          17       1.00      1.00      1.00         8\n",
      "          18       0.43      0.50      0.46         6\n",
      "          19       0.80      0.67      0.73         6\n",
      "          20       0.11      0.17      0.13         6\n",
      "          21       0.56      0.83      0.67         6\n",
      "          22       0.62      0.83      0.71         6\n",
      "          23       1.00      0.40      0.57         5\n",
      "          24       1.00      0.67      0.80         6\n",
      "          25       1.00      0.67      0.80         6\n",
      "          26       0.64      0.54      0.58        13\n",
      "          27       0.92      0.92      0.92        12\n",
      "          28       0.85      0.92      0.88        12\n",
      "          29       1.00      0.75      0.86        12\n",
      "          30       0.83      0.83      0.83         6\n",
      "          31       0.64      0.88      0.74         8\n",
      "          32       0.70      0.70      0.70        10\n",
      "          33       0.75      0.86      0.80         7\n",
      "          34       0.82      0.75      0.78        12\n",
      "          35       0.50      0.44      0.47         9\n",
      "          36       0.93      0.93      0.93       112\n",
      "          37       0.80      0.89      0.84         9\n",
      "          38       1.00      1.00      1.00         6\n",
      "          39       0.25      0.14      0.18         7\n",
      "          40       0.86      1.00      0.92         6\n",
      "          41       0.57      0.67      0.62         6\n",
      "          42       0.50      0.71      0.59         7\n",
      "          43       0.30      0.50      0.37         6\n",
      "          44       1.00      0.67      0.80         6\n",
      "          45       1.00      1.00      1.00         6\n",
      "          46       1.00      0.60      0.75         5\n",
      "          47       0.86      1.00      0.92         6\n",
      "          48       0.75      0.50      0.60         6\n",
      "          49       0.83      0.83      0.83         6\n",
      "          50       0.71      0.83      0.77         6\n",
      "          51       0.00      0.00      0.00         6\n",
      "          52       0.50      0.80      0.62         5\n",
      "          53       1.00      0.43      0.60         7\n",
      "          54       0.80      0.67      0.73         6\n",
      "          55       0.33      0.17      0.22         6\n",
      "          56       0.50      0.67      0.57         6\n",
      "          57       0.75      0.50      0.60         6\n",
      "          58       0.50      0.33      0.40         6\n",
      "          59       0.50      0.14      0.22         7\n",
      "          60       0.50      0.50      0.50         6\n",
      "          61       0.50      0.17      0.25         6\n",
      "          62       0.96      0.97      0.97       191\n",
      "          63       0.94      0.91      0.92       114\n",
      "          64       0.86      0.91      0.89       124\n",
      "          65       1.00      0.98      0.99       100\n",
      "          66       0.99      0.96      0.97        69\n",
      "          67       0.94      0.95      0.95        65\n",
      "          68       0.92      0.81      0.86        54\n",
      "          69       0.97      0.97      0.97       100\n",
      "          70       0.96      0.97      0.96       115\n",
      "          71       0.96      0.97      0.97        80\n",
      "          72       0.97      0.87      0.92        69\n",
      "          73       0.99      0.99      0.99        69\n",
      "          74       0.87      0.94      0.90        63\n",
      "          75       1.00      0.99      0.99        75\n",
      "          76       0.96      0.97      0.97       105\n",
      "          77       0.99      0.95      0.97        87\n",
      "          78       0.91      0.91      0.91        11\n",
      "          79       0.71      1.00      0.83        10\n",
      "          80       0.96      0.92      0.94        77\n",
      "          81       0.95      0.93      0.94        41\n",
      "          82       0.98      1.00      0.99       157\n",
      "          83       1.00      0.92      0.96        12\n",
      "          84       1.00      0.89      0.94         9\n",
      "          85       1.00      0.82      0.90        39\n",
      "          86       0.96      0.95      0.96       114\n",
      "          87       0.94      0.91      0.92        32\n",
      "          88       0.92      0.95      0.93       129\n",
      "          89       0.99      0.96      0.98       107\n",
      "          90       0.90      0.87      0.88        89\n",
      "          91       0.96      0.92      0.94        92\n",
      "          92       0.93      0.99      0.96       151\n",
      "          93       0.96      0.96      0.96        56\n",
      "          94       0.97      0.94      0.95        33\n",
      "          95       0.99      1.00      1.00       110\n",
      "          96       0.95      0.99      0.97       110\n",
      "          97       0.99      0.97      0.98       214\n",
      "          98       0.99      0.99      0.99       140\n",
      "          99       0.96      0.96      0.96        92\n",
      "         100       0.93      0.96      0.94        26\n",
      "         101       0.90      1.00      0.95        37\n",
      "         102       0.99      0.99      0.99       291\n",
      "         103       1.00      1.00      1.00        33\n",
      "         104       1.00      0.50      0.67         2\n",
      "         105       1.00      0.50      0.67         2\n",
      "         106       1.00      0.50      0.67         2\n",
      "\n",
      "    accuracy                           0.93      4276\n",
      "   macro avg       0.82      0.79      0.80      4276\n",
      "weighted avg       0.93      0.93      0.93      4276\n",
      "\n"
     ]
    }
   ],
   "source": [
    "cr2 = classification_report(y_true, y_pred, digits=2)\n",
    "print(cr2)\n",
    "cr2 = classification_report(y_true, y_pred, digits=4, output_dict=True)"
   ]
  },
  {
   "cell_type": "code",
   "execution_count": 179,
   "metadata": {},
   "outputs": [],
   "source": [
    "# Use this line before each model training to save memory\n",
    "del model2, history2, tensorboard_callback2, res"
   ]
  },
  {
   "cell_type": "markdown",
   "metadata": {},
   "source": [
    "## Model 3: CNN 2 (based on AlexNet) with Batch Normalization"
   ]
  },
  {
   "cell_type": "code",
   "execution_count": 180,
   "metadata": {},
   "outputs": [],
   "source": [
    "K.clear_session()"
   ]
  },
  {
   "cell_type": "code",
   "execution_count": 181,
   "metadata": {},
   "outputs": [],
   "source": [
    "# optimizer\n",
    "lr = 0.01\n",
    "mtn=0.9\n",
    "optimizer = SGD(lr=lr, momentum=mtn)\n",
    "# optimizer = RMSprop(lr=lr)\n",
    "\n",
    "# loss function\n",
    "loss = 'categorical_crossentropy'\n",
    "\n",
    "batch_size = 512\n",
    "epochs = 30"
   ]
  },
  {
   "cell_type": "code",
   "execution_count": 182,
   "metadata": {},
   "outputs": [],
   "source": [
    "# create network\n",
    "model3 = create_network3(input_shape, data_format, num_classes)\n",
    "# compile network\n",
    "model3.compile(loss=loss, optimizer=optimizer, metrics = ['accuracy'])"
   ]
  },
  {
   "cell_type": "markdown",
   "metadata": {},
   "source": [
    "Model 3 Summary"
   ]
  },
  {
   "cell_type": "code",
   "execution_count": 183,
   "metadata": {},
   "outputs": [
    {
     "name": "stdout",
     "output_type": "stream",
     "text": [
      "_________________________________________________________________\n",
      "Layer (type)                 Output Shape              Param #   \n",
      "=================================================================\n",
      "conv2d_1 (Conv2D)            (None, 25, 32, 32)        650       \n",
      "_________________________________________________________________\n",
      "batch_normalization_1 (Batch (None, 25, 32, 32)        128       \n",
      "_________________________________________________________________\n",
      "activation_1 (Activation)    (None, 25, 32, 32)        0         \n",
      "_________________________________________________________________\n",
      "max_pooling2d_1 (MaxPooling2 (None, 25, 16, 16)        0         \n",
      "_________________________________________________________________\n",
      "conv2d_2 (Conv2D)            (None, 50, 16, 16)        11300     \n",
      "_________________________________________________________________\n",
      "batch_normalization_2 (Batch (None, 50, 16, 16)        64        \n",
      "_________________________________________________________________\n",
      "activation_2 (Activation)    (None, 50, 16, 16)        0         \n",
      "_________________________________________________________________\n",
      "max_pooling2d_2 (MaxPooling2 (None, 50, 8, 8)          0         \n",
      "_________________________________________________________________\n",
      "conv2d_3 (Conv2D)            (None, 100, 8, 8)         20100     \n",
      "_________________________________________________________________\n",
      "batch_normalization_3 (Batch (None, 100, 8, 8)         32        \n",
      "_________________________________________________________________\n",
      "activation_3 (Activation)    (None, 100, 8, 8)         0         \n",
      "_________________________________________________________________\n",
      "max_pooling2d_3 (MaxPooling2 (None, 100, 4, 4)         0         \n",
      "_________________________________________________________________\n",
      "conv2d_4 (Conv2D)            (None, 200, 4, 4)         80200     \n",
      "_________________________________________________________________\n",
      "batch_normalization_4 (Batch (None, 200, 4, 4)         16        \n",
      "_________________________________________________________________\n",
      "activation_4 (Activation)    (None, 200, 4, 4)         0         \n",
      "_________________________________________________________________\n",
      "max_pooling2d_4 (MaxPooling2 (None, 200, 2, 2)         0         \n",
      "_________________________________________________________________\n",
      "flatten_1 (Flatten)          (None, 800)               0         \n",
      "_________________________________________________________________\n",
      "dense_1 (Dense)              (None, 3200)              2563200   \n",
      "_________________________________________________________________\n",
      "activation_5 (Activation)    (None, 3200)              0         \n",
      "_________________________________________________________________\n",
      "dense_2 (Dense)              (None, 1600)              5121600   \n",
      "_________________________________________________________________\n",
      "activation_6 (Activation)    (None, 1600)              0         \n",
      "_________________________________________________________________\n",
      "dense_3 (Dense)              (None, 107)               171307    \n",
      "_________________________________________________________________\n",
      "activation_7 (Activation)    (None, 107)               0         \n",
      "=================================================================\n",
      "Total params: 7,968,597\n",
      "Trainable params: 7,968,477\n",
      "Non-trainable params: 120\n",
      "_________________________________________________________________\n",
      "None\n"
     ]
    }
   ],
   "source": [
    "print(model3.summary())\n",
    "# plot_model(model3, to_file=model_dir+'model3.png')"
   ]
  },
  {
   "cell_type": "code",
   "execution_count": 184,
   "metadata": {},
   "outputs": [
    {
     "name": "stdout",
     "output_type": "stream",
     "text": [
      "Train on 38484 samples, validate on 4276 samples\n",
      "Epoch 1/30\n",
      "38484/38484 [==============================] - 7s 194us/step - loss: 2.3785 - acc: 0.4783 - val_loss: 1.2326 - val_acc: 0.7142\n",
      "Epoch 2/30\n",
      "38484/38484 [==============================] - 6s 168us/step - loss: 0.6291 - acc: 0.8448 - val_loss: 0.4481 - val_acc: 0.8840\n",
      "Epoch 3/30\n",
      "38484/38484 [==============================] - 6s 168us/step - loss: 0.3645 - acc: 0.9068 - val_loss: 0.3577 - val_acc: 0.9095\n",
      "Epoch 4/30\n",
      "38484/38484 [==============================] - 6s 168us/step - loss: 0.2764 - acc: 0.9281 - val_loss: 0.2989 - val_acc: 0.9266\n",
      "Epoch 5/30\n",
      "38484/38484 [==============================] - 6s 166us/step - loss: 0.2342 - acc: 0.9372 - val_loss: 0.2804 - val_acc: 0.9315\n",
      "Epoch 6/30\n",
      "38484/38484 [==============================] - 6s 167us/step - loss: 0.1954 - acc: 0.9476 - val_loss: 0.2474 - val_acc: 0.9394\n",
      "Epoch 7/30\n",
      "38484/38484 [==============================] - 6s 167us/step - loss: 0.1630 - acc: 0.9559 - val_loss: 0.2718 - val_acc: 0.9352\n",
      "Epoch 8/30\n",
      "38484/38484 [==============================] - 6s 168us/step - loss: 0.1419 - acc: 0.9608 - val_loss: 0.2441 - val_acc: 0.9390\n",
      "Epoch 9/30\n",
      "38484/38484 [==============================] - 6s 167us/step - loss: 0.1255 - acc: 0.9663 - val_loss: 0.2410 - val_acc: 0.9411\n",
      "Epoch 10/30\n",
      "38484/38484 [==============================] - 6s 166us/step - loss: 0.1041 - acc: 0.9721 - val_loss: 0.2578 - val_acc: 0.9350\n",
      "Epoch 11/30\n",
      "38484/38484 [==============================] - 6s 167us/step - loss: 0.0900 - acc: 0.9755 - val_loss: 0.2321 - val_acc: 0.9443\n",
      "Epoch 12/30\n",
      "38484/38484 [==============================] - 6s 167us/step - loss: 0.0766 - acc: 0.9795 - val_loss: 0.2355 - val_acc: 0.9439\n",
      "Epoch 13/30\n",
      "38484/38484 [==============================] - 6s 168us/step - loss: 0.0685 - acc: 0.9820 - val_loss: 0.2349 - val_acc: 0.9394\n",
      "Epoch 14/30\n",
      "38484/38484 [==============================] - 6s 168us/step - loss: 0.0610 - acc: 0.9833 - val_loss: 0.2322 - val_acc: 0.9448\n",
      "Epoch 15/30\n",
      "38484/38484 [==============================] - 7s 170us/step - loss: 0.0545 - acc: 0.9852 - val_loss: 0.2439 - val_acc: 0.9397\n",
      "Epoch 16/30\n",
      "38484/38484 [==============================] - 7s 170us/step - loss: 0.0519 - acc: 0.9865 - val_loss: 0.2398 - val_acc: 0.9457\n",
      "Epoch 17/30\n",
      "38484/38484 [==============================] - 7s 171us/step - loss: 0.0382 - acc: 0.9902 - val_loss: 0.2410 - val_acc: 0.9446\n",
      "Epoch 18/30\n",
      "38484/38484 [==============================] - 7s 169us/step - loss: 0.0317 - acc: 0.9924 - val_loss: 0.2444 - val_acc: 0.9443\n",
      "Epoch 19/30\n",
      "38484/38484 [==============================] - 7s 169us/step - loss: 0.0278 - acc: 0.9932 - val_loss: 0.2450 - val_acc: 0.9476\n",
      "Epoch 20/30\n",
      "38484/38484 [==============================] - 7s 170us/step - loss: 0.0239 - acc: 0.9942 - val_loss: 0.2393 - val_acc: 0.9493\n",
      "Epoch 21/30\n",
      "38484/38484 [==============================] - 7s 171us/step - loss: 0.0196 - acc: 0.9952 - val_loss: 0.2502 - val_acc: 0.9464\n",
      "Epoch 22/30\n",
      "38484/38484 [==============================] - 7s 171us/step - loss: 0.0245 - acc: 0.9941 - val_loss: 0.2465 - val_acc: 0.9464\n",
      "Epoch 23/30\n",
      "38484/38484 [==============================] - 7s 171us/step - loss: 0.0188 - acc: 0.9953 - val_loss: 0.2380 - val_acc: 0.9481\n",
      "Epoch 24/30\n",
      "38484/38484 [==============================] - 7s 171us/step - loss: 0.0159 - acc: 0.9961 - val_loss: 0.2431 - val_acc: 0.9467\n",
      "Epoch 25/30\n",
      "38484/38484 [==============================] - 7s 171us/step - loss: 0.0125 - acc: 0.9975 - val_loss: 0.2450 - val_acc: 0.9474\n",
      "Epoch 26/30\n",
      "38484/38484 [==============================] - 7s 171us/step - loss: 0.0312 - acc: 0.9925 - val_loss: 0.2543 - val_acc: 0.9486\n",
      "Epoch 27/30\n",
      "38484/38484 [==============================] - 7s 170us/step - loss: 0.0125 - acc: 0.9975 - val_loss: 0.2482 - val_acc: 0.9469\n",
      "Epoch 28/30\n",
      "38484/38484 [==============================] - 7s 170us/step - loss: 0.0099 - acc: 0.9982 - val_loss: 0.2551 - val_acc: 0.9500\n",
      "Epoch 29/30\n",
      "38484/38484 [==============================] - 7s 170us/step - loss: 0.0079 - acc: 0.9989 - val_loss: 0.2549 - val_acc: 0.9495\n",
      "Epoch 30/30\n",
      "38484/38484 [==============================] - 7s 171us/step - loss: 0.0067 - acc: 0.9992 - val_loss: 0.2520 - val_acc: 0.9471\n",
      "Training completed on 2020-04-23, 19-47\n"
     ]
    }
   ],
   "source": [
    "# Fit dataset\n",
    "tensorboard_callback3 = keras.callbacks.TensorBoard(os.path.join(model_dir+'logs','model3'))\n",
    "history3 = model3.fit(X_train, \n",
    "                      y_train, \n",
    "                      validation_data=(X_test, y_test), \n",
    "                      batch_size=batch_size, \n",
    "                      epochs=epochs, \n",
    "                      verbose=1, \n",
    "                      callbacks=[tensorboard_callback3])\n",
    "model3.save(model_dir+'model3.h5')\n",
    "print(f\"Training completed on {datetime.datetime.now().strftime('%Y-%m-%d, %H-%M')}\")\n",
    "\n",
    "# store logs to csv file\n",
    "df_history3 = pd.DataFrame(data=history3.history)\n",
    "df_history3.to_csv(model_logs+'logs_model3.csv')"
   ]
  },
  {
   "cell_type": "markdown",
   "metadata": {},
   "source": [
    "Metrics"
   ]
  },
  {
   "cell_type": "code",
   "execution_count": 185,
   "metadata": {},
   "outputs": [],
   "source": [
    "# to load model use\n",
    "model3 = load_model(model_dir+'model3.h5')"
   ]
  },
  {
   "cell_type": "code",
   "execution_count": 186,
   "metadata": {},
   "outputs": [],
   "source": [
    "res = model3.predict(X_test)"
   ]
  },
  {
   "cell_type": "code",
   "execution_count": 187,
   "metadata": {},
   "outputs": [],
   "source": [
    "# convert predictions from one hot encoded to label value\n",
    "y_pred = convert_pred_list_ohe_to_labels(res, threshold=0.1, get_max=True)\n",
    "# convert test values from one hot encoded to label value\n",
    "y_true = convert_pred_list_ohe_to_labels(y_test, threshold=0.9, get_max=True)"
   ]
  },
  {
   "cell_type": "markdown",
   "metadata": {},
   "source": [
    "Confusion Matrix"
   ]
  },
  {
   "cell_type": "code",
   "execution_count": 188,
   "metadata": {},
   "outputs": [
    {
     "data": {
      "text/plain": [
       "<matplotlib.axes._subplots.AxesSubplot at 0x24f3e711470>"
      ]
     },
     "execution_count": 188,
     "metadata": {},
     "output_type": "execute_result"
    },
    {
     "data": {
      "image/png": "[encoded data removed]",
      "text/plain": [
       "<Figure size 1440x1440 with 2 Axes>"
      ]
     },
     "metadata": {
      "needs_background": "light"
     },
     "output_type": "display_data"
    }
   ],
   "source": [
    "# Spectral Color Map used: Violet means 1, Red means -1 and Yellow means 0\n",
    "cfs3 = confusion_matrix(y_true, y_pred)\n",
    "plt.figure(figsize=(20,20))\n",
    "sn.heatmap(cfs3, cmap=\"Blues\", robust=True)"
   ]
  },
  {
   "cell_type": "markdown",
   "metadata": {},
   "source": [
    "Muticlass Precision, Recall and Accuracy"
   ]
  },
  {
   "cell_type": "code",
   "execution_count": 189,
   "metadata": {},
   "outputs": [
    {
     "name": "stdout",
     "output_type": "stream",
     "text": [
      "              precision    recall  f1-score   support\n",
      "\n",
      "           0       1.00      1.00      1.00        16\n",
      "           1       1.00      1.00      1.00         6\n",
      "           2       0.86      0.92      0.89        13\n",
      "           3       0.86      1.00      0.92         6\n",
      "           4       1.00      0.80      0.89         5\n",
      "           5       1.00      0.83      0.91         6\n",
      "           6       0.86      1.00      0.92        12\n",
      "           7       0.86      1.00      0.92         6\n",
      "           8       0.73      0.80      0.76        10\n",
      "           9       0.90      0.90      0.90        10\n",
      "          10       0.91      1.00      0.95        10\n",
      "          11       1.00      1.00      1.00        11\n",
      "          12       0.86      1.00      0.92        12\n",
      "          13       0.89      0.80      0.84        10\n",
      "          14       0.43      0.38      0.40         8\n",
      "          15       1.00      0.71      0.83         7\n",
      "          16       1.00      0.71      0.83         7\n",
      "          17       1.00      1.00      1.00         8\n",
      "          18       0.44      0.67      0.53         6\n",
      "          19       1.00      0.67      0.80         6\n",
      "          20       0.50      0.17      0.25         6\n",
      "          21       0.62      0.83      0.71         6\n",
      "          22       0.67      0.67      0.67         6\n",
      "          23       0.50      0.40      0.44         5\n",
      "          24       0.71      0.83      0.77         6\n",
      "          25       0.80      0.67      0.73         6\n",
      "          26       0.64      0.69      0.67        13\n",
      "          27       0.92      0.92      0.92        12\n",
      "          28       0.85      0.92      0.88        12\n",
      "          29       1.00      0.92      0.96        12\n",
      "          30       1.00      1.00      1.00         6\n",
      "          31       0.64      0.88      0.74         8\n",
      "          32       0.91      1.00      0.95        10\n",
      "          33       0.86      0.86      0.86         7\n",
      "          34       0.80      0.67      0.73        12\n",
      "          35       0.50      0.33      0.40         9\n",
      "          36       0.96      0.96      0.96       112\n",
      "          37       0.90      1.00      0.95         9\n",
      "          38       1.00      1.00      1.00         6\n",
      "          39       1.00      0.29      0.44         7\n",
      "          40       0.86      1.00      0.92         6\n",
      "          41       0.80      0.67      0.73         6\n",
      "          42       0.75      0.86      0.80         7\n",
      "          43       0.43      0.50      0.46         6\n",
      "          44       1.00      0.83      0.91         6\n",
      "          45       1.00      1.00      1.00         6\n",
      "          46       1.00      0.60      0.75         5\n",
      "          47       1.00      1.00      1.00         6\n",
      "          48       0.33      0.33      0.33         6\n",
      "          49       0.80      0.67      0.73         6\n",
      "          50       0.83      0.83      0.83         6\n",
      "          51       0.75      0.50      0.60         6\n",
      "          52       0.83      1.00      0.91         5\n",
      "          53       0.80      0.57      0.67         7\n",
      "          54       0.83      0.83      0.83         6\n",
      "          55       0.50      0.17      0.25         6\n",
      "          56       0.83      0.83      0.83         6\n",
      "          57       0.50      0.33      0.40         6\n",
      "          58       0.50      0.33      0.40         6\n",
      "          59       0.00      0.00      0.00         7\n",
      "          60       0.50      0.33      0.40         6\n",
      "          61       1.00      0.67      0.80         6\n",
      "          62       0.98      0.98      0.98       191\n",
      "          63       0.95      0.96      0.96       114\n",
      "          64       0.94      0.95      0.94       124\n",
      "          65       1.00      0.99      0.99       100\n",
      "          66       0.94      0.99      0.96        69\n",
      "          67       0.94      0.94      0.94        65\n",
      "          68       0.98      0.83      0.90        54\n",
      "          69       0.96      0.97      0.97       100\n",
      "          70       0.98      0.97      0.98       115\n",
      "          71       0.94      0.99      0.96        80\n",
      "          72       0.93      0.99      0.96        69\n",
      "          73       0.99      0.99      0.99        69\n",
      "          74       0.92      0.95      0.94        63\n",
      "          75       1.00      0.99      0.99        75\n",
      "          76       0.93      0.98      0.95       105\n",
      "          77       0.99      0.97      0.98        87\n",
      "          78       0.91      0.91      0.91        11\n",
      "          79       0.91      1.00      0.95        10\n",
      "          80       0.94      0.99      0.96        77\n",
      "          81       0.98      0.98      0.98        41\n",
      "          82       0.96      0.99      0.98       157\n",
      "          83       1.00      1.00      1.00        12\n",
      "          84       0.90      1.00      0.95         9\n",
      "          85       0.92      0.90      0.91        39\n",
      "          86       0.95      0.93      0.94       114\n",
      "          87       0.97      0.88      0.92        32\n",
      "          88       0.95      0.94      0.94       129\n",
      "          89       0.98      0.95      0.97       107\n",
      "          90       0.93      0.89      0.91        89\n",
      "          91       0.96      1.00      0.98        92\n",
      "          92       0.95      0.95      0.95       151\n",
      "          93       0.95      0.96      0.96        56\n",
      "          94       0.94      0.97      0.96        33\n",
      "          95       0.99      1.00      1.00       110\n",
      "          96       0.98      1.00      0.99       110\n",
      "          97       0.98      0.98      0.98       214\n",
      "          98       0.98      0.99      0.98       140\n",
      "          99       0.97      0.98      0.97        92\n",
      "         100       0.86      0.96      0.91        26\n",
      "         101       0.97      1.00      0.99        37\n",
      "         102       0.99      0.99      0.99       291\n",
      "         103       0.94      1.00      0.97        33\n",
      "         104       1.00      1.00      1.00         2\n",
      "         105       1.00      1.00      1.00         2\n",
      "         106       1.00      0.50      0.67         2\n",
      "\n",
      "    accuracy                           0.95      4276\n",
      "   macro avg       0.86      0.83      0.84      4276\n",
      "weighted avg       0.95      0.95      0.95      4276\n",
      "\n"
     ]
    }
   ],
   "source": [
    "cr3 = classification_report(y_true, y_pred, digits=2)\n",
    "print(cr3)\n",
    "cr3 = classification_report(y_true, y_pred, digits=4, output_dict=True)"
   ]
  },
  {
   "cell_type": "code",
   "execution_count": 190,
   "metadata": {},
   "outputs": [],
   "source": [
    "# Use this line before each model training to save memory\n",
    "del model3, history3, tensorboard_callback3, res"
   ]
  },
  {
   "cell_type": "markdown",
   "metadata": {},
   "source": [
    "# ANN"
   ]
  },
  {
   "cell_type": "code",
   "execution_count": 207,
   "metadata": {},
   "outputs": [],
   "source": [
    "config = tf.ConfigProto()\n",
    "config.gpu_options.allow_growth=True\n",
    "config.gpu_options.per_process_gpu_memory_fraction=0.5\n",
    "sess = tf.Session(config=config)\n",
    "K.set_session(sess)"
   ]
  },
  {
   "cell_type": "markdown",
   "metadata": {},
   "source": [
    "Split Set for ANN models"
   ]
  },
  {
   "cell_type": "code",
   "execution_count": 208,
   "metadata": {},
   "outputs": [
    {
     "name": "stdout",
     "output_type": "stream",
     "text": [
      "CNN Input Shape is (1024,)\n"
     ]
    }
   ],
   "source": [
    "# input shape of dataset\n",
    "input_shape = (32 * 32,)\n",
    "print(\"CNN Input Shape is\", input_shape)\n",
    "\n",
    "# define the channels location\n",
    "data_format = 'channels_first'\n",
    "\n",
    "X_train, X_test, y_train, y_test = process_x_y_train_test_stratified_ann(train, test, input_shape=input_shape)"
   ]
  },
  {
   "cell_type": "markdown",
   "metadata": {},
   "source": [
    "## Model 4: ANN without regularization"
   ]
  },
  {
   "cell_type": "code",
   "execution_count": 244,
   "metadata": {},
   "outputs": [],
   "source": [
    "K.clear_session()\n",
    "# optimizer\n",
    "lr = 0.01\n",
    "mtn=0.95\n",
    "optimizer = SGD(lr=lr, momentum=mtn)\n",
    "# optimizer = RMSprop(lr=lr)\n",
    "\n",
    "# loss function\n",
    "loss = 'categorical_crossentropy'\n",
    "\n",
    "batch_size = 512\n",
    "epochs = 50"
   ]
  },
  {
   "cell_type": "code",
   "execution_count": 245,
   "metadata": {},
   "outputs": [],
   "source": [
    "# create network\n",
    "model4 = create_network_ann1(input_shape, num_classes)\n",
    "# compile network\n",
    "model4.compile(loss=loss, optimizer=optimizer, metrics = ['accuracy'])"
   ]
  },
  {
   "cell_type": "markdown",
   "metadata": {},
   "source": [
    "Model Summary"
   ]
  },
  {
   "cell_type": "code",
   "execution_count": 246,
   "metadata": {},
   "outputs": [
    {
     "name": "stdout",
     "output_type": "stream",
     "text": [
      "_________________________________________________________________\n",
      "Layer (type)                 Output Shape              Param #   \n",
      "=================================================================\n",
      "dense_1 (Dense)              (None, 1024)              1049600   \n",
      "_________________________________________________________________\n",
      "activation_1 (Activation)    (None, 1024)              0         \n",
      "_________________________________________________________________\n",
      "dropout_1 (Dropout)          (None, 1024)              0         \n",
      "_________________________________________________________________\n",
      "dense_2 (Dense)              (None, 1024)              1049600   \n",
      "_________________________________________________________________\n",
      "activation_2 (Activation)    (None, 1024)              0         \n",
      "_________________________________________________________________\n",
      "dropout_2 (Dropout)          (None, 1024)              0         \n",
      "_________________________________________________________________\n",
      "dense_3 (Dense)              (None, 2048)              2099200   \n",
      "_________________________________________________________________\n",
      "activation_3 (Activation)    (None, 2048)              0         \n",
      "_________________________________________________________________\n",
      "dropout_3 (Dropout)          (None, 2048)              0         \n",
      "_________________________________________________________________\n",
      "dense_4 (Dense)              (None, 107)               219243    \n",
      "_________________________________________________________________\n",
      "activation_4 (Activation)    (None, 107)               0         \n",
      "=================================================================\n",
      "Total params: 4,417,643\n",
      "Trainable params: 4,417,643\n",
      "Non-trainable params: 0\n",
      "_________________________________________________________________\n",
      "None\n"
     ]
    }
   ],
   "source": [
    "print(model4.summary())\n",
    "#plot_model(model4, to_file=dir_+'model4.png')"
   ]
  },
  {
   "cell_type": "code",
   "execution_count": 247,
   "metadata": {},
   "outputs": [
    {
     "name": "stdout",
     "output_type": "stream",
     "text": [
      "Train on 38484 samples, validate on 4276 samples\n",
      "Epoch 1/50\n",
      "38484/38484 [==============================] - 2s 48us/step - loss: 3.3530 - acc: 0.2708 - val_loss: 2.0885 - val_acc: 0.5463\n",
      "Epoch 2/50\n",
      "38484/38484 [==============================] - 1s 34us/step - loss: 1.7043 - acc: 0.6236 - val_loss: 1.2426 - val_acc: 0.7142\n",
      "Epoch 3/50\n",
      "38484/38484 [==============================] - 1s 34us/step - loss: 1.2398 - acc: 0.7104 - val_loss: 0.9923 - val_acc: 0.7629\n",
      "Epoch 4/50\n",
      "38484/38484 [==============================] - 1s 34us/step - loss: 1.0355 - acc: 0.7470 - val_loss: 0.8715 - val_acc: 0.7895\n",
      "Epoch 5/50\n",
      "38484/38484 [==============================] - 1s 34us/step - loss: 0.8914 - acc: 0.7765 - val_loss: 0.8018 - val_acc: 0.8057\n",
      "Epoch 6/50\n",
      "38484/38484 [==============================] - 1s 34us/step - loss: 0.7888 - acc: 0.8026 - val_loss: 0.7245 - val_acc: 0.8260\n",
      "Epoch 7/50\n",
      "38484/38484 [==============================] - 1s 34us/step - loss: 0.7329 - acc: 0.8132 - val_loss: 0.6655 - val_acc: 0.8400\n",
      "Epoch 8/50\n",
      "38484/38484 [==============================] - 1s 34us/step - loss: 0.6758 - acc: 0.8296 - val_loss: 0.6224 - val_acc: 0.8517\n",
      "Epoch 9/50\n",
      "38484/38484 [==============================] - 1s 35us/step - loss: 0.6281 - acc: 0.8409 - val_loss: 0.6012 - val_acc: 0.8585\n",
      "Epoch 10/50\n",
      "38484/38484 [==============================] - 1s 34us/step - loss: 0.5878 - acc: 0.8489 - val_loss: 0.5690 - val_acc: 0.8637\n",
      "Epoch 11/50\n",
      "38484/38484 [==============================] - 1s 34us/step - loss: 0.5444 - acc: 0.8593 - val_loss: 0.5539 - val_acc: 0.8674\n",
      "Epoch 12/50\n",
      "38484/38484 [==============================] - 1s 34us/step - loss: 0.5258 - acc: 0.8639 - val_loss: 0.5349 - val_acc: 0.8718\n",
      "Epoch 13/50\n",
      "38484/38484 [==============================] - 1s 34us/step - loss: 0.4994 - acc: 0.8693 - val_loss: 0.5140 - val_acc: 0.8779\n",
      "Epoch 14/50\n",
      "38484/38484 [==============================] - 1s 34us/step - loss: 0.4688 - acc: 0.8770 - val_loss: 0.5029 - val_acc: 0.8831\n",
      "Epoch 15/50\n",
      "38484/38484 [==============================] - 1s 34us/step - loss: 0.4479 - acc: 0.8824 - val_loss: 0.4826 - val_acc: 0.8875\n",
      "Epoch 16/50\n",
      "38484/38484 [==============================] - 1s 34us/step - loss: 0.4244 - acc: 0.8894 - val_loss: 0.4877 - val_acc: 0.8863\n",
      "Epoch 17/50\n",
      "38484/38484 [==============================] - 1s 34us/step - loss: 0.4051 - acc: 0.8936 - val_loss: 0.4824 - val_acc: 0.8866\n",
      "Epoch 18/50\n",
      "38484/38484 [==============================] - 1s 34us/step - loss: 0.3918 - acc: 0.8963 - val_loss: 0.4652 - val_acc: 0.8868\n",
      "Epoch 19/50\n",
      "38484/38484 [==============================] - 1s 34us/step - loss: 0.3769 - acc: 0.9001 - val_loss: 0.4658 - val_acc: 0.8859\n",
      "Epoch 20/50\n",
      "38484/38484 [==============================] - 1s 35us/step - loss: 0.3667 - acc: 0.9010 - val_loss: 0.4730 - val_acc: 0.8842\n",
      "Epoch 21/50\n",
      "38484/38484 [==============================] - 1s 34us/step - loss: 0.3429 - acc: 0.9083 - val_loss: 0.4604 - val_acc: 0.8884\n",
      "Epoch 22/50\n",
      "38484/38484 [==============================] - 1s 34us/step - loss: 0.3411 - acc: 0.9081 - val_loss: 0.4492 - val_acc: 0.8884\n",
      "Epoch 23/50\n",
      "38484/38484 [==============================] - 1s 34us/step - loss: 0.3303 - acc: 0.9096 - val_loss: 0.4631 - val_acc: 0.8915\n",
      "Epoch 24/50\n",
      "38484/38484 [==============================] - 1s 35us/step - loss: 0.3190 - acc: 0.9137 - val_loss: 0.4379 - val_acc: 0.8938\n",
      "Epoch 25/50\n",
      "38484/38484 [==============================] - 1s 34us/step - loss: 0.3139 - acc: 0.9136 - val_loss: 0.4268 - val_acc: 0.8969\n",
      "Epoch 26/50\n",
      "38484/38484 [==============================] - 1s 34us/step - loss: 0.2874 - acc: 0.9218 - val_loss: 0.4269 - val_acc: 0.8992\n",
      "Epoch 27/50\n",
      "38484/38484 [==============================] - 1s 35us/step - loss: 0.2810 - acc: 0.9227 - val_loss: 0.4194 - val_acc: 0.9008\n",
      "Epoch 28/50\n",
      "38484/38484 [==============================] - 1s 36us/step - loss: 0.2702 - acc: 0.9266 - val_loss: 0.4289 - val_acc: 0.8950\n",
      "Epoch 29/50\n",
      "38484/38484 [==============================] - 1s 35us/step - loss: 0.2639 - acc: 0.9277 - val_loss: 0.4231 - val_acc: 0.8964\n",
      "Epoch 30/50\n",
      "38484/38484 [==============================] - 1s 35us/step - loss: 0.2571 - acc: 0.9289 - val_loss: 0.4220 - val_acc: 0.8985\n",
      "Epoch 31/50\n",
      "38484/38484 [==============================] - 1s 35us/step - loss: 0.2412 - acc: 0.9324 - val_loss: 0.4251 - val_acc: 0.9018\n",
      "Epoch 32/50\n",
      "38484/38484 [==============================] - 1s 35us/step - loss: 0.2358 - acc: 0.9338 - val_loss: 0.4162 - val_acc: 0.9001\n",
      "Epoch 33/50\n",
      "38484/38484 [==============================] - 1s 35us/step - loss: 0.2235 - acc: 0.9366 - val_loss: 0.4156 - val_acc: 0.9011\n",
      "Epoch 34/50\n",
      "38484/38484 [==============================] - 1s 35us/step - loss: 0.2239 - acc: 0.9371 - val_loss: 0.4282 - val_acc: 0.8971\n",
      "Epoch 35/50\n",
      "38484/38484 [==============================] - 1s 35us/step - loss: 0.2180 - acc: 0.9372 - val_loss: 0.4245 - val_acc: 0.9022\n",
      "Epoch 36/50\n",
      "38484/38484 [==============================] - 1s 36us/step - loss: 0.2081 - acc: 0.9413 - val_loss: 0.4151 - val_acc: 0.9032\n",
      "Epoch 37/50\n",
      "38484/38484 [==============================] - 1s 37us/step - loss: 0.1998 - acc: 0.9423 - val_loss: 0.4270 - val_acc: 0.9013\n",
      "Epoch 38/50\n",
      "38484/38484 [==============================] - 1s 36us/step - loss: 0.1981 - acc: 0.9423 - val_loss: 0.4002 - val_acc: 0.9102\n",
      "Epoch 39/50\n",
      "38484/38484 [==============================] - 1s 36us/step - loss: 0.1880 - acc: 0.9464 - val_loss: 0.4115 - val_acc: 0.9090\n",
      "Epoch 40/50\n",
      "38484/38484 [==============================] - 1s 36us/step - loss: 0.1783 - acc: 0.9479 - val_loss: 0.4032 - val_acc: 0.9097\n",
      "Epoch 41/50\n",
      "38484/38484 [==============================] - 1s 36us/step - loss: 0.1762 - acc: 0.9481 - val_loss: 0.3985 - val_acc: 0.9079\n",
      "Epoch 42/50\n",
      "38484/38484 [==============================] - 1s 35us/step - loss: 0.1770 - acc: 0.9478 - val_loss: 0.4098 - val_acc: 0.9067\n",
      "Epoch 43/50\n",
      "38484/38484 [==============================] - 1s 37us/step - loss: 0.1672 - acc: 0.9493 - val_loss: 0.4158 - val_acc: 0.9067\n",
      "Epoch 44/50\n",
      "38484/38484 [==============================] - 1s 36us/step - loss: 0.1666 - acc: 0.9508 - val_loss: 0.4211 - val_acc: 0.9046\n",
      "Epoch 45/50\n",
      "38484/38484 [==============================] - 1s 36us/step - loss: 0.1630 - acc: 0.9518 - val_loss: 0.4153 - val_acc: 0.9062\n",
      "Epoch 46/50\n",
      "38484/38484 [==============================] - 1s 36us/step - loss: 0.1568 - acc: 0.9537 - val_loss: 0.3994 - val_acc: 0.9097\n",
      "Epoch 47/50\n",
      "38484/38484 [==============================] - 1s 35us/step - loss: 0.1502 - acc: 0.9555 - val_loss: 0.4164 - val_acc: 0.9072\n",
      "Epoch 48/50\n",
      "38484/38484 [==============================] - 1s 35us/step - loss: 0.1448 - acc: 0.9570 - val_loss: 0.4053 - val_acc: 0.9093\n",
      "Epoch 49/50\n",
      "38484/38484 [==============================] - 1s 36us/step - loss: 0.1429 - acc: 0.9564 - val_loss: 0.4061 - val_acc: 0.9104\n",
      "Epoch 50/50\n",
      "38484/38484 [==============================] - 1s 35us/step - loss: 0.1371 - acc: 0.9588 - val_loss: 0.4122 - val_acc: 0.9100\n",
      "Training completed on 2020-04-23, 20-03\n"
     ]
    }
   ],
   "source": [
    "# Fit dataset\n",
    "tensorboard_callback4 = keras.callbacks.TensorBoard(os.path.join(model_dir+'logs','model4'))\n",
    "history4 = model4.fit(X_train, \n",
    "                      y_train, \n",
    "                      validation_data=(X_test, y_test), \n",
    "                      batch_size=batch_size, \n",
    "                      epochs=epochs, \n",
    "                      verbose=1, \n",
    "                      callbacks=[tensorboard_callback4])\n",
    "model4.save(model_dir+'model4.h5')\n",
    "print(f\"Training completed on {datetime.datetime.now().strftime('%Y-%m-%d, %H-%M')}\")\n",
    "\n",
    "# store logs to csv file\n",
    "df_history4 = pd.DataFrame(data=history4.history)\n",
    "df_history4.to_csv(model_logs+'logs_model4.csv')"
   ]
  },
  {
   "cell_type": "markdown",
   "metadata": {},
   "source": [
    "Metrics"
   ]
  },
  {
   "cell_type": "code",
   "execution_count": 248,
   "metadata": {},
   "outputs": [],
   "source": [
    "# to load model use\n",
    "model4 = load_model(model_dir+'model4.h5')"
   ]
  },
  {
   "cell_type": "code",
   "execution_count": 249,
   "metadata": {},
   "outputs": [],
   "source": [
    "res = model4.predict(X_test)"
   ]
  },
  {
   "cell_type": "code",
   "execution_count": 250,
   "metadata": {},
   "outputs": [],
   "source": [
    "# convert predictions from one hot encoded to label value\n",
    "y_pred = convert_pred_list_ohe_to_labels(res, threshold=0.001, get_max=True)\n",
    "# convert test values from one hot encoded to label value\n",
    "y_true = convert_pred_list_ohe_to_labels(y_test, threshold=0.9, get_max=True)"
   ]
  },
  {
   "cell_type": "markdown",
   "metadata": {},
   "source": [
    "Confusion Matrix"
   ]
  },
  {
   "cell_type": "code",
   "execution_count": 251,
   "metadata": {},
   "outputs": [
    {
     "data": {
      "image/png": "[encoded data removed]",
      "text/plain": [
       "<Figure size 1440x1440 with 2 Axes>"
      ]
     },
     "metadata": {
      "needs_background": "light"
     },
     "output_type": "display_data"
    }
   ],
   "source": [
    "# Spectral Color Map used: Violet means 1, Red means -1 and Yellow means 0\n",
    "cfs4 = confusion_matrix(y_true, y_pred)\n",
    "plt.figure(figsize=(20,20))\n",
    "sn.heatmap(cfs4, cmap=\"Blues\", robust=True, square=True)\n",
    "plt.show()"
   ]
  },
  {
   "cell_type": "markdown",
   "metadata": {},
   "source": [
    "Multiclass Precision, Recall and Accuracy"
   ]
  },
  {
   "cell_type": "code",
   "execution_count": 252,
   "metadata": {},
   "outputs": [
    {
     "name": "stdout",
     "output_type": "stream",
     "text": [
      "              precision    recall  f1-score   support\n",
      "\n",
      "           0       1.00      1.00      1.00        16\n",
      "           1       1.00      0.33      0.50         6\n",
      "           2       0.79      0.85      0.81        13\n",
      "           3       1.00      1.00      1.00         6\n",
      "           4       1.00      0.80      0.89         5\n",
      "           5       1.00      0.50      0.67         6\n",
      "           6       0.91      0.83      0.87        12\n",
      "           7       1.00      1.00      1.00         6\n",
      "           8       0.80      0.80      0.80        10\n",
      "           9       0.86      0.60      0.71        10\n",
      "          10       0.90      0.90      0.90        10\n",
      "          11       0.92      1.00      0.96        11\n",
      "          12       0.79      0.92      0.85        12\n",
      "          13       1.00      0.80      0.89        10\n",
      "          14       0.33      0.25      0.29         8\n",
      "          15       1.00      0.57      0.73         7\n",
      "          16       0.83      0.71      0.77         7\n",
      "          17       0.73      1.00      0.84         8\n",
      "          18       0.50      0.50      0.50         6\n",
      "          19       0.80      0.67      0.73         6\n",
      "          20       1.00      0.17      0.29         6\n",
      "          21       0.50      0.50      0.50         6\n",
      "          22       0.40      0.33      0.36         6\n",
      "          23       1.00      0.40      0.57         5\n",
      "          24       0.80      0.67      0.73         6\n",
      "          25       1.00      0.50      0.67         6\n",
      "          26       0.56      0.69      0.62        13\n",
      "          27       0.79      0.92      0.85        12\n",
      "          28       0.89      0.67      0.76        12\n",
      "          29       0.88      0.58      0.70        12\n",
      "          30       0.83      0.83      0.83         6\n",
      "          31       0.64      0.88      0.74         8\n",
      "          32       0.75      0.60      0.67        10\n",
      "          33       0.86      0.86      0.86         7\n",
      "          34       0.75      0.75      0.75        12\n",
      "          35       0.50      0.56      0.53         9\n",
      "          36       0.90      0.92      0.91       112\n",
      "          37       0.78      0.78      0.78         9\n",
      "          38       1.00      1.00      1.00         6\n",
      "          39       0.00      0.00      0.00         7\n",
      "          40       1.00      1.00      1.00         6\n",
      "          41       0.50      0.67      0.57         6\n",
      "          42       0.56      0.71      0.63         7\n",
      "          43       0.00      0.00      0.00         6\n",
      "          44       1.00      0.67      0.80         6\n",
      "          45       1.00      0.83      0.91         6\n",
      "          46       1.00      0.80      0.89         5\n",
      "          47       0.75      1.00      0.86         6\n",
      "          48       0.50      0.50      0.50         6\n",
      "          49       0.67      0.67      0.67         6\n",
      "          50       1.00      0.33      0.50         6\n",
      "          51       0.67      0.33      0.44         6\n",
      "          52       0.83      1.00      0.91         5\n",
      "          53       0.57      0.57      0.57         7\n",
      "          54       0.80      0.67      0.73         6\n",
      "          55       0.33      0.17      0.22         6\n",
      "          56       0.71      0.83      0.77         6\n",
      "          57       0.60      0.50      0.55         6\n",
      "          58       0.57      0.67      0.62         6\n",
      "          59       0.00      0.00      0.00         7\n",
      "          60       0.50      0.50      0.50         6\n",
      "          61       1.00      0.17      0.29         6\n",
      "          62       0.90      0.95      0.92       191\n",
      "          63       0.89      0.90      0.90       114\n",
      "          64       0.85      0.90      0.87       124\n",
      "          65       0.97      0.99      0.98       100\n",
      "          66       0.86      0.94      0.90        69\n",
      "          67       0.91      0.89      0.90        65\n",
      "          68       0.88      0.70      0.78        54\n",
      "          69       0.91      0.96      0.94       100\n",
      "          70       0.92      0.95      0.94       115\n",
      "          71       0.94      0.94      0.94        80\n",
      "          72       0.88      0.93      0.90        69\n",
      "          73       0.89      0.97      0.93        69\n",
      "          74       0.91      0.84      0.88        63\n",
      "          75       0.99      0.99      0.99        75\n",
      "          76       0.93      0.93      0.93       105\n",
      "          77       0.93      0.92      0.92        87\n",
      "          78       0.61      1.00      0.76        11\n",
      "          79       0.77      1.00      0.87        10\n",
      "          80       0.94      0.99      0.96        77\n",
      "          81       0.98      0.98      0.98        41\n",
      "          82       0.98      0.98      0.98       157\n",
      "          83       1.00      1.00      1.00        12\n",
      "          84       0.75      1.00      0.86         9\n",
      "          85       0.91      0.82      0.86        39\n",
      "          86       0.91      0.93      0.92       114\n",
      "          87       0.94      0.91      0.92        32\n",
      "          88       0.90      0.88      0.89       129\n",
      "          89       0.90      0.89      0.90       107\n",
      "          90       0.93      0.75      0.83        89\n",
      "          91       0.92      0.99      0.95        92\n",
      "          92       0.90      0.97      0.93       151\n",
      "          93       0.88      0.89      0.88        56\n",
      "          94       0.94      0.94      0.94        33\n",
      "          95       0.98      1.00      0.99       110\n",
      "          96       0.98      0.99      0.99       110\n",
      "          97       0.96      0.96      0.96       214\n",
      "          98       0.97      0.99      0.98       140\n",
      "          99       0.94      0.95      0.94        92\n",
      "         100       0.93      0.96      0.94        26\n",
      "         101       0.84      0.97      0.90        37\n",
      "         102       0.97      0.98      0.98       291\n",
      "         103       0.94      0.94      0.94        33\n",
      "         104       0.67      1.00      0.80         2\n",
      "         105       1.00      0.50      0.67         2\n",
      "         106       1.00      1.00      1.00         2\n",
      "\n",
      "    accuracy                           0.91      4276\n",
      "   macro avg       0.82      0.77      0.77      4276\n",
      "weighted avg       0.91      0.91      0.91      4276\n",
      "\n"
     ]
    }
   ],
   "source": [
    "cr4 = classification_report(y_true, y_pred, digits=2)\n",
    "print(cr4)\n",
    "cr4 = classification_report(y_true, y_pred, digits=4, output_dict=True)"
   ]
  },
  {
   "cell_type": "code",
   "execution_count": 253,
   "metadata": {},
   "outputs": [],
   "source": [
    "# Use this line before each model training to save memory\n",
    "del model4, history4, tensorboard_callback4, res"
   ]
  },
  {
   "cell_type": "markdown",
   "metadata": {},
   "source": [
    "## Model 5: ANN with regularization"
   ]
  },
  {
   "cell_type": "code",
   "execution_count": 234,
   "metadata": {},
   "outputs": [],
   "source": [
    "K.clear_session()\n",
    "# optimizer\n",
    "lr = 0.01\n",
    "mtn=0.9\n",
    "optimizer = SGD(lr=lr, momentum=mtn)\n",
    "# optimizer = RMSprop(lr=lr)\n",
    "\n",
    "# loss function\n",
    "loss = 'categorical_crossentropy'\n",
    "\n",
    "batch_size = 128\n",
    "epochs = 50"
   ]
  },
  {
   "cell_type": "code",
   "execution_count": 235,
   "metadata": {},
   "outputs": [],
   "source": [
    "# create network\n",
    "model5 = create_network_ann2(input_shape, num_classes)\n",
    "# compile network\n",
    "model5.compile(loss=loss, optimizer=optimizer, metrics = ['accuracy'])"
   ]
  },
  {
   "cell_type": "markdown",
   "metadata": {},
   "source": [
    "Model Summary"
   ]
  },
  {
   "cell_type": "code",
   "execution_count": 236,
   "metadata": {},
   "outputs": [
    {
     "name": "stdout",
     "output_type": "stream",
     "text": [
      "_________________________________________________________________\n",
      "Layer (type)                 Output Shape              Param #   \n",
      "=================================================================\n",
      "dense_1 (Dense)              (None, 1024)              1049600   \n",
      "_________________________________________________________________\n",
      "activation_1 (Activation)    (None, 1024)              0         \n",
      "_________________________________________________________________\n",
      "dropout_1 (Dropout)          (None, 1024)              0         \n",
      "_________________________________________________________________\n",
      "dense_2 (Dense)              (None, 1024)              1049600   \n",
      "_________________________________________________________________\n",
      "activation_2 (Activation)    (None, 1024)              0         \n",
      "_________________________________________________________________\n",
      "dropout_2 (Dropout)          (None, 1024)              0         \n",
      "_________________________________________________________________\n",
      "dense_3 (Dense)              (None, 2048)              2099200   \n",
      "_________________________________________________________________\n",
      "activation_3 (Activation)    (None, 2048)              0         \n",
      "_________________________________________________________________\n",
      "dropout_3 (Dropout)          (None, 2048)              0         \n",
      "_________________________________________________________________\n",
      "dense_4 (Dense)              (None, 107)               219243    \n",
      "_________________________________________________________________\n",
      "activation_4 (Activation)    (None, 107)               0         \n",
      "=================================================================\n",
      "Total params: 4,417,643\n",
      "Trainable params: 4,417,643\n",
      "Non-trainable params: 0\n",
      "_________________________________________________________________\n",
      "None\n"
     ]
    }
   ],
   "source": [
    "print(model5.summary())\n",
    "#plot_model(model5, to_file=dir_+'model5.png')"
   ]
  },
  {
   "cell_type": "code",
   "execution_count": 237,
   "metadata": {},
   "outputs": [
    {
     "name": "stdout",
     "output_type": "stream",
     "text": [
      "Train on 38484 samples, validate on 4276 samples\n",
      "Epoch 1/50\n",
      "38484/38484 [==============================] - 4s 116us/step - loss: 27.0259 - acc: 0.5062 - val_loss: 14.3673 - val_acc: 0.6763\n",
      "Epoch 2/50\n",
      "38484/38484 [==============================] - 3s 85us/step - loss: 9.0958 - acc: 0.6883 - val_loss: 5.5372 - val_acc: 0.7025\n",
      "Epoch 3/50\n",
      "38484/38484 [==============================] - 3s 85us/step - loss: 3.9557 - acc: 0.7077 - val_loss: 2.8371 - val_acc: 0.7299\n",
      "Epoch 4/50\n",
      "38484/38484 [==============================] - 3s 86us/step - loss: 2.4254 - acc: 0.7153 - val_loss: 2.0086 - val_acc: 0.7378\n",
      "Epoch 5/50\n",
      "38484/38484 [==============================] - 3s 85us/step - loss: 1.9412 - acc: 0.7227 - val_loss: 1.7677 - val_acc: 0.7526\n",
      "Epoch 6/50\n",
      "38484/38484 [==============================] - 3s 85us/step - loss: 1.7744 - acc: 0.7295 - val_loss: 1.7197 - val_acc: 0.7339\n",
      "Epoch 7/50\n",
      "38484/38484 [==============================] - 3s 85us/step - loss: 1.6964 - acc: 0.7366 - val_loss: 1.8780 - val_acc: 0.6941\n",
      "Epoch 8/50\n",
      "38484/38484 [==============================] - 3s 85us/step - loss: 1.6706 - acc: 0.7389 - val_loss: 1.5913 - val_acc: 0.7626\n",
      "Epoch 9/50\n",
      "38484/38484 [==============================] - 3s 85us/step - loss: 1.6341 - acc: 0.7438 - val_loss: 1.5873 - val_acc: 0.7582\n",
      "Epoch 10/50\n",
      "38484/38484 [==============================] - 3s 85us/step - loss: 1.5944 - acc: 0.7497 - val_loss: 1.5736 - val_acc: 0.7615\n",
      "Epoch 11/50\n",
      "38484/38484 [==============================] - 3s 85us/step - loss: 1.6017 - acc: 0.7503 - val_loss: 1.5832 - val_acc: 0.7491\n",
      "Epoch 12/50\n",
      "38484/38484 [==============================] - 3s 85us/step - loss: 1.5664 - acc: 0.7556 - val_loss: 1.6281 - val_acc: 0.7420\n",
      "Epoch 13/50\n",
      "38484/38484 [==============================] - 3s 86us/step - loss: 1.5450 - acc: 0.7603 - val_loss: 1.5745 - val_acc: 0.7481\n",
      "Epoch 14/50\n",
      "38484/38484 [==============================] - 3s 85us/step - loss: 1.5435 - acc: 0.7584 - val_loss: 1.5358 - val_acc: 0.7636\n",
      "Epoch 15/50\n",
      "38484/38484 [==============================] - 3s 85us/step - loss: 1.5400 - acc: 0.7615 - val_loss: 1.4439 - val_acc: 0.7862\n",
      "Epoch 16/50\n",
      "38484/38484 [==============================] - 3s 85us/step - loss: 1.5409 - acc: 0.7566 - val_loss: 1.5536 - val_acc: 0.7626\n",
      "Epoch 17/50\n",
      "38484/38484 [==============================] - 3s 86us/step - loss: 1.5240 - acc: 0.7591 - val_loss: 1.5772 - val_acc: 0.7362\n",
      "Epoch 18/50\n",
      "38484/38484 [==============================] - 3s 87us/step - loss: 1.5257 - acc: 0.7590 - val_loss: 1.5761 - val_acc: 0.7575\n",
      "Epoch 19/50\n",
      "38484/38484 [==============================] - 3s 85us/step - loss: 1.5255 - acc: 0.7575 - val_loss: 1.4347 - val_acc: 0.7919\n",
      "Epoch 20/50\n",
      "38484/38484 [==============================] - 3s 85us/step - loss: 1.4909 - acc: 0.7669 - val_loss: 1.5520 - val_acc: 0.7523\n",
      "Epoch 21/50\n",
      "38484/38484 [==============================] - 3s 85us/step - loss: 1.4871 - acc: 0.7657 - val_loss: 1.5335 - val_acc: 0.7685\n",
      "Epoch 22/50\n",
      "38484/38484 [==============================] - 3s 85us/step - loss: 1.4800 - acc: 0.7684 - val_loss: 1.3858 - val_acc: 0.7949\n",
      "Epoch 23/50\n",
      "38484/38484 [==============================] - 3s 85us/step - loss: 1.4799 - acc: 0.7658 - val_loss: 1.4688 - val_acc: 0.7802\n",
      "Epoch 24/50\n",
      "38484/38484 [==============================] - 3s 86us/step - loss: 1.4856 - acc: 0.7640 - val_loss: 1.4902 - val_acc: 0.7753\n",
      "Epoch 25/50\n",
      "38484/38484 [==============================] - 3s 85us/step - loss: 1.4434 - acc: 0.7732 - val_loss: 1.4828 - val_acc: 0.7685\n",
      "Epoch 26/50\n",
      "38484/38484 [==============================] - 3s 86us/step - loss: 1.4516 - acc: 0.7723 - val_loss: 1.4543 - val_acc: 0.7755\n",
      "Epoch 27/50\n",
      "38484/38484 [==============================] - 3s 86us/step - loss: 1.4540 - acc: 0.7689 - val_loss: 1.6648 - val_acc: 0.7145\n",
      "Epoch 28/50\n",
      "38484/38484 [==============================] - 3s 85us/step - loss: 1.4534 - acc: 0.7684 - val_loss: 1.4058 - val_acc: 0.7872\n",
      "Epoch 29/50\n",
      "38484/38484 [==============================] - 3s 85us/step - loss: 1.4324 - acc: 0.7740 - val_loss: 1.4262 - val_acc: 0.7841\n",
      "Epoch 30/50\n",
      "38484/38484 [==============================] - 3s 85us/step - loss: 1.4342 - acc: 0.7762 - val_loss: 1.4917 - val_acc: 0.7575\n",
      "Epoch 31/50\n",
      "38484/38484 [==============================] - 3s 86us/step - loss: 1.4360 - acc: 0.7727 - val_loss: 1.4074 - val_acc: 0.7827\n",
      "Epoch 32/50\n",
      "38484/38484 [==============================] - 3s 85us/step - loss: 1.4136 - acc: 0.7780 - val_loss: 1.3641 - val_acc: 0.7991\n",
      "Epoch 33/50\n",
      "38484/38484 [==============================] - 3s 86us/step - loss: 1.4173 - acc: 0.7762 - val_loss: 1.3982 - val_acc: 0.7916\n",
      "Epoch 34/50\n",
      "38484/38484 [==============================] - 3s 85us/step - loss: 1.4275 - acc: 0.7741 - val_loss: 1.5144 - val_acc: 0.7533\n",
      "Epoch 35/50\n",
      "38484/38484 [==============================] - 3s 86us/step - loss: 1.4162 - acc: 0.7743 - val_loss: 1.4269 - val_acc: 0.7886\n",
      "Epoch 36/50\n",
      "38484/38484 [==============================] - 3s 86us/step - loss: 1.4068 - acc: 0.7780 - val_loss: 1.4452 - val_acc: 0.7778\n",
      "Epoch 37/50\n",
      "38484/38484 [==============================] - 3s 85us/step - loss: 1.3989 - acc: 0.7813 - val_loss: 1.4457 - val_acc: 0.7729\n",
      "Epoch 38/50\n",
      "38484/38484 [==============================] - 3s 86us/step - loss: 1.4063 - acc: 0.7762 - val_loss: 1.4492 - val_acc: 0.7741\n",
      "Epoch 39/50\n",
      "38484/38484 [==============================] - 3s 85us/step - loss: 1.3946 - acc: 0.7807 - val_loss: 1.4018 - val_acc: 0.7827\n",
      "Epoch 40/50\n",
      "38484/38484 [==============================] - 3s 86us/step - loss: 1.4225 - acc: 0.7728 - val_loss: 1.3600 - val_acc: 0.7972\n",
      "Epoch 41/50\n",
      "38484/38484 [==============================] - 3s 85us/step - loss: 1.3841 - acc: 0.7823 - val_loss: 1.3977 - val_acc: 0.7881\n",
      "Epoch 42/50\n",
      "38484/38484 [==============================] - 3s 85us/step - loss: 1.4005 - acc: 0.7753 - val_loss: 1.4583 - val_acc: 0.7699\n",
      "Epoch 43/50\n",
      "38484/38484 [==============================] - 3s 86us/step - loss: 1.3872 - acc: 0.7827 - val_loss: 1.4891 - val_acc: 0.7596\n",
      "Epoch 44/50\n",
      "38484/38484 [==============================] - 3s 86us/step - loss: 1.3669 - acc: 0.7844 - val_loss: 1.4864 - val_acc: 0.7493\n",
      "Epoch 45/50\n",
      "38484/38484 [==============================] - 3s 90us/step - loss: 1.4130 - acc: 0.7739 - val_loss: 1.3735 - val_acc: 0.7907\n",
      "Epoch 46/50\n",
      "38484/38484 [==============================] - 3s 91us/step - loss: 1.3752 - acc: 0.7815 - val_loss: 1.4672 - val_acc: 0.7671\n",
      "Epoch 47/50\n",
      "38484/38484 [==============================] - 3s 87us/step - loss: 1.3522 - acc: 0.7873 - val_loss: 1.2674 - val_acc: 0.8190\n",
      "Epoch 48/50\n",
      "38484/38484 [==============================] - 3s 86us/step - loss: 1.3883 - acc: 0.7763 - val_loss: 1.3682 - val_acc: 0.7888\n",
      "Epoch 49/50\n",
      "38484/38484 [==============================] - 3s 87us/step - loss: 1.3927 - acc: 0.7772 - val_loss: 1.3338 - val_acc: 0.8057\n",
      "Epoch 50/50\n",
      "38484/38484 [==============================] - 3s 85us/step - loss: 1.3789 - acc: 0.7808 - val_loss: 1.4135 - val_acc: 0.7839\n",
      "Training completed on 2020-04-23, 20-01\n"
     ]
    }
   ],
   "source": [
    "# Fit dataset\n",
    "tensorboard_callback5 = keras.callbacks.TensorBoard(os.path.join(model_dir+'logs','model5'))\n",
    "history5 = model5.fit(X_train, \n",
    "                      y_train, \n",
    "                      validation_data=(X_test, y_test), \n",
    "                      batch_size=batch_size, \n",
    "                      epochs=epochs, \n",
    "                      verbose=1, \n",
    "                      callbacks=[tensorboard_callback5])\n",
    "model5.save(model_dir+'model5.h5')\n",
    "print(f\"Training completed on {datetime.datetime.now().strftime('%Y-%m-%d, %H-%M')}\")\n",
    "\n",
    "# store logs to csv file\n",
    "df_history5 = pd.DataFrame(data=history5.history)\n",
    "df_history5.to_csv(model_logs+'logs_model5.csv')"
   ]
  },
  {
   "cell_type": "markdown",
   "metadata": {},
   "source": [
    "Metrics"
   ]
  },
  {
   "cell_type": "code",
   "execution_count": 238,
   "metadata": {},
   "outputs": [],
   "source": [
    "# to load model use\n",
    "model5 = load_model(model_dir+'model5.h5')"
   ]
  },
  {
   "cell_type": "code",
   "execution_count": 239,
   "metadata": {},
   "outputs": [],
   "source": [
    "res = model5.predict(X_test)"
   ]
  },
  {
   "cell_type": "code",
   "execution_count": 240,
   "metadata": {},
   "outputs": [],
   "source": [
    "# convert predictions from one hot encoded to label value\n",
    "y_pred = convert_pred_list_ohe_to_labels(res, threshold=0.001, get_max=True)\n",
    "# convert test values from one hot encoded to label value\n",
    "y_true = convert_pred_list_ohe_to_labels(y_test, threshold=0.9, get_max=True)"
   ]
  },
  {
   "cell_type": "markdown",
   "metadata": {},
   "source": [
    "Confusion Matrix"
   ]
  },
  {
   "cell_type": "code",
   "execution_count": 241,
   "metadata": {},
   "outputs": [
    {
     "data": {
      "image/png": "[encoded data removed]",
      "text/plain": [
       "<Figure size 1440x1440 with 2 Axes>"
      ]
     },
     "metadata": {
      "needs_background": "light"
     },
     "output_type": "display_data"
    }
   ],
   "source": [
    "# Spectral Color Map used: Violet means 1, Red means -1 and Yellow means 0\n",
    "cfs5 = confusion_matrix(y_true, y_pred)\n",
    "plt.figure(figsize=(20,20))\n",
    "sn.heatmap(cfs5, cmap=\"Blues\", robust=True)\n",
    "plt.show()"
   ]
  },
  {
   "cell_type": "markdown",
   "metadata": {},
   "source": [
    "Multiclass Precision, Recall and Accuracy"
   ]
  },
  {
   "cell_type": "code",
   "execution_count": 242,
   "metadata": {},
   "outputs": [
    {
     "name": "stdout",
     "output_type": "stream",
     "text": [
      "              precision    recall  f1-score   support\n",
      "\n",
      "           0       0.91      0.62      0.74        16\n",
      "           1       0.50      0.17      0.25         6\n",
      "           2       0.80      0.31      0.44        13\n",
      "           3       0.67      0.67      0.67         6\n",
      "           4       0.00      0.00      0.00         5\n",
      "           5       1.00      0.33      0.50         6\n",
      "           6       0.89      0.67      0.76        12\n",
      "           7       0.00      0.00      0.00         6\n",
      "           8       1.00      0.20      0.33        10\n",
      "           9       0.40      0.20      0.27        10\n",
      "          10       0.67      0.40      0.50        10\n",
      "          11       0.82      0.82      0.82        11\n",
      "          12       0.00      0.00      0.00        12\n",
      "          13       1.00      0.20      0.33        10\n",
      "          14       0.00      0.00      0.00         8\n",
      "          15       0.33      0.43      0.38         7\n",
      "          16       1.00      0.14      0.25         7\n",
      "          17       0.55      0.75      0.63         8\n",
      "          18       0.00      0.00      0.00         6\n",
      "          19       1.00      0.67      0.80         6\n",
      "          20       0.00      0.00      0.00         6\n",
      "          21       1.00      0.17      0.29         6\n",
      "          22       0.00      0.00      0.00         6\n",
      "          23       0.00      0.00      0.00         5\n",
      "          24       0.00      0.00      0.00         6\n",
      "          25       1.00      0.17      0.29         6\n",
      "          26       0.62      0.62      0.62        13\n",
      "          27       0.00      0.00      0.00        12\n",
      "          28       0.45      0.42      0.43        12\n",
      "          29       0.50      0.17      0.25        12\n",
      "          30       0.00      0.00      0.00         6\n",
      "          31       0.57      0.50      0.53         8\n",
      "          32       0.00      0.00      0.00        10\n",
      "          33       0.80      0.57      0.67         7\n",
      "          34       0.25      0.08      0.12        12\n",
      "          35       0.50      0.33      0.40         9\n",
      "          36       0.88      0.84      0.86       112\n",
      "          37       1.00      0.11      0.20         9\n",
      "          38       1.00      0.33      0.50         6\n",
      "          39       0.00      0.00      0.00         7\n",
      "          40       1.00      0.50      0.67         6\n",
      "          41       0.00      0.00      0.00         6\n",
      "          42       0.00      0.00      0.00         7\n",
      "          43       0.33      0.17      0.22         6\n",
      "          44       1.00      0.17      0.29         6\n",
      "          45       1.00      0.17      0.29         6\n",
      "          46       0.00      0.00      0.00         5\n",
      "          47       1.00      0.83      0.91         6\n",
      "          48       0.00      0.00      0.00         6\n",
      "          49       1.00      0.17      0.29         6\n",
      "          50       0.50      0.17      0.25         6\n",
      "          51       0.00      0.00      0.00         6\n",
      "          52       0.67      0.40      0.50         5\n",
      "          53       1.00      0.14      0.25         7\n",
      "          54       0.40      0.33      0.36         6\n",
      "          55       0.00      0.00      0.00         6\n",
      "          56       0.00      0.00      0.00         6\n",
      "          57       1.00      0.33      0.50         6\n",
      "          58       0.00      0.00      0.00         6\n",
      "          59       0.00      0.00      0.00         7\n",
      "          60       0.00      0.00      0.00         6\n",
      "          61       0.00      0.00      0.00         6\n",
      "          62       0.77      0.87      0.82       191\n",
      "          63       0.71      0.83      0.77       114\n",
      "          64       0.78      0.64      0.70       124\n",
      "          65       0.92      0.90      0.91       100\n",
      "          66       0.73      0.78      0.76        69\n",
      "          67       0.80      0.80      0.80        65\n",
      "          68       0.62      0.59      0.60        54\n",
      "          69       0.84      0.87      0.86       100\n",
      "          70       0.56      0.95      0.70       115\n",
      "          71       0.77      0.85      0.81        80\n",
      "          72       0.47      0.86      0.61        69\n",
      "          73       0.82      0.71      0.76        69\n",
      "          74       0.88      0.78      0.82        63\n",
      "          75       0.99      0.91      0.94        75\n",
      "          76       0.98      0.50      0.66       105\n",
      "          77       0.79      0.78      0.79        87\n",
      "          78       0.56      0.45      0.50        11\n",
      "          79       0.78      0.70      0.74        10\n",
      "          80       0.80      0.94      0.86        77\n",
      "          81       0.62      0.98      0.76        41\n",
      "          82       0.94      0.88      0.91       157\n",
      "          83       0.92      1.00      0.96        12\n",
      "          84       1.00      0.78      0.88         9\n",
      "          85       0.91      0.51      0.66        39\n",
      "          86       0.90      0.77      0.83       114\n",
      "          87       0.86      0.75      0.80        32\n",
      "          88       0.57      0.88      0.69       129\n",
      "          89       0.72      0.93      0.81       107\n",
      "          90       0.65      0.66      0.66        89\n",
      "          91       0.84      0.99      0.91        92\n",
      "          92       0.75      0.95      0.84       151\n",
      "          93       0.73      0.86      0.79        56\n",
      "          94       1.00      0.64      0.78        33\n",
      "          95       0.83      1.00      0.91       110\n",
      "          96       0.95      0.92      0.94       110\n",
      "          97       0.95      0.91      0.93       214\n",
      "          98       0.92      0.86      0.89       140\n",
      "          99       0.73      0.99      0.84        92\n",
      "         100       0.94      0.58      0.71        26\n",
      "         101       0.65      0.95      0.77        37\n",
      "         102       0.93      0.98      0.96       291\n",
      "         103       0.66      0.70      0.68        33\n",
      "         104       0.00      0.00      0.00         2\n",
      "         105       0.00      0.00      0.00         2\n",
      "         106       0.00      0.00      0.00         2\n",
      "\n",
      "    accuracy                           0.78      4276\n",
      "   macro avg       0.58      0.45      0.47      4276\n",
      "weighted avg       0.78      0.78      0.76      4276\n",
      "\n"
     ]
    }
   ],
   "source": [
    "cr5 = classification_report(y_true, y_pred, digits=2)\n",
    "print(cr5)\n",
    "cr5 = classification_report(y_true, y_pred, digits=4, output_dict=True)"
   ]
  },
  {
   "cell_type": "code",
   "execution_count": 243,
   "metadata": {},
   "outputs": [],
   "source": [
    "# Use this line before each model training to save memory\n",
    "del model5, history5, tensorboard_callback5, res"
   ]
  },
  {
   "cell_type": "markdown",
   "metadata": {},
   "source": [
    "# CNN (contd)"
   ]
  },
  {
   "cell_type": "markdown",
   "metadata": {},
   "source": [
    "## Model 6: LeNet-5"
   ]
  },
  {
   "cell_type": "code",
   "execution_count": 191,
   "metadata": {},
   "outputs": [],
   "source": [
    "K.clear_session()"
   ]
  },
  {
   "cell_type": "code",
   "execution_count": 196,
   "metadata": {},
   "outputs": [],
   "source": [
    "# optimizer\n",
    "lr = 0.01\n",
    "mtn=0.9\n",
    "\n",
    "# optimizer = RMSprop(lr=lr)\n",
    "# optimizer = SGD(lr=lr, momentum=mtn)\n",
    "optimizer = Adam()\n",
    "\n",
    "# loss function\n",
    "loss = 'categorical_crossentropy'\n",
    "\n",
    "batch_size = 512\n",
    "epochs = 30"
   ]
  },
  {
   "cell_type": "code",
   "execution_count": 197,
   "metadata": {},
   "outputs": [],
   "source": [
    "# create network\n",
    "model6 = create_network6(input_shape, num_classes)\n",
    "# compile network\n",
    "model6.compile(loss=loss, optimizer=optimizer, metrics = ['accuracy'])"
   ]
  },
  {
   "cell_type": "markdown",
   "metadata": {},
   "source": [
    "Model Summary"
   ]
  },
  {
   "cell_type": "code",
   "execution_count": 198,
   "metadata": {},
   "outputs": [
    {
     "name": "stdout",
     "output_type": "stream",
     "text": [
      "_________________________________________________________________\n",
      "Layer (type)                 Output Shape              Param #   \n",
      "=================================================================\n",
      "conv2d_4 (Conv2D)            (None, 6, 32, 32)         156       \n",
      "_________________________________________________________________\n",
      "activation_7 (Activation)    (None, 6, 32, 32)         0         \n",
      "_________________________________________________________________\n",
      "average_pooling2d_3 (Average (None, 6, 31, 31)         0         \n",
      "_________________________________________________________________\n",
      "conv2d_5 (Conv2D)            (None, 16, 27, 27)        2416      \n",
      "_________________________________________________________________\n",
      "activation_8 (Activation)    (None, 16, 27, 27)        0         \n",
      "_________________________________________________________________\n",
      "average_pooling2d_4 (Average (None, 16, 13, 13)        0         \n",
      "_________________________________________________________________\n",
      "conv2d_6 (Conv2D)            (None, 120, 9, 9)         48120     \n",
      "_________________________________________________________________\n",
      "activation_9 (Activation)    (None, 120, 9, 9)         0         \n",
      "_________________________________________________________________\n",
      "flatten_2 (Flatten)          (None, 9720)              0         \n",
      "_________________________________________________________________\n",
      "dense_4 (Dense)              (None, 1024)              9954304   \n",
      "_________________________________________________________________\n",
      "activation_10 (Activation)   (None, 1024)              0         \n",
      "_________________________________________________________________\n",
      "dropout_3 (Dropout)          (None, 1024)              0         \n",
      "_________________________________________________________________\n",
      "dense_5 (Dense)              (None, 512)               524800    \n",
      "_________________________________________________________________\n",
      "activation_11 (Activation)   (None, 512)               0         \n",
      "_________________________________________________________________\n",
      "dropout_4 (Dropout)          (None, 512)               0         \n",
      "_________________________________________________________________\n",
      "dense_6 (Dense)              (None, 107)               54891     \n",
      "_________________________________________________________________\n",
      "activation_12 (Activation)   (None, 107)               0         \n",
      "=================================================================\n",
      "Total params: 10,584,687\n",
      "Trainable params: 10,584,687\n",
      "Non-trainable params: 0\n",
      "_________________________________________________________________\n",
      "None\n"
     ]
    }
   ],
   "source": [
    "print(model6.summary())\n",
    "#plot_model(model6, to_file=dir_+'model6.png')"
   ]
  },
  {
   "cell_type": "code",
   "execution_count": 199,
   "metadata": {},
   "outputs": [
    {
     "name": "stdout",
     "output_type": "stream",
     "text": [
      "Train on 38484 samples, validate on 4276 samples\n",
      "Epoch 1/30\n",
      "38484/38484 [==============================] - 7s 179us/step - loss: 2.1216 - acc: 0.5380 - val_loss: 1.0998 - val_acc: 0.7463\n",
      "Epoch 2/30\n",
      "38484/38484 [==============================] - 6s 155us/step - loss: 0.9790 - acc: 0.7691 - val_loss: 0.7583 - val_acc: 0.8246\n",
      "Epoch 3/30\n",
      "38484/38484 [==============================] - 6s 156us/step - loss: 0.7105 - acc: 0.8298 - val_loss: 0.6674 - val_acc: 0.8471\n",
      "Epoch 4/30\n",
      "38484/38484 [==============================] - 6s 157us/step - loss: 0.5865 - acc: 0.8567 - val_loss: 0.5727 - val_acc: 0.8662\n",
      "Epoch 5/30\n",
      "38484/38484 [==============================] - 6s 157us/step - loss: 0.4750 - acc: 0.8818 - val_loss: 0.5167 - val_acc: 0.8756\n",
      "Epoch 6/30\n",
      "38484/38484 [==============================] - 6s 154us/step - loss: 0.4132 - acc: 0.8959 - val_loss: 0.4995 - val_acc: 0.8803\n",
      "Epoch 7/30\n",
      "38484/38484 [==============================] - 6s 156us/step - loss: 0.3506 - acc: 0.9105 - val_loss: 0.4352 - val_acc: 0.8948\n",
      "Epoch 8/30\n",
      "38484/38484 [==============================] - 6s 156us/step - loss: 0.2928 - acc: 0.9268 - val_loss: 0.4554 - val_acc: 0.8906\n",
      "Epoch 9/30\n",
      "38484/38484 [==============================] - 6s 156us/step - loss: 0.2805 - acc: 0.9267 - val_loss: 0.4022 - val_acc: 0.9046\n",
      "Epoch 10/30\n",
      "38484/38484 [==============================] - 6s 157us/step - loss: 0.2320 - acc: 0.9378 - val_loss: 0.3961 - val_acc: 0.9065\n",
      "Epoch 11/30\n",
      "38484/38484 [==============================] - 6s 156us/step - loss: 0.1949 - acc: 0.9488 - val_loss: 0.4119 - val_acc: 0.8990\n",
      "Epoch 12/30\n",
      "38484/38484 [==============================] - 6s 157us/step - loss: 0.1751 - acc: 0.9536 - val_loss: 0.4122 - val_acc: 0.9025\n",
      "Epoch 13/30\n",
      "38484/38484 [==============================] - 6s 157us/step - loss: 0.1520 - acc: 0.9605 - val_loss: 0.4058 - val_acc: 0.9083\n",
      "Epoch 14/30\n",
      "38484/38484 [==============================] - 6s 158us/step - loss: 0.1382 - acc: 0.9620 - val_loss: 0.4094 - val_acc: 0.9081\n",
      "Epoch 15/30\n",
      "38484/38484 [==============================] - 6s 155us/step - loss: 0.1166 - acc: 0.9693 - val_loss: 0.4017 - val_acc: 0.9079\n",
      "Epoch 16/30\n",
      "38484/38484 [==============================] - 6s 159us/step - loss: 0.1024 - acc: 0.9733 - val_loss: 0.4003 - val_acc: 0.9074\n",
      "Epoch 17/30\n",
      "38484/38484 [==============================] - 6s 156us/step - loss: 0.0922 - acc: 0.9756 - val_loss: 0.3928 - val_acc: 0.9111\n",
      "Epoch 18/30\n",
      "38484/38484 [==============================] - 6s 156us/step - loss: 0.0905 - acc: 0.9754 - val_loss: 0.4561 - val_acc: 0.8990\n",
      "Epoch 19/30\n",
      "38484/38484 [==============================] - 6s 156us/step - loss: 0.0952 - acc: 0.9739 - val_loss: 0.4118 - val_acc: 0.9083\n",
      "Epoch 20/30\n",
      "38484/38484 [==============================] - 6s 155us/step - loss: 0.0896 - acc: 0.9757 - val_loss: 0.4178 - val_acc: 0.9137\n",
      "Epoch 21/30\n",
      "38484/38484 [==============================] - 6s 155us/step - loss: 0.0822 - acc: 0.9779 - val_loss: 0.4182 - val_acc: 0.9090\n",
      "Epoch 22/30\n",
      "38484/38484 [==============================] - 6s 156us/step - loss: 0.0718 - acc: 0.9804 - val_loss: 0.4280 - val_acc: 0.9107\n",
      "Epoch 23/30\n",
      "38484/38484 [==============================] - 6s 157us/step - loss: 0.0663 - acc: 0.9821 - val_loss: 0.4292 - val_acc: 0.9095\n",
      "Epoch 24/30\n",
      "38484/38484 [==============================] - 6s 160us/step - loss: 0.0609 - acc: 0.9829 - val_loss: 0.4268 - val_acc: 0.9088\n",
      "Epoch 25/30\n",
      "38484/38484 [==============================] - 6s 156us/step - loss: 0.0581 - acc: 0.9846 - val_loss: 0.4339 - val_acc: 0.9083\n",
      "Epoch 26/30\n",
      "38484/38484 [==============================] - 6s 155us/step - loss: 0.0526 - acc: 0.9857 - val_loss: 0.4244 - val_acc: 0.9123\n",
      "Epoch 27/30\n",
      "38484/38484 [==============================] - 6s 155us/step - loss: 0.0499 - acc: 0.9860 - val_loss: 0.4412 - val_acc: 0.9090\n",
      "Epoch 28/30\n",
      "38484/38484 [==============================] - 6s 157us/step - loss: 0.0570 - acc: 0.9837 - val_loss: 0.4589 - val_acc: 0.9051\n",
      "Epoch 29/30\n",
      "38484/38484 [==============================] - 6s 155us/step - loss: 0.0588 - acc: 0.9828 - val_loss: 0.4548 - val_acc: 0.9058\n",
      "Epoch 30/30\n",
      "38484/38484 [==============================] - 6s 156us/step - loss: 0.0574 - acc: 0.9834 - val_loss: 0.4487 - val_acc: 0.9076\n",
      "Training completed on 2020-04-23, 19-52\n"
     ]
    }
   ],
   "source": [
    "# Fit dataset\n",
    "tensorboard_callback6 = keras.callbacks.TensorBoard(os.path.join(model_dir+'logs','model6'))\n",
    "history6 = model6.fit(X_train, \n",
    "                      y_train, \n",
    "                      validation_data=(X_test, y_test), \n",
    "                      batch_size=batch_size, \n",
    "                      epochs=epochs, \n",
    "                      verbose=1, \n",
    "                      callbacks=[tensorboard_callback6])\n",
    "model6.save(model_dir+'model6.h5')\n",
    "print(f\"Training completed on {datetime.datetime.now().strftime('%Y-%m-%d, %H-%M')}\")\n",
    "\n",
    "# store logs to csv file\n",
    "df_history6 = pd.DataFrame(data=history6.history)\n",
    "df_history6.to_csv(model_logs+'logs_model6.csv')"
   ]
  },
  {
   "cell_type": "markdown",
   "metadata": {},
   "source": [
    "Metrics"
   ]
  },
  {
   "cell_type": "code",
   "execution_count": 200,
   "metadata": {},
   "outputs": [],
   "source": [
    "# to load model use\n",
    "model6 = load_model(model_dir+'model6.h5')"
   ]
  },
  {
   "cell_type": "code",
   "execution_count": 201,
   "metadata": {},
   "outputs": [],
   "source": [
    "res = model6.predict(X_test)"
   ]
  },
  {
   "cell_type": "code",
   "execution_count": 202,
   "metadata": {},
   "outputs": [],
   "source": [
    "# convert predictions from one hot encoded to label value\n",
    "y_pred = convert_pred_list_ohe_to_labels(res, threshold=0.001, get_max=True)\n",
    "# convert test values from one hot encoded to label value\n",
    "y_true = convert_pred_list_ohe_to_labels(y_test, threshold=0.9, get_max=True)"
   ]
  },
  {
   "cell_type": "markdown",
   "metadata": {},
   "source": [
    "Confusion Matrix"
   ]
  },
  {
   "cell_type": "code",
   "execution_count": 203,
   "metadata": {},
   "outputs": [
    {
     "data": {
      "image/png": "[encoded data removed]",
      "text/plain": [
       "<Figure size 1440x1440 with 2 Axes>"
      ]
     },
     "metadata": {
      "needs_background": "light"
     },
     "output_type": "display_data"
    }
   ],
   "source": [
    "# Spectral Color Map used: Violet means 1, Red means -1 and Yellow means 0\n",
    "cfs6 = confusion_matrix(y_true, y_pred)\n",
    "plt.figure(figsize=(20,20))\n",
    "sn.heatmap(cfs6, cmap=\"Blues\", robust=True)\n",
    "plt.show()"
   ]
  },
  {
   "cell_type": "markdown",
   "metadata": {},
   "source": [
    "Multiclass Precision, Recall and Accuracy"
   ]
  },
  {
   "cell_type": "code",
   "execution_count": 204,
   "metadata": {},
   "outputs": [
    {
     "name": "stdout",
     "output_type": "stream",
     "text": [
      "              precision    recall  f1-score   support\n",
      "\n",
      "           0       0.80      1.00      0.89        16\n",
      "           1       1.00      0.50      0.67         6\n",
      "           2       0.83      0.77      0.80        13\n",
      "           3       1.00      0.83      0.91         6\n",
      "           4       0.57      0.80      0.67         5\n",
      "           5       1.00      0.33      0.50         6\n",
      "           6       0.86      1.00      0.92        12\n",
      "           7       1.00      0.67      0.80         6\n",
      "           8       0.88      0.70      0.78        10\n",
      "           9       0.89      0.80      0.84        10\n",
      "          10       0.90      0.90      0.90        10\n",
      "          11       1.00      0.91      0.95        11\n",
      "          12       0.79      0.92      0.85        12\n",
      "          13       0.88      0.70      0.78        10\n",
      "          14       0.45      0.62      0.53         8\n",
      "          15       0.80      0.57      0.67         7\n",
      "          16       1.00      0.71      0.83         7\n",
      "          17       0.80      1.00      0.89         8\n",
      "          18       0.43      0.50      0.46         6\n",
      "          19       0.80      0.67      0.73         6\n",
      "          20       0.00      0.00      0.00         6\n",
      "          21       0.60      0.50      0.55         6\n",
      "          22       0.75      0.50      0.60         6\n",
      "          23       0.50      0.40      0.44         5\n",
      "          24       1.00      0.67      0.80         6\n",
      "          25       1.00      0.50      0.67         6\n",
      "          26       0.62      0.77      0.69        13\n",
      "          27       0.82      0.75      0.78        12\n",
      "          28       0.75      0.75      0.75        12\n",
      "          29       0.69      0.75      0.72        12\n",
      "          30       0.83      0.83      0.83         6\n",
      "          31       0.67      0.50      0.57         8\n",
      "          32       0.67      0.60      0.63        10\n",
      "          33       0.86      0.86      0.86         7\n",
      "          34       0.57      0.67      0.62        12\n",
      "          35       0.43      0.33      0.38         9\n",
      "          36       0.89      0.92      0.90       112\n",
      "          37       0.83      0.56      0.67         9\n",
      "          38       1.00      0.83      0.91         6\n",
      "          39       0.50      0.29      0.36         7\n",
      "          40       1.00      0.83      0.91         6\n",
      "          41       0.67      0.33      0.44         6\n",
      "          42       0.71      0.71      0.71         7\n",
      "          43       0.25      0.17      0.20         6\n",
      "          44       1.00      0.50      0.67         6\n",
      "          45       1.00      0.83      0.91         6\n",
      "          46       1.00      0.80      0.89         5\n",
      "          47       0.83      0.83      0.83         6\n",
      "          48       0.17      0.17      0.17         6\n",
      "          49       0.50      0.17      0.25         6\n",
      "          50       1.00      0.50      0.67         6\n",
      "          51       1.00      0.17      0.29         6\n",
      "          52       0.67      0.80      0.73         5\n",
      "          53       0.67      0.29      0.40         7\n",
      "          54       0.75      0.50      0.60         6\n",
      "          55       0.00      0.00      0.00         6\n",
      "          56       0.50      0.50      0.50         6\n",
      "          57       0.75      0.50      0.60         6\n",
      "          58       0.67      0.67      0.67         6\n",
      "          59       0.00      0.00      0.00         7\n",
      "          60       0.57      0.67      0.62         6\n",
      "          61       0.50      0.17      0.25         6\n",
      "          62       0.90      0.95      0.92       191\n",
      "          63       0.87      0.90      0.89       114\n",
      "          64       0.91      0.89      0.90       124\n",
      "          65       0.99      0.97      0.98       100\n",
      "          66       0.86      0.93      0.90        69\n",
      "          67       0.88      0.91      0.89        65\n",
      "          68       0.90      0.67      0.77        54\n",
      "          69       0.95      0.95      0.95       100\n",
      "          70       0.92      0.96      0.94       115\n",
      "          71       0.95      0.94      0.94        80\n",
      "          72       0.84      0.96      0.89        69\n",
      "          73       0.90      0.93      0.91        69\n",
      "          74       0.93      0.84      0.88        63\n",
      "          75       0.96      0.99      0.97        75\n",
      "          76       0.93      0.90      0.91       105\n",
      "          77       0.92      0.98      0.95        87\n",
      "          78       0.65      1.00      0.79        11\n",
      "          79       0.60      0.60      0.60        10\n",
      "          80       0.89      0.99      0.94        77\n",
      "          81       0.91      0.98      0.94        41\n",
      "          82       0.93      1.00      0.97       157\n",
      "          83       1.00      0.92      0.96        12\n",
      "          84       0.82      1.00      0.90         9\n",
      "          85       0.89      0.82      0.85        39\n",
      "          86       0.91      0.91      0.91       114\n",
      "          87       0.97      0.88      0.92        32\n",
      "          88       0.89      0.91      0.90       129\n",
      "          89       0.94      0.94      0.94       107\n",
      "          90       0.91      0.80      0.85        89\n",
      "          91       0.96      0.98      0.97        92\n",
      "          92       0.92      0.96      0.94       151\n",
      "          93       0.91      0.93      0.92        56\n",
      "          94       1.00      0.94      0.97        33\n",
      "          95       0.96      1.00      0.98       110\n",
      "          96       0.98      0.98      0.98       110\n",
      "          97       0.94      0.98      0.96       214\n",
      "          98       0.99      0.99      0.99       140\n",
      "          99       0.97      0.97      0.97        92\n",
      "         100       0.89      0.96      0.93        26\n",
      "         101       0.86      1.00      0.92        37\n",
      "         102       0.95      0.98      0.96       291\n",
      "         103       0.97      0.91      0.94        33\n",
      "         104       1.00      1.00      1.00         2\n",
      "         105       1.00      1.00      1.00         2\n",
      "         106       1.00      1.00      1.00         2\n",
      "\n",
      "    accuracy                           0.91      4276\n",
      "   macro avg       0.80      0.74      0.76      4276\n",
      "weighted avg       0.90      0.91      0.90      4276\n",
      "\n"
     ]
    }
   ],
   "source": [
    "cr6 = classification_report(y_true, y_pred, digits=2)\n",
    "print(cr6)\n",
    "cr6 = classification_report(y_true, y_pred, digits=4, output_dict=True)"
   ]
  },
  {
   "cell_type": "code",
   "execution_count": 205,
   "metadata": {},
   "outputs": [],
   "source": [
    "# Use this line before each model training to save memory\n",
    "del model6, history6, tensorboard_callback6, res"
   ]
  },
  {
   "cell_type": "markdown",
   "metadata": {},
   "source": [
    "## T Test (Comparison Test)"
   ]
  },
  {
   "cell_type": "code",
   "execution_count": 23,
   "metadata": {},
   "outputs": [
    {
     "data": {
      "text/plain": [
       "(4276, 1, 32, 32)"
      ]
     },
     "execution_count": 23,
     "metadata": {},
     "output_type": "execute_result"
    }
   ],
   "source": [
    "X_test.shape"
   ]
  },
  {
   "cell_type": "code",
   "execution_count": 47,
   "metadata": {},
   "outputs": [],
   "source": [
    "sym2latex = {i.Index : i.latex for i in symbols.itertuples()}\n",
    "latex2sym = {v: k for k, v in sym2latex.items()}"
   ]
  },
  {
   "cell_type": "code",
   "execution_count": 48,
   "metadata": {},
   "outputs": [
    {
     "data": {
      "text/plain": [
       "\"\\nms = [('model6.h5', 1)]\\nmodels = [(load_model(model_dir+i_[0]), i_[1]) for i_ in ms]\\n\""
      ]
     },
     "execution_count": 48,
     "metadata": {},
     "output_type": "execute_result"
    }
   ],
   "source": [
    "\n",
    "ms = [\n",
    "    ('model1.h5', 1),\n",
    "    ('model2.h5', 1),\n",
    "    ('model3.h5', 1),\n",
    "    ('model4.h5', 0),\n",
    "    ('model5.h5', 0),\n",
    "    ('model6.h5', 1),\n",
    "]\n",
    "models = [(load_model(model_dir+i_[0]), i_[1]) for i_ in ms]\n",
    "\"\"\"\n",
    "ms = [('model6.h5', 1)]\n",
    "models = [(load_model(model_dir+i_[0]), i_[1]) for i_ in ms]\n",
    "\"\"\""
   ]
  },
  {
   "cell_type": "code",
   "execution_count": 49,
   "metadata": {},
   "outputs": [
    {
     "name": "stdout",
     "output_type": "stream",
     "text": [
      "Predictng labels for Model 1\n",
      "Predictng labels for Model 2\n",
      "Predictng labels for Model 3\n",
      "Predictng labels for Model 4\n",
      "Predictng labels for Model 5\n",
      "Predictng labels for Model 6\n",
      "Predictions Done\n",
      "Comparing Results...\n",
      "Done\n"
     ]
    },
    {
     "data": {
      "text/html": [
       "<div>\n",
       "<style scoped>\n",
       "    .dataframe tbody tr th:only-of-type {\n",
       "        vertical-align: middle;\n",
       "    }\n",
       "\n",
       "    .dataframe tbody tr th {\n",
       "        vertical-align: top;\n",
       "    }\n",
       "\n",
       "    .dataframe thead th {\n",
       "        text-align: right;\n",
       "    }\n",
       "</style>\n",
       "<table border=\"1\" class=\"dataframe\">\n",
       "  <thead>\n",
       "    <tr style=\"text-align: right;\">\n",
       "      <th></th>\n",
       "      <th>symbol</th>\n",
       "      <th>latex</th>\n",
       "      <th>model1</th>\n",
       "      <th>model2</th>\n",
       "      <th>model3</th>\n",
       "      <th>model4</th>\n",
       "      <th>model5</th>\n",
       "      <th>model6</th>\n",
       "    </tr>\n",
       "  </thead>\n",
       "  <tbody>\n",
       "    <tr>\n",
       "      <th>0</th>\n",
       "      <td>80</td>\n",
       "      <td>\\subset</td>\n",
       "      <td>\\subset</td>\n",
       "      <td>\\subset</td>\n",
       "      <td>\\subset</td>\n",
       "      <td>\\subset</td>\n",
       "      <td>\\subset</td>\n",
       "      <td>\\subset</td>\n",
       "    </tr>\n",
       "    <tr>\n",
       "      <th>1</th>\n",
       "      <td>81</td>\n",
       "      <td>\\supset</td>\n",
       "      <td>\\supset</td>\n",
       "      <td>\\supset</td>\n",
       "      <td>\\supset</td>\n",
       "      <td>\\supset</td>\n",
       "      <td>\\supset</td>\n",
       "      <td>\\supset</td>\n",
       "    </tr>\n",
       "    <tr>\n",
       "      <th>2</th>\n",
       "      <td>74</td>\n",
       "      <td>\\omega</td>\n",
       "      <td>1</td>\n",
       "      <td>0</td>\n",
       "      <td>0</td>\n",
       "      <td>0</td>\n",
       "      <td>\\theta</td>\n",
       "      <td>0</td>\n",
       "    </tr>\n",
       "    <tr>\n",
       "      <th>3</th>\n",
       "      <td>63</td>\n",
       "      <td>\\gamma</td>\n",
       "      <td>\\gamma</td>\n",
       "      <td>\\gamma</td>\n",
       "      <td>\\gamma</td>\n",
       "      <td>\\gamma</td>\n",
       "      <td>\\gamma</td>\n",
       "      <td>\\gamma</td>\n",
       "    </tr>\n",
       "    <tr>\n",
       "      <th>4</th>\n",
       "      <td>101</td>\n",
       "      <td>\\|</td>\n",
       "      <td>\\|</td>\n",
       "      <td>\\|</td>\n",
       "      <td>\\|</td>\n",
       "      <td>\\|</td>\n",
       "      <td>\\|</td>\n",
       "      <td>\\|</td>\n",
       "    </tr>\n",
       "  </tbody>\n",
       "</table>\n",
       "</div>"
      ],
      "text/plain": [
       "  symbol    latex   model1   model2   model3   model4   model5   model6\n",
       "0     80  \\subset  \\subset  \\subset  \\subset  \\subset  \\subset  \\subset\n",
       "1     81  \\supset  \\supset  \\supset  \\supset  \\supset  \\supset  \\supset\n",
       "2     74   \\omega        1        0        0        0   \\theta        0\n",
       "3     63   \\gamma   \\gamma   \\gamma   \\gamma   \\gamma   \\gamma   \\gamma\n",
       "4    101       \\|       \\|       \\|       \\|       \\|       \\|       \\|"
      ]
     },
     "execution_count": 49,
     "metadata": {},
     "output_type": "execute_result"
    }
   ],
   "source": [
    "ttest = t_test(X_test, y_test, models=models, sym2latex_dict=sym2latex)\n",
    "ttest.head()"
   ]
  },
  {
   "cell_type": "code",
   "execution_count": 50,
   "metadata": {},
   "outputs": [
    {
     "data": {
      "text/html": [
       "<div>\n",
       "<style scoped>\n",
       "    .dataframe tbody tr th:only-of-type {\n",
       "        vertical-align: middle;\n",
       "    }\n",
       "\n",
       "    .dataframe tbody tr th {\n",
       "        vertical-align: top;\n",
       "    }\n",
       "\n",
       "    .dataframe thead th {\n",
       "        text-align: right;\n",
       "    }\n",
       "</style>\n",
       "<table border=\"1\" class=\"dataframe\">\n",
       "  <thead>\n",
       "    <tr style=\"text-align: right;\">\n",
       "      <th></th>\n",
       "      <th>latex</th>\n",
       "      <th>total_count</th>\n",
       "      <th>model1</th>\n",
       "      <th>model2</th>\n",
       "      <th>model3</th>\n",
       "      <th>model4</th>\n",
       "      <th>model5</th>\n",
       "      <th>model6</th>\n",
       "      <th>model1_acc</th>\n",
       "      <th>model2_acc</th>\n",
       "      <th>model3_acc</th>\n",
       "      <th>model4_acc</th>\n",
       "      <th>model5_acc</th>\n",
       "      <th>model6_acc</th>\n",
       "    </tr>\n",
       "  </thead>\n",
       "  <tbody>\n",
       "    <tr>\n",
       "      <th>0</th>\n",
       "      <td>A</td>\n",
       "      <td>16</td>\n",
       "      <td>16</td>\n",
       "      <td>15</td>\n",
       "      <td>16</td>\n",
       "      <td>16</td>\n",
       "      <td>13</td>\n",
       "      <td>16</td>\n",
       "      <td>100.00</td>\n",
       "      <td>93.75</td>\n",
       "      <td>100.00</td>\n",
       "      <td>100.00</td>\n",
       "      <td>81.25</td>\n",
       "      <td>100.00</td>\n",
       "    </tr>\n",
       "    <tr>\n",
       "      <th>1</th>\n",
       "      <td>B</td>\n",
       "      <td>6</td>\n",
       "      <td>2</td>\n",
       "      <td>4</td>\n",
       "      <td>5</td>\n",
       "      <td>2</td>\n",
       "      <td>0</td>\n",
       "      <td>3</td>\n",
       "      <td>33.33</td>\n",
       "      <td>66.67</td>\n",
       "      <td>83.33</td>\n",
       "      <td>33.33</td>\n",
       "      <td>0.00</td>\n",
       "      <td>50.00</td>\n",
       "    </tr>\n",
       "    <tr>\n",
       "      <th>2</th>\n",
       "      <td>C</td>\n",
       "      <td>13</td>\n",
       "      <td>11</td>\n",
       "      <td>11</td>\n",
       "      <td>11</td>\n",
       "      <td>9</td>\n",
       "      <td>0</td>\n",
       "      <td>11</td>\n",
       "      <td>84.62</td>\n",
       "      <td>84.62</td>\n",
       "      <td>84.62</td>\n",
       "      <td>69.23</td>\n",
       "      <td>0.00</td>\n",
       "      <td>84.62</td>\n",
       "    </tr>\n",
       "    <tr>\n",
       "      <th>3</th>\n",
       "      <td>D</td>\n",
       "      <td>6</td>\n",
       "      <td>6</td>\n",
       "      <td>5</td>\n",
       "      <td>6</td>\n",
       "      <td>6</td>\n",
       "      <td>3</td>\n",
       "      <td>5</td>\n",
       "      <td>100.00</td>\n",
       "      <td>83.33</td>\n",
       "      <td>100.00</td>\n",
       "      <td>100.00</td>\n",
       "      <td>50.00</td>\n",
       "      <td>83.33</td>\n",
       "    </tr>\n",
       "    <tr>\n",
       "      <th>4</th>\n",
       "      <td>E</td>\n",
       "      <td>5</td>\n",
       "      <td>4</td>\n",
       "      <td>4</td>\n",
       "      <td>4</td>\n",
       "      <td>4</td>\n",
       "      <td>0</td>\n",
       "      <td>3</td>\n",
       "      <td>80.00</td>\n",
       "      <td>80.00</td>\n",
       "      <td>80.00</td>\n",
       "      <td>80.00</td>\n",
       "      <td>0.00</td>\n",
       "      <td>60.00</td>\n",
       "    </tr>\n",
       "  </tbody>\n",
       "</table>\n",
       "</div>"
      ],
      "text/plain": [
       "  latex total_count model1 model2 model3 model4 model5 model6  model1_acc  \\\n",
       "0     A          16     16     15     16     16     13     16      100.00   \n",
       "1     B           6      2      4      5      2      0      3       33.33   \n",
       "2     C          13     11     11     11      9      0     11       84.62   \n",
       "3     D           6      6      5      6      6      3      5      100.00   \n",
       "4     E           5      4      4      4      4      0      3       80.00   \n",
       "\n",
       "   model2_acc  model3_acc  model4_acc  model5_acc  model6_acc  \n",
       "0       93.75      100.00      100.00       81.25      100.00  \n",
       "1       66.67       83.33       33.33        0.00       50.00  \n",
       "2       84.62       84.62       69.23        0.00       84.62  \n",
       "3       83.33      100.00      100.00       50.00       83.33  \n",
       "4       80.00       80.00       80.00        0.00       60.00  "
      ]
     },
     "execution_count": 50,
     "metadata": {},
     "output_type": "execute_result"
    }
   ],
   "source": [
    "t_test_report = create_t_test_report(ttest)\n",
    "t_test_report.head()"
   ]
  },
  {
   "cell_type": "markdown",
   "metadata": {},
   "source": [
    "# Plots"
   ]
  },
  {
   "cell_type": "markdown",
   "metadata": {},
   "source": [
    "#### Train-Test Accuracy plots"
   ]
  },
  {
   "cell_type": "code",
   "execution_count": 305,
   "metadata": {},
   "outputs": [],
   "source": [
    "df_history1 = pd.read_csv(model_logs+'logs_model1.csv').drop(['Unnamed: 0'], axis=1).reset_index(drop=True)\n",
    "df_history2 = pd.read_csv(model_logs+'logs_model2.csv').drop(['Unnamed: 0'], axis=1).reset_index(drop=True)\n",
    "df_history3 = pd.read_csv(model_logs+'logs_model3.csv').drop(['Unnamed: 0'], axis=1).reset_index(drop=True)\n",
    "df_history4 = pd.read_csv(model_logs+'logs_model4.csv').drop(['Unnamed: 0'], axis=1).reset_index(drop=True)\n",
    "df_history5 = pd.read_csv(model_logs+'logs_model5.csv').drop(['Unnamed: 0'], axis=1).reset_index(drop=True)\n",
    "df_history6 = pd.read_csv(model_logs+'logs_model6.csv').drop(['Unnamed: 0'], axis=1).reset_index(drop=True)"
   ]
  },
  {
   "cell_type": "code",
   "execution_count": 337,
   "metadata": {},
   "outputs": [],
   "source": [
    "def draw_train_test_plot(df_, modelno=0):\n",
    "    plt.figure(figsize=(10, 5))\n",
    "    plt.plot(df_['acc'], label='Train Accuracy')\n",
    "    plt.plot(df_['val_acc'], label='Validation Accuracy')\n",
    "    plt.title(f'Train Validation Accuracy Plot for Model {modelno}')\n",
    "    plt.xlabel('Epoch')\n",
    "    plt.ylabel('Accuracy')\n",
    "    plt.ylim([0.5, 1.05])\n",
    "    plt.legend(loc='lower right')\n",
    "    plt.savefig(plot_dir+f'train_test_plot_model_{modelno}', bbox_inches='tight')\n",
    "    plt.show()"
   ]
  },
  {
   "cell_type": "code",
   "execution_count": 338,
   "metadata": {},
   "outputs": [
    {
     "data": {
      "image/png": "[encoded data removed]",
      "text/plain": [
       "<Figure size 720x360 with 1 Axes>"
      ]
     },
     "metadata": {
      "needs_background": "light"
     },
     "output_type": "display_data"
    }
   ],
   "source": [
    "draw_train_test_plot(df_history1, 1)"
   ]
  },
  {
   "cell_type": "code",
   "execution_count": 339,
   "metadata": {},
   "outputs": [
    {
     "data": {
      "image/png": "[encoded data removed]",
      "text/plain": [
       "<Figure size 720x360 with 1 Axes>"
      ]
     },
     "metadata": {
      "needs_background": "light"
     },
     "output_type": "display_data"
    }
   ],
   "source": [
    "draw_train_test_plot(df_history2, 2)"
   ]
  },
  {
   "cell_type": "code",
   "execution_count": 340,
   "metadata": {},
   "outputs": [
    {
     "data": {
      "image/png": "[encoded data removed]",
      "text/plain": [
       "<Figure size 720x360 with 1 Axes>"
      ]
     },
     "metadata": {
      "needs_background": "light"
     },
     "output_type": "display_data"
    }
   ],
   "source": [
    "draw_train_test_plot(df_history3, 3)"
   ]
  },
  {
   "cell_type": "code",
   "execution_count": 341,
   "metadata": {},
   "outputs": [
    {
     "data": {
      "image/png": "[encoded data removed]",
      "text/plain": [
       "<Figure size 720x360 with 1 Axes>"
      ]
     },
     "metadata": {
      "needs_background": "light"
     },
     "output_type": "display_data"
    }
   ],
   "source": [
    "draw_train_test_plot(df_history4, 4)"
   ]
  },
  {
   "cell_type": "code",
   "execution_count": 342,
   "metadata": {},
   "outputs": [
    {
     "data": {
      "image/png": "[encoded data removed]",
      "text/plain": [
       "<Figure size 720x360 with 1 Axes>"
      ]
     },
     "metadata": {
      "needs_background": "light"
     },
     "output_type": "display_data"
    }
   ],
   "source": [
    "draw_train_test_plot(df_history5, 5)"
   ]
  },
  {
   "cell_type": "code",
   "execution_count": 343,
   "metadata": {},
   "outputs": [
    {
     "data": {
      "image/png": "[encoded data removed]",
      "text/plain": [
       "<Figure size 720x360 with 1 Axes>"
      ]
     },
     "metadata": {
      "needs_background": "light"
     },
     "output_type": "display_data"
    }
   ],
   "source": [
    "draw_train_test_plot(df_history6, 6)"
   ]
  },
  {
   "cell_type": "markdown",
   "metadata": {},
   "source": [
    "Find the model which scored highest F1-score for each class"
   ]
  },
  {
   "cell_type": "code",
   "execution_count": 298,
   "metadata": {},
   "outputs": [],
   "source": [
    "# find model with highest f1 scores\n",
    "df_f1 =  pd.DataFrame(data = symbols['latex'])\n",
    "df_f1['model'] = [[-1] for i in range(len(df_f1))]\n",
    "df_f1['f1-score'] = [-1 for i in range(len(df_f1))]\n",
    "\n",
    "for i in range(len(df_f1)):\n",
    "    for m, j in enumerate([df_cr1, df_cr2, df_cr3, df_cr4, df_cr5, df_cr6]):\n",
    "        if j.loc[i, 'f1-score'] > df_f1.loc[i, 'f1-score']:\n",
    "            df_f1['model'][i] = [m+1]\n",
    "            df_f1.loc[i, 'f1-score'] = j.loc[i, 'f1-score']\n",
    "        elif j.loc[i, 'f1-score'] == df_f1.loc[i, 'f1-score']:\n",
    "            df_f1['model'][i].append(m+1)"
   ]
  },
  {
   "cell_type": "code",
   "execution_count": 299,
   "metadata": {},
   "outputs": [],
   "source": [
    "m_count = {k:0 for k in range(1, 7)}\n",
    "for i in df_f1['model']:\n",
    "    for j in i:\n",
    "        m_count[j] += 1"
   ]
  },
  {
   "cell_type": "code",
   "execution_count": 300,
   "metadata": {},
   "outputs": [
    {
     "name": "stdout",
     "output_type": "stream",
     "text": [
      "{1: 19, 2: 36, 3: 67, 4: 18, 5: 1, 6: 11}\n"
     ]
    }
   ],
   "source": [
    "pprint(m_count)"
   ]
  },
  {
   "cell_type": "markdown",
   "metadata": {},
   "source": [
    "#### Comparison of validation accuracy"
   ]
  },
  {
   "cell_type": "code",
   "execution_count": 8,
   "metadata": {},
   "outputs": [],
   "source": [
    "log_dir = model_dir + 'logs/'"
   ]
  },
  {
   "cell_type": "code",
   "execution_count": 13,
   "metadata": {},
   "outputs": [],
   "source": [
    "df_history1 = pd.read_csv(log_dir+'logs_model1.csv').drop('Unnamed: 0', axis=1).reset_index(drop=True)\n",
    "df_history2 = pd.read_csv(log_dir+'logs_model2.csv').drop('Unnamed: 0', axis=1).reset_index(drop=True)\n",
    "df_history3 = pd.read_csv(log_dir+'logs_model3.csv').drop('Unnamed: 0', axis=1).reset_index(drop=True)\n",
    "df_history4 = pd.read_csv(log_dir+'logs_model4.csv').drop('Unnamed: 0', axis=1).reset_index(drop=True)\n",
    "df_history5 = pd.read_csv(log_dir+'logs_model5.csv').drop('Unnamed: 0', axis=1).reset_index(drop=True)\n",
    "df_history6 = pd.read_csv(log_dir+\"logs_model6.csv\").drop('Unnamed: 0', axis=1).reset_index(drop=True)"
   ]
  },
  {
   "cell_type": "code",
   "execution_count": 20,
   "metadata": {},
   "outputs": [
    {
     "data": {
      "image/png": "[encoded data removed]",
      "text/plain": [
       "<Figure size 720x360 with 1 Axes>"
      ]
     },
     "metadata": {
      "needs_background": "light"
     },
     "output_type": "display_data"
    }
   ],
   "source": [
    "plt.figure(figsize=(10, 5))\n",
    "plt.plot(df_history1['val_acc'], label='Model 1')\n",
    "plt.plot(df_history2['val_acc'], label='Model 2')\n",
    "plt.plot(df_history3['val_acc'], label='Model 3')\n",
    "plt.plot(df_history4['val_acc'], label='Model 4')\n",
    "plt.plot(df_history5['val_acc'], label='Model 5')\n",
    "plt.plot(df_history6['val_acc'], label='Model 6')\n",
    "plt.title('Comparison for Validation/Test Accuracy')\n",
    "plt.xlabel('Epoch')\n",
    "plt.ylabel('Accuracy')\n",
    "plt.ylim([0.5, 1.05])\n",
    "plt.legend(loc='lower right')\n",
    "plt.savefig(plot_dir+'val_acc_comparison_plot.png', bbox_inches='tight')\n",
    "plt.show()"
   ]
  },
  {
   "cell_type": "code",
   "execution_count": 21,
   "metadata": {},
   "outputs": [
    {
     "data": {
      "image/png": "[encoded data removed]",
      "text/plain": [
       "<Figure size 720x360 with 1 Axes>"
      ]
     },
     "metadata": {
      "needs_background": "light"
     },
     "output_type": "display_data"
    }
   ],
   "source": [
    "plt.figure(figsize=(10, 5))\n",
    "plt.plot(df_history1['acc'], label='Model 1')\n",
    "plt.plot(df_history2['acc'], label='Model 2')\n",
    "plt.plot(df_history3['acc'], label='Model 3')\n",
    "plt.plot(df_history4['acc'], label='Model 4')\n",
    "plt.plot(df_history5['acc'], label='Model 5')\n",
    "plt.plot(df_history6['acc'], label='Model 6')\n",
    "plt.title('Comparison between Train Accuracy')\n",
    "plt.xlabel('Epoch')\n",
    "plt.ylabel('Accuracy')\n",
    "plt.ylim([0.5, 1.05])\n",
    "plt.legend(loc='lower right')\n",
    "plt.savefig(plot_dir+'train_acc_comparison_plot.png', bbox_inches='tight')\n",
    "plt.show()"
   ]
  },
  {
   "cell_type": "code",
   "execution_count": null,
   "metadata": {},
   "outputs": [],
   "source": []
  }
 ],
 "metadata": {
  "kernelspec": {
   "display_name": "Python 3",
   "language": "python",
   "name": "python3"
  },
  "language_info": {
   "codemirror_mode": {
    "name": "ipython",
    "version": 3
   },
   "file_extension": ".py",
   "mimetype": "text/x-python",
   "name": "python",
   "nbconvert_exporter": "python",
   "pygments_lexer": "ipython3",
   "version": "3.6.9"
  }
 },
 "nbformat": 4,
 "nbformat_minor": 4
}
