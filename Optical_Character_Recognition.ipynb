{
 "cells": [
  {
   "cell_type": "code",
   "execution_count": 1,
   "metadata": {},
   "outputs": [],
   "source": [
    "!set PYTHONPATH=D:\\SharedLinux_D\\CPSC_597\\OCR_Math_Expressions\\models\\research;D:\\SharedLinux_D\\CPSC_597\\OCR_Math_Expressions\\models\\research\\slim"
   ]
  },
  {
   "cell_type": "code",
   "execution_count": 2,
   "metadata": {},
   "outputs": [
    {
     "name": "stderr",
     "output_type": "stream",
     "text": [
      "Using TensorFlow backend.\n"
     ]
    }
   ],
   "source": [
    "import warnings\n",
    "warnings.filterwarnings('ignore')\n",
    "\n",
    "import numpy as np\n",
    "import os\n",
    "import sys\n",
    "import tensorflow as tf\n",
    "import zipfile\n",
    "import cv2\n",
    "import time\n",
    "from matplotlib import pyplot as plt\n",
    "from PIL import Image\n",
    "import glob\n",
    "import pandas as pd\n",
    "import keras\n",
    "from keras.models import load_model\n",
    "from keras import backend as K\n",
    "import lxml.etree as ET\n",
    "from syntactical_analysis.lexer import Lexer\n",
    "from syntactical_analysis.parser import Parser\n",
    "from syntactical_analysis.code_gen import CodeGenerator\n",
    "from itertools import product\n",
    "from utils import one_hot_encode_to_char, one_hot_encode_to_char_list\n",
    "from pprint import pprint\n",
    "from IPython.display import display, Markdown, Latex\n",
    "K.set_image_data_format('channels_first')\n",
    "%matplotlib inline"
   ]
  },
  {
   "cell_type": "code",
   "execution_count": 3,
   "metadata": {},
   "outputs": [],
   "source": [
    "# turn off tensorflow INFO (Debugging info)\n",
    "os.environ['TF_CPP_MIN_LOG_LEVEL'] = '3' "
   ]
  },
  {
   "cell_type": "code",
   "execution_count": 4,
   "metadata": {},
   "outputs": [],
   "source": [
    "OD_PATH = 'models/research/object_detection/'\n",
    "\n",
    "# append object_detection dir\n",
    "sys.path.append(OD_PATH+\"..\")\n",
    "from object_detection.utils import ops as utils_ops\n",
    "# od imports\n",
    "from object_detection.utils import label_map_util\n",
    "from object_detection.utils import visualization_utils as vis_util"
   ]
  },
  {
   "cell_type": "code",
   "execution_count": 5,
   "metadata": {},
   "outputs": [],
   "source": [
    "# Object Detection Helpers\n",
    "def load_image_into_numpy_array(image):\n",
    "    (im_width, im_height) = image.size\n",
    "    return np.array(image.getdata()).reshape((im_height, im_width, 3)).astype(np.uint8)\n",
    "\n",
    "def run_inference_for_single_image(image, graph):\n",
    "    with graph.as_default():\n",
    "        with tf.Session() as sess:\n",
    "            # Get handles to input and output tensors\n",
    "            ops = tf.get_default_graph().get_operations()\n",
    "            all_tensor_names = {output.name for op in ops for output in op.outputs}\n",
    "            tensor_dict = {}\n",
    "            for key in [\n",
    "              'num_detections', 'detection_boxes', 'detection_scores',\n",
    "              'detection_classes', 'detection_masks'\n",
    "            ]:\n",
    "                tensor_name = key + ':0'\n",
    "                if tensor_name in all_tensor_names:\n",
    "                    tensor_dict[key] = tf.get_default_graph().get_tensor_by_name(tensor_name)\n",
    "            if 'detection_masks' in tensor_dict:\n",
    "                # The following processing is only for single image\n",
    "                detection_boxes = tf.squeeze(tensor_dict['detection_boxes'], [0])\n",
    "                detection_masks = tf.squeeze(tensor_dict['detection_masks'], [0])\n",
    "                # Reframe is required to translate mask from box coordinates to image coordinates and fit the image size.\n",
    "                real_num_detection = tf.cast(tensor_dict['num_detections'][0], tf.int32)\n",
    "                detection_boxes = tf.slice(detection_boxes, [0, 0], [real_num_detection, -1])\n",
    "                detection_masks = tf.slice(detection_masks, [0, 0, 0], [real_num_detection, -1, -1])\n",
    "                detection_masks_reframed = utils_ops.reframe_box_masks_to_image_masks(\n",
    "                    detection_masks, detection_boxes, image.shape[0], image.shape[1])\n",
    "                detection_masks_reframed = tf.cast(\n",
    "                    tf.greater(detection_masks_reframed, 0.5), tf.uint8)\n",
    "                # Follow the convention by adding back the batch dimension\n",
    "                tensor_dict['detection_masks'] = tf.expand_dims(\n",
    "                    detection_masks_reframed, 0)\n",
    "            image_tensor = tf.get_default_graph().get_tensor_by_name('image_tensor:0')\n",
    "\n",
    "            # Run inference\n",
    "            output_dict = sess.run(tensor_dict,\n",
    "                                 feed_dict={image_tensor: np.expand_dims(image, 0)})\n",
    "\n",
    "            # all outputs are float32 numpy arrays, so convert types as appropriate\n",
    "            output_dict['num_detections'] = int(output_dict['num_detections'][0])\n",
    "            output_dict['detection_classes'] = output_dict[\n",
    "              'detection_classes'][0].astype(np.uint8)\n",
    "            output_dict['detection_boxes'] = output_dict['detection_boxes'][0]\n",
    "            output_dict['detection_scores'] = output_dict['detection_scores'][0]\n",
    "            if 'detection_masks' in output_dict:\n",
    "                output_dict['detection_masks'] = output_dict['detection_masks'][0]\n",
    "    return output_dict"
   ]
  },
  {
   "cell_type": "markdown",
   "metadata": {},
   "source": [
    "Faster R-CNN Resent50 Model"
   ]
  },
  {
   "cell_type": "code",
   "execution_count": 6,
   "metadata": {},
   "outputs": [],
   "source": [
    "# VARIABLES\n",
    "MODEL_NAME = 'faster_rcnn_resnet50_inference_graph'\n",
    "\n",
    "# Path to frozen detection graph. This is the actual model that is used for the object detection.\n",
    "PATH_TO_FROZEN_GRAPH = OD_PATH +'faster_rcnn_resnet50_training/'+ MODEL_NAME + '/frozen_inference_graph.pb'\n",
    "\n",
    "# List of the strings that is used to add correct label for each box.\n",
    "PATH_TO_LABELS = OD_PATH + \"faster_rcnn_resnet50_training/data/object-detection.pbtxt\""
   ]
  },
  {
   "cell_type": "code",
   "execution_count": 7,
   "metadata": {},
   "outputs": [],
   "source": [
    "# Load tf model\n",
    "detection_graph = tf.Graph()\n",
    "with detection_graph.as_default():\n",
    "    od_graph_def = tf.GraphDef()\n",
    "    with tf.gfile.GFile(PATH_TO_FROZEN_GRAPH, 'rb') as fid:\n",
    "        serialized_graph = fid.read()\n",
    "        od_graph_def.ParseFromString(serialized_graph)\n",
    "        tf.import_graph_def(od_graph_def, name='')"
   ]
  },
  {
   "cell_type": "code",
   "execution_count": 8,
   "metadata": {},
   "outputs": [],
   "source": [
    "category_index = label_map_util.create_category_index_from_labelmap(PATH_TO_LABELS, use_display_name=True)"
   ]
  },
  {
   "cell_type": "markdown",
   "metadata": {},
   "source": [
    "Load CNN model"
   ]
  },
  {
   "cell_type": "code",
   "execution_count": 9,
   "metadata": {},
   "outputs": [],
   "source": [
    "IMAGE_SIZE = (320, 320)\n",
    "models_path = \"trained_models/\"\n",
    "\n",
    "# CNN\n",
    "cnn = load_model(models_path+\"model3.h5\")\n",
    "\n",
    "# ANN\n",
    "#ann = load_model(models_path+\"ann1.h5\")"
   ]
  },
  {
   "cell_type": "markdown",
   "metadata": {},
   "source": [
    "Syntactical Analysis"
   ]
  },
  {
   "cell_type": "code",
   "execution_count": 10,
   "metadata": {},
   "outputs": [],
   "source": [
    "lexer = Lexer()\n",
    "parser = Parser()\n",
    "codegen = CodeGenerator()"
   ]
  },
  {
   "cell_type": "markdown",
   "metadata": {},
   "source": [
    "Error Handling before Syntactical Analysis"
   ]
  },
  {
   "cell_type": "code",
   "execution_count": 11,
   "metadata": {},
   "outputs": [],
   "source": [
    "# used for error handling (symbols with similar features can be interchanged)\n",
    "similar_maps = [\n",
    "            (r'\\times', 'x', 'X'),\n",
    "            ('y', 'Y'),\n",
    "            ('c', r'\\subset', r'\\subseteq'),\n",
    "            ('g', '9'),\n",
    "            ('o', 'O', '0'),\n",
    "            ('s', '5'),\n",
    "            ('z', 'Z', '2'),\n",
    "        ]\n",
    "greeks = [r'\\sigma', r'\\Sigma', r'\\gamma', r'\\delta', r'\\Delta',\n",
    "          r'\\eta', r'\\theta', r'\\epsilon', r'\\lambda', r'\\mu',\n",
    "          r'\\Pi', r'\\rho', r'\\phi', r'\\omega', r'\\ohm']\n",
    "\n",
    "def get_symbols(syms_):\n",
    "    result_syms = []\n",
    "    for i in syms_:\n",
    "        sym_maps = None\n",
    "        for j in i:\n",
    "            #if sym_maps is not None:\n",
    "            #    break\n",
    "            # ignore greeks for now since greeks are not included in lexer\n",
    "            if j[0] in greeks:\n",
    "                continue\n",
    "            for k in similar_maps:\n",
    "                if j[0] in k:\n",
    "                    sym_maps = k\n",
    "                    break\n",
    "            break\n",
    "        if sym_maps is not None:\n",
    "            result_syms.append(sym_maps)\n",
    "        else:\n",
    "            for j in i:\n",
    "                if j[0] not in greeks:\n",
    "                    result_syms.append((j[0],))\n",
    "                    break\n",
    "    return result_syms\n",
    "\n",
    "def generate_eqns(err_handled_symbols):\n",
    "    return [i for i in product(*err_handled_symbols)]"
   ]
  },
  {
   "cell_type": "markdown",
   "metadata": {},
   "source": [
    "Load Images"
   ]
  },
  {
   "cell_type": "code",
   "execution_count": 12,
   "metadata": {},
   "outputs": [
    {
     "name": "stdout",
     "output_type": "stream",
     "text": [
      "Evaluate Image paths: \n",
      "datasets/object_detection/evaluate\\exp0010.png\n",
      "datasets/object_detection/evaluate\\exp0016.png\n",
      "datasets/object_detection/evaluate\\exp0020.png\n",
      "datasets/object_detection/evaluate\\exp0025.png\n",
      "datasets/object_detection/evaluate\\exp0027.png\n",
      "datasets/object_detection/evaluate\\exp0030.png\n",
      "datasets/object_detection/evaluate\\exp0035.png\n",
      "datasets/object_detection/evaluate\\exp0039.png\n",
      "datasets/object_detection/evaluate\\exp0042.png\n",
      "datasets/object_detection/evaluate\\exp0053.png\n"
     ]
    }
   ],
   "source": [
    "PATH_TO_TEST_IMAGES_DIR = \"datasets/object_detection/test/*.png\"\n",
    "PATH_TO_TRAIN_IMAGES_DIR = \"datasets/object_detection/train/*.png\"\n",
    "PATH_TO_EVALUATE_IMAGES_DIR = \"datasets/object_detection/evaluate/*.png\"\n",
    "\n",
    "\n",
    "TEST_IMAGE_PATHS = list(glob.glob(PATH_TO_TEST_IMAGES_DIR))\n",
    "TRAIN_IMAGE_PATHS = list(glob.glob(PATH_TO_TRAIN_IMAGES_DIR))\n",
    "EVALUATE_IMAGE_PATHS = list(glob.glob(PATH_TO_EVALUATE_IMAGES_DIR))\n",
    "\n",
    "\n",
    "print(\"Evaluate Image paths: \")\n",
    "for i in EVALUATE_IMAGE_PATHS:\n",
    "    print(i)\n",
    "    \n",
    "# Change TEST/TRAIN/EVALUATE Images to test here\n",
    "image_paths = EVALUATE_IMAGE_PATHS\n",
    "# image_paths = TEST_IMAGE_PATHS\n",
    "# image_paths = TRAIN_IMAGE_PATHS"
   ]
  },
  {
   "cell_type": "code",
   "execution_count": 13,
   "metadata": {},
   "outputs": [],
   "source": [
    "symbols = pd.read_csv(\"processed_data/symbols.csv\").drop([\"Unnamed: 0\"], axis=1)\n",
    "\n",
    "def get_symbol_from_id(id_):\n",
    "    return symbols[symbols['new_id']==id_].latex.values[0]"
   ]
  },
  {
   "cell_type": "code",
   "execution_count": 14,
   "metadata": {},
   "outputs": [],
   "source": [
    "%matplotlib inline"
   ]
  },
  {
   "cell_type": "code",
   "execution_count": 15,
   "metadata": {},
   "outputs": [
    {
     "name": "stdout",
     "output_type": "stream",
     "text": [
      "-------------------------\n",
      "Detecting Boxes for Image:  datasets/object_detection/evaluate/exp0010.png\n",
      "Image shape:  (320, 320, 3)\n",
      "***************\n",
      "Box: \n",
      "left:  271.9712257385254  right:  299.5462989807129  top:  148.2652759552002  bottom  181.95858001708984\n",
      "CNN/ANN Predictions:\n",
      "Symbol_id: 60 , Latex: y , Confidence Score: 91.63 %\n",
      "Symbol_id: 92 , Latex: \\times , Confidence Score: 4.95 %\n",
      "Symbol_id: 63 , Latex: \\gamma , Confidence Score: 2.46 %\n"
     ]
    },
    {
     "data": {
      "image/png": "[encoded data removed]",
      "text/plain": [
       "<Figure size 72x72 with 1 Axes>"
      ]
     },
     "metadata": {
      "needs_background": "light"
     },
     "output_type": "display_data"
    },
    {
     "name": "stdout",
     "output_type": "stream",
     "text": [
      "***************\n",
      "Box: \n",
      "left:  16.1465585231781  right:  51.52427673339844  top:  144.76730346679688  bottom  180.4487419128418\n",
      "CNN/ANN Predictions:\n",
      "Symbol_id: 61 , Latex: z , Confidence Score: 87.18 %\n",
      "Symbol_id: 25 , Latex: Z , Confidence Score: 12.51 %\n"
     ]
    },
    {
     "data": {
      "image/png": "[encoded data removed]",
      "text/plain": [
       "<Figure size 72x72 with 1 Axes>"
      ]
     },
     "metadata": {
      "needs_background": "light"
     },
     "output_type": "display_data"
    },
    {
     "name": "stdout",
     "output_type": "stream",
     "text": [
      "***************\n",
      "Box: \n",
      "left:  198.25593948364258  right:  229.46779251098633  top:  153.28859329223633  bottom  180.55418014526367\n",
      "CNN/ANN Predictions:\n",
      "Symbol_id: 84 , Latex: + , Confidence Score: 88.0 %\n",
      "Symbol_id: 96 , Latex: \\perp , Confidence Score: 9.13 %\n"
     ]
    },
    {
     "data": {
      "image/png": "[encoded data removed]",
      "text/plain": [
       "<Figure size 72x72 with 1 Axes>"
      ]
     },
     "metadata": {
      "needs_background": "light"
     },
     "output_type": "display_data"
    },
    {
     "name": "stdout",
     "output_type": "stream",
     "text": [
      "***************\n",
      "Box: \n",
      "left:  77.14836120605469  right:  108.79302978515625  top:  144.83491897583008  bottom  182.0561981201172\n",
      "CNN/ANN Predictions:\n",
      "Symbol_id: 104 , Latex: = , Confidence Score: 86.14 %\n",
      "Symbol_id: 75 , Latex: \\cdot , Confidence Score: 9.83 %\n",
      "Symbol_id: 96 , Latex: \\perp , Confidence Score: 1.44 %\n",
      "Symbol_id: 94 , Latex: \\div , Confidence Score: 1.1 %\n"
     ]
    },
    {
     "data": {
      "image/png": "[encoded data removed]",
      "text/plain": [
       "<Figure size 72x72 with 1 Axes>"
      ]
     },
     "metadata": {
      "needs_background": "light"
     },
     "output_type": "display_data"
    },
    {
     "name": "stdout",
     "output_type": "stream",
     "text": [
      "***************\n",
      "Box: \n",
      "left:  131.2384033203125  right:  165.78475952148438  top:  151.21049880981445  bottom  184.5259666442871\n",
      "CNN/ANN Predictions:\n",
      "Symbol_id: 92 , Latex: \\times , Confidence Score: 84.62 %\n",
      "Symbol_id: 59 , Latex: x , Confidence Score: 11.53 %\n",
      "Symbol_id: 23 , Latex: X , Confidence Score: 3.57 %\n"
     ]
    },
    {
     "data": {
      "image/png": "[encoded data removed]",
      "text/plain": [
       "<Figure size 72x72 with 1 Axes>"
      ]
     },
     "metadata": {
      "needs_background": "light"
     },
     "output_type": "display_data"
    },
    {
     "data": {
      "image/png": "[encoded data removed]",
      "text/plain": [
       "<Figure size 504x504 with 1 Axes>"
      ]
     },
     "metadata": {
      "needs_background": "light"
     },
     "output_type": "display_data"
    },
    {
     "name": "stdout",
     "output_type": "stream",
     "text": [
      "Generated XMLs\n",
      "('<math '\n",
      " 'xmlns=\"http://www.w3.org/1998/Math/MathML\"><mrow><mi>z</mi><mo>=</mo><mi>x</mi><mo>+</mo><mi>y</mi></mrow></math>')\n"
     ]
    },
    {
     "data": {
      "text/markdown": [
       "<math xmlns=\"http://www.w3.org/1998/Math/MathML\"><mrow><mi>z</mi><mo>=</mo><mi>x</mi><mo>+</mo><mi>y</mi></mrow></math>"
      ],
      "text/plain": [
       "<IPython.core.display.Markdown object>"
      ]
     },
     "metadata": {},
     "output_type": "display_data"
    },
    {
     "name": "stdout",
     "output_type": "stream",
     "text": [
      "**********\n",
      "('<math '\n",
      " 'xmlns=\"http://www.w3.org/1998/Math/MathML\"><mrow><mi>z</mi><mo>=</mo><mi>x</mi><mo>+</mo><mi>Y</mi></mrow></math>')\n"
     ]
    },
    {
     "data": {
      "text/markdown": [
       "<math xmlns=\"http://www.w3.org/1998/Math/MathML\"><mrow><mi>z</mi><mo>=</mo><mi>x</mi><mo>+</mo><mi>Y</mi></mrow></math>"
      ],
      "text/plain": [
       "<IPython.core.display.Markdown object>"
      ]
     },
     "metadata": {},
     "output_type": "display_data"
    },
    {
     "name": "stdout",
     "output_type": "stream",
     "text": [
      "**********\n",
      "('<math '\n",
      " 'xmlns=\"http://www.w3.org/1998/Math/MathML\"><mrow><mi>z</mi><mo>=</mo><mi>X</mi><mo>+</mo><mi>y</mi></mrow></math>')\n"
     ]
    },
    {
     "data": {
      "text/markdown": [
       "<math xmlns=\"http://www.w3.org/1998/Math/MathML\"><mrow><mi>z</mi><mo>=</mo><mi>X</mi><mo>+</mo><mi>y</mi></mrow></math>"
      ],
      "text/plain": [
       "<IPython.core.display.Markdown object>"
      ]
     },
     "metadata": {},
     "output_type": "display_data"
    },
    {
     "name": "stdout",
     "output_type": "stream",
     "text": [
      "**********\n",
      "('<math '\n",
      " 'xmlns=\"http://www.w3.org/1998/Math/MathML\"><mrow><mi>z</mi><mo>=</mo><mi>X</mi><mo>+</mo><mi>Y</mi></mrow></math>')\n"
     ]
    },
    {
     "data": {
      "text/markdown": [
       "<math xmlns=\"http://www.w3.org/1998/Math/MathML\"><mrow><mi>z</mi><mo>=</mo><mi>X</mi><mo>+</mo><mi>Y</mi></mrow></math>"
      ],
      "text/plain": [
       "<IPython.core.display.Markdown object>"
      ]
     },
     "metadata": {},
     "output_type": "display_data"
    },
    {
     "name": "stdout",
     "output_type": "stream",
     "text": [
      "**********\n",
      "('<math '\n",
      " 'xmlns=\"http://www.w3.org/1998/Math/MathML\"><mrow><mi>Z</mi><mo>=</mo><mi>x</mi><mo>+</mo><mi>y</mi></mrow></math>')\n"
     ]
    },
    {
     "data": {
      "text/markdown": [
       "<math xmlns=\"http://www.w3.org/1998/Math/MathML\"><mrow><mi>Z</mi><mo>=</mo><mi>x</mi><mo>+</mo><mi>y</mi></mrow></math>"
      ],
      "text/plain": [
       "<IPython.core.display.Markdown object>"
      ]
     },
     "metadata": {},
     "output_type": "display_data"
    },
    {
     "name": "stdout",
     "output_type": "stream",
     "text": [
      "**********\n",
      "('<math '\n",
      " 'xmlns=\"http://www.w3.org/1998/Math/MathML\"><mrow><mi>Z</mi><mo>=</mo><mi>x</mi><mo>+</mo><mi>Y</mi></mrow></math>')\n"
     ]
    },
    {
     "data": {
      "text/markdown": [
       "<math xmlns=\"http://www.w3.org/1998/Math/MathML\"><mrow><mi>Z</mi><mo>=</mo><mi>x</mi><mo>+</mo><mi>Y</mi></mrow></math>"
      ],
      "text/plain": [
       "<IPython.core.display.Markdown object>"
      ]
     },
     "metadata": {},
     "output_type": "display_data"
    },
    {
     "name": "stdout",
     "output_type": "stream",
     "text": [
      "**********\n",
      "('<math '\n",
      " 'xmlns=\"http://www.w3.org/1998/Math/MathML\"><mrow><mi>Z</mi><mo>=</mo><mi>X</mi><mo>+</mo><mi>y</mi></mrow></math>')\n"
     ]
    },
    {
     "data": {
      "text/markdown": [
       "<math xmlns=\"http://www.w3.org/1998/Math/MathML\"><mrow><mi>Z</mi><mo>=</mo><mi>X</mi><mo>+</mo><mi>y</mi></mrow></math>"
      ],
      "text/plain": [
       "<IPython.core.display.Markdown object>"
      ]
     },
     "metadata": {},
     "output_type": "display_data"
    },
    {
     "name": "stdout",
     "output_type": "stream",
     "text": [
      "**********\n",
      "('<math '\n",
      " 'xmlns=\"http://www.w3.org/1998/Math/MathML\"><mrow><mi>Z</mi><mo>=</mo><mi>X</mi><mo>+</mo><mi>Y</mi></mrow></math>')\n"
     ]
    },
    {
     "data": {
      "text/markdown": [
       "<math xmlns=\"http://www.w3.org/1998/Math/MathML\"><mrow><mi>Z</mi><mo>=</mo><mi>X</mi><mo>+</mo><mi>Y</mi></mrow></math>"
      ],
      "text/plain": [
       "<IPython.core.display.Markdown object>"
      ]
     },
     "metadata": {},
     "output_type": "display_data"
    },
    {
     "name": "stdout",
     "output_type": "stream",
     "text": [
      "**********\n",
      "-------------------------\n",
      "Detecting Boxes for Image:  datasets/object_detection/evaluate/exp0016.png\n",
      "Image shape:  (320, 320, 3)\n",
      "***************\n",
      "Box: \n",
      "left:  258.47320556640625  right:  286.4094352722168  top:  146.97235107421875  bottom  186.5411376953125\n",
      "CNN/ANN Predictions:\n",
      "Symbol_id: 60 , Latex: y , Confidence Score: 65.06 %\n",
      "Symbol_id: 24 , Latex: Y , Confidence Score: 12.61 %\n",
      "Symbol_id: 59 , Latex: x , Confidence Score: 6.84 %\n",
      "Symbol_id: 63 , Latex: \\gamma , Confidence Score: 3.63 %\n",
      "Symbol_id: 61 , Latex: z , Confidence Score: 3.46 %\n",
      "Symbol_id: 33 , Latex: 7 , Confidence Score: 2.49 %\n",
      "Symbol_id: 25 , Latex: Z , Confidence Score: 1.46 %\n",
      "Symbol_id: 92 , Latex: \\times , Confidence Score: 1.29 %\n"
     ]
    },
    {
     "data": {
      "image/png": "[encoded data removed]",
      "text/plain": [
       "<Figure size 72x72 with 1 Axes>"
      ]
     },
     "metadata": {
      "needs_background": "light"
     },
     "output_type": "display_data"
    },
    {
     "name": "stdout",
     "output_type": "stream",
     "text": [
      "***************\n",
      "Box: \n",
      "left:  16.213520765304565  right:  55.44495105743408  top:  148.40779304504395  bottom  186.40602111816406\n",
      "CNN/ANN Predictions:\n",
      "Symbol_id: 25 , Latex: Z , Confidence Score: 93.33 %\n",
      "Symbol_id: 61 , Latex: z , Confidence Score: 6.22 %\n"
     ]
    },
    {
     "data": {
      "image/png": "[encoded data removed]",
      "text/plain": [
       "<Figure size 72x72 with 1 Axes>"
      ]
     },
     "metadata": {
      "needs_background": "light"
     },
     "output_type": "display_data"
    },
    {
     "name": "stdout",
     "output_type": "stream",
     "text": [
      "***************\n",
      "Box: \n",
      "left:  69.14685249328613  right:  104.32090759277344  top:  150.2897834777832  bottom  188.40211868286133\n",
      "CNN/ANN Predictions:\n",
      "Symbol_id: 83 , Latex: - , Confidence Score: 48.59 %\n",
      "Symbol_id: 104 , Latex: = , Confidence Score: 22.36 %\n",
      "Symbol_id: 94 , Latex: \\div , Confidence Score: 14.23 %\n",
      "Symbol_id: 75 , Latex: \\cdot , Confidence Score: 7.81 %\n",
      "Symbol_id: 96 , Latex: \\perp , Confidence Score: 4.4 %\n"
     ]
    },
    {
     "data": {
      "image/png": "[encoded data removed]",
      "text/plain": [
       "<Figure size 72x72 with 1 Axes>"
      ]
     },
     "metadata": {
      "needs_background": "light"
     },
     "output_type": "display_data"
    },
    {
     "name": "stdout",
     "output_type": "stream",
     "text": [
      "***************\n",
      "Box: \n",
      "left:  188.69874954223633  right:  232.5419807434082  top:  147.65944480895996  bottom  176.43932342529297\n",
      "CNN/ANN Predictions:\n",
      "Symbol_id: 96 , Latex: \\perp , Confidence Score: 31.84 %\n",
      "Symbol_id: 19 , Latex: T , Confidence Score: 22.73 %\n",
      "Symbol_id: 84 , Latex: + , Confidence Score: 16.82 %\n",
      "Symbol_id: 71 , Latex: \\Pi , Confidence Score: 16.27 %\n",
      "Symbol_id: 94 , Latex: \\div , Confidence Score: 3.13 %\n",
      "Symbol_id: 5 , Latex: F , Confidence Score: 2.52 %\n",
      "Symbol_id: 36 , Latex: \\sigma , Confidence Score: 1.46 %\n",
      "Symbol_id: 89 , Latex: \\# , Confidence Score: 1.32 %\n",
      "Symbol_id: 97 , Latex: \\forall , Confidence Score: 1.02 %\n"
     ]
    },
    {
     "data": {
      "image/png": "[encoded data removed]",
      "text/plain": [
       "<Figure size 72x72 with 1 Axes>"
      ]
     },
     "metadata": {
      "needs_background": "light"
     },
     "output_type": "display_data"
    },
    {
     "name": "stdout",
     "output_type": "stream",
     "text": [
      "***************\n",
      "Box: \n",
      "left:  126.9401741027832  right:  160.70711135864258  top:  149.95101928710938  bottom  181.9410514831543\n",
      "CNN/ANN Predictions:\n",
      "Symbol_id: 92 , Latex: \\times , Confidence Score: 99.85 %\n"
     ]
    },
    {
     "data": {
      "image/png": "[encoded data removed]",
      "text/plain": [
       "<Figure size 72x72 with 1 Axes>"
      ]
     },
     "metadata": {
      "needs_background": "light"
     },
     "output_type": "display_data"
    },
    {
     "data": {
      "image/png": "[encoded data removed]",
      "text/plain": [
       "<Figure size 504x504 with 1 Axes>"
      ]
     },
     "metadata": {
      "needs_background": "light"
     },
     "output_type": "display_data"
    },
    {
     "name": "stdout",
     "output_type": "stream",
     "text": [
      "Generated XMLs\n",
      "-------------------------\n",
      "Detecting Boxes for Image:  datasets/object_detection/evaluate/exp0020.png\n",
      "Image shape:  (320, 320, 3)\n",
      "***************\n",
      "Box: \n",
      "left:  18.442795276641846  right:  53.16028118133545  top:  149.99078750610352  bottom  179.65330123901367\n",
      "CNN/ANN Predictions:\n",
      "Symbol_id: 61 , Latex: z , Confidence Score: 94.48 %\n",
      "Symbol_id: 25 , Latex: Z , Confidence Score: 4.53 %\n"
     ]
    },
    {
     "data": {
      "image/png": "[encoded data removed]",
      "text/plain": [
       "<Figure size 72x72 with 1 Axes>"
      ]
     },
     "metadata": {
      "needs_background": "light"
     },
     "output_type": "display_data"
    },
    {
     "name": "stdout",
     "output_type": "stream",
     "text": [
      "***************\n",
      "Box: \n",
      "left:  269.18701171875  right:  288.8397789001465  top:  151.41783714294434  bottom  189.25176620483398\n",
      "CNN/ANN Predictions:\n",
      "Symbol_id: 60 , Latex: y , Confidence Score: 80.99 %\n",
      "Symbol_id: 24 , Latex: Y , Confidence Score: 18.4 %\n"
     ]
    },
    {
     "data": {
      "image/png": "[encoded data removed]",
      "text/plain": [
       "<Figure size 72x72 with 1 Axes>"
      ]
     },
     "metadata": {
      "needs_background": "light"
     },
     "output_type": "display_data"
    },
    {
     "name": "stdout",
     "output_type": "stream",
     "text": [
      "***************\n",
      "Box: \n",
      "left:  73.53553771972656  right:  105.31068801879883  top:  147.03940391540527  bottom  183.11054229736328\n",
      "CNN/ANN Predictions:\n",
      "Symbol_id: 75 , Latex: \\cdot , Confidence Score: 94.49 %\n",
      "Symbol_id: 104 , Latex: = , Confidence Score: 3.25 %\n"
     ]
    },
    {
     "data": {
      "image/png": "[encoded data removed]",
      "text/plain": [
       "<Figure size 72x72 with 1 Axes>"
      ]
     },
     "metadata": {
      "needs_background": "light"
     },
     "output_type": "display_data"
    },
    {
     "name": "stdout",
     "output_type": "stream",
     "text": [
      "***************\n",
      "Box: \n",
      "left:  133.77123832702637  right:  165.74737548828125  top:  154.71757888793945  bottom  188.5317611694336\n",
      "CNN/ANN Predictions:\n",
      "Symbol_id: 92 , Latex: \\times , Confidence Score: 99.82 %\n"
     ]
    },
    {
     "data": {
      "image/png": "[encoded data removed]",
      "text/plain": [
       "<Figure size 72x72 with 1 Axes>"
      ]
     },
     "metadata": {
      "needs_background": "light"
     },
     "output_type": "display_data"
    },
    {
     "name": "stdout",
     "output_type": "stream",
     "text": [
      "***************\n",
      "Box: \n",
      "left:  196.18928909301758  right:  237.27140426635742  top:  150.03829956054688  bottom  185.71182250976562\n",
      "CNN/ANN Predictions:\n",
      "Symbol_id: 83 , Latex: - , Confidence Score: 50.57 %\n",
      "Symbol_id: 75 , Latex: \\cdot , Confidence Score: 28.94 %\n",
      "Symbol_id: 96 , Latex: \\perp , Confidence Score: 7.1 %\n",
      "Symbol_id: 104 , Latex: = , Confidence Score: 5.29 %\n",
      "Symbol_id: 94 , Latex: \\div , Confidence Score: 2.9 %\n",
      "Symbol_id: 65 , Latex: \\Delta , Confidence Score: 1.86 %\n",
      "Symbol_id: 68 , Latex: \\epsilon , Confidence Score: 1.27 %\n"
     ]
    },
    {
     "data": {
      "image/png": "[encoded data removed]",
      "text/plain": [
       "<Figure size 72x72 with 1 Axes>"
      ]
     },
     "metadata": {
      "needs_background": "light"
     },
     "output_type": "display_data"
    },
    {
     "data": {
      "image/png": "[encoded data removed]",
      "text/plain": [
       "<Figure size 504x504 with 1 Axes>"
      ]
     },
     "metadata": {
      "needs_background": "light"
     },
     "output_type": "display_data"
    },
    {
     "name": "stdout",
     "output_type": "stream",
     "text": [
      "Generated XMLs\n",
      "-------------------------\n",
      "Detecting Boxes for Image:  datasets/object_detection/evaluate/exp0025.png\n",
      "Image shape:  (320, 320, 3)\n",
      "***************\n",
      "Box: \n",
      "left:  263.4783935546875  right:  296.39429092407227  top:  141.78706169128418  bottom  175.58361053466797\n",
      "CNN/ANN Predictions:\n",
      "Symbol_id: 61 , Latex: z , Confidence Score: 94.12 %\n",
      "Symbol_id: 25 , Latex: Z , Confidence Score: 5.85 %\n"
     ]
    },
    {
     "data": {
      "image/png": "[encoded data removed]",
      "text/plain": [
       "<Figure size 72x72 with 1 Axes>"
      ]
     },
     "metadata": {
      "needs_background": "light"
     },
     "output_type": "display_data"
    },
    {
     "name": "stdout",
     "output_type": "stream",
     "text": [
      "***************\n",
      "Box: \n",
      "left:  17.772464752197266  right:  39.64927673339844  top:  146.58673286437988  bottom  184.24612045288086\n",
      "CNN/ANN Predictions:\n",
      "Symbol_id: 60 , Latex: y , Confidence Score: 51.43 %\n",
      "Symbol_id: 24 , Latex: Y , Confidence Score: 48.0 %\n"
     ]
    },
    {
     "data": {
      "image/png": "[encoded data removed]",
      "text/plain": [
       "<Figure size 72x72 with 1 Axes>"
      ]
     },
     "metadata": {
      "needs_background": "light"
     },
     "output_type": "display_data"
    },
    {
     "name": "stdout",
     "output_type": "stream",
     "text": [
      "***************\n",
      "Box: \n",
      "left:  204.49758529663086  right:  231.39837265014648  top:  142.78132438659668  bottom  177.0927619934082\n",
      "CNN/ANN Predictions:\n",
      "Symbol_id: 92 , Latex: \\times , Confidence Score: 96.78 %\n",
      "Symbol_id: 59 , Latex: x , Confidence Score: 3.16 %\n"
     ]
    },
    {
     "data": {
      "image/png": "[encoded data removed]",
      "text/plain": [
       "<Figure size 72x72 with 1 Axes>"
      ]
     },
     "metadata": {
      "needs_background": "light"
     },
     "output_type": "display_data"
    },
    {
     "name": "stdout",
     "output_type": "stream",
     "text": [
      "***************\n",
      "Box: \n",
      "left:  69.20857429504395  right:  98.04106712341309  top:  146.52674674987793  bottom  178.52134704589844\n",
      "CNN/ANN Predictions:\n",
      "Symbol_id: 104 , Latex: = , Confidence Score: 84.47 %\n",
      "Symbol_id: 83 , Latex: - , Confidence Score: 5.59 %\n",
      "Symbol_id: 75 , Latex: \\cdot , Confidence Score: 4.87 %\n",
      "Symbol_id: 96 , Latex: \\perp , Confidence Score: 1.76 %\n",
      "Symbol_id: 94 , Latex: \\div , Confidence Score: 1.43 %\n"
     ]
    },
    {
     "data": {
      "image/png": "[encoded data removed]",
      "text/plain": [
       "<Figure size 72x72 with 1 Axes>"
      ]
     },
     "metadata": {
      "needs_background": "light"
     },
     "output_type": "display_data"
    },
    {
     "name": "stdout",
     "output_type": "stream",
     "text": [
      "***************\n",
      "Box: \n",
      "left:  128.93500328063965  right:  161.32583618164062  top:  148.4100341796875  bottom  179.36712265014648\n",
      "CNN/ANN Predictions:\n",
      "Symbol_id: 61 , Latex: z , Confidence Score: 92.62 %\n",
      "Symbol_id: 25 , Latex: Z , Confidence Score: 6.15 %\n"
     ]
    },
    {
     "data": {
      "image/png": "[encoded data removed]",
      "text/plain": [
       "<Figure size 72x72 with 1 Axes>"
      ]
     },
     "metadata": {
      "needs_background": "light"
     },
     "output_type": "display_data"
    },
    {
     "data": {
      "image/png": "[encoded data removed]",
      "text/plain": [
       "<Figure size 504x504 with 1 Axes>"
      ]
     },
     "metadata": {
      "needs_background": "light"
     },
     "output_type": "display_data"
    },
    {
     "name": "stdout",
     "output_type": "stream",
     "text": [
      "Generated XMLs\n",
      "('<math '\n",
      " 'xmlns=\"http://www.w3.org/1998/Math/MathML\"><mrow><mi>y</mi><mo>=</mo><mi>z</mi><mo>&#215;</mo><mi>z</mi></mrow></math>')\n"
     ]
    },
    {
     "data": {
      "text/markdown": [
       "<math xmlns=\"http://www.w3.org/1998/Math/MathML\"><mrow><mi>y</mi><mo>=</mo><mi>z</mi><mo>&#215;</mo><mi>z</mi></mrow></math>"
      ],
      "text/plain": [
       "<IPython.core.display.Markdown object>"
      ]
     },
     "metadata": {},
     "output_type": "display_data"
    },
    {
     "name": "stdout",
     "output_type": "stream",
     "text": [
      "**********\n",
      "('<math '\n",
      " 'xmlns=\"http://www.w3.org/1998/Math/MathML\"><mrow><mi>y</mi><mo>=</mo><mi>z</mi><mo>&#215;</mo><mi>Z</mi></mrow></math>')\n"
     ]
    },
    {
     "data": {
      "text/markdown": [
       "<math xmlns=\"http://www.w3.org/1998/Math/MathML\"><mrow><mi>y</mi><mo>=</mo><mi>z</mi><mo>&#215;</mo><mi>Z</mi></mrow></math>"
      ],
      "text/plain": [
       "<IPython.core.display.Markdown object>"
      ]
     },
     "metadata": {},
     "output_type": "display_data"
    },
    {
     "name": "stdout",
     "output_type": "stream",
     "text": [
      "**********\n",
      "('<math '\n",
      " 'xmlns=\"http://www.w3.org/1998/Math/MathML\"><mrow><mi>y</mi><mo>=</mo><mi>z</mi><mo>&#215;</mo><mn>2</mn></mrow></math>')\n"
     ]
    },
    {
     "data": {
      "text/markdown": [
       "<math xmlns=\"http://www.w3.org/1998/Math/MathML\"><mrow><mi>y</mi><mo>=</mo><mi>z</mi><mo>&#215;</mo><mn>2</mn></mrow></math>"
      ],
      "text/plain": [
       "<IPython.core.display.Markdown object>"
      ]
     },
     "metadata": {},
     "output_type": "display_data"
    },
    {
     "name": "stdout",
     "output_type": "stream",
     "text": [
      "**********\n",
      "('<math '\n",
      " 'xmlns=\"http://www.w3.org/1998/Math/MathML\"><mrow><mi>y</mi><mo>=</mo><mi>zxz</mi></mrow></math>')\n"
     ]
    },
    {
     "data": {
      "text/markdown": [
       "<math xmlns=\"http://www.w3.org/1998/Math/MathML\"><mrow><mi>y</mi><mo>=</mo><mi>zxz</mi></mrow></math>"
      ],
      "text/plain": [
       "<IPython.core.display.Markdown object>"
      ]
     },
     "metadata": {},
     "output_type": "display_data"
    },
    {
     "name": "stdout",
     "output_type": "stream",
     "text": [
      "**********\n",
      "('<math '\n",
      " 'xmlns=\"http://www.w3.org/1998/Math/MathML\"><mrow><mi>y</mi><mo>=</mo><mi>zxZ</mi></mrow></math>')\n"
     ]
    },
    {
     "data": {
      "text/markdown": [
       "<math xmlns=\"http://www.w3.org/1998/Math/MathML\"><mrow><mi>y</mi><mo>=</mo><mi>zxZ</mi></mrow></math>"
      ],
      "text/plain": [
       "<IPython.core.display.Markdown object>"
      ]
     },
     "metadata": {},
     "output_type": "display_data"
    },
    {
     "name": "stdout",
     "output_type": "stream",
     "text": [
      "**********\n",
      "('<math '\n",
      " 'xmlns=\"http://www.w3.org/1998/Math/MathML\"><mrow><mi>y</mi><mo>=</mo><mi>zXz</mi></mrow></math>')\n"
     ]
    },
    {
     "data": {
      "text/markdown": [
       "<math xmlns=\"http://www.w3.org/1998/Math/MathML\"><mrow><mi>y</mi><mo>=</mo><mi>zXz</mi></mrow></math>"
      ],
      "text/plain": [
       "<IPython.core.display.Markdown object>"
      ]
     },
     "metadata": {},
     "output_type": "display_data"
    },
    {
     "name": "stdout",
     "output_type": "stream",
     "text": [
      "**********\n",
      "('<math '\n",
      " 'xmlns=\"http://www.w3.org/1998/Math/MathML\"><mrow><mi>y</mi><mo>=</mo><mi>zXZ</mi></mrow></math>')\n"
     ]
    },
    {
     "data": {
      "text/markdown": [
       "<math xmlns=\"http://www.w3.org/1998/Math/MathML\"><mrow><mi>y</mi><mo>=</mo><mi>zXZ</mi></mrow></math>"
      ],
      "text/plain": [
       "<IPython.core.display.Markdown object>"
      ]
     },
     "metadata": {},
     "output_type": "display_data"
    },
    {
     "name": "stdout",
     "output_type": "stream",
     "text": [
      "**********\n",
      "('<math '\n",
      " 'xmlns=\"http://www.w3.org/1998/Math/MathML\"><mrow><mi>y</mi><mo>=</mo><mi>Z</mi><mo>&#215;</mo><mi>z</mi></mrow></math>')\n"
     ]
    },
    {
     "data": {
      "text/markdown": [
       "<math xmlns=\"http://www.w3.org/1998/Math/MathML\"><mrow><mi>y</mi><mo>=</mo><mi>Z</mi><mo>&#215;</mo><mi>z</mi></mrow></math>"
      ],
      "text/plain": [
       "<IPython.core.display.Markdown object>"
      ]
     },
     "metadata": {},
     "output_type": "display_data"
    },
    {
     "name": "stdout",
     "output_type": "stream",
     "text": [
      "**********\n",
      "('<math '\n",
      " 'xmlns=\"http://www.w3.org/1998/Math/MathML\"><mrow><mi>y</mi><mo>=</mo><mi>Z</mi><mo>&#215;</mo><mi>Z</mi></mrow></math>')\n"
     ]
    },
    {
     "data": {
      "text/markdown": [
       "<math xmlns=\"http://www.w3.org/1998/Math/MathML\"><mrow><mi>y</mi><mo>=</mo><mi>Z</mi><mo>&#215;</mo><mi>Z</mi></mrow></math>"
      ],
      "text/plain": [
       "<IPython.core.display.Markdown object>"
      ]
     },
     "metadata": {},
     "output_type": "display_data"
    },
    {
     "name": "stdout",
     "output_type": "stream",
     "text": [
      "**********\n",
      "('<math '\n",
      " 'xmlns=\"http://www.w3.org/1998/Math/MathML\"><mrow><mi>y</mi><mo>=</mo><mi>Z</mi><mo>&#215;</mo><mn>2</mn></mrow></math>')\n"
     ]
    },
    {
     "data": {
      "text/markdown": [
       "<math xmlns=\"http://www.w3.org/1998/Math/MathML\"><mrow><mi>y</mi><mo>=</mo><mi>Z</mi><mo>&#215;</mo><mn>2</mn></mrow></math>"
      ],
      "text/plain": [
       "<IPython.core.display.Markdown object>"
      ]
     },
     "metadata": {},
     "output_type": "display_data"
    },
    {
     "name": "stdout",
     "output_type": "stream",
     "text": [
      "**********\n",
      "('<math '\n",
      " 'xmlns=\"http://www.w3.org/1998/Math/MathML\"><mrow><mi>y</mi><mo>=</mo><mi>Zxz</mi></mrow></math>')\n"
     ]
    },
    {
     "data": {
      "text/markdown": [
       "<math xmlns=\"http://www.w3.org/1998/Math/MathML\"><mrow><mi>y</mi><mo>=</mo><mi>Zxz</mi></mrow></math>"
      ],
      "text/plain": [
       "<IPython.core.display.Markdown object>"
      ]
     },
     "metadata": {},
     "output_type": "display_data"
    },
    {
     "name": "stdout",
     "output_type": "stream",
     "text": [
      "**********\n",
      "('<math '\n",
      " 'xmlns=\"http://www.w3.org/1998/Math/MathML\"><mrow><mi>y</mi><mo>=</mo><mi>ZxZ</mi></mrow></math>')\n"
     ]
    },
    {
     "data": {
      "text/markdown": [
       "<math xmlns=\"http://www.w3.org/1998/Math/MathML\"><mrow><mi>y</mi><mo>=</mo><mi>ZxZ</mi></mrow></math>"
      ],
      "text/plain": [
       "<IPython.core.display.Markdown object>"
      ]
     },
     "metadata": {},
     "output_type": "display_data"
    },
    {
     "name": "stdout",
     "output_type": "stream",
     "text": [
      "**********\n",
      "('<math '\n",
      " 'xmlns=\"http://www.w3.org/1998/Math/MathML\"><mrow><mi>y</mi><mo>=</mo><mi>ZXz</mi></mrow></math>')\n"
     ]
    },
    {
     "data": {
      "text/markdown": [
       "<math xmlns=\"http://www.w3.org/1998/Math/MathML\"><mrow><mi>y</mi><mo>=</mo><mi>ZXz</mi></mrow></math>"
      ],
      "text/plain": [
       "<IPython.core.display.Markdown object>"
      ]
     },
     "metadata": {},
     "output_type": "display_data"
    },
    {
     "name": "stdout",
     "output_type": "stream",
     "text": [
      "**********\n",
      "('<math '\n",
      " 'xmlns=\"http://www.w3.org/1998/Math/MathML\"><mrow><mi>y</mi><mo>=</mo><mi>ZXZ</mi></mrow></math>')\n"
     ]
    },
    {
     "data": {
      "text/markdown": [
       "<math xmlns=\"http://www.w3.org/1998/Math/MathML\"><mrow><mi>y</mi><mo>=</mo><mi>ZXZ</mi></mrow></math>"
      ],
      "text/plain": [
       "<IPython.core.display.Markdown object>"
      ]
     },
     "metadata": {},
     "output_type": "display_data"
    },
    {
     "name": "stdout",
     "output_type": "stream",
     "text": [
      "**********\n",
      "('<math '\n",
      " 'xmlns=\"http://www.w3.org/1998/Math/MathML\"><mrow><mi>y</mi><mo>=</mo><mn>2</mn><mo>&#215;</mo><mi>z</mi></mrow></math>')\n"
     ]
    },
    {
     "data": {
      "text/markdown": [
       "<math xmlns=\"http://www.w3.org/1998/Math/MathML\"><mrow><mi>y</mi><mo>=</mo><mn>2</mn><mo>&#215;</mo><mi>z</mi></mrow></math>"
      ],
      "text/plain": [
       "<IPython.core.display.Markdown object>"
      ]
     },
     "metadata": {},
     "output_type": "display_data"
    },
    {
     "name": "stdout",
     "output_type": "stream",
     "text": [
      "**********\n",
      "('<math '\n",
      " 'xmlns=\"http://www.w3.org/1998/Math/MathML\"><mrow><mi>y</mi><mo>=</mo><mn>2</mn><mo>&#215;</mo><mi>Z</mi></mrow></math>')\n"
     ]
    },
    {
     "data": {
      "text/markdown": [
       "<math xmlns=\"http://www.w3.org/1998/Math/MathML\"><mrow><mi>y</mi><mo>=</mo><mn>2</mn><mo>&#215;</mo><mi>Z</mi></mrow></math>"
      ],
      "text/plain": [
       "<IPython.core.display.Markdown object>"
      ]
     },
     "metadata": {},
     "output_type": "display_data"
    },
    {
     "name": "stdout",
     "output_type": "stream",
     "text": [
      "**********\n",
      "('<math '\n",
      " 'xmlns=\"http://www.w3.org/1998/Math/MathML\"><mrow><mi>y</mi><mo>=</mo><mn>2</mn><mo>&#215;</mo><mn>2</mn></mrow></math>')\n"
     ]
    },
    {
     "data": {
      "text/markdown": [
       "<math xmlns=\"http://www.w3.org/1998/Math/MathML\"><mrow><mi>y</mi><mo>=</mo><mn>2</mn><mo>&#215;</mo><mn>2</mn></mrow></math>"
      ],
      "text/plain": [
       "<IPython.core.display.Markdown object>"
      ]
     },
     "metadata": {},
     "output_type": "display_data"
    },
    {
     "name": "stdout",
     "output_type": "stream",
     "text": [
      "**********\n",
      "('<math '\n",
      " 'xmlns=\"http://www.w3.org/1998/Math/MathML\"><mrow><mi>Y</mi><mo>=</mo><mi>z</mi><mo>&#215;</mo><mi>z</mi></mrow></math>')\n"
     ]
    },
    {
     "data": {
      "text/markdown": [
       "<math xmlns=\"http://www.w3.org/1998/Math/MathML\"><mrow><mi>Y</mi><mo>=</mo><mi>z</mi><mo>&#215;</mo><mi>z</mi></mrow></math>"
      ],
      "text/plain": [
       "<IPython.core.display.Markdown object>"
      ]
     },
     "metadata": {},
     "output_type": "display_data"
    },
    {
     "name": "stdout",
     "output_type": "stream",
     "text": [
      "**********\n",
      "('<math '\n",
      " 'xmlns=\"http://www.w3.org/1998/Math/MathML\"><mrow><mi>Y</mi><mo>=</mo><mi>z</mi><mo>&#215;</mo><mi>Z</mi></mrow></math>')\n"
     ]
    },
    {
     "data": {
      "text/markdown": [
       "<math xmlns=\"http://www.w3.org/1998/Math/MathML\"><mrow><mi>Y</mi><mo>=</mo><mi>z</mi><mo>&#215;</mo><mi>Z</mi></mrow></math>"
      ],
      "text/plain": [
       "<IPython.core.display.Markdown object>"
      ]
     },
     "metadata": {},
     "output_type": "display_data"
    },
    {
     "name": "stdout",
     "output_type": "stream",
     "text": [
      "**********\n",
      "('<math '\n",
      " 'xmlns=\"http://www.w3.org/1998/Math/MathML\"><mrow><mi>Y</mi><mo>=</mo><mi>z</mi><mo>&#215;</mo><mn>2</mn></mrow></math>')\n"
     ]
    },
    {
     "data": {
      "text/markdown": [
       "<math xmlns=\"http://www.w3.org/1998/Math/MathML\"><mrow><mi>Y</mi><mo>=</mo><mi>z</mi><mo>&#215;</mo><mn>2</mn></mrow></math>"
      ],
      "text/plain": [
       "<IPython.core.display.Markdown object>"
      ]
     },
     "metadata": {},
     "output_type": "display_data"
    },
    {
     "name": "stdout",
     "output_type": "stream",
     "text": [
      "**********\n",
      "('<math '\n",
      " 'xmlns=\"http://www.w3.org/1998/Math/MathML\"><mrow><mi>Y</mi><mo>=</mo><mi>zxz</mi></mrow></math>')\n"
     ]
    },
    {
     "data": {
      "text/markdown": [
       "<math xmlns=\"http://www.w3.org/1998/Math/MathML\"><mrow><mi>Y</mi><mo>=</mo><mi>zxz</mi></mrow></math>"
      ],
      "text/plain": [
       "<IPython.core.display.Markdown object>"
      ]
     },
     "metadata": {},
     "output_type": "display_data"
    },
    {
     "name": "stdout",
     "output_type": "stream",
     "text": [
      "**********\n",
      "('<math '\n",
      " 'xmlns=\"http://www.w3.org/1998/Math/MathML\"><mrow><mi>Y</mi><mo>=</mo><mi>zxZ</mi></mrow></math>')\n"
     ]
    },
    {
     "data": {
      "text/markdown": [
       "<math xmlns=\"http://www.w3.org/1998/Math/MathML\"><mrow><mi>Y</mi><mo>=</mo><mi>zxZ</mi></mrow></math>"
      ],
      "text/plain": [
       "<IPython.core.display.Markdown object>"
      ]
     },
     "metadata": {},
     "output_type": "display_data"
    },
    {
     "name": "stdout",
     "output_type": "stream",
     "text": [
      "**********\n",
      "('<math '\n",
      " 'xmlns=\"http://www.w3.org/1998/Math/MathML\"><mrow><mi>Y</mi><mo>=</mo><mi>zXz</mi></mrow></math>')\n"
     ]
    },
    {
     "data": {
      "text/markdown": [
       "<math xmlns=\"http://www.w3.org/1998/Math/MathML\"><mrow><mi>Y</mi><mo>=</mo><mi>zXz</mi></mrow></math>"
      ],
      "text/plain": [
       "<IPython.core.display.Markdown object>"
      ]
     },
     "metadata": {},
     "output_type": "display_data"
    },
    {
     "name": "stdout",
     "output_type": "stream",
     "text": [
      "**********\n",
      "('<math '\n",
      " 'xmlns=\"http://www.w3.org/1998/Math/MathML\"><mrow><mi>Y</mi><mo>=</mo><mi>zXZ</mi></mrow></math>')\n"
     ]
    },
    {
     "data": {
      "text/markdown": [
       "<math xmlns=\"http://www.w3.org/1998/Math/MathML\"><mrow><mi>Y</mi><mo>=</mo><mi>zXZ</mi></mrow></math>"
      ],
      "text/plain": [
       "<IPython.core.display.Markdown object>"
      ]
     },
     "metadata": {},
     "output_type": "display_data"
    },
    {
     "name": "stdout",
     "output_type": "stream",
     "text": [
      "**********\n",
      "('<math '\n",
      " 'xmlns=\"http://www.w3.org/1998/Math/MathML\"><mrow><mi>Y</mi><mo>=</mo><mi>Z</mi><mo>&#215;</mo><mi>z</mi></mrow></math>')\n"
     ]
    },
    {
     "data": {
      "text/markdown": [
       "<math xmlns=\"http://www.w3.org/1998/Math/MathML\"><mrow><mi>Y</mi><mo>=</mo><mi>Z</mi><mo>&#215;</mo><mi>z</mi></mrow></math>"
      ],
      "text/plain": [
       "<IPython.core.display.Markdown object>"
      ]
     },
     "metadata": {},
     "output_type": "display_data"
    },
    {
     "name": "stdout",
     "output_type": "stream",
     "text": [
      "**********\n",
      "('<math '\n",
      " 'xmlns=\"http://www.w3.org/1998/Math/MathML\"><mrow><mi>Y</mi><mo>=</mo><mi>Z</mi><mo>&#215;</mo><mi>Z</mi></mrow></math>')\n"
     ]
    },
    {
     "data": {
      "text/markdown": [
       "<math xmlns=\"http://www.w3.org/1998/Math/MathML\"><mrow><mi>Y</mi><mo>=</mo><mi>Z</mi><mo>&#215;</mo><mi>Z</mi></mrow></math>"
      ],
      "text/plain": [
       "<IPython.core.display.Markdown object>"
      ]
     },
     "metadata": {},
     "output_type": "display_data"
    },
    {
     "name": "stdout",
     "output_type": "stream",
     "text": [
      "**********\n",
      "('<math '\n",
      " 'xmlns=\"http://www.w3.org/1998/Math/MathML\"><mrow><mi>Y</mi><mo>=</mo><mi>Z</mi><mo>&#215;</mo><mn>2</mn></mrow></math>')\n"
     ]
    },
    {
     "data": {
      "text/markdown": [
       "<math xmlns=\"http://www.w3.org/1998/Math/MathML\"><mrow><mi>Y</mi><mo>=</mo><mi>Z</mi><mo>&#215;</mo><mn>2</mn></mrow></math>"
      ],
      "text/plain": [
       "<IPython.core.display.Markdown object>"
      ]
     },
     "metadata": {},
     "output_type": "display_data"
    },
    {
     "name": "stdout",
     "output_type": "stream",
     "text": [
      "**********\n",
      "('<math '\n",
      " 'xmlns=\"http://www.w3.org/1998/Math/MathML\"><mrow><mi>Y</mi><mo>=</mo><mi>Zxz</mi></mrow></math>')\n"
     ]
    },
    {
     "data": {
      "text/markdown": [
       "<math xmlns=\"http://www.w3.org/1998/Math/MathML\"><mrow><mi>Y</mi><mo>=</mo><mi>Zxz</mi></mrow></math>"
      ],
      "text/plain": [
       "<IPython.core.display.Markdown object>"
      ]
     },
     "metadata": {},
     "output_type": "display_data"
    },
    {
     "name": "stdout",
     "output_type": "stream",
     "text": [
      "**********\n",
      "('<math '\n",
      " 'xmlns=\"http://www.w3.org/1998/Math/MathML\"><mrow><mi>Y</mi><mo>=</mo><mi>ZxZ</mi></mrow></math>')\n"
     ]
    },
    {
     "data": {
      "text/markdown": [
       "<math xmlns=\"http://www.w3.org/1998/Math/MathML\"><mrow><mi>Y</mi><mo>=</mo><mi>ZxZ</mi></mrow></math>"
      ],
      "text/plain": [
       "<IPython.core.display.Markdown object>"
      ]
     },
     "metadata": {},
     "output_type": "display_data"
    },
    {
     "name": "stdout",
     "output_type": "stream",
     "text": [
      "**********\n",
      "('<math '\n",
      " 'xmlns=\"http://www.w3.org/1998/Math/MathML\"><mrow><mi>Y</mi><mo>=</mo><mi>ZXz</mi></mrow></math>')\n"
     ]
    },
    {
     "data": {
      "text/markdown": [
       "<math xmlns=\"http://www.w3.org/1998/Math/MathML\"><mrow><mi>Y</mi><mo>=</mo><mi>ZXz</mi></mrow></math>"
      ],
      "text/plain": [
       "<IPython.core.display.Markdown object>"
      ]
     },
     "metadata": {},
     "output_type": "display_data"
    },
    {
     "name": "stdout",
     "output_type": "stream",
     "text": [
      "**********\n",
      "('<math '\n",
      " 'xmlns=\"http://www.w3.org/1998/Math/MathML\"><mrow><mi>Y</mi><mo>=</mo><mi>ZXZ</mi></mrow></math>')\n"
     ]
    },
    {
     "data": {
      "text/markdown": [
       "<math xmlns=\"http://www.w3.org/1998/Math/MathML\"><mrow><mi>Y</mi><mo>=</mo><mi>ZXZ</mi></mrow></math>"
      ],
      "text/plain": [
       "<IPython.core.display.Markdown object>"
      ]
     },
     "metadata": {},
     "output_type": "display_data"
    },
    {
     "name": "stdout",
     "output_type": "stream",
     "text": [
      "**********\n",
      "('<math '\n",
      " 'xmlns=\"http://www.w3.org/1998/Math/MathML\"><mrow><mi>Y</mi><mo>=</mo><mn>2</mn><mo>&#215;</mo><mi>z</mi></mrow></math>')\n"
     ]
    },
    {
     "data": {
      "text/markdown": [
       "<math xmlns=\"http://www.w3.org/1998/Math/MathML\"><mrow><mi>Y</mi><mo>=</mo><mn>2</mn><mo>&#215;</mo><mi>z</mi></mrow></math>"
      ],
      "text/plain": [
       "<IPython.core.display.Markdown object>"
      ]
     },
     "metadata": {},
     "output_type": "display_data"
    },
    {
     "name": "stdout",
     "output_type": "stream",
     "text": [
      "**********\n",
      "('<math '\n",
      " 'xmlns=\"http://www.w3.org/1998/Math/MathML\"><mrow><mi>Y</mi><mo>=</mo><mn>2</mn><mo>&#215;</mo><mi>Z</mi></mrow></math>')\n"
     ]
    },
    {
     "data": {
      "text/markdown": [
       "<math xmlns=\"http://www.w3.org/1998/Math/MathML\"><mrow><mi>Y</mi><mo>=</mo><mn>2</mn><mo>&#215;</mo><mi>Z</mi></mrow></math>"
      ],
      "text/plain": [
       "<IPython.core.display.Markdown object>"
      ]
     },
     "metadata": {},
     "output_type": "display_data"
    },
    {
     "name": "stdout",
     "output_type": "stream",
     "text": [
      "**********\n",
      "('<math '\n",
      " 'xmlns=\"http://www.w3.org/1998/Math/MathML\"><mrow><mi>Y</mi><mo>=</mo><mn>2</mn><mo>&#215;</mo><mn>2</mn></mrow></math>')\n"
     ]
    },
    {
     "data": {
      "text/markdown": [
       "<math xmlns=\"http://www.w3.org/1998/Math/MathML\"><mrow><mi>Y</mi><mo>=</mo><mn>2</mn><mo>&#215;</mo><mn>2</mn></mrow></math>"
      ],
      "text/plain": [
       "<IPython.core.display.Markdown object>"
      ]
     },
     "metadata": {},
     "output_type": "display_data"
    },
    {
     "name": "stdout",
     "output_type": "stream",
     "text": [
      "**********\n",
      "-------------------------\n",
      "Detecting Boxes for Image:  datasets/object_detection/evaluate/exp0027.png\n",
      "Image shape:  (320, 320, 3)\n",
      "***************\n",
      "Box: \n",
      "left:  154.59269523620605  right:  188.3614158630371  top:  107.13777542114258  bottom  145.16844749450684\n",
      "CNN/ANN Predictions:\n",
      "Symbol_id: 38 , Latex: b , Confidence Score: 93.33 %\n",
      "Symbol_id: 31 , Latex: 5 , Confidence Score: 3.8 %\n",
      "Symbol_id: 64 , Latex: \\delta , Confidence Score: 1.84 %\n"
     ]
    },
    {
     "data": {
      "image/png": "[encoded data removed]",
      "text/plain": [
       "<Figure size 72x72 with 1 Axes>"
      ]
     },
     "metadata": {
      "needs_background": "light"
     },
     "output_type": "display_data"
    },
    {
     "name": "stdout",
     "output_type": "stream",
     "text": [
      "***************\n",
      "Box: \n",
      "left:  253.91778945922852  right:  290.9895133972168  top:  116.93167686462402  bottom  148.91695976257324\n",
      "CNN/ANN Predictions:\n",
      "Symbol_id: 82 , Latex: \\subseteq , Confidence Score: 69.23 %\n",
      "Symbol_id: 80 , Latex: \\subset , Confidence Score: 22.5 %\n",
      "Symbol_id: 39 , Latex: c , Confidence Score: 6.74 %\n",
      "Symbol_id: 2 , Latex: C , Confidence Score: 1.31 %\n"
     ]
    },
    {
     "data": {
      "image/png": "[encoded data removed]",
      "text/plain": [
       "<Figure size 72x72 with 1 Axes>"
      ]
     },
     "metadata": {
      "needs_background": "light"
     },
     "output_type": "display_data"
    },
    {
     "name": "stdout",
     "output_type": "stream",
     "text": [
      "***************\n",
      "Box: \n",
      "left:  214.01288986206055  right:  243.06583404541016  top:  111.87661170959473  bottom  144.5665454864502\n",
      "CNN/ANN Predictions:\n",
      "Symbol_id: 92 , Latex: \\times , Confidence Score: 98.37 %\n",
      "Symbol_id: 23 , Latex: X , Confidence Score: 1.09 %\n"
     ]
    },
    {
     "data": {
      "image/png": "[encoded data removed]",
      "text/plain": [
       "<Figure size 72x72 with 1 Axes>"
      ]
     },
     "metadata": {
      "needs_background": "light"
     },
     "output_type": "display_data"
    },
    {
     "name": "stdout",
     "output_type": "stream",
     "text": [
      "***************\n",
      "Box: \n",
      "left:  11.676771640777588  right:  52.59812831878662  top:  115.43777465820312  bottom  150.49249649047852\n",
      "CNN/ANN Predictions:\n",
      "Symbol_id: 37 , Latex: a , Confidence Score: 82.5 %\n",
      "Symbol_id: 103 , Latex: \\ohm , Confidence Score: 14.21 %\n",
      "Symbol_id: 16 , Latex: Q , Confidence Score: 1.23 %\n"
     ]
    },
    {
     "data": {
      "image/png": "[encoded data removed]",
      "text/plain": [
       "<Figure size 72x72 with 1 Axes>"
      ]
     },
     "metadata": {
      "needs_background": "light"
     },
     "output_type": "display_data"
    },
    {
     "name": "stdout",
     "output_type": "stream",
     "text": [
      "***************\n",
      "Box: \n",
      "left:  73.00946712493896  right:  115.47347068786621  top:  115.36457061767578  bottom  148.05694580078125\n",
      "CNN/ANN Predictions:\n",
      "Symbol_id: 104 , Latex: = , Confidence Score: 89.85 %\n",
      "Symbol_id: 94 , Latex: \\div , Confidence Score: 3.89 %\n",
      "Symbol_id: 81 , Latex: \\supset , Confidence Score: 2.6 %\n",
      "Symbol_id: 83 , Latex: - , Confidence Score: 1.52 %\n"
     ]
    },
    {
     "data": {
      "image/png": "[encoded data removed]",
      "text/plain": [
       "<Figure size 72x72 with 1 Axes>"
      ]
     },
     "metadata": {
      "needs_background": "light"
     },
     "output_type": "display_data"
    },
    {
     "data": {
      "image/png": "[encoded data removed]",
      "text/plain": [
       "<Figure size 504x504 with 1 Axes>"
      ]
     },
     "metadata": {
      "needs_background": "light"
     },
     "output_type": "display_data"
    },
    {
     "name": "stdout",
     "output_type": "stream",
     "text": [
      "Generated XMLs\n",
      "('<math '\n",
      " 'xmlns=\"http://www.w3.org/1998/Math/MathML\"><mrow><mi>a</mi><mo>=</mo><mi>b</mi><mo>&#215;</mo><mi>c</mi></mrow></math>')\n"
     ]
    },
    {
     "data": {
      "text/markdown": [
       "<math xmlns=\"http://www.w3.org/1998/Math/MathML\"><mrow><mi>a</mi><mo>=</mo><mi>b</mi><mo>&#215;</mo><mi>c</mi></mrow></math>"
      ],
      "text/plain": [
       "<IPython.core.display.Markdown object>"
      ]
     },
     "metadata": {},
     "output_type": "display_data"
    },
    {
     "name": "stdout",
     "output_type": "stream",
     "text": [
      "**********\n",
      "('<math '\n",
      " 'xmlns=\"http://www.w3.org/1998/Math/MathML\"><mrow><mi>a</mi><mo>=</mo><mi>bxc</mi></mrow></math>')\n"
     ]
    },
    {
     "data": {
      "text/markdown": [
       "<math xmlns=\"http://www.w3.org/1998/Math/MathML\"><mrow><mi>a</mi><mo>=</mo><mi>bxc</mi></mrow></math>"
      ],
      "text/plain": [
       "<IPython.core.display.Markdown object>"
      ]
     },
     "metadata": {},
     "output_type": "display_data"
    },
    {
     "name": "stdout",
     "output_type": "stream",
     "text": [
      "**********\n",
      "('<math '\n",
      " 'xmlns=\"http://www.w3.org/1998/Math/MathML\"><mrow><mi>a</mi><mo>=</mo><mi>bXc</mi></mrow></math>')\n"
     ]
    },
    {
     "data": {
      "text/markdown": [
       "<math xmlns=\"http://www.w3.org/1998/Math/MathML\"><mrow><mi>a</mi><mo>=</mo><mi>bXc</mi></mrow></math>"
      ],
      "text/plain": [
       "<IPython.core.display.Markdown object>"
      ]
     },
     "metadata": {},
     "output_type": "display_data"
    },
    {
     "name": "stdout",
     "output_type": "stream",
     "text": [
      "**********\n",
      "-------------------------\n",
      "Detecting Boxes for Image:  datasets/object_detection/evaluate/exp0030.png\n",
      "Image shape:  (320, 320, 3)\n",
      "***************\n",
      "Box: \n",
      "left:  276.8107604980469  right:  302.25046157836914  top:  117.35064506530762  bottom  153.64160537719727\n",
      "CNN/ANN Predictions:\n",
      "Symbol_id: 60 , Latex: y , Confidence Score: 79.03 %\n",
      "Symbol_id: 89 , Latex: \\# , Confidence Score: 9.38 %\n",
      "Symbol_id: 43 , Latex: g , Confidence Score: 5.02 %\n",
      "Symbol_id: 88 , Latex: \\& , Confidence Score: 2.92 %\n",
      "Symbol_id: 90 , Latex: \\% , Confidence Score: 2.27 %\n"
     ]
    },
    {
     "data": {
      "image/png": "[encoded data removed]",
      "text/plain": [
       "<Figure size 72x72 with 1 Axes>"
      ]
     },
     "metadata": {
      "needs_background": "light"
     },
     "output_type": "display_data"
    },
    {
     "name": "stdout",
     "output_type": "stream",
     "text": [
      "***************\n",
      "Box: \n",
      "left:  18.98120880126953  right:  55.57942867279053  top:  113.63329887390137  bottom  148.81891250610352\n",
      "CNN/ANN Predictions:\n",
      "Symbol_id: 61 , Latex: z , Confidence Score: 83.54 %\n",
      "Symbol_id: 25 , Latex: Z , Confidence Score: 15.99 %\n"
     ]
    },
    {
     "data": {
      "image/png": "[encoded data removed]",
      "text/plain": [
       "<Figure size 72x72 with 1 Axes>"
      ]
     },
     "metadata": {
      "needs_background": "light"
     },
     "output_type": "display_data"
    },
    {
     "name": "stdout",
     "output_type": "stream",
     "text": [
      "***************\n",
      "Box: \n",
      "left:  212.36135482788086  right:  246.8006134033203  top:  112.35795974731445  bottom  146.02126121520996\n",
      "CNN/ANN Predictions:\n",
      "Symbol_id: 94 , Latex: \\div , Confidence Score: 99.86 %\n"
     ]
    },
    {
     "data": {
      "image/png": "[encoded data removed]",
      "text/plain": [
       "<Figure size 72x72 with 1 Axes>"
      ]
     },
     "metadata": {
      "needs_background": "light"
     },
     "output_type": "display_data"
    },
    {
     "name": "stdout",
     "output_type": "stream",
     "text": [
      "***************\n",
      "Box: \n",
      "left:  151.5873622894287  right:  183.3692169189453  top:  115.90517997741699  bottom  149.99353408813477\n",
      "CNN/ANN Predictions:\n",
      "Symbol_id: 92 , Latex: \\times , Confidence Score: 83.52 %\n",
      "Symbol_id: 59 , Latex: x , Confidence Score: 14.97 %\n",
      "Symbol_id: 23 , Latex: X , Confidence Score: 1.44 %\n"
     ]
    },
    {
     "data": {
      "image/png": "[encoded data removed]",
      "text/plain": [
       "<Figure size 72x72 with 1 Axes>"
      ]
     },
     "metadata": {
      "needs_background": "light"
     },
     "output_type": "display_data"
    },
    {
     "name": "stdout",
     "output_type": "stream",
     "text": [
      "***************\n",
      "Box: \n",
      "left:  88.14238548278809  right:  118.78169059753418  top:  113.9540958404541  bottom  146.32189750671387\n",
      "CNN/ANN Predictions:\n",
      "Symbol_id: 104 , Latex: = , Confidence Score: 98.06 %\n"
     ]
    },
    {
     "data": {
      "image/png": "[encoded data removed]",
      "text/plain": [
       "<Figure size 72x72 with 1 Axes>"
      ]
     },
     "metadata": {
      "needs_background": "light"
     },
     "output_type": "display_data"
    },
    {
     "data": {
      "image/png": "[encoded data removed]",
      "text/plain": [
       "<Figure size 504x504 with 1 Axes>"
      ]
     },
     "metadata": {
      "needs_background": "light"
     },
     "output_type": "display_data"
    },
    {
     "name": "stdout",
     "output_type": "stream",
     "text": [
      "Generated XMLs\n",
      "('<math '\n",
      " 'xmlns=\"http://www.w3.org/1998/Math/MathML\"><mrow><mi>z</mi><mo>=</mo><mi>x</mi><mo>&#247;</mo><mi>y</mi></mrow></math>')\n"
     ]
    },
    {
     "data": {
      "text/markdown": [
       "<math xmlns=\"http://www.w3.org/1998/Math/MathML\"><mrow><mi>z</mi><mo>=</mo><mi>x</mi><mo>&#247;</mo><mi>y</mi></mrow></math>"
      ],
      "text/plain": [
       "<IPython.core.display.Markdown object>"
      ]
     },
     "metadata": {},
     "output_type": "display_data"
    },
    {
     "name": "stdout",
     "output_type": "stream",
     "text": [
      "**********\n",
      "('<math '\n",
      " 'xmlns=\"http://www.w3.org/1998/Math/MathML\"><mrow><mi>z</mi><mo>=</mo><mi>x</mi><mo>&#247;</mo><mi>Y</mi></mrow></math>')\n"
     ]
    },
    {
     "data": {
      "text/markdown": [
       "<math xmlns=\"http://www.w3.org/1998/Math/MathML\"><mrow><mi>z</mi><mo>=</mo><mi>x</mi><mo>&#247;</mo><mi>Y</mi></mrow></math>"
      ],
      "text/plain": [
       "<IPython.core.display.Markdown object>"
      ]
     },
     "metadata": {},
     "output_type": "display_data"
    },
    {
     "name": "stdout",
     "output_type": "stream",
     "text": [
      "**********\n",
      "('<math '\n",
      " 'xmlns=\"http://www.w3.org/1998/Math/MathML\"><mrow><mi>z</mi><mo>=</mo><mi>X</mi><mo>&#247;</mo><mi>y</mi></mrow></math>')\n"
     ]
    },
    {
     "data": {
      "text/markdown": [
       "<math xmlns=\"http://www.w3.org/1998/Math/MathML\"><mrow><mi>z</mi><mo>=</mo><mi>X</mi><mo>&#247;</mo><mi>y</mi></mrow></math>"
      ],
      "text/plain": [
       "<IPython.core.display.Markdown object>"
      ]
     },
     "metadata": {},
     "output_type": "display_data"
    },
    {
     "name": "stdout",
     "output_type": "stream",
     "text": [
      "**********\n",
      "('<math '\n",
      " 'xmlns=\"http://www.w3.org/1998/Math/MathML\"><mrow><mi>z</mi><mo>=</mo><mi>X</mi><mo>&#247;</mo><mi>Y</mi></mrow></math>')\n"
     ]
    },
    {
     "data": {
      "text/markdown": [
       "<math xmlns=\"http://www.w3.org/1998/Math/MathML\"><mrow><mi>z</mi><mo>=</mo><mi>X</mi><mo>&#247;</mo><mi>Y</mi></mrow></math>"
      ],
      "text/plain": [
       "<IPython.core.display.Markdown object>"
      ]
     },
     "metadata": {},
     "output_type": "display_data"
    },
    {
     "name": "stdout",
     "output_type": "stream",
     "text": [
      "**********\n",
      "('<math '\n",
      " 'xmlns=\"http://www.w3.org/1998/Math/MathML\"><mrow><mi>Z</mi><mo>=</mo><mi>x</mi><mo>&#247;</mo><mi>y</mi></mrow></math>')\n"
     ]
    },
    {
     "data": {
      "text/markdown": [
       "<math xmlns=\"http://www.w3.org/1998/Math/MathML\"><mrow><mi>Z</mi><mo>=</mo><mi>x</mi><mo>&#247;</mo><mi>y</mi></mrow></math>"
      ],
      "text/plain": [
       "<IPython.core.display.Markdown object>"
      ]
     },
     "metadata": {},
     "output_type": "display_data"
    },
    {
     "name": "stdout",
     "output_type": "stream",
     "text": [
      "**********\n",
      "('<math '\n",
      " 'xmlns=\"http://www.w3.org/1998/Math/MathML\"><mrow><mi>Z</mi><mo>=</mo><mi>x</mi><mo>&#247;</mo><mi>Y</mi></mrow></math>')\n"
     ]
    },
    {
     "data": {
      "text/markdown": [
       "<math xmlns=\"http://www.w3.org/1998/Math/MathML\"><mrow><mi>Z</mi><mo>=</mo><mi>x</mi><mo>&#247;</mo><mi>Y</mi></mrow></math>"
      ],
      "text/plain": [
       "<IPython.core.display.Markdown object>"
      ]
     },
     "metadata": {},
     "output_type": "display_data"
    },
    {
     "name": "stdout",
     "output_type": "stream",
     "text": [
      "**********\n",
      "('<math '\n",
      " 'xmlns=\"http://www.w3.org/1998/Math/MathML\"><mrow><mi>Z</mi><mo>=</mo><mi>X</mi><mo>&#247;</mo><mi>y</mi></mrow></math>')\n"
     ]
    },
    {
     "data": {
      "text/markdown": [
       "<math xmlns=\"http://www.w3.org/1998/Math/MathML\"><mrow><mi>Z</mi><mo>=</mo><mi>X</mi><mo>&#247;</mo><mi>y</mi></mrow></math>"
      ],
      "text/plain": [
       "<IPython.core.display.Markdown object>"
      ]
     },
     "metadata": {},
     "output_type": "display_data"
    },
    {
     "name": "stdout",
     "output_type": "stream",
     "text": [
      "**********\n",
      "('<math '\n",
      " 'xmlns=\"http://www.w3.org/1998/Math/MathML\"><mrow><mi>Z</mi><mo>=</mo><mi>X</mi><mo>&#247;</mo><mi>Y</mi></mrow></math>')\n"
     ]
    },
    {
     "data": {
      "text/markdown": [
       "<math xmlns=\"http://www.w3.org/1998/Math/MathML\"><mrow><mi>Z</mi><mo>=</mo><mi>X</mi><mo>&#247;</mo><mi>Y</mi></mrow></math>"
      ],
      "text/plain": [
       "<IPython.core.display.Markdown object>"
      ]
     },
     "metadata": {},
     "output_type": "display_data"
    },
    {
     "name": "stdout",
     "output_type": "stream",
     "text": [
      "**********\n",
      "-------------------------\n",
      "Detecting Boxes for Image:  datasets/object_detection/evaluate/exp0035.png\n",
      "Image shape:  (320, 320, 3)\n",
      "***************\n",
      "Box: \n",
      "left:  30.268211364746094  right:  49.52845096588135  top:  111.52939796447754  bottom  148.836088180542\n",
      "CNN/ANN Predictions:\n",
      "Symbol_id: 1 , Latex: B , Confidence Score: 98.9 %\n"
     ]
    },
    {
     "data": {
      "image/png": "[encoded data removed]",
      "text/plain": [
       "<Figure size 72x72 with 1 Axes>"
      ]
     },
     "metadata": {
      "needs_background": "light"
     },
     "output_type": "display_data"
    },
    {
     "name": "stdout",
     "output_type": "stream",
     "text": [
      "***************\n",
      "Box: \n",
      "left:  73.0113172531128  right:  106.86600685119629  top:  113.58922958374023  bottom  150.80995559692383\n",
      "CNN/ANN Predictions:\n",
      "Symbol_id: 104 , Latex: = , Confidence Score: 99.42 %\n"
     ]
    },
    {
     "data": {
      "image/png": "[encoded data removed]",
      "text/plain": [
       "<Figure size 72x72 with 1 Axes>"
      ]
     },
     "metadata": {
      "needs_background": "light"
     },
     "output_type": "display_data"
    },
    {
     "name": "stdout",
     "output_type": "stream",
     "text": [
      "***************\n",
      "Box: \n",
      "left:  226.45605087280273  right:  252.58251190185547  top:  108.83499145507812  bottom  140.3049373626709\n",
      "CNN/ANN Predictions:\n",
      "Symbol_id: 3 , Latex: D , Confidence Score: 98.0 %\n",
      "Symbol_id: 51 , Latex: o , Confidence Score: 1.1 %\n"
     ]
    },
    {
     "data": {
      "image/png": "[encoded data removed]",
      "text/plain": [
       "<Figure size 72x72 with 1 Axes>"
      ]
     },
     "metadata": {
      "needs_background": "light"
     },
     "output_type": "display_data"
    },
    {
     "name": "stdout",
     "output_type": "stream",
     "text": [
      "***************\n",
      "Box: \n",
      "left:  120.15374183654785  right:  152.28909492492676  top:  110.05145072937012  bottom  142.37777709960938\n",
      "CNN/ANN Predictions:\n",
      "Symbol_id: 0 , Latex: A , Confidence Score: 99.63 %\n"
     ]
    },
    {
     "data": {
      "image/png": "[encoded data removed]",
      "text/plain": [
       "<Figure size 72x72 with 1 Axes>"
      ]
     },
     "metadata": {
      "needs_background": "light"
     },
     "output_type": "display_data"
    },
    {
     "name": "stdout",
     "output_type": "stream",
     "text": [
      "***************\n",
      "Box: \n",
      "left:  164.56459045410156  right:  202.98128128051758  top:  108.49658012390137  bottom  144.1020393371582\n",
      "CNN/ANN Predictions:\n",
      "Symbol_id: 94 , Latex: \\div , Confidence Score: 99.94 %\n"
     ]
    },
    {
     "data": {
      "image/png": "[encoded data removed]",
      "text/plain": [
       "<Figure size 72x72 with 1 Axes>"
      ]
     },
     "metadata": {
      "needs_background": "light"
     },
     "output_type": "display_data"
    },
    {
     "data": {
      "image/png": "[encoded data removed]",
      "text/plain": [
       "<Figure size 504x504 with 1 Axes>"
      ]
     },
     "metadata": {
      "needs_background": "light"
     },
     "output_type": "display_data"
    },
    {
     "name": "stdout",
     "output_type": "stream",
     "text": [
      "Generated XMLs\n",
      "('<math '\n",
      " 'xmlns=\"http://www.w3.org/1998/Math/MathML\"><mrow><mi>B</mi><mo>=</mo><mi>A</mi><mo>&#247;</mo><mi>D</mi></mrow></math>')\n"
     ]
    },
    {
     "data": {
      "text/markdown": [
       "<math xmlns=\"http://www.w3.org/1998/Math/MathML\"><mrow><mi>B</mi><mo>=</mo><mi>A</mi><mo>&#247;</mo><mi>D</mi></mrow></math>"
      ],
      "text/plain": [
       "<IPython.core.display.Markdown object>"
      ]
     },
     "metadata": {},
     "output_type": "display_data"
    },
    {
     "name": "stdout",
     "output_type": "stream",
     "text": [
      "**********\n",
      "-------------------------\n",
      "Detecting Boxes for Image:  datasets/object_detection/evaluate/exp0039.png\n",
      "Image shape:  (320, 320, 3)\n",
      "***************\n",
      "Box: \n",
      "left:  243.24983596801758  right:  277.6800346374512  top:  107.34728813171387  bottom  134.0103054046631\n",
      "CNN/ANN Predictions:\n",
      "Symbol_id: 92 , Latex: \\times , Confidence Score: 99.89 %\n"
     ]
    },
    {
     "data": {
      "image/png": "[encoded data removed]",
      "text/plain": [
       "<Figure size 72x72 with 1 Axes>"
      ]
     },
     "metadata": {
      "needs_background": "light"
     },
     "output_type": "display_data"
    },
    {
     "name": "stdout",
     "output_type": "stream",
     "text": [
      "***************\n",
      "Box: \n",
      "left:  62.09640026092529  right:  91.68543815612793  top:  101.64618492126465  bottom  133.9903736114502\n",
      "CNN/ANN Predictions:\n",
      "Symbol_id: 104 , Latex: = , Confidence Score: 98.7 %\n"
     ]
    },
    {
     "data": {
      "image/png": "[encoded data removed]",
      "text/plain": [
       "<Figure size 72x72 with 1 Axes>"
      ]
     },
     "metadata": {
      "needs_background": "light"
     },
     "output_type": "display_data"
    },
    {
     "name": "stdout",
     "output_type": "stream",
     "text": [
      "***************\n",
      "Box: \n",
      "left:  4.227026104927063  right:  42.568068504333496  top:  104.87212181091309  bottom  134.06046867370605\n",
      "CNN/ANN Predictions:\n",
      "Symbol_id: 61 , Latex: z , Confidence Score: 73.72 %\n",
      "Symbol_id: 25 , Latex: Z , Confidence Score: 24.56 %\n",
      "Symbol_id: 28 , Latex: 2 , Confidence Score: 1.2 %\n"
     ]
    },
    {
     "data": {
      "image/png": "[encoded data removed]",
      "text/plain": [
       "<Figure size 72x72 with 1 Axes>"
      ]
     },
     "metadata": {
      "needs_background": "light"
     },
     "output_type": "display_data"
    },
    {
     "name": "stdout",
     "output_type": "stream",
     "text": [
      "***************\n",
      "Box: \n",
      "left:  113.47088813781738  right:  130.2757740020752  top:  105.17996788024902  bottom  141.09862327575684\n",
      "CNN/ANN Predictions:\n",
      "Symbol_id: 60 , Latex: y , Confidence Score: 26.99 %\n",
      "Symbol_id: 97 , Latex: \\forall , Confidence Score: 25.91 %\n",
      "Symbol_id: 24 , Latex: Y , Confidence Score: 12.76 %\n",
      "Symbol_id: 79 , Latex: > , Confidence Score: 7.6 %\n",
      "Symbol_id: 87 , Latex: \\} , Confidence Score: 6.94 %\n",
      "Symbol_id: 70 , Latex: \\mu , Confidence Score: 6.8 %\n",
      "Symbol_id: 51 , Latex: o , Confidence Score: 5.38 %\n",
      "Symbol_id: 72 , Latex: \\rho , Confidence Score: 1.77 %\n",
      "Symbol_id: 77 , Latex: \\geq , Confidence Score: 1.73 %\n",
      "Symbol_id: 98 , Latex: \\exists , Confidence Score: 1.13 %\n"
     ]
    },
    {
     "data": {
      "image/png": "[encoded data removed]",
      "text/plain": [
       "<Figure size 72x72 with 1 Axes>"
      ]
     },
     "metadata": {
      "needs_background": "light"
     },
     "output_type": "display_data"
    },
    {
     "name": "stdout",
     "output_type": "stream",
     "text": [
      "***************\n",
      "Box: \n",
      "left:  173.57954025268555  right:  207.4458885192871  top:  105.87851524353027  bottom  137.18904495239258\n",
      "CNN/ANN Predictions:\n",
      "Symbol_id: 90 , Latex: \\% , Confidence Score: 81.27 %\n",
      "Symbol_id: 59 , Latex: x , Confidence Score: 6.4 %\n",
      "Symbol_id: 94 , Latex: \\div , Confidence Score: 3.48 %\n",
      "Symbol_id: 61 , Latex: z , Confidence Score: 2.42 %\n",
      "Symbol_id: 63 , Latex: \\gamma , Confidence Score: 1.51 %\n"
     ]
    },
    {
     "data": {
      "image/png": "[encoded data removed]",
      "text/plain": [
       "<Figure size 72x72 with 1 Axes>"
      ]
     },
     "metadata": {
      "needs_background": "light"
     },
     "output_type": "display_data"
    },
    {
     "data": {
      "image/png": "[encoded data removed]",
      "text/plain": [
       "<Figure size 504x504 with 1 Axes>"
      ]
     },
     "metadata": {
      "needs_background": "light"
     },
     "output_type": "display_data"
    },
    {
     "name": "stdout",
     "output_type": "stream",
     "text": [
      "Generated XMLs\n",
      "('<math '\n",
      " 'xmlns=\"http://www.w3.org/1998/Math/MathML\"><mrow><mi>z</mi><mo>=</mo><mi>y</mi><mo>%</mo><mi>x</mi></mrow></math>')\n"
     ]
    },
    {
     "data": {
      "text/markdown": [
       "<math xmlns=\"http://www.w3.org/1998/Math/MathML\"><mrow><mi>z</mi><mo>=</mo><mi>y</mi><mo>%</mo><mi>x</mi></mrow></math>"
      ],
      "text/plain": [
       "<IPython.core.display.Markdown object>"
      ]
     },
     "metadata": {},
     "output_type": "display_data"
    },
    {
     "name": "stdout",
     "output_type": "stream",
     "text": [
      "**********\n",
      "('<math '\n",
      " 'xmlns=\"http://www.w3.org/1998/Math/MathML\"><mrow><mi>z</mi><mo>=</mo><mi>y</mi><mo>%</mo><mi>X</mi></mrow></math>')\n"
     ]
    },
    {
     "data": {
      "text/markdown": [
       "<math xmlns=\"http://www.w3.org/1998/Math/MathML\"><mrow><mi>z</mi><mo>=</mo><mi>y</mi><mo>%</mo><mi>X</mi></mrow></math>"
      ],
      "text/plain": [
       "<IPython.core.display.Markdown object>"
      ]
     },
     "metadata": {},
     "output_type": "display_data"
    },
    {
     "name": "stdout",
     "output_type": "stream",
     "text": [
      "**********\n",
      "('<math '\n",
      " 'xmlns=\"http://www.w3.org/1998/Math/MathML\"><mrow><mi>z</mi><mo>=</mo><mi>Y</mi><mo>%</mo><mi>x</mi></mrow></math>')\n"
     ]
    },
    {
     "data": {
      "text/markdown": [
       "<math xmlns=\"http://www.w3.org/1998/Math/MathML\"><mrow><mi>z</mi><mo>=</mo><mi>Y</mi><mo>%</mo><mi>x</mi></mrow></math>"
      ],
      "text/plain": [
       "<IPython.core.display.Markdown object>"
      ]
     },
     "metadata": {},
     "output_type": "display_data"
    },
    {
     "name": "stdout",
     "output_type": "stream",
     "text": [
      "**********\n",
      "('<math '\n",
      " 'xmlns=\"http://www.w3.org/1998/Math/MathML\"><mrow><mi>z</mi><mo>=</mo><mi>Y</mi><mo>%</mo><mi>X</mi></mrow></math>')\n"
     ]
    },
    {
     "data": {
      "text/markdown": [
       "<math xmlns=\"http://www.w3.org/1998/Math/MathML\"><mrow><mi>z</mi><mo>=</mo><mi>Y</mi><mo>%</mo><mi>X</mi></mrow></math>"
      ],
      "text/plain": [
       "<IPython.core.display.Markdown object>"
      ]
     },
     "metadata": {},
     "output_type": "display_data"
    },
    {
     "name": "stdout",
     "output_type": "stream",
     "text": [
      "**********\n",
      "('<math '\n",
      " 'xmlns=\"http://www.w3.org/1998/Math/MathML\"><mrow><mi>Z</mi><mo>=</mo><mi>y</mi><mo>%</mo><mi>x</mi></mrow></math>')\n"
     ]
    },
    {
     "data": {
      "text/markdown": [
       "<math xmlns=\"http://www.w3.org/1998/Math/MathML\"><mrow><mi>Z</mi><mo>=</mo><mi>y</mi><mo>%</mo><mi>x</mi></mrow></math>"
      ],
      "text/plain": [
       "<IPython.core.display.Markdown object>"
      ]
     },
     "metadata": {},
     "output_type": "display_data"
    },
    {
     "name": "stdout",
     "output_type": "stream",
     "text": [
      "**********\n",
      "('<math '\n",
      " 'xmlns=\"http://www.w3.org/1998/Math/MathML\"><mrow><mi>Z</mi><mo>=</mo><mi>y</mi><mo>%</mo><mi>X</mi></mrow></math>')\n"
     ]
    },
    {
     "data": {
      "text/markdown": [
       "<math xmlns=\"http://www.w3.org/1998/Math/MathML\"><mrow><mi>Z</mi><mo>=</mo><mi>y</mi><mo>%</mo><mi>X</mi></mrow></math>"
      ],
      "text/plain": [
       "<IPython.core.display.Markdown object>"
      ]
     },
     "metadata": {},
     "output_type": "display_data"
    },
    {
     "name": "stdout",
     "output_type": "stream",
     "text": [
      "**********\n",
      "('<math '\n",
      " 'xmlns=\"http://www.w3.org/1998/Math/MathML\"><mrow><mi>Z</mi><mo>=</mo><mi>Y</mi><mo>%</mo><mi>x</mi></mrow></math>')\n"
     ]
    },
    {
     "data": {
      "text/markdown": [
       "<math xmlns=\"http://www.w3.org/1998/Math/MathML\"><mrow><mi>Z</mi><mo>=</mo><mi>Y</mi><mo>%</mo><mi>x</mi></mrow></math>"
      ],
      "text/plain": [
       "<IPython.core.display.Markdown object>"
      ]
     },
     "metadata": {},
     "output_type": "display_data"
    },
    {
     "name": "stdout",
     "output_type": "stream",
     "text": [
      "**********\n",
      "('<math '\n",
      " 'xmlns=\"http://www.w3.org/1998/Math/MathML\"><mrow><mi>Z</mi><mo>=</mo><mi>Y</mi><mo>%</mo><mi>X</mi></mrow></math>')\n"
     ]
    },
    {
     "data": {
      "text/markdown": [
       "<math xmlns=\"http://www.w3.org/1998/Math/MathML\"><mrow><mi>Z</mi><mo>=</mo><mi>Y</mi><mo>%</mo><mi>X</mi></mrow></math>"
      ],
      "text/plain": [
       "<IPython.core.display.Markdown object>"
      ]
     },
     "metadata": {},
     "output_type": "display_data"
    },
    {
     "name": "stdout",
     "output_type": "stream",
     "text": [
      "**********\n",
      "-------------------------\n",
      "Detecting Boxes for Image:  datasets/object_detection/evaluate/exp0042.png\n",
      "Image shape:  (320, 320, 3)\n",
      "***************\n",
      "Box: \n",
      "left:  13.2082200050354  right:  55.59993267059326  top:  90.39080619812012  bottom  121.66057586669922\n",
      "CNN/ANN Predictions:\n",
      "Symbol_id: 69 , Latex: \\lambda , Confidence Score: 98.53 %\n",
      "Symbol_id: 96 , Latex: \\perp , Confidence Score: 1.07 %\n"
     ]
    },
    {
     "data": {
      "image/png": "[encoded data removed]",
      "text/plain": [
       "<Figure size 72x72 with 1 Axes>"
      ]
     },
     "metadata": {
      "needs_background": "light"
     },
     "output_type": "display_data"
    },
    {
     "name": "stdout",
     "output_type": "stream",
     "text": [
      "***************\n",
      "Box: \n",
      "left:  175.9267234802246  right:  204.41461563110352  top:  87.92657852172852  bottom  116.02828979492188\n",
      "CNN/ANN Predictions:\n",
      "Symbol_id: 84 , Latex: + , Confidence Score: 96.97 %\n",
      "Symbol_id: 96 , Latex: \\perp , Confidence Score: 3.01 %\n"
     ]
    },
    {
     "data": {
      "image/png": "[encoded data removed]",
      "text/plain": [
       "<Figure size 72x72 with 1 Axes>"
      ]
     },
     "metadata": {
      "needs_background": "light"
     },
     "output_type": "display_data"
    },
    {
     "name": "stdout",
     "output_type": "stream",
     "text": [
      "***************\n",
      "Box: \n",
      "left:  217.89793014526367  right:  245.28398513793945  top:  89.97403144836426  bottom  115.60076713562012\n",
      "CNN/ANN Predictions:\n",
      "Symbol_id: 25 , Latex: Z , Confidence Score: 70.55 %\n",
      "Symbol_id: 61 , Latex: z , Confidence Score: 26.28 %\n",
      "Symbol_id: 28 , Latex: 2 , Confidence Score: 3.1 %\n"
     ]
    },
    {
     "data": {
      "image/png": "[encoded data removed]",
      "text/plain": [
       "<Figure size 72x72 with 1 Axes>"
      ]
     },
     "metadata": {
      "needs_background": "light"
     },
     "output_type": "display_data"
    },
    {
     "name": "stdout",
     "output_type": "stream",
     "text": [
      "***************\n",
      "Box: \n",
      "left:  126.76068305969238  right:  157.14746475219727  top:  89.87187385559082  bottom  126.12080574035645\n",
      "CNN/ANN Predictions:\n",
      "Symbol_id: 63 , Latex: \\gamma , Confidence Score: 95.11 %\n",
      "Symbol_id: 60 , Latex: y , Confidence Score: 3.04 %\n",
      "Symbol_id: 93 , Latex: \\ast , Confidence Score: 1.18 %\n"
     ]
    },
    {
     "data": {
      "image/png": "[encoded data removed]",
      "text/plain": [
       "<Figure size 72x72 with 1 Axes>"
      ]
     },
     "metadata": {
      "needs_background": "light"
     },
     "output_type": "display_data"
    },
    {
     "name": "stdout",
     "output_type": "stream",
     "text": [
      "***************\n",
      "Box: \n",
      "left:  81.64422035217285  right:  111.7056655883789  top:  89.2601203918457  bottom  123.43378067016602\n",
      "CNN/ANN Predictions:\n",
      "Symbol_id: 90 , Latex: \\% , Confidence Score: 99.93 %\n"
     ]
    },
    {
     "data": {
      "image/png": "[encoded data removed]",
      "text/plain": [
       "<Figure size 72x72 with 1 Axes>"
      ]
     },
     "metadata": {
      "needs_background": "light"
     },
     "output_type": "display_data"
    },
    {
     "data": {
      "image/png": "[encoded data removed]",
      "text/plain": [
       "<Figure size 504x504 with 1 Axes>"
      ]
     },
     "metadata": {
      "needs_background": "light"
     },
     "output_type": "display_data"
    },
    {
     "name": "stdout",
     "output_type": "stream",
     "text": [
      "Generated XMLs\n",
      "-------------------------\n",
      "Detecting Boxes for Image:  datasets/object_detection/evaluate/exp0053.png\n",
      "Image shape:  (320, 320, 3)\n",
      "***************\n",
      "Box: \n",
      "left:  27.242963314056396  right:  58.65066051483154  top:  109.55855369567871  bottom  145.4569435119629\n",
      "CNN/ANN Predictions:\n",
      "Symbol_id: 0 , Latex: A , Confidence Score: 95.86 %\n",
      "Symbol_id: 65 , Latex: \\Delta , Confidence Score: 3.39 %\n"
     ]
    },
    {
     "data": {
      "image/png": "[encoded data removed]",
      "text/plain": [
       "<Figure size 72x72 with 1 Axes>"
      ]
     },
     "metadata": {
      "needs_background": "light"
     },
     "output_type": "display_data"
    },
    {
     "name": "stdout",
     "output_type": "stream",
     "text": [
      "***************\n",
      "Box: \n",
      "left:  140.7285976409912  right:  170.33119201660156  top:  108.65496635437012  bottom  142.70156860351562\n",
      "CNN/ANN Predictions:\n",
      "Symbol_id: 91 , Latex: \\cup , Confidence Score: 87.95 %\n",
      "Symbol_id: 56 , Latex: u , Confidence Score: 8.7 %\n",
      "Symbol_id: 20 , Latex: U , Confidence Score: 2.32 %\n"
     ]
    },
    {
     "data": {
      "image/png": "[encoded data removed]",
      "text/plain": [
       "<Figure size 72x72 with 1 Axes>"
      ]
     },
     "metadata": {
      "needs_background": "light"
     },
     "output_type": "display_data"
    },
    {
     "name": "stdout",
     "output_type": "stream",
     "text": [
      "***************\n",
      "Box: \n",
      "left:  252.79394149780273  right:  274.809513092041  top:  107.59018898010254  bottom  141.1984920501709\n",
      "CNN/ANN Predictions:\n",
      "Symbol_id: 76 , Latex: \\leq , Confidence Score: 66.88 %\n",
      "Symbol_id: 82 , Latex: \\subseteq , Confidence Score: 8.2 %\n",
      "Symbol_id: 28 , Latex: 2 , Confidence Score: 6.06 %\n",
      "Symbol_id: 99 , Latex: [ , Confidence Score: 4.81 %\n",
      "Symbol_id: 39 , Latex: c , Confidence Score: 4.58 %\n",
      "Symbol_id: 94 , Latex: \\div , Confidence Score: 3.91 %\n",
      "Symbol_id: 45 , Latex: i , Confidence Score: 1.36 %\n",
      "Symbol_id: 25 , Latex: Z , Confidence Score: 1.13 %\n"
     ]
    },
    {
     "data": {
      "image/png": "[encoded data removed]",
      "text/plain": [
       "<Figure size 72x72 with 1 Axes>"
      ]
     },
     "metadata": {
      "needs_background": "light"
     },
     "output_type": "display_data"
    },
    {
     "name": "stdout",
     "output_type": "stream",
     "text": [
      "***************\n",
      "Box: \n",
      "left:  198.0530548095703  right:  226.97725296020508  top:  108.17239761352539  bottom  138.82519721984863\n",
      "CNN/ANN Predictions:\n",
      "Symbol_id: 95 , Latex: \\cap , Confidence Score: 99.52 %\n"
     ]
    },
    {
     "data": {
      "image/png": "[encoded data removed]",
      "text/plain": [
       "<Figure size 72x72 with 1 Axes>"
      ]
     },
     "metadata": {
      "needs_background": "light"
     },
     "output_type": "display_data"
    },
    {
     "name": "stdout",
     "output_type": "stream",
     "text": [
      "***************\n",
      "Box: \n",
      "left:  78.21629524230957  right:  106.6722297668457  top:  112.37457275390625  bottom  142.4365234375\n",
      "CNN/ANN Predictions:\n",
      "Symbol_id: 104 , Latex: = , Confidence Score: 99.44 %\n"
     ]
    },
    {
     "data": {
      "image/png": "[encoded data removed]",
      "text/plain": [
       "<Figure size 72x72 with 1 Axes>"
      ]
     },
     "metadata": {
      "needs_background": "light"
     },
     "output_type": "display_data"
    },
    {
     "data": {
      "image/png": "[encoded data removed]",
      "text/plain": [
       "<Figure size 504x504 with 1 Axes>"
      ]
     },
     "metadata": {
      "needs_background": "light"
     },
     "output_type": "display_data"
    },
    {
     "name": "stdout",
     "output_type": "stream",
     "text": [
      "Generated XMLs\n"
     ]
    }
   ],
   "source": [
    "for image_path in image_paths:\n",
    "    image_path = image_path.replace(\"\\\\\", \"/\")\n",
    "    im_name = image_path.split(\"/\")[-1]\n",
    "    image = Image.open(image_path)\n",
    "\n",
    "    # the array based representation of the image will be used later in order to prepare the\n",
    "    # result image with boxes and labels on it.\n",
    "    image_np = np.asarray(image)\n",
    "    if len(image_np.shape) < 3:\n",
    "    \timage_np = cv2.cvtColor(image_np, cv2.COLOR_GRAY2RGB)\n",
    "    else:\n",
    "    \timage_np = cv2.cvtColor(image_np, cv2.COLOR_RGBA2RGB)\n",
    "    print('-'*25)\n",
    "    print('Detecting Boxes for Image: ', image_path)\n",
    "    \n",
    "    print('Image shape: ', image_np.shape)\n",
    "    # Actual detection.\n",
    "    output_dict = run_inference_for_single_image(image_np, detection_graph)\n",
    "\n",
    "    # crop image and display\n",
    "    im_width, im_height = image.size\n",
    "    cropped_images = []\n",
    "    box_syms = []\n",
    "    for i in range(output_dict['num_detections']):\n",
    "        if output_dict['detection_scores'][i] > 0.8:\n",
    "            vis_util.visualize_boxes_and_labels_on_image_array(\n",
    "                image_np,\n",
    "                np.array([output_dict['detection_boxes'][i]]),\n",
    "                np.array([output_dict['detection_classes'][i]]),\n",
    "                np.array([output_dict['detection_scores'][i]]),\n",
    "                category_index,\n",
    "                instance_masks=output_dict.get('detection_masks'),\n",
    "                use_normalized_coordinates=True,\n",
    "                line_thickness=1)\n",
    "            (ymin, xmin, ymax, xmax) = output_dict['detection_boxes'][i]\n",
    "            (left, right, top, bottom) = (xmin * im_width,\n",
    "                                          xmax * im_width,\n",
    "                                          ymin * im_height,\n",
    "                                          ymax * im_height)\n",
    "            print('*'*15)\n",
    "            print(\"Box: \")\n",
    "            # print(\"ymin: \", ymin,\" xmin: \", xmin, \" ymax: \", ymax,\" xmax \", xmax)\n",
    "            print(\"left: \", left,\" right: \", right,\" top: \", top,\" bottom \", bottom)\n",
    "            # print(\"Top left point: (\",int(left),\", \",int(top),\") and Bottom right point: (\",int(right),\", \",int(bottom),\")\")\n",
    "            \n",
    "            cropped_image = image.crop((left, top, right, bottom))\n",
    "            \n",
    "            # Predict label for cropped image with CNN\n",
    "            c_im = np.asarray(cropped_image)\n",
    "            c_im = cv2.cvtColor(c_im, cv2.COLOR_BGRA2RGBA)\n",
    "            c_im = cv2.cvtColor(c_im, cv2.COLOR_RGBA2RGB)\n",
    "            c_im = cv2.cvtColor(c_im, cv2.COLOR_RGBA2GRAY)\n",
    "            c_im = cv2.resize(c_im, (32,32))\n",
    "            c_im = c_im / 255.0\n",
    "            # Symbol Prediction\n",
    "            # CNN\n",
    "            c_im = np.resize(c_im, (1, 1, 32, 32))\n",
    "            res = cnn.predict(c_im)\n",
    "            res = res.flatten()\n",
    "            lbls = one_hot_encode_to_char_list(res, threshold=0.01, get_max = False)\n",
    "            print(\"CNN/ANN Predictions:\")\n",
    "            syms = []\n",
    "            for j in lbls:\n",
    "                symbols_row = symbols[symbols['new_id'] == j[0]][['latex', 'old_symbol', 'new_id']]\n",
    "                latex, old_symbol, new_id = symbols_row.iloc[0].to_list()\n",
    "                conf_score = round(j[1] * 100, 2)\n",
    "                syms.append((get_symbol_from_id(new_id), conf_score))\n",
    "                print('Symbol_id:', new_id, ', Latex:', latex, ', Confidence Score:', conf_score, '%')\n",
    "            box_syms.append(({\n",
    "                'x1':left,\n",
    "                'x2':right,\n",
    "                'y1':top,\n",
    "                'y2':bottom\n",
    "            },\n",
    "            syms))\n",
    "            plt.figure(figsize=(1,1))\n",
    "            plt.axis('off')\n",
    "            temp_ = np.asarray(cropped_image)\n",
    "            plt.imshow(temp_)\n",
    "            plt.show()\n",
    "            cropped_images.append(np.asarray(cropped_image))\n",
    "    plt.figure(figsize=(7,7))\n",
    "    plt.axis('off')\n",
    "    temp_ = cv2.resize(image_np, (int(im_width), int(im_height)))\n",
    "    plt.imshow(temp_)\n",
    "    plt.show()\n",
    "    \n",
    "    # Predict xml\n",
    "    box_syms = sorted(box_syms, key=lambda x: x[0]['x1'])\n",
    "    sym_preds = [i[1] for i in box_syms]\n",
    "    identified_syms = get_symbols(sym_preds)\n",
    "    eqns = generate_eqns(identified_syms)\n",
    "    predicted_eqns = []\n",
    "    for i in eqns:\n",
    "        try:\n",
    "            tokens = lexer.generate_tokens(list(i))\n",
    "            tree = parser.generate_tree(tokens)\n",
    "            xml_tree = codegen.gen_mathml(tree)\n",
    "            xml = ET.tostring(xml_tree, pretty_print=False).decode('utf-8')\n",
    "            predicted_eqns.append(xml)\n",
    "        except:\n",
    "            pass\n",
    "            # print(f'Equation {i} failed')\n",
    "    print('Generated XMLs')\n",
    "    for e in predicted_eqns:\n",
    "        pprint(e)\n",
    "        display(Markdown(e))\n",
    "        print('*'*10)"
   ]
  },
  {
   "cell_type": "markdown",
   "metadata": {},
   "source": [
    "---\n",
    "## Result:\n",
    "\n",
    "\n",
    "xml code is generated correctly for 6 out of 10 images\n",
    "\n",
    "---"
   ]
  },
  {
   "cell_type": "code",
   "execution_count": null,
   "metadata": {},
   "outputs": [],
   "source": []
  }
 ],
 "metadata": {
  "kernelspec": {
   "display_name": "Python 3",
   "language": "python",
   "name": "python3"
  },
  "language_info": {
   "codemirror_mode": {
    "name": "ipython",
    "version": 3
   },
   "file_extension": ".py",
   "mimetype": "text/x-python",
   "name": "python",
   "nbconvert_exporter": "python",
   "pygments_lexer": "ipython3",
   "version": "3.6.9"
  },
  "pycharm": {
   "stem_cell": {
    "cell_type": "raw",
    "source": [],
    "metadata": {
     "collapsed": false
    }
   }
  }
 },
 "nbformat": 4,
 "nbformat_minor": 4
}