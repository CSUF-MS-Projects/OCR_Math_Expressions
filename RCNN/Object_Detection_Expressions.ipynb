{
 "cells": [
  {
   "cell_type": "code",
   "execution_count": 1,
   "metadata": {},
   "outputs": [],
   "source": [
    "!set PYTHONPATH=D:\\SharedLinux_D\\CPSC_597\\Object_Detection_Expressions\\research;D:\\SharedLinux_D\\CPSC_597\\Object_Detection_Expressions\\research\\slim"
   ]
  },
  {
   "cell_type": "code",
   "execution_count": 2,
   "metadata": {},
   "outputs": [
    {
     "name": "stderr",
     "output_type": "stream",
     "text": [
      "Using TensorFlow backend.\n"
     ]
    }
   ],
   "source": [
    "import warnings\n",
    "warnings.filterwarnings('ignore')\n",
    "\n",
    "import numpy as np\n",
    "import os\n",
    "import six.moves.urllib as urllib\n",
    "import sys\n",
    "import tarfile\n",
    "import tensorflow as tf\n",
    "import zipfile\n",
    "import cv2\n",
    "import time\n",
    "from distutils.version import StrictVersion\n",
    "from collections import defaultdict\n",
    "from io import StringIO\n",
    "from matplotlib import pyplot as plt\n",
    "from PIL import Image\n",
    "import glob\n",
    "import pandas as pd\n",
    "import keras\n",
    "from keras.models import load_model\n",
    "from keras import backend as K\n",
    "K.set_image_data_format('channels_first')"
   ]
  },
  {
   "cell_type": "code",
   "execution_count": 3,
   "metadata": {},
   "outputs": [],
   "source": [
    "# turn off tensorflow INFO (Debugging info)\n",
    "os.environ['TF_CPP_MIN_LOG_LEVEL'] = '3' \n",
    "# append object_detection dir\n",
    "sys.path.append(\"research/object_detection/..\")\n",
    "from object_detection.utils import ops as utils_ops\n",
    "# od imports\n",
    "from object_detection.utils import label_map_util\n",
    "from object_detection.utils import visualization_utils as vis_util\n",
    "\n",
    "OD_PATH = 'research/object_detection/'"
   ]
  },
  {
   "cell_type": "code",
   "execution_count": 4,
   "metadata": {},
   "outputs": [],
   "source": [
    "# FUNCTIONS\n",
    "def load_image_into_numpy_array(image):\n",
    "    (im_width, im_height) = image.size\n",
    "    return np.array(image.getdata()).reshape((im_height, im_width, 3)).astype(np.uint8)\n",
    "\n",
    "def run_inference_for_single_image(image, graph):\n",
    "    with graph.as_default():\n",
    "        with tf.Session() as sess:\n",
    "            # Get handles to input and output tensors\n",
    "            ops = tf.get_default_graph().get_operations()\n",
    "            all_tensor_names = {output.name for op in ops for output in op.outputs}\n",
    "            tensor_dict = {}\n",
    "            for key in [\n",
    "              'num_detections', 'detection_boxes', 'detection_scores',\n",
    "              'detection_classes', 'detection_masks'\n",
    "            ]:\n",
    "                tensor_name = key + ':0'\n",
    "                if tensor_name in all_tensor_names:\n",
    "                    tensor_dict[key] = tf.get_default_graph().get_tensor_by_name(tensor_name)\n",
    "            if 'detection_masks' in tensor_dict:\n",
    "                # The following processing is only for single image\n",
    "                detection_boxes = tf.squeeze(tensor_dict['detection_boxes'], [0])\n",
    "                detection_masks = tf.squeeze(tensor_dict['detection_masks'], [0])\n",
    "                # Reframe is required to translate mask from box coordinates to image coordinates and fit the image size.\n",
    "                real_num_detection = tf.cast(tensor_dict['num_detections'][0], tf.int32)\n",
    "                detection_boxes = tf.slice(detection_boxes, [0, 0], [real_num_detection, -1])\n",
    "                detection_masks = tf.slice(detection_masks, [0, 0, 0], [real_num_detection, -1, -1])\n",
    "                detection_masks_reframed = utils_ops.reframe_box_masks_to_image_masks(\n",
    "                    detection_masks, detection_boxes, image.shape[0], image.shape[1])\n",
    "                detection_masks_reframed = tf.cast(\n",
    "                    tf.greater(detection_masks_reframed, 0.5), tf.uint8)\n",
    "                # Follow the convention by adding back the batch dimension\n",
    "                tensor_dict['detection_masks'] = tf.expand_dims(\n",
    "                    detection_masks_reframed, 0)\n",
    "            image_tensor = tf.get_default_graph().get_tensor_by_name('image_tensor:0')\n",
    "\n",
    "            # Run inference\n",
    "            output_dict = sess.run(tensor_dict,\n",
    "                                 feed_dict={image_tensor: np.expand_dims(image, 0)})\n",
    "\n",
    "            # all outputs are float32 numpy arrays, so convert types as appropriate\n",
    "            output_dict['num_detections'] = int(output_dict['num_detections'][0])\n",
    "            output_dict['detection_classes'] = output_dict[\n",
    "              'detection_classes'][0].astype(np.uint8)\n",
    "            output_dict['detection_boxes'] = output_dict['detection_boxes'][0]\n",
    "            output_dict['detection_scores'] = output_dict['detection_scores'][0]\n",
    "            if 'detection_masks' in output_dict:\n",
    "                output_dict['detection_masks'] = output_dict['detection_masks'][0]\n",
    "    return output_dict"
   ]
  },
  {
   "cell_type": "code",
   "execution_count": 5,
   "metadata": {},
   "outputs": [],
   "source": [
    "# Additional Functions\n",
    "def one_hot_encode_to_char(arr, threshold=0.5, get_max=True):\n",
    "    result = []\n",
    "    val = 0\n",
    "    for i in range(len(arr)):\n",
    "        if arr[i] >= threshold:\n",
    "            result.append((val, arr[i]))\n",
    "        val +=1\n",
    "    _max = []\n",
    "    high = 0\n",
    "    if get_max:\n",
    "        for i in result:\n",
    "            if i[1] > high:\n",
    "                _max = [i[0]]\n",
    "                high = i[1]\n",
    "        return _max\n",
    "    else:\n",
    "        return [i[0] for i in result]\n",
    "\n",
    "\n",
    "def one_hot_encode_to_char_list(arr, threshold=0.5, get_max=True):\n",
    "    result = []\n",
    "    for i in range(len(arr)):\n",
    "        if arr[i] >= threshold:\n",
    "            result.append((i, arr[i]))\n",
    "    _max = []\n",
    "    high = 0\n",
    "    result = sorted(result, key=lambda x: x[1], reverse=True)\n",
    "    if get_max:\n",
    "        return result[-1]\n",
    "    return result"
   ]
  },
  {
   "cell_type": "code",
   "execution_count": 6,
   "metadata": {},
   "outputs": [],
   "source": [
    "# VARIABLES\n",
    "MODEL_NAME = 'trained_inference_graph'\n",
    "\n",
    "# Path to frozen detection graph. This is the actual model that is used for the object detection.\n",
    "PATH_TO_FROZEN_GRAPH = OD_PATH + MODEL_NAME + '/frozen_inference_graph.pb'\n",
    "\n",
    "# List of the strings that is used to add correct label for each box.\n",
    "PATH_TO_LABELS = OD_PATH + \"training/data/object-detection.pbtxt\""
   ]
  },
  {
   "cell_type": "code",
   "execution_count": 7,
   "metadata": {},
   "outputs": [],
   "source": [
    "# Load tf model\n",
    "detection_graph = tf.Graph()\n",
    "with detection_graph.as_default():\n",
    "    od_graph_def = tf.GraphDef()\n",
    "    with tf.gfile.GFile(PATH_TO_FROZEN_GRAPH, 'rb') as fid:\n",
    "        serialized_graph = fid.read()\n",
    "        od_graph_def.ParseFromString(serialized_graph)\n",
    "        tf.import_graph_def(od_graph_def, name='')\n"
   ]
  },
  {
   "cell_type": "code",
   "execution_count": 8,
   "metadata": {},
   "outputs": [],
   "source": [
    "# Load label map\n",
    "category_index = label_map_util.create_category_index_from_labelmap(PATH_TO_LABELS, use_display_name=True)"
   ]
  },
  {
   "cell_type": "code",
   "execution_count": 9,
   "metadata": {},
   "outputs": [
    {
     "name": "stdout",
     "output_type": "stream",
     "text": [
      "Test Image paths: \n",
      "research/object_detection/training/test_images\\exp1.png\n",
      "research/object_detection/training/test_images\\exp2.png\n",
      "research/object_detection/training/test_images\\exp3.png\n",
      "research/object_detection/training/test_images\\exp4.png\n",
      "research/object_detection/training/test_images\\exp5.png\n",
      "research/object_detection/training/test_images\\exp6.png\n",
      "research/object_detection/training/test_images\\exp7.png\n",
      "research/object_detection/training/test_images\\exp8.png\n",
      "research/object_detection/training/test_images\\exp9.png\n"
     ]
    }
   ],
   "source": [
    "# DETECTION\n",
    "PATH_TO_TEST_IMAGES_DIR = OD_PATH + \"training/test_images/*\"\n",
    "TEST_IMAGE_PATHS = list(glob.glob(PATH_TO_TEST_IMAGES_DIR))\n",
    "print(\"Test Image paths: \")\n",
    "for i in TEST_IMAGE_PATHS:\n",
    "    print(i)\n",
    "IMAGE_SIZE = (320, 320)"
   ]
  },
  {
   "cell_type": "code",
   "execution_count": 10,
   "metadata": {},
   "outputs": [
    {
     "data": {
      "text/html": [
       "<div>\n",
       "<style scoped>\n",
       "    .dataframe tbody tr th:only-of-type {\n",
       "        vertical-align: middle;\n",
       "    }\n",
       "\n",
       "    .dataframe tbody tr th {\n",
       "        vertical-align: top;\n",
       "    }\n",
       "\n",
       "    .dataframe thead th {\n",
       "        text-align: right;\n",
       "    }\n",
       "</style>\n",
       "<table border=\"1\" class=\"dataframe\">\n",
       "  <thead>\n",
       "    <tr style=\"text-align: right;\">\n",
       "      <th></th>\n",
       "      <th>latex</th>\n",
       "      <th>old_symbol</th>\n",
       "      <th>new_id</th>\n",
       "    </tr>\n",
       "  </thead>\n",
       "  <tbody>\n",
       "    <tr>\n",
       "      <th>0</th>\n",
       "      <td>A</td>\n",
       "      <td>31</td>\n",
       "      <td>0</td>\n",
       "    </tr>\n",
       "    <tr>\n",
       "      <th>1</th>\n",
       "      <td>B</td>\n",
       "      <td>32</td>\n",
       "      <td>1</td>\n",
       "    </tr>\n",
       "    <tr>\n",
       "      <th>2</th>\n",
       "      <td>C</td>\n",
       "      <td>33</td>\n",
       "      <td>2</td>\n",
       "    </tr>\n",
       "    <tr>\n",
       "      <th>3</th>\n",
       "      <td>D</td>\n",
       "      <td>34</td>\n",
       "      <td>3</td>\n",
       "    </tr>\n",
       "    <tr>\n",
       "      <th>4</th>\n",
       "      <td>E</td>\n",
       "      <td>35</td>\n",
       "      <td>4</td>\n",
       "    </tr>\n",
       "  </tbody>\n",
       "</table>\n",
       "</div>"
      ],
      "text/plain": [
       "  latex  old_symbol  new_id\n",
       "0     A          31       0\n",
       "1     B          32       1\n",
       "2     C          33       2\n",
       "3     D          34       3\n",
       "4     E          35       4"
      ]
     },
     "execution_count": 10,
     "metadata": {},
     "output_type": "execute_result"
    }
   ],
   "source": [
    "# Load cnn model and labels\n",
    "#cnn = load_model(\"hasyv2model31.h5\")\n",
    "cnn = load_model(\"hasyv2model51.h5\")\n",
    "\n",
    "symbols = pd.read_csv(\"symbols.csv\").drop([\"Unnamed: 0\"], axis=1)\n",
    "symbols.head()"
   ]
  },
  {
   "cell_type": "markdown",
   "metadata": {},
   "source": [
    "#### Note: Theres no data for `=` symbol in HASYv2 dataset. Therefore the predictions for `=` are all incorrect."
   ]
  },
  {
   "cell_type": "code",
   "execution_count": 11,
   "metadata": {},
   "outputs": [
    {
     "name": "stdout",
     "output_type": "stream",
     "text": [
      "-------------------------\n",
      "Detecting Boxes for Image:  research/object_detection/training/test_images/exp1.png\n",
      "Image shape:  (320, 320, 3)\n",
      "***************\n",
      "Box: \n",
      "ymin:  0.44999066  xmin:  0.2513642  ymax:  0.53580046  xmax  0.31806386\n",
      "left:  80.43654441833496  right:  101.78043365478516  top:  143.99701118469238  bottom  171.45614624023438\n",
      "Top left point: ( 80 ,  143 ) and Bottom right point: ( 101 ,  171 )\n",
      "CNN Predictions:\n",
      "Symbol_id: 84 , Latex: + , Confidence Score: 90.37 %\n",
      "Symbol_id: 96 , Latex: \\perp , Confidence Score: 2.52 %\n",
      "Symbol_id: 94 , Latex: \\div , Confidence Score: 1.97 %\n",
      "Symbol_id: 30 , Latex: 4 , Confidence Score: 1.68 %\n",
      "Symbol_id: 42 , Latex: f , Confidence Score: 1.33 %\n"
     ]
    },
    {
     "data": {
      "image/png": "[encoded data removed]",
      "text/plain": [
       "<Figure size 72x72 with 1 Axes>"
      ]
     },
     "metadata": {
      "needs_background": "light"
     },
     "output_type": "display_data"
    },
    {
     "name": "stdout",
     "output_type": "stream",
     "text": [
      "***************\n",
      "Box: \n",
      "ymin:  0.44391948  xmin:  0.43839857  ymax:  0.54797727  xmax  0.50387985\n",
      "left:  140.28754234313965  right:  161.24155044555664  top:  142.0542335510254  bottom  175.35272598266602\n",
      "Top left point: ( 140 ,  142 ) and Bottom right point: ( 161 ,  175 )\n",
      "CNN Predictions:\n",
      "Symbol_id: 60 , Latex: y , Confidence Score: 46.96 %\n",
      "Symbol_id: 24 , Latex: Y , Confidence Score: 24.58 %\n",
      "Symbol_id: 63 , Latex: \\gamma , Confidence Score: 23.73 %\n",
      "Symbol_id: 79 , Latex: > , Confidence Score: 1.03 %\n"
     ]
    },
    {
     "data": {
      "image/png": "[encoded data removed]",
      "text/plain": [
       "<Figure size 72x72 with 1 Axes>"
      ]
     },
     "metadata": {
      "needs_background": "light"
     },
     "output_type": "display_data"
    },
    {
     "name": "stdout",
     "output_type": "stream",
     "text": [
      "***************\n",
      "Box: \n",
      "ymin:  0.44572115  xmin:  0.04157562  ymax:  0.55239964  xmax  0.14282936\n",
      "left:  13.304198980331421  right:  45.70539474487305  top:  142.63076782226562  bottom  176.76788330078125\n",
      "Top left point: ( 13 ,  142 ) and Bottom right point: ( 45 ,  176 )\n",
      "CNN Predictions:\n",
      "Symbol_id: 59 , Latex: x , Confidence Score: 71.12 %\n",
      "Symbol_id: 92 , Latex: \\times , Confidence Score: 18.84 %\n",
      "Symbol_id: 69 , Latex: \\lambda , Confidence Score: 6.49 %\n",
      "Symbol_id: 23 , Latex: X , Confidence Score: 3.09 %\n"
     ]
    },
    {
     "data": {
      "image/png": "[encoded data removed]",
      "text/plain": [
       "<Figure size 72x72 with 1 Axes>"
      ]
     },
     "metadata": {
      "needs_background": "light"
     },
     "output_type": "display_data"
    },
    {
     "name": "stdout",
     "output_type": "stream",
     "text": [
      "***************\n",
      "Box: \n",
      "ymin:  0.46555385  xmin:  0.6373313  ymax:  0.51962435  xmax  0.72483474\n",
      "left:  203.94601821899414  right:  231.94711685180664  top:  148.97723197937012  bottom  166.27979278564453\n",
      "Top left point: ( 203 ,  148 ) and Bottom right point: ( 231 ,  166 )\n",
      "CNN Predictions:\n",
      "Symbol_id: 96 , Latex: \\perp , Confidence Score: 37.35 %\n",
      "Symbol_id: 100 , Latex: ] , Confidence Score: 10.68 %\n",
      "Symbol_id: 94 , Latex: \\div , Confidence Score: 9.32 %\n",
      "Symbol_id: 75 , Latex: \\cdot , Confidence Score: 7.18 %\n",
      "Symbol_id: 106 , Latex: //) , Confidence Score: 4.3 %\n",
      "Symbol_id: 81 , Latex: \\supset , Confidence Score: 4.16 %\n",
      "Symbol_id: 105 , Latex: //( , Confidence Score: 3.52 %\n",
      "Symbol_id: 104 , Latex: = , Confidence Score: 2.04 %\n",
      "Symbol_id: 83 , Latex: - , Confidence Score: 1.89 %\n",
      "Symbol_id: 98 , Latex: \\exists , Confidence Score: 1.74 %\n",
      "Symbol_id: 76 , Latex: \\leq , Confidence Score: 1.69 %\n",
      "Symbol_id: 80 , Latex: \\subset , Confidence Score: 1.6 %\n",
      "Symbol_id: 45 , Latex: i , Confidence Score: 1.51 %\n",
      "Symbol_id: 8 , Latex: I , Confidence Score: 1.47 %\n",
      "Symbol_id: 99 , Latex: [ , Confidence Score: 1.16 %\n"
     ]
    },
    {
     "data": {
      "image/png": "[encoded data removed]",
      "text/plain": [
       "<Figure size 72x72 with 1 Axes>"
      ]
     },
     "metadata": {
      "needs_background": "light"
     },
     "output_type": "display_data"
    },
    {
     "name": "stdout",
     "output_type": "stream",
     "text": [
      "***************\n",
      "Box: \n",
      "ymin:  0.45615444  xmin:  0.86647  ymax:  0.53164816  xmax  0.97814864\n",
      "left:  277.27039337158203  right:  313.00756454467773  top:  145.96941947937012  bottom  170.12741088867188\n",
      "Top left point: ( 277 ,  145 ) and Bottom right point: ( 313 ,  170 )\n",
      "CNN Predictions:\n",
      "Symbol_id: 61 , Latex: z , Confidence Score: 71.11 %\n",
      "Symbol_id: 25 , Latex: Z , Confidence Score: 11.98 %\n",
      "Symbol_id: 62 , Latex: \\Sigma , Confidence Score: 4.82 %\n",
      "Symbol_id: 77 , Latex: \\geq , Confidence Score: 2.46 %\n",
      "Symbol_id: 76 , Latex: \\leq , Confidence Score: 1.48 %\n",
      "Symbol_id: 94 , Latex: \\div , Confidence Score: 1.46 %\n",
      "Symbol_id: 68 , Latex: \\epsilon , Confidence Score: 1.09 %\n"
     ]
    },
    {
     "data": {
      "image/png": "[encoded data removed]",
      "text/plain": [
       "<Figure size 72x72 with 1 Axes>"
      ]
     },
     "metadata": {
      "needs_background": "light"
     },
     "output_type": "display_data"
    },
    {
     "data": {
      "image/png": "[encoded data removed]",
      "text/plain": [
       "<Figure size 504x504 with 1 Axes>"
      ]
     },
     "metadata": {
      "needs_background": "light"
     },
     "output_type": "display_data"
    },
    {
     "name": "stdout",
     "output_type": "stream",
     "text": [
      "-------------------------\n",
      "Detecting Boxes for Image:  research/object_detection/training/test_images/exp2.png\n",
      "Image shape:  (320, 320, 3)\n",
      "***************\n",
      "Box: \n",
      "ymin:  0.44999066  xmin:  0.2513642  ymax:  0.53580046  xmax  0.31806386\n",
      "left:  80.43654441833496  right:  101.78043365478516  top:  143.99701118469238  bottom  171.45614624023438\n",
      "Top left point: ( 80 ,  143 ) and Bottom right point: ( 101 ,  171 )\n",
      "CNN Predictions:\n",
      "Symbol_id: 84 , Latex: + , Confidence Score: 90.37 %\n",
      "Symbol_id: 96 , Latex: \\perp , Confidence Score: 2.52 %\n",
      "Symbol_id: 94 , Latex: \\div , Confidence Score: 1.97 %\n",
      "Symbol_id: 30 , Latex: 4 , Confidence Score: 1.68 %\n",
      "Symbol_id: 42 , Latex: f , Confidence Score: 1.33 %\n"
     ]
    },
    {
     "data": {
      "image/png": "[encoded data removed]",
      "text/plain": [
       "<Figure size 72x72 with 1 Axes>"
      ]
     },
     "metadata": {
      "needs_background": "light"
     },
     "output_type": "display_data"
    },
    {
     "name": "stdout",
     "output_type": "stream",
     "text": [
      "***************\n",
      "Box: \n",
      "ymin:  0.44393703  xmin:  0.43836713  ymax:  0.547993  xmax  0.5039252\n",
      "left:  140.27748107910156  right:  161.25606536865234  top:  142.05985069274902  bottom  175.35776138305664\n",
      "Top left point: ( 140 ,  142 ) and Bottom right point: ( 161 ,  175 )\n",
      "CNN Predictions:\n",
      "Symbol_id: 60 , Latex: y , Confidence Score: 46.96 %\n",
      "Symbol_id: 24 , Latex: Y , Confidence Score: 24.58 %\n",
      "Symbol_id: 63 , Latex: \\gamma , Confidence Score: 23.73 %\n",
      "Symbol_id: 79 , Latex: > , Confidence Score: 1.03 %\n"
     ]
    },
    {
     "data": {
      "image/png": "[encoded data removed]",
      "text/plain": [
       "<Figure size 72x72 with 1 Axes>"
      ]
     },
     "metadata": {
      "needs_background": "light"
     },
     "output_type": "display_data"
    },
    {
     "name": "stdout",
     "output_type": "stream",
     "text": [
      "***************\n",
      "Box: \n",
      "ymin:  0.44572115  xmin:  0.04157562  ymax:  0.55239964  xmax  0.14282936\n",
      "left:  13.304198980331421  right:  45.70539474487305  top:  142.63076782226562  bottom  176.76788330078125\n",
      "Top left point: ( 13 ,  142 ) and Bottom right point: ( 45 ,  176 )\n",
      "CNN Predictions:\n",
      "Symbol_id: 59 , Latex: x , Confidence Score: 71.12 %\n",
      "Symbol_id: 92 , Latex: \\times , Confidence Score: 18.84 %\n",
      "Symbol_id: 69 , Latex: \\lambda , Confidence Score: 6.49 %\n",
      "Symbol_id: 23 , Latex: X , Confidence Score: 3.09 %\n"
     ]
    },
    {
     "data": {
      "image/png": "[encoded data removed]",
      "text/plain": [
       "<Figure size 72x72 with 1 Axes>"
      ]
     },
     "metadata": {
      "needs_background": "light"
     },
     "output_type": "display_data"
    },
    {
     "name": "stdout",
     "output_type": "stream",
     "text": [
      "***************\n",
      "Box: \n",
      "ymin:  0.45240363  xmin:  0.85019463  ymax:  0.51617825  xmax  0.95621365\n",
      "left:  272.06228256225586  right:  305.9883689880371  top:  144.76916313171387  bottom  165.17704010009766\n",
      "Top left point: ( 272 ,  144 ) and Bottom right point: ( 305 ,  165 )\n",
      "CNN Predictions:\n",
      "Symbol_id: 61 , Latex: z , Confidence Score: 63.14 %\n",
      "Symbol_id: 76 , Latex: \\leq , Confidence Score: 18.26 %\n",
      "Symbol_id: 90 , Latex: \\% , Confidence Score: 4.1 %\n",
      "Symbol_id: 62 , Latex: \\Sigma , Confidence Score: 3.82 %\n",
      "Symbol_id: 25 , Latex: Z , Confidence Score: 3.19 %\n",
      "Symbol_id: 77 , Latex: \\geq , Confidence Score: 1.73 %\n",
      "Symbol_id: 80 , Latex: \\subset , Confidence Score: 1.6 %\n"
     ]
    },
    {
     "data": {
      "image/png": "[encoded data removed]",
      "text/plain": [
       "<Figure size 72x72 with 1 Axes>"
      ]
     },
     "metadata": {
      "needs_background": "light"
     },
     "output_type": "display_data"
    },
    {
     "name": "stdout",
     "output_type": "stream",
     "text": [
      "***************\n",
      "Box: \n",
      "ymin:  0.46917805  xmin:  0.64042324  ymax:  0.5163214  xmax  0.71498626\n",
      "left:  204.9354362487793  right:  228.79560470581055  top:  150.13697624206543  bottom  165.2228546142578\n",
      "Top left point: ( 204 ,  150 ) and Bottom right point: ( 228 ,  165 )\n",
      "CNN Predictions:\n",
      "Symbol_id: 96 , Latex: \\perp , Confidence Score: 58.77 %\n",
      "Symbol_id: 94 , Latex: \\div , Confidence Score: 8.0 %\n",
      "Symbol_id: 100 , Latex: ] , Confidence Score: 7.61 %\n",
      "Symbol_id: 81 , Latex: \\supset , Confidence Score: 5.69 %\n",
      "Symbol_id: 80 , Latex: \\subset , Confidence Score: 2.07 %\n",
      "Symbol_id: 19 , Latex: T , Confidence Score: 2.02 %\n",
      "Symbol_id: 8 , Latex: I , Confidence Score: 1.68 %\n",
      "Symbol_id: 99 , Latex: [ , Confidence Score: 1.35 %\n",
      "Symbol_id: 83 , Latex: - , Confidence Score: 1.32 %\n",
      "Symbol_id: 75 , Latex: \\cdot , Confidence Score: 1.25 %\n",
      "Symbol_id: 106 , Latex: //) , Confidence Score: 1.06 %\n"
     ]
    },
    {
     "data": {
      "image/png": "[encoded data removed]",
      "text/plain": [
       "<Figure size 72x72 with 1 Axes>"
      ]
     },
     "metadata": {
      "needs_background": "light"
     },
     "output_type": "display_data"
    },
    {
     "data": {
      "image/png": "[encoded data removed]",
      "text/plain": [
       "<Figure size 504x504 with 1 Axes>"
      ]
     },
     "metadata": {
      "needs_background": "light"
     },
     "output_type": "display_data"
    },
    {
     "name": "stdout",
     "output_type": "stream",
     "text": [
      "-------------------------\n",
      "Detecting Boxes for Image:  research/object_detection/training/test_images/exp3.png\n",
      "Image shape:  (320, 320, 3)\n",
      "***************\n",
      "Box: \n",
      "ymin:  0.4499312  xmin:  0.2511184  ymax:  0.5404139  xmax  0.31803358\n",
      "left:  80.35788536071777  right:  101.77074432373047  top:  143.97798538208008  bottom  172.93245315551758\n",
      "Top left point: ( 80 ,  143 ) and Bottom right point: ( 101 ,  172 )\n",
      "CNN Predictions:\n",
      "Symbol_id: 84 , Latex: + , Confidence Score: 81.72 %\n",
      "Symbol_id: 94 , Latex: \\div , Confidence Score: 6.9 %\n",
      "Symbol_id: 96 , Latex: \\perp , Confidence Score: 5.49 %\n",
      "Symbol_id: 30 , Latex: 4 , Confidence Score: 3.36 %\n"
     ]
    },
    {
     "data": {
      "image/png": "[encoded data removed]",
      "text/plain": [
       "<Figure size 72x72 with 1 Axes>"
      ]
     },
     "metadata": {
      "needs_background": "light"
     },
     "output_type": "display_data"
    },
    {
     "name": "stdout",
     "output_type": "stream",
     "text": [
      "***************\n",
      "Box: \n",
      "ymin:  0.43770596  xmin:  0.44458184  ymax:  0.5455529  xmax  0.5088599\n",
      "left:  142.26618766784668  right:  162.8351593017578  top:  140.06590843200684  bottom  174.57693099975586\n",
      "Top left point: ( 142 ,  140 ) and Bottom right point: ( 162 ,  174 )\n",
      "CNN Predictions:\n",
      "Symbol_id: 59 , Latex: x , Confidence Score: 15.72 %\n",
      "Symbol_id: 79 , Latex: > , Confidence Score: 15.4 %\n",
      "Symbol_id: 63 , Latex: \\gamma , Confidence Score: 14.59 %\n",
      "Symbol_id: 77 , Latex: \\geq , Confidence Score: 10.93 %\n",
      "Symbol_id: 60 , Latex: y , Confidence Score: 10.79 %\n",
      "Symbol_id: 25 , Latex: Z , Confidence Score: 7.57 %\n",
      "Symbol_id: 24 , Latex: Y , Confidence Score: 5.85 %\n",
      "Symbol_id: 92 , Latex: \\times , Confidence Score: 5.29 %\n",
      "Symbol_id: 33 , Latex: 7 , Confidence Score: 4.53 %\n",
      "Symbol_id: 61 , Latex: z , Confidence Score: 3.52 %\n",
      "Symbol_id: 94 , Latex: \\div , Confidence Score: 1.58 %\n",
      "Symbol_id: 90 , Latex: \\% , Confidence Score: 1.03 %\n"
     ]
    },
    {
     "data": {
      "image/png": "[encoded data removed]",
      "text/plain": [
       "<Figure size 72x72 with 1 Axes>"
      ]
     },
     "metadata": {
      "needs_background": "light"
     },
     "output_type": "display_data"
    },
    {
     "name": "stdout",
     "output_type": "stream",
     "text": [
      "***************\n",
      "Box: \n",
      "ymin:  0.44578376  xmin:  0.041571718  ymax:  0.5526384  xmax  0.14257307\n",
      "left:  13.302949666976929  right:  45.62338352203369  top:  142.65080451965332  bottom  176.84429168701172\n",
      "Top left point: ( 13 ,  142 ) and Bottom right point: ( 45 ,  176 )\n",
      "CNN Predictions:\n",
      "Symbol_id: 59 , Latex: x , Confidence Score: 71.12 %\n",
      "Symbol_id: 92 , Latex: \\times , Confidence Score: 18.84 %\n",
      "Symbol_id: 69 , Latex: \\lambda , Confidence Score: 6.49 %\n",
      "Symbol_id: 23 , Latex: X , Confidence Score: 3.09 %\n"
     ]
    },
    {
     "data": {
      "image/png": "[encoded data removed]",
      "text/plain": [
       "<Figure size 72x72 with 1 Axes>"
      ]
     },
     "metadata": {
      "needs_background": "light"
     },
     "output_type": "display_data"
    },
    {
     "name": "stdout",
     "output_type": "stream",
     "text": [
      "***************\n",
      "Box: \n",
      "ymin:  0.45217615  xmin:  0.8501176  ymax:  0.51627517  xmax  0.95638514\n",
      "left:  272.0376396179199  right:  306.0432434082031  top:  144.69636917114258  bottom  165.2080535888672\n",
      "Top left point: ( 272 ,  144 ) and Bottom right point: ( 306 ,  165 )\n",
      "CNN Predictions:\n",
      "Symbol_id: 61 , Latex: z , Confidence Score: 63.14 %\n",
      "Symbol_id: 76 , Latex: \\leq , Confidence Score: 18.26 %\n",
      "Symbol_id: 90 , Latex: \\% , Confidence Score: 4.1 %\n",
      "Symbol_id: 62 , Latex: \\Sigma , Confidence Score: 3.82 %\n",
      "Symbol_id: 25 , Latex: Z , Confidence Score: 3.19 %\n",
      "Symbol_id: 77 , Latex: \\geq , Confidence Score: 1.73 %\n",
      "Symbol_id: 80 , Latex: \\subset , Confidence Score: 1.6 %\n"
     ]
    },
    {
     "data": {
      "image/png": "[encoded data removed]",
      "text/plain": [
       "<Figure size 72x72 with 1 Axes>"
      ]
     },
     "metadata": {
      "needs_background": "light"
     },
     "output_type": "display_data"
    },
    {
     "name": "stdout",
     "output_type": "stream",
     "text": [
      "***************\n",
      "Box: \n",
      "ymin:  0.47009808  xmin:  0.63697815  ymax:  0.5169529  xmax  0.7198405\n",
      "left:  203.8330078125  right:  230.34896850585938  top:  150.4313850402832  bottom  165.42491912841797\n",
      "Top left point: ( 203 ,  150 ) and Bottom right point: ( 230 ,  165 )\n",
      "CNN Predictions:\n",
      "Symbol_id: 96 , Latex: \\perp , Confidence Score: 44.9 %\n",
      "Symbol_id: 100 , Latex: ] , Confidence Score: 12.58 %\n",
      "Symbol_id: 94 , Latex: \\div , Confidence Score: 7.36 %\n",
      "Symbol_id: 81 , Latex: \\supset , Confidence Score: 5.41 %\n",
      "Symbol_id: 75 , Latex: \\cdot , Confidence Score: 3.73 %\n",
      "Symbol_id: 80 , Latex: \\subset , Confidence Score: 2.6 %\n",
      "Symbol_id: 99 , Latex: [ , Confidence Score: 2.25 %\n",
      "Symbol_id: 8 , Latex: I , Confidence Score: 2.22 %\n",
      "Symbol_id: 19 , Latex: T , Confidence Score: 2.04 %\n",
      "Symbol_id: 106 , Latex: //) , Confidence Score: 1.51 %\n",
      "Symbol_id: 83 , Latex: - , Confidence Score: 1.41 %\n",
      "Symbol_id: 105 , Latex: //( , Confidence Score: 1.31 %\n"
     ]
    },
    {
     "data": {
      "image/png": "[encoded data removed]",
      "text/plain": [
       "<Figure size 72x72 with 1 Axes>"
      ]
     },
     "metadata": {
      "needs_background": "light"
     },
     "output_type": "display_data"
    },
    {
     "data": {
      "image/png": "[encoded data removed]",
      "text/plain": [
       "<Figure size 504x504 with 1 Axes>"
      ]
     },
     "metadata": {
      "needs_background": "light"
     },
     "output_type": "display_data"
    },
    {
     "name": "stdout",
     "output_type": "stream",
     "text": [
      "-------------------------\n",
      "Detecting Boxes for Image:  research/object_detection/training/test_images/exp4.png\n",
      "Image shape:  (320, 320, 3)\n",
      "***************\n",
      "Box: \n",
      "ymin:  0.45295438  xmin:  0.24826379  ymax:  0.5347422  xmax  0.31809932\n",
      "left:  79.44441318511963  right:  101.79178237915039  top:  144.94540214538574  bottom  171.11749649047852\n",
      "Top left point: ( 79 ,  144 ) and Bottom right point: ( 101 ,  171 )\n",
      "CNN Predictions:\n",
      "Symbol_id: 84 , Latex: + , Confidence Score: 86.72 %\n",
      "Symbol_id: 96 , Latex: \\perp , Confidence Score: 7.39 %\n",
      "Symbol_id: 42 , Latex: f , Confidence Score: 2.93 %\n",
      "Symbol_id: 94 , Latex: \\div , Confidence Score: 1.28 %\n"
     ]
    },
    {
     "data": {
      "image/png": "[encoded data removed]",
      "text/plain": [
       "<Figure size 72x72 with 1 Axes>"
      ]
     },
     "metadata": {
      "needs_background": "light"
     },
     "output_type": "display_data"
    },
    {
     "name": "stdout",
     "output_type": "stream",
     "text": [
      "***************\n",
      "Box: \n",
      "ymin:  0.43742734  xmin:  0.4424059  ymax:  0.54521877  xmax  0.51202756\n",
      "left:  141.56989097595215  right:  163.84881973266602  top:  139.97674942016602  bottom  174.4700050354004\n",
      "Top left point: ( 141 ,  139 ) and Bottom right point: ( 163 ,  174 )\n",
      "CNN Predictions:\n",
      "Symbol_id: 79 , Latex: > , Confidence Score: 25.24 %\n",
      "Symbol_id: 60 , Latex: y , Confidence Score: 21.69 %\n",
      "Symbol_id: 25 , Latex: Z , Confidence Score: 12.3 %\n",
      "Symbol_id: 33 , Latex: 7 , Confidence Score: 6.99 %\n",
      "Symbol_id: 59 , Latex: x , Confidence Score: 6.78 %\n",
      "Symbol_id: 24 , Latex: Y , Confidence Score: 4.72 %\n",
      "Symbol_id: 92 , Latex: \\times , Confidence Score: 4.18 %\n",
      "Symbol_id: 61 , Latex: z , Confidence Score: 3.65 %\n",
      "Symbol_id: 63 , Latex: \\gamma , Confidence Score: 3.44 %\n",
      "Symbol_id: 77 , Latex: \\geq , Confidence Score: 2.74 %\n",
      "Symbol_id: 90 , Latex: \\% , Confidence Score: 1.46 %\n",
      "Symbol_id: 106 , Latex: //) , Confidence Score: 1.2 %\n",
      "Symbol_id: 69 , Latex: \\lambda , Confidence Score: 1.12 %\n"
     ]
    },
    {
     "data": {
      "image/png": "[encoded data removed]",
      "text/plain": [
       "<Figure size 72x72 with 1 Axes>"
      ]
     },
     "metadata": {
      "needs_background": "light"
     },
     "output_type": "display_data"
    },
    {
     "name": "stdout",
     "output_type": "stream",
     "text": [
      "***************\n",
      "Box: \n",
      "ymin:  0.45217615  xmin:  0.8501176  ymax:  0.51627517  xmax  0.95638514\n",
      "left:  272.0376396179199  right:  306.0432434082031  top:  144.69636917114258  bottom  165.2080535888672\n",
      "Top left point: ( 272 ,  144 ) and Bottom right point: ( 306 ,  165 )\n",
      "CNN Predictions:\n",
      "Symbol_id: 61 , Latex: z , Confidence Score: 63.14 %\n",
      "Symbol_id: 76 , Latex: \\leq , Confidence Score: 18.26 %\n",
      "Symbol_id: 90 , Latex: \\% , Confidence Score: 4.1 %\n",
      "Symbol_id: 62 , Latex: \\Sigma , Confidence Score: 3.82 %\n",
      "Symbol_id: 25 , Latex: Z , Confidence Score: 3.19 %\n",
      "Symbol_id: 77 , Latex: \\geq , Confidence Score: 1.73 %\n",
      "Symbol_id: 80 , Latex: \\subset , Confidence Score: 1.6 %\n"
     ]
    },
    {
     "data": {
      "image/png": "[encoded data removed]",
      "text/plain": [
       "<Figure size 72x72 with 1 Axes>"
      ]
     },
     "metadata": {
      "needs_background": "light"
     },
     "output_type": "display_data"
    },
    {
     "name": "stdout",
     "output_type": "stream",
     "text": [
      "***************\n",
      "Box: \n",
      "ymin:  0.43817922  xmin:  0.024549946  ymax:  0.5463091  xmax  0.1036338\n",
      "left:  7.855982780456543  right:  33.1628155708313  top:  140.21735191345215  bottom  174.81891632080078\n",
      "Top left point: ( 7 ,  140 ) and Bottom right point: ( 33 ,  174 )\n",
      "CNN Predictions:\n",
      "Symbol_id: 92 , Latex: \\times , Confidence Score: 91.45 %\n",
      "Symbol_id: 59 , Latex: x , Confidence Score: 7.2 %\n",
      "Symbol_id: 23 , Latex: X , Confidence Score: 1.01 %\n"
     ]
    },
    {
     "data": {
      "image/png": "[encoded data removed]",
      "text/plain": [
       "<Figure size 72x72 with 1 Axes>"
      ]
     },
     "metadata": {
      "needs_background": "light"
     },
     "output_type": "display_data"
    },
    {
     "name": "stdout",
     "output_type": "stream",
     "text": [
      "***************\n",
      "Box: \n",
      "ymin:  0.47009808  xmin:  0.63697815  ymax:  0.5169529  xmax  0.7198405\n",
      "left:  203.8330078125  right:  230.34896850585938  top:  150.4313850402832  bottom  165.42491912841797\n",
      "Top left point: ( 203 ,  150 ) and Bottom right point: ( 230 ,  165 )\n",
      "CNN Predictions:\n",
      "Symbol_id: 96 , Latex: \\perp , Confidence Score: 44.9 %\n",
      "Symbol_id: 100 , Latex: ] , Confidence Score: 12.58 %\n",
      "Symbol_id: 94 , Latex: \\div , Confidence Score: 7.36 %\n",
      "Symbol_id: 81 , Latex: \\supset , Confidence Score: 5.41 %\n",
      "Symbol_id: 75 , Latex: \\cdot , Confidence Score: 3.73 %\n",
      "Symbol_id: 80 , Latex: \\subset , Confidence Score: 2.6 %\n",
      "Symbol_id: 99 , Latex: [ , Confidence Score: 2.25 %\n",
      "Symbol_id: 8 , Latex: I , Confidence Score: 2.22 %\n",
      "Symbol_id: 19 , Latex: T , Confidence Score: 2.04 %\n",
      "Symbol_id: 106 , Latex: //) , Confidence Score: 1.51 %\n",
      "Symbol_id: 83 , Latex: - , Confidence Score: 1.41 %\n",
      "Symbol_id: 105 , Latex: //( , Confidence Score: 1.31 %\n"
     ]
    },
    {
     "data": {
      "image/png": "[encoded data removed]",
      "text/plain": [
       "<Figure size 72x72 with 1 Axes>"
      ]
     },
     "metadata": {
      "needs_background": "light"
     },
     "output_type": "display_data"
    },
    {
     "data": {
      "image/png": "[encoded data removed]",
      "text/plain": [
       "<Figure size 504x504 with 1 Axes>"
      ]
     },
     "metadata": {
      "needs_background": "light"
     },
     "output_type": "display_data"
    },
    {
     "name": "stdout",
     "output_type": "stream",
     "text": [
      "-------------------------\n",
      "Detecting Boxes for Image:  research/object_detection/training/test_images/exp5.png\n",
      "Image shape:  (320, 320, 3)\n",
      "***************\n",
      "Box: \n",
      "ymin:  0.44711676  xmin:  0.24510165  ymax:  0.5312586  xmax  0.31201696\n",
      "left:  78.43252658843994  right:  99.84542846679688  top:  143.0773639678955  bottom  170.00274658203125\n",
      "Top left point: ( 78 ,  143 ) and Bottom right point: ( 99 ,  170 )\n",
      "CNN Predictions:\n",
      "Symbol_id: 84 , Latex: + , Confidence Score: 31.57 %\n",
      "Symbol_id: 96 , Latex: \\perp , Confidence Score: 19.09 %\n",
      "Symbol_id: 42 , Latex: f , Confidence Score: 18.22 %\n",
      "Symbol_id: 94 , Latex: \\div , Confidence Score: 11.54 %\n",
      "Symbol_id: 86 , Latex: \\{ , Confidence Score: 7.02 %\n",
      "Symbol_id: 0 , Latex: A , Confidence Score: 2.05 %\n",
      "Symbol_id: 89 , Latex: \\# , Confidence Score: 1.75 %\n",
      "Symbol_id: 7 , Latex: H , Confidence Score: 1.47 %\n",
      "Symbol_id: 97 , Latex: \\forall , Confidence Score: 1.17 %\n",
      "Symbol_id: 54 , Latex: r , Confidence Score: 1.07 %\n"
     ]
    },
    {
     "data": {
      "image/png": "[encoded data removed]",
      "text/plain": [
       "<Figure size 72x72 with 1 Axes>"
      ]
     },
     "metadata": {
      "needs_background": "light"
     },
     "output_type": "display_data"
    },
    {
     "name": "stdout",
     "output_type": "stream",
     "text": [
      "***************\n",
      "Box: \n",
      "ymin:  0.43786198  xmin:  0.43819687  ymax:  0.54542625  xmax  0.51501364\n",
      "left:  140.22299766540527  right:  164.80436325073242  top:  140.1158332824707  bottom  174.5363998413086\n",
      "Top left point: ( 140 ,  140 ) and Bottom right point: ( 164 ,  174 )\n",
      "CNN Predictions:\n",
      "Symbol_id: 60 , Latex: y , Confidence Score: 21.26 %\n",
      "Symbol_id: 79 , Latex: > , Confidence Score: 19.75 %\n",
      "Symbol_id: 24 , Latex: Y , Confidence Score: 12.57 %\n",
      "Symbol_id: 63 , Latex: \\gamma , Confidence Score: 10.34 %\n",
      "Symbol_id: 59 , Latex: x , Confidence Score: 10.12 %\n",
      "Symbol_id: 77 , Latex: \\geq , Confidence Score: 9.84 %\n",
      "Symbol_id: 33 , Latex: 7 , Confidence Score: 3.08 %\n",
      "Symbol_id: 25 , Latex: Z , Confidence Score: 2.2 %\n",
      "Symbol_id: 69 , Latex: \\lambda , Confidence Score: 1.47 %\n",
      "Symbol_id: 92 , Latex: \\times , Confidence Score: 1.46 %\n",
      "Symbol_id: 61 , Latex: z , Confidence Score: 1.36 %\n",
      "Symbol_id: 106 , Latex: //) , Confidence Score: 1.12 %\n"
     ]
    },
    {
     "data": {
      "image/png": "[encoded data removed]",
      "text/plain": [
       "<Figure size 72x72 with 1 Axes>"
      ]
     },
     "metadata": {
      "needs_background": "light"
     },
     "output_type": "display_data"
    },
    {
     "name": "stdout",
     "output_type": "stream",
     "text": [
      "***************\n",
      "Box: \n",
      "ymin:  0.45217615  xmin:  0.8501176  ymax:  0.51627517  xmax  0.95638514\n",
      "left:  272.0376396179199  right:  306.0432434082031  top:  144.69636917114258  bottom  165.2080535888672\n",
      "Top left point: ( 272 ,  144 ) and Bottom right point: ( 306 ,  165 )\n",
      "CNN Predictions:\n",
      "Symbol_id: 61 , Latex: z , Confidence Score: 63.14 %\n",
      "Symbol_id: 76 , Latex: \\leq , Confidence Score: 18.26 %\n",
      "Symbol_id: 90 , Latex: \\% , Confidence Score: 4.1 %\n",
      "Symbol_id: 62 , Latex: \\Sigma , Confidence Score: 3.82 %\n",
      "Symbol_id: 25 , Latex: Z , Confidence Score: 3.19 %\n",
      "Symbol_id: 77 , Latex: \\geq , Confidence Score: 1.73 %\n",
      "Symbol_id: 80 , Latex: \\subset , Confidence Score: 1.6 %\n"
     ]
    },
    {
     "data": {
      "image/png": "[encoded data removed]",
      "text/plain": [
       "<Figure size 72x72 with 1 Axes>"
      ]
     },
     "metadata": {
      "needs_background": "light"
     },
     "output_type": "display_data"
    },
    {
     "name": "stdout",
     "output_type": "stream",
     "text": [
      "***************\n",
      "Box: \n",
      "ymin:  0.4701  xmin:  0.6369825  ymax:  0.51694953  xmax  0.71980214\n",
      "left:  203.83440017700195  right:  230.33668518066406  top:  150.4319953918457  bottom  165.4238510131836\n",
      "Top left point: ( 203 ,  150 ) and Bottom right point: ( 230 ,  165 )\n",
      "CNN Predictions:\n",
      "Symbol_id: 96 , Latex: \\perp , Confidence Score: 44.9 %\n",
      "Symbol_id: 100 , Latex: ] , Confidence Score: 12.58 %\n",
      "Symbol_id: 94 , Latex: \\div , Confidence Score: 7.36 %\n",
      "Symbol_id: 81 , Latex: \\supset , Confidence Score: 5.41 %\n",
      "Symbol_id: 75 , Latex: \\cdot , Confidence Score: 3.73 %\n",
      "Symbol_id: 80 , Latex: \\subset , Confidence Score: 2.6 %\n",
      "Symbol_id: 99 , Latex: [ , Confidence Score: 2.25 %\n",
      "Symbol_id: 8 , Latex: I , Confidence Score: 2.22 %\n",
      "Symbol_id: 19 , Latex: T , Confidence Score: 2.04 %\n",
      "Symbol_id: 106 , Latex: //) , Confidence Score: 1.51 %\n",
      "Symbol_id: 83 , Latex: - , Confidence Score: 1.41 %\n",
      "Symbol_id: 105 , Latex: //( , Confidence Score: 1.31 %\n"
     ]
    },
    {
     "data": {
      "image/png": "[encoded data removed]",
      "text/plain": [
       "<Figure size 72x72 with 1 Axes>"
      ]
     },
     "metadata": {
      "needs_background": "light"
     },
     "output_type": "display_data"
    },
    {
     "name": "stdout",
     "output_type": "stream",
     "text": [
      "***************\n",
      "Box: \n",
      "ymin:  0.43925992  xmin:  0.02273547  ymax:  0.54577696  xmax  0.10554023\n",
      "left:  7.2753506898880005  right:  33.772873878479004  top:  140.56317329406738  bottom  174.64862823486328\n",
      "Top left point: ( 7 ,  140 ) and Bottom right point: ( 33 ,  174 )\n",
      "CNN Predictions:\n",
      "Symbol_id: 92 , Latex: \\times , Confidence Score: 91.49 %\n",
      "Symbol_id: 59 , Latex: x , Confidence Score: 6.46 %\n",
      "Symbol_id: 23 , Latex: X , Confidence Score: 1.48 %\n"
     ]
    },
    {
     "data": {
      "image/png": "[encoded data removed]",
      "text/plain": [
       "<Figure size 72x72 with 1 Axes>"
      ]
     },
     "metadata": {
      "needs_background": "light"
     },
     "output_type": "display_data"
    },
    {
     "data": {
      "image/png": "[encoded data removed]",
      "text/plain": [
       "<Figure size 504x504 with 1 Axes>"
      ]
     },
     "metadata": {
      "needs_background": "light"
     },
     "output_type": "display_data"
    },
    {
     "name": "stdout",
     "output_type": "stream",
     "text": [
      "-------------------------\n",
      "Detecting Boxes for Image:  research/object_detection/training/test_images/exp6.png\n",
      "Image shape:  (320, 320, 3)\n",
      "***************\n",
      "Box: \n",
      "ymin:  0.4471263  xmin:  0.24514751  ymax:  0.5313091  xmax  0.312039\n",
      "left:  78.44720363616943  right:  99.85247611999512  top:  143.080415725708  bottom  170.0189208984375\n",
      "Top left point: ( 78 ,  143 ) and Bottom right point: ( 99 ,  170 )\n",
      "CNN Predictions:\n",
      "Symbol_id: 84 , Latex: + , Confidence Score: 31.57 %\n",
      "Symbol_id: 96 , Latex: \\perp , Confidence Score: 19.09 %\n",
      "Symbol_id: 42 , Latex: f , Confidence Score: 18.22 %\n",
      "Symbol_id: 94 , Latex: \\div , Confidence Score: 11.54 %\n",
      "Symbol_id: 86 , Latex: \\{ , Confidence Score: 7.02 %\n",
      "Symbol_id: 0 , Latex: A , Confidence Score: 2.05 %\n",
      "Symbol_id: 89 , Latex: \\# , Confidence Score: 1.75 %\n",
      "Symbol_id: 7 , Latex: H , Confidence Score: 1.47 %\n",
      "Symbol_id: 97 , Latex: \\forall , Confidence Score: 1.17 %\n",
      "Symbol_id: 54 , Latex: r , Confidence Score: 1.07 %\n"
     ]
    },
    {
     "data": {
      "image/png": "[encoded data removed]",
      "text/plain": [
       "<Figure size 72x72 with 1 Axes>"
      ]
     },
     "metadata": {
      "needs_background": "light"
     },
     "output_type": "display_data"
    },
    {
     "name": "stdout",
     "output_type": "stream",
     "text": [
      "***************\n",
      "Box: \n",
      "ymin:  0.4339892  xmin:  0.44135696  ymax:  0.54015577  xmax  0.5186095\n",
      "left:  141.23422622680664  right:  165.95504760742188  top:  138.87654304504395  bottom  172.84984588623047\n",
      "Top left point: ( 141 ,  138 ) and Bottom right point: ( 165 ,  172 )\n",
      "CNN Predictions:\n",
      "Symbol_id: 79 , Latex: > , Confidence Score: 34.15 %\n",
      "Symbol_id: 60 , Latex: y , Confidence Score: 26.09 %\n",
      "Symbol_id: 24 , Latex: Y , Confidence Score: 8.48 %\n",
      "Symbol_id: 25 , Latex: Z , Confidence Score: 5.83 %\n",
      "Symbol_id: 33 , Latex: 7 , Confidence Score: 5.3 %\n",
      "Symbol_id: 61 , Latex: z , Confidence Score: 4.04 %\n",
      "Symbol_id: 63 , Latex: \\gamma , Confidence Score: 3.41 %\n",
      "Symbol_id: 59 , Latex: x , Confidence Score: 2.32 %\n",
      "Symbol_id: 77 , Latex: \\geq , Confidence Score: 1.82 %\n"
     ]
    },
    {
     "data": {
      "image/png": "[encoded data removed]",
      "text/plain": [
       "<Figure size 72x72 with 1 Axes>"
      ]
     },
     "metadata": {
      "needs_background": "light"
     },
     "output_type": "display_data"
    },
    {
     "name": "stdout",
     "output_type": "stream",
     "text": [
      "***************\n",
      "Box: \n",
      "ymin:  0.44970995  xmin:  0.84640485  ymax:  0.51833904  xmax  0.95808643\n",
      "left:  270.849552154541  right:  306.5876579284668  top:  143.90718460083008  bottom  165.86849212646484\n",
      "Top left point: ( 270 ,  143 ) and Bottom right point: ( 306 ,  165 )\n",
      "CNN Predictions:\n",
      "Symbol_id: 76 , Latex: \\leq , Confidence Score: 71.02 %\n",
      "Symbol_id: 61 , Latex: z , Confidence Score: 10.56 %\n",
      "Symbol_id: 82 , Latex: \\subseteq , Confidence Score: 6.16 %\n",
      "Symbol_id: 80 , Latex: \\subset , Confidence Score: 2.82 %\n",
      "Symbol_id: 62 , Latex: \\Sigma , Confidence Score: 2.48 %\n",
      "Symbol_id: 25 , Latex: Z , Confidence Score: 2.02 %\n"
     ]
    },
    {
     "data": {
      "image/png": "[encoded data removed]",
      "text/plain": [
       "<Figure size 72x72 with 1 Axes>"
      ]
     },
     "metadata": {
      "needs_background": "light"
     },
     "output_type": "display_data"
    },
    {
     "name": "stdout",
     "output_type": "stream",
     "text": [
      "***************\n",
      "Box: \n",
      "ymin:  0.45574093  xmin:  0.6282596  ymax:  0.51013386  xmax  0.7029208\n",
      "left:  201.04307174682617  right:  224.93465423583984  top:  145.83709716796875  bottom  163.24283599853516\n",
      "Top left point: ( 201 ,  145 ) and Bottom right point: ( 224 ,  163 )\n",
      "CNN Predictions:\n",
      "Symbol_id: 96 , Latex: \\perp , Confidence Score: 50.66 %\n",
      "Symbol_id: 76 , Latex: \\leq , Confidence Score: 10.03 %\n",
      "Symbol_id: 80 , Latex: \\subset , Confidence Score: 9.4 %\n",
      "Symbol_id: 94 , Latex: \\div , Confidence Score: 7.3 %\n",
      "Symbol_id: 105 , Latex: //( , Confidence Score: 4.75 %\n",
      "Symbol_id: 82 , Latex: \\subseteq , Confidence Score: 4.07 %\n",
      "Symbol_id: 104 , Latex: = , Confidence Score: 1.97 %\n",
      "Symbol_id: 83 , Latex: - , Confidence Score: 1.44 %\n",
      "Symbol_id: 61 , Latex: z , Confidence Score: 1.25 %\n",
      "Symbol_id: 77 , Latex: \\geq , Confidence Score: 1.14 %\n"
     ]
    },
    {
     "data": {
      "image/png": "[encoded data removed]",
      "text/plain": [
       "<Figure size 72x72 with 1 Axes>"
      ]
     },
     "metadata": {
      "needs_background": "light"
     },
     "output_type": "display_data"
    },
    {
     "name": "stdout",
     "output_type": "stream",
     "text": [
      "***************\n",
      "Box: \n",
      "ymin:  0.43925992  xmin:  0.022735465  ymax:  0.54577696  xmax  0.10554019\n",
      "left:  7.275348901748657  right:  33.77286195755005  top:  140.56317329406738  bottom  174.64862823486328\n",
      "Top left point: ( 7 ,  140 ) and Bottom right point: ( 33 ,  174 )\n",
      "CNN Predictions:\n",
      "Symbol_id: 92 , Latex: \\times , Confidence Score: 91.49 %\n",
      "Symbol_id: 59 , Latex: x , Confidence Score: 6.46 %\n",
      "Symbol_id: 23 , Latex: X , Confidence Score: 1.48 %\n"
     ]
    },
    {
     "data": {
      "image/png": "[encoded data removed]",
      "text/plain": [
       "<Figure size 72x72 with 1 Axes>"
      ]
     },
     "metadata": {
      "needs_background": "light"
     },
     "output_type": "display_data"
    },
    {
     "data": {
      "image/png": "[encoded data removed]",
      "text/plain": [
       "<Figure size 504x504 with 1 Axes>"
      ]
     },
     "metadata": {
      "needs_background": "light"
     },
     "output_type": "display_data"
    },
    {
     "name": "stdout",
     "output_type": "stream",
     "text": [
      "-------------------------\n",
      "Detecting Boxes for Image:  research/object_detection/training/test_images/exp7.png\n",
      "Image shape:  (320, 320, 3)\n",
      "***************\n",
      "Box: \n",
      "ymin:  0.44655743  xmin:  0.2437716  ymax:  0.5314337  xmax  0.31228882\n",
      "left:  78.006911277771  right:  99.93242263793945  top:  142.89837837219238  bottom  170.05878448486328\n",
      "Top left point: ( 78 ,  142 ) and Bottom right point: ( 99 ,  170 )\n",
      "CNN Predictions:\n",
      "Symbol_id: 84 , Latex: + , Confidence Score: 31.57 %\n",
      "Symbol_id: 96 , Latex: \\perp , Confidence Score: 19.09 %\n",
      "Symbol_id: 42 , Latex: f , Confidence Score: 18.22 %\n",
      "Symbol_id: 94 , Latex: \\div , Confidence Score: 11.54 %\n",
      "Symbol_id: 86 , Latex: \\{ , Confidence Score: 7.02 %\n",
      "Symbol_id: 0 , Latex: A , Confidence Score: 2.05 %\n",
      "Symbol_id: 89 , Latex: \\# , Confidence Score: 1.75 %\n",
      "Symbol_id: 7 , Latex: H , Confidence Score: 1.47 %\n",
      "Symbol_id: 97 , Latex: \\forall , Confidence Score: 1.17 %\n",
      "Symbol_id: 54 , Latex: r , Confidence Score: 1.07 %\n"
     ]
    },
    {
     "data": {
      "image/png": "[encoded data removed]",
      "text/plain": [
       "<Figure size 72x72 with 1 Axes>"
      ]
     },
     "metadata": {
      "needs_background": "light"
     },
     "output_type": "display_data"
    },
    {
     "name": "stdout",
     "output_type": "stream",
     "text": [
      "***************\n",
      "Box: \n",
      "ymin:  0.42436662  xmin:  0.45109984  ymax:  0.5368087  xmax  0.5025804\n",
      "left:  144.35194969177246  right:  160.8257293701172  top:  135.79731941223145  bottom  171.77879333496094\n",
      "Top left point: ( 144 ,  135 ) and Bottom right point: ( 160 ,  171 )\n",
      "CNN Predictions:\n",
      "Symbol_id: 60 , Latex: y , Confidence Score: 89.15 %\n",
      "Symbol_id: 24 , Latex: Y , Confidence Score: 3.4 %\n",
      "Symbol_id: 98 , Latex: \\exists , Confidence Score: 2.34 %\n",
      "Symbol_id: 97 , Latex: \\forall , Confidence Score: 1.35 %\n"
     ]
    },
    {
     "data": {
      "image/png": "[encoded data removed]",
      "text/plain": [
       "<Figure size 72x72 with 1 Axes>"
      ]
     },
     "metadata": {
      "needs_background": "light"
     },
     "output_type": "display_data"
    },
    {
     "name": "stdout",
     "output_type": "stream",
     "text": [
      "***************\n",
      "Box: \n",
      "ymin:  0.45547962  xmin:  0.6287612  ymax:  0.51028204  xmax  0.70908487\n",
      "left:  201.20357513427734  right:  226.90715789794922  top:  145.75347900390625  bottom  163.29025268554688\n",
      "Top left point: ( 201 ,  145 ) and Bottom right point: ( 226 ,  163 )\n",
      "CNN Predictions:\n",
      "Symbol_id: 76 , Latex: \\leq , Confidence Score: 29.03 %\n",
      "Symbol_id: 96 , Latex: \\perp , Confidence Score: 18.03 %\n",
      "Symbol_id: 82 , Latex: \\subseteq , Confidence Score: 13.31 %\n",
      "Symbol_id: 80 , Latex: \\subset , Confidence Score: 5.19 %\n",
      "Symbol_id: 105 , Latex: //( , Confidence Score: 5.18 %\n",
      "Symbol_id: 94 , Latex: \\div , Confidence Score: 5.06 %\n",
      "Symbol_id: 104 , Latex: = , Confidence Score: 4.61 %\n",
      "Symbol_id: 75 , Latex: \\cdot , Confidence Score: 1.88 %\n",
      "Symbol_id: 77 , Latex: \\geq , Confidence Score: 1.77 %\n",
      "Symbol_id: 100 , Latex: ] , Confidence Score: 1.59 %\n",
      "Symbol_id: 83 , Latex: - , Confidence Score: 1.28 %\n",
      "Symbol_id: 106 , Latex: //) , Confidence Score: 1.1 %\n",
      "Symbol_id: 4 , Latex: E , Confidence Score: 1.09 %\n",
      "Symbol_id: 45 , Latex: i , Confidence Score: 1.06 %\n"
     ]
    },
    {
     "data": {
      "image/png": "[encoded data removed]",
      "text/plain": [
       "<Figure size 72x72 with 1 Axes>"
      ]
     },
     "metadata": {
      "needs_background": "light"
     },
     "output_type": "display_data"
    },
    {
     "name": "stdout",
     "output_type": "stream",
     "text": [
      "***************\n",
      "Box: \n",
      "ymin:  0.44975138  xmin:  0.84644526  ymax:  0.5183056  xmax  0.958083\n",
      "left:  270.8624839782715  right:  306.58655166625977  top:  143.92044067382812  bottom  165.85779190063477\n",
      "Top left point: ( 270 ,  143 ) and Bottom right point: ( 306 ,  165 )\n",
      "CNN Predictions:\n",
      "Symbol_id: 76 , Latex: \\leq , Confidence Score: 71.02 %\n",
      "Symbol_id: 61 , Latex: z , Confidence Score: 10.56 %\n",
      "Symbol_id: 82 , Latex: \\subseteq , Confidence Score: 6.16 %\n",
      "Symbol_id: 80 , Latex: \\subset , Confidence Score: 2.82 %\n",
      "Symbol_id: 62 , Latex: \\Sigma , Confidence Score: 2.48 %\n",
      "Symbol_id: 25 , Latex: Z , Confidence Score: 2.02 %\n"
     ]
    },
    {
     "data": {
      "image/png": "[encoded data removed]",
      "text/plain": [
       "<Figure size 72x72 with 1 Axes>"
      ]
     },
     "metadata": {
      "needs_background": "light"
     },
     "output_type": "display_data"
    },
    {
     "name": "stdout",
     "output_type": "stream",
     "text": [
      "***************\n",
      "Box: \n",
      "ymin:  0.4392186  xmin:  0.022519318  ymax:  0.54599553  xmax  0.10571112\n",
      "left:  7.206181883811951  right:  33.82755756378174  top:  140.549955368042  bottom  174.71857070922852\n",
      "Top left point: ( 7 ,  140 ) and Bottom right point: ( 33 ,  174 )\n",
      "CNN Predictions:\n",
      "Symbol_id: 92 , Latex: \\times , Confidence Score: 91.49 %\n",
      "Symbol_id: 59 , Latex: x , Confidence Score: 6.46 %\n",
      "Symbol_id: 23 , Latex: X , Confidence Score: 1.48 %\n"
     ]
    },
    {
     "data": {
      "image/png": "[encoded data removed]",
      "text/plain": [
       "<Figure size 72x72 with 1 Axes>"
      ]
     },
     "metadata": {
      "needs_background": "light"
     },
     "output_type": "display_data"
    },
    {
     "data": {
      "image/png": "[encoded data removed]",
      "text/plain": [
       "<Figure size 504x504 with 1 Axes>"
      ]
     },
     "metadata": {
      "needs_background": "light"
     },
     "output_type": "display_data"
    },
    {
     "name": "stdout",
     "output_type": "stream",
     "text": [
      "-------------------------\n",
      "Detecting Boxes for Image:  research/object_detection/training/test_images/exp8.png\n",
      "Image shape:  (320, 320, 3)\n",
      "***************\n",
      "Box: \n",
      "ymin:  0.44656202  xmin:  0.2437685  ymax:  0.5314334  xmax  0.31224176\n",
      "left:  78.00591945648193  right:  99.9173641204834  top:  142.89984703063965  bottom  170.05868911743164\n",
      "Top left point: ( 78 ,  142 ) and Bottom right point: ( 99 ,  170 )\n",
      "CNN Predictions:\n",
      "Symbol_id: 84 , Latex: + , Confidence Score: 31.57 %\n",
      "Symbol_id: 96 , Latex: \\perp , Confidence Score: 19.09 %\n",
      "Symbol_id: 42 , Latex: f , Confidence Score: 18.22 %\n",
      "Symbol_id: 94 , Latex: \\div , Confidence Score: 11.54 %\n",
      "Symbol_id: 86 , Latex: \\{ , Confidence Score: 7.02 %\n",
      "Symbol_id: 0 , Latex: A , Confidence Score: 2.05 %\n",
      "Symbol_id: 89 , Latex: \\# , Confidence Score: 1.75 %\n",
      "Symbol_id: 7 , Latex: H , Confidence Score: 1.47 %\n",
      "Symbol_id: 97 , Latex: \\forall , Confidence Score: 1.17 %\n",
      "Symbol_id: 54 , Latex: r , Confidence Score: 1.07 %\n"
     ]
    },
    {
     "data": {
      "image/png": "[encoded data removed]",
      "text/plain": [
       "<Figure size 72x72 with 1 Axes>"
      ]
     },
     "metadata": {
      "needs_background": "light"
     },
     "output_type": "display_data"
    },
    {
     "name": "stdout",
     "output_type": "stream",
     "text": [
      "***************\n",
      "Box: \n",
      "ymin:  0.42476645  xmin:  0.44477567  ymax:  0.53971493  xmax  0.50261307\n",
      "left:  142.32821464538574  right:  160.836181640625  top:  135.9252643585205  bottom  172.70877838134766\n",
      "Top left point: ( 142 ,  135 ) and Bottom right point: ( 160 ,  172 )\n",
      "CNN Predictions:\n",
      "Symbol_id: 60 , Latex: y , Confidence Score: 95.98 %\n",
      "Symbol_id: 24 , Latex: Y , Confidence Score: 1.88 %\n"
     ]
    },
    {
     "data": {
      "image/png": "[encoded data removed]",
      "text/plain": [
       "<Figure size 72x72 with 1 Axes>"
      ]
     },
     "metadata": {
      "needs_background": "light"
     },
     "output_type": "display_data"
    },
    {
     "name": "stdout",
     "output_type": "stream",
     "text": [
      "***************\n",
      "Box: \n",
      "ymin:  0.4524996  xmin:  0.63820094  ymax:  0.5037509  xmax  0.71529585\n",
      "left:  204.22430038452148  right:  228.89467239379883  top:  144.79987144470215  bottom  161.2002944946289\n",
      "Top left point: ( 204 ,  144 ) and Bottom right point: ( 228 ,  161 )\n",
      "CNN Predictions:\n",
      "Symbol_id: 96 , Latex: \\perp , Confidence Score: 34.77 %\n",
      "Symbol_id: 79 , Latex: > , Confidence Score: 16.88 %\n",
      "Symbol_id: 94 , Latex: \\div , Confidence Score: 8.68 %\n",
      "Symbol_id: 81 , Latex: \\supset , Confidence Score: 5.96 %\n",
      "Symbol_id: 75 , Latex: \\cdot , Confidence Score: 4.45 %\n",
      "Symbol_id: 104 , Latex: = , Confidence Score: 4.11 %\n",
      "Symbol_id: 106 , Latex: //) , Confidence Score: 3.37 %\n",
      "Symbol_id: 77 , Latex: \\geq , Confidence Score: 2.55 %\n",
      "Symbol_id: 105 , Latex: //( , Confidence Score: 2.48 %\n",
      "Symbol_id: 80 , Latex: \\subset , Confidence Score: 2.27 %\n",
      "Symbol_id: 83 , Latex: - , Confidence Score: 2.18 %\n",
      "Symbol_id: 61 , Latex: z , Confidence Score: 1.06 %\n"
     ]
    },
    {
     "data": {
      "image/png": "[encoded data removed]",
      "text/plain": [
       "<Figure size 72x72 with 1 Axes>"
      ]
     },
     "metadata": {
      "needs_background": "light"
     },
     "output_type": "display_data"
    },
    {
     "name": "stdout",
     "output_type": "stream",
     "text": [
      "***************\n",
      "Box: \n",
      "ymin:  0.44378754  xmin:  0.8446104  ymax:  0.51995987  xmax  0.9567364\n",
      "left:  270.2753257751465  right:  306.15564346313477  top:  142.0120143890381  bottom  166.38715744018555\n",
      "Top left point: ( 270 ,  142 ) and Bottom right point: ( 306 ,  166 )\n",
      "CNN Predictions:\n",
      "Symbol_id: 61 , Latex: z , Confidence Score: 69.72 %\n",
      "Symbol_id: 77 , Latex: \\geq , Confidence Score: 12.43 %\n",
      "Symbol_id: 25 , Latex: Z , Confidence Score: 9.88 %\n",
      "Symbol_id: 76 , Latex: \\leq , Confidence Score: 2.35 %\n",
      "Symbol_id: 62 , Latex: \\Sigma , Confidence Score: 1.38 %\n"
     ]
    },
    {
     "data": {
      "image/png": "[encoded data removed]",
      "text/plain": [
       "<Figure size 72x72 with 1 Axes>"
      ]
     },
     "metadata": {
      "needs_background": "light"
     },
     "output_type": "display_data"
    },
    {
     "name": "stdout",
     "output_type": "stream",
     "text": [
      "***************\n",
      "Box: \n",
      "ymin:  0.4392186  xmin:  0.022519315  ymax:  0.54599553  xmax  0.10571112\n",
      "left:  7.206180691719055  right:  33.82755756378174  top:  140.549955368042  bottom  174.71857070922852\n",
      "Top left point: ( 7 ,  140 ) and Bottom right point: ( 33 ,  174 )\n",
      "CNN Predictions:\n",
      "Symbol_id: 92 , Latex: \\times , Confidence Score: 91.49 %\n",
      "Symbol_id: 59 , Latex: x , Confidence Score: 6.46 %\n",
      "Symbol_id: 23 , Latex: X , Confidence Score: 1.48 %\n"
     ]
    },
    {
     "data": {
      "image/png": "[encoded data removed]",
      "text/plain": [
       "<Figure size 72x72 with 1 Axes>"
      ]
     },
     "metadata": {
      "needs_background": "light"
     },
     "output_type": "display_data"
    },
    {
     "data": {
      "image/png": "[encoded data removed]",
      "text/plain": [
       "<Figure size 504x504 with 1 Axes>"
      ]
     },
     "metadata": {
      "needs_background": "light"
     },
     "output_type": "display_data"
    },
    {
     "name": "stdout",
     "output_type": "stream",
     "text": [
      "-------------------------\n",
      "Detecting Boxes for Image:  research/object_detection/training/test_images/exp9.png\n",
      "Image shape:  (320, 320, 3)\n",
      "***************\n",
      "Box: \n",
      "ymin:  0.42423746  xmin:  0.4453438  ymax:  0.5399972  xmax  0.5036146\n",
      "left:  142.51001358032227  right:  161.15667343139648  top:  135.7559871673584  bottom  172.79911041259766\n",
      "Top left point: ( 142 ,  135 ) and Bottom right point: ( 161 ,  172 )\n",
      "CNN Predictions:\n",
      "Symbol_id: 60 , Latex: y , Confidence Score: 92.57 %\n",
      "Symbol_id: 24 , Latex: Y , Confidence Score: 2.87 %\n"
     ]
    },
    {
     "data": {
      "image/png": "[encoded data removed]",
      "text/plain": [
       "<Figure size 72x72 with 1 Axes>"
      ]
     },
     "metadata": {
      "needs_background": "light"
     },
     "output_type": "display_data"
    },
    {
     "name": "stdout",
     "output_type": "stream",
     "text": [
      "***************\n",
      "Box: \n",
      "ymin:  0.44657612  xmin:  0.2300403  ymax:  0.5237957  xmax  0.29843682\n",
      "left:  73.61289501190186  right:  95.49978256225586  top:  142.90435791015625  bottom  167.61463165283203\n",
      "Top left point: ( 73 ,  142 ) and Bottom right point: ( 95 ,  167 )\n",
      "CNN Predictions:\n",
      "Symbol_id: 84 , Latex: + , Confidence Score: 86.45 %\n",
      "Symbol_id: 96 , Latex: \\perp , Confidence Score: 8.89 %\n"
     ]
    },
    {
     "data": {
      "image/png": "[encoded data removed]",
      "text/plain": [
       "<Figure size 72x72 with 1 Axes>"
      ]
     },
     "metadata": {
      "needs_background": "light"
     },
     "output_type": "display_data"
    },
    {
     "name": "stdout",
     "output_type": "stream",
     "text": [
      "***************\n",
      "Box: \n",
      "ymin:  0.45239803  xmin:  0.6390137  ymax:  0.5036976  xmax  0.7168195\n",
      "left:  204.4843864440918  right:  229.3822479248047  top:  144.76737022399902  bottom  161.18322372436523\n",
      "Top left point: ( 204 ,  144 ) and Bottom right point: ( 229 ,  161 )\n",
      "CNN Predictions:\n",
      "Symbol_id: 96 , Latex: \\perp , Confidence Score: 34.77 %\n",
      "Symbol_id: 79 , Latex: > , Confidence Score: 16.88 %\n",
      "Symbol_id: 94 , Latex: \\div , Confidence Score: 8.68 %\n",
      "Symbol_id: 81 , Latex: \\supset , Confidence Score: 5.96 %\n",
      "Symbol_id: 75 , Latex: \\cdot , Confidence Score: 4.45 %\n",
      "Symbol_id: 104 , Latex: = , Confidence Score: 4.11 %\n",
      "Symbol_id: 106 , Latex: //) , Confidence Score: 3.37 %\n",
      "Symbol_id: 77 , Latex: \\geq , Confidence Score: 2.55 %\n",
      "Symbol_id: 105 , Latex: //( , Confidence Score: 2.48 %\n",
      "Symbol_id: 80 , Latex: \\subset , Confidence Score: 2.27 %\n",
      "Symbol_id: 83 , Latex: - , Confidence Score: 2.18 %\n",
      "Symbol_id: 61 , Latex: z , Confidence Score: 1.06 %\n"
     ]
    },
    {
     "data": {
      "image/png": "[encoded data removed]",
      "text/plain": [
       "<Figure size 72x72 with 1 Axes>"
      ]
     },
     "metadata": {
      "needs_background": "light"
     },
     "output_type": "display_data"
    },
    {
     "name": "stdout",
     "output_type": "stream",
     "text": [
      "***************\n",
      "Box: \n",
      "ymin:  0.43931293  xmin:  0.02323967  ymax:  0.54628336  xmax  0.10514064\n",
      "left:  7.436694502830505  right:  33.645005226135254  top:  140.58013916015625  bottom  174.81067657470703\n",
      "Top left point: ( 7 ,  140 ) and Bottom right point: ( 33 ,  174 )\n",
      "CNN Predictions:\n",
      "Symbol_id: 92 , Latex: \\times , Confidence Score: 91.49 %\n",
      "Symbol_id: 59 , Latex: x , Confidence Score: 6.46 %\n",
      "Symbol_id: 23 , Latex: X , Confidence Score: 1.48 %\n"
     ]
    },
    {
     "data": {
      "image/png": "[encoded data removed]",
      "text/plain": [
       "<Figure size 72x72 with 1 Axes>"
      ]
     },
     "metadata": {
      "needs_background": "light"
     },
     "output_type": "display_data"
    },
    {
     "name": "stdout",
     "output_type": "stream",
     "text": [
      "***************\n",
      "Box: \n",
      "ymin:  0.44205776  xmin:  0.858077  ymax:  0.52738947  xmax  0.9661817\n",
      "left:  274.5846366882324  right:  309.1781425476074  top:  141.45848274230957  bottom  168.76462936401367\n",
      "Top left point: ( 274 ,  141 ) and Bottom right point: ( 309 ,  168 )\n",
      "CNN Predictions:\n",
      "Symbol_id: 25 , Latex: Z , Confidence Score: 38.18 %\n",
      "Symbol_id: 61 , Latex: z , Confidence Score: 26.58 %\n",
      "Symbol_id: 76 , Latex: \\leq , Confidence Score: 6.7 %\n",
      "Symbol_id: 80 , Latex: \\subset , Confidence Score: 5.49 %\n",
      "Symbol_id: 78 , Latex: < , Confidence Score: 4.54 %\n",
      "Symbol_id: 105 , Latex: //( , Confidence Score: 4.0 %\n",
      "Symbol_id: 59 , Latex: x , Confidence Score: 2.69 %\n",
      "Symbol_id: 65 , Latex: \\Delta , Confidence Score: 1.2 %\n",
      "Symbol_id: 41 , Latex: e , Confidence Score: 1.15 %\n",
      "Symbol_id: 90 , Latex: \\% , Confidence Score: 1.08 %\n",
      "Symbol_id: 96 , Latex: \\perp , Confidence Score: 1.02 %\n"
     ]
    },
    {
     "data": {
      "image/png": "[encoded data removed]",
      "text/plain": [
       "<Figure size 72x72 with 1 Axes>"
      ]
     },
     "metadata": {
      "needs_background": "light"
     },
     "output_type": "display_data"
    },
    {
     "data": {
      "image/png": "[encoded data removed]",
      "text/plain": [
       "<Figure size 504x504 with 1 Axes>"
      ]
     },
     "metadata": {
      "needs_background": "light"
     },
     "output_type": "display_data"
    }
   ],
   "source": [
    "for image_path in TEST_IMAGE_PATHS:\n",
    "    image_path = image_path.replace(\"\\\\\", \"/\")\n",
    "    im_name = image_path.split(\"/\")[-1]\n",
    "    image = Image.open(image_path)\n",
    "\n",
    "    # the array based representation of the image will be used later in order to prepare the\n",
    "    # result image with boxes and labels on it.\n",
    "    image_np = np.asarray(image)\n",
    "    if len(image_np.shape) < 3:\n",
    "    \timage_np = cv2.cvtColor(image_np, cv2.COLOR_GRAY2RGB)\n",
    "    else:\n",
    "    \timage_np = cv2.cvtColor(image_np, cv2.COLOR_RGBA2RGB)\n",
    "    print('-'*25)\n",
    "    print('Detecting Boxes for Image: ', image_path)\n",
    "    print('Image shape: ', image_np.shape)\n",
    "    \n",
    "    # Expand dimensions since the model expects images to have shape: [1, None, None, 3]\n",
    "    image_np_expanded = np.expand_dims(image_np, axis=0)\n",
    "\n",
    "    # Actual detection.\n",
    "    output_dict = run_inference_for_single_image(image_np, detection_graph)\n",
    "\n",
    "    # Visualization of the results of a detection.\n",
    "    \"\"\"\n",
    "    vis_util.visualize_boxes_and_labels_on_image_array(\n",
    "        image_np,\n",
    "        output_dict['detection_boxes'],\n",
    "        output_dict['detection_classes'],\n",
    "        output_dict['detection_scores'],\n",
    "        category_index,\n",
    "        instance_masks=output_dict.get('detection_masks'),\n",
    "        use_normalized_coordinates=True,\n",
    "        line_thickness=8)\n",
    "    plt.figure(figsize=IMAGE_SIZE)\n",
    "    \"\"\"\n",
    "    # cv2.imshow('scene', image_np)\n",
    "    # plt.show()\n",
    "\n",
    "    # crop image and display\n",
    "    im_width, im_height = image.size\n",
    "    cropped_images = []\n",
    "    for i in range(output_dict['num_detections']):\n",
    "        if output_dict['detection_scores'][i] > 0.8:\n",
    "            vis_util.visualize_boxes_and_labels_on_image_array(\n",
    "                image_np,\n",
    "                np.array([output_dict['detection_boxes'][i]]),\n",
    "                np.array([output_dict['detection_classes'][i]]),\n",
    "                np.array([output_dict['detection_scores'][i]]),\n",
    "                category_index,\n",
    "                instance_masks=output_dict.get('detection_masks'),\n",
    "                use_normalized_coordinates=True,\n",
    "                line_thickness=2)\n",
    "            (ymin, xmin, ymax, xmax) = output_dict['detection_boxes'][i]\n",
    "            (left, right, top, bottom) = (xmin * im_width,\n",
    "                                          xmax * im_width,\n",
    "                                          ymin * im_height,\n",
    "                                          ymax * im_height)\n",
    "            print('*'*15)\n",
    "            print(\"Box: \")\n",
    "            print(\"ymin: \", ymin,\" xmin: \", xmin, \" ymax: \", ymax,\" xmax \", xmax)\n",
    "            print(\"left: \", left,\" right: \", right,\" top: \", top,\" bottom \", bottom)\n",
    "            print(\"Top left point: (\",int(left),\", \",int(top),\") and Bottom right point: (\",int(right),\", \",int(bottom),\")\")\n",
    "            \n",
    "            cropped_image = image.crop((left, top, right, bottom))\n",
    "            \n",
    "            # Predict label for cropped image with CNN\n",
    "            c_im = np.asarray(cropped_image)\n",
    "            c_im = cv2.cvtColor(c_im, cv2.COLOR_BGRA2RGBA)\n",
    "            c_im = cv2.cvtColor(c_im, cv2.COLOR_RGBA2RGB)\n",
    "            c_im = cv2.cvtColor(c_im, cv2.COLOR_RGBA2GRAY)\n",
    "            c_im = cv2.resize(c_im, (32,32))\n",
    "            c_im = np.resize(c_im, (1, 1, 32, 32))\n",
    "            c_im = c_im / 255.0\n",
    "            res = cnn.predict(c_im)\n",
    "            res = res.flatten()\n",
    "            # lbl = one_hot_encode_to_char(res, threshold=0.1)\n",
    "            # if type(lbl) == list: lbl = lbl[0]\n",
    "            # print(\"Symbol is :\", symbols.loc[symbols['new_id']==lbl])\n",
    "            lbls = one_hot_encode_to_char_list(res, threshold=0.01, get_max = False)\n",
    "            print(\"CNN Predictions:\")\n",
    "            for j in lbls:\n",
    "                symbols_row = symbols[symbols['new_id'] == j[0]][['latex', 'old_symbol', 'new_id']]\n",
    "                latex, old_symbol, new_id = symbols_row.iloc[0].to_list()\n",
    "                print('Symbol_id:', new_id, ', Latex:', latex, ', Confidence Score:', round(j[1]*100, 2), '%')\n",
    "            plt.figure(figsize=(1,1))\n",
    "            plt.axis('off')\n",
    "            plt.imshow(np.asarray(cropped_image))\n",
    "            plt.show()\n",
    "            cropped_images.append(np.asarray(cropped_image))\n",
    "            #cv2.imshow('model', np.asarray(cropped_image))\n",
    "    plt.figure(figsize=(7,7))\n",
    "    plt.axis('off')\n",
    "    plt.imshow(cv2.resize(image_np, (int(im_width), int(im_height))))\n",
    "    plt.show()\n",
    "    #cv2.imshow(im_name, cv2.resize(image_np, (int(im_width), int(im_height))))\n",
    "    #cv2.waitKey(0)\n",
    "    #cv2.destroyAllWindows()\n"
   ]
  },
  {
   "cell_type": "code",
   "execution_count": null,
   "metadata": {},
   "outputs": [],
   "source": []
  }
 ],
 "metadata": {
  "kernelspec": {
   "display_name": "Python 3",
   "language": "python",
   "name": "python3"
  },
  "language_info": {
   "codemirror_mode": {
    "name": "ipython",
    "version": 3
   },
   "file_extension": ".py",
   "mimetype": "text/x-python",
   "name": "python",
   "nbconvert_exporter": "python",
   "pygments_lexer": "ipython3",
   "version": "3.6.9"
  }
 },
 "nbformat": 4,
 "nbformat_minor": 4
}
