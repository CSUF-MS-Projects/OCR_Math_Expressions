{
 "cells": [
  {
   "cell_type": "code",
   "execution_count": 23,
   "metadata": {},
   "outputs": [],
   "source": [
    "%%capture\n",
    "# turn off tensorflow INFO (Debugging info)\n",
    "import warnings\n",
    "warnings.filterwarnings('ignore')\n",
    "\n",
    "import numpy as np\n",
    "import pandas as pd\n",
    "import tensorflow as tf\n",
    "import cv2\n",
    "import glob\n",
    "import matplotlib.pyplot as plt\n",
    "import keras\n",
    "from keras.models import load_model\n",
    "from keras import backend as K\n",
    "import xml.etree.ElementTree as ET\n",
    "from pprint import pprint\n",
    "K.set_image_data_format('channels_first')"
   ]
  },
  {
   "cell_type": "code",
   "execution_count": 2,
   "metadata": {},
   "outputs": [],
   "source": [
    "# turn off tensorflow INFO (Debugging info)\n",
    "import os\n",
    "os.environ['TF_CPP_MIN_LOG_LEVEL'] = '3' "
   ]
  },
  {
   "cell_type": "code",
   "execution_count": 3,
   "metadata": {},
   "outputs": [],
   "source": [
    "%matplotlib inline"
   ]
  },
  {
   "cell_type": "markdown",
   "metadata": {},
   "source": [
    "### Helpers"
   ]
  },
  {
   "cell_type": "code",
   "execution_count": 4,
   "metadata": {},
   "outputs": [],
   "source": [
    "def remove_wspaces(img_):\n",
    "    gray_ = cv2.cvtColor(img_, cv2.COLOR_BGR2GRAY)\n",
    "    gray_ = 255*(gray_ < 128).astype(np.uint8) # To invert the text to white\n",
    "    coords_ = cv2.findNonZero(gray_) # Find all non-zero points (text)\n",
    "    x_, y_, w_, h_ = cv2.boundingRect(coords_) # Find minimum spanning bounding box\n",
    "    rect_ = img_[y_:y_+h_, x_:x_+w_] # Crop the image - note we do this on the original image\n",
    "    \n",
    "    # add a white border of 1 pixel\n",
    "    bordersize=2\n",
    "    rect_ = cv2.copyMakeBorder(\n",
    "        rect_,\n",
    "        top=bordersize,\n",
    "        bottom=bordersize,\n",
    "        left=bordersize,\n",
    "        right=bordersize,\n",
    "        borderType=cv2.BORDER_CONSTANT,\n",
    "        value=[255, 255, 255]\n",
    "    )\n",
    "    return rect_\n",
    "\n",
    "def load_image_into_numpy_array(image):\n",
    "    (im_width, im_height) = image.size\n",
    "    return np.array(image.getdata()).reshape((im_height, im_width, 3)).astype(np.uint8)\n",
    "\n",
    "\n",
    "def one_hot_encode_to_char(arr, threshold=0.5, get_max=True):\n",
    "    result = []\n",
    "    val = 0\n",
    "    for i in range(len(arr)):\n",
    "        if arr[i] >= threshold:\n",
    "            result.append((val, arr[i]))\n",
    "        val +=1\n",
    "    _max = []\n",
    "    high = 0\n",
    "    if get_max:\n",
    "        for i in result:\n",
    "            if i[1] > high:\n",
    "                _max = [i[0]]\n",
    "                high = i[1]\n",
    "        return _max\n",
    "    else:\n",
    "        return [i[0] for i in result]\n",
    "\n",
    "def one_hot_encode_to_char_list(arr, threshold=0.5, get_max=True):\n",
    "    result = []\n",
    "    for i in range(len(arr)):\n",
    "        if arr[i] >= threshold:\n",
    "            result.append((i, arr[i]))\n",
    "    _max = []\n",
    "    high = 0\n",
    "    result = sorted(result, key=lambda x: x[1], reverse=True)\n",
    "    if get_max:\n",
    "        return result[-1]\n",
    "    return result"
   ]
  },
  {
   "cell_type": "markdown",
   "metadata": {},
   "source": [
    "### Load Images"
   ]
  },
  {
   "cell_type": "code",
   "execution_count": 5,
   "metadata": {},
   "outputs": [
    {
     "name": "stdout",
     "output_type": "stream",
     "text": [
      "Train Image paths: \n",
      "Datasets/Object_Detection/test\\exp0015.png\n",
      "Datasets/Object_Detection/test\\exp0016.png\n",
      "Datasets/Object_Detection/test\\exp0029.png\n",
      "Datasets/Object_Detection/test\\exp0037.png\n",
      "Datasets/Object_Detection/test\\exp0044.png\n",
      "Datasets/Object_Detection/test\\exp0051.png\n",
      "Datasets/Object_Detection/test\\exp9.png\n"
     ]
    }
   ],
   "source": [
    "PATH_TO_TEST_IMAGES_DIR = \"Datasets/Object_Detection/test/*.png\"\n",
    "PATH_TO_TRAIN_IMAGES_DIR = \"Datasets/Object_Detection/train/*.png\"\n",
    "\n",
    "TEST_IMAGE_PATHS = list(glob.glob(PATH_TO_TEST_IMAGES_DIR))\n",
    "TRAIN_IMAGE_PATHS = list(glob.glob(PATH_TO_TRAIN_IMAGES_DIR))\n",
    "\n",
    "print(\"Train Image paths: \")\n",
    "for i in TEST_IMAGE_PATHS:\n",
    "    print(i)\n",
    "    \n",
    "# Change TEST/TRAIN Images to test here\n",
    "image_paths = TEST_IMAGE_PATHS"
   ]
  },
  {
   "cell_type": "markdown",
   "metadata": {},
   "source": [
    "### Load CNN/ANN Model"
   ]
  },
  {
   "cell_type": "code",
   "execution_count": 6,
   "metadata": {},
   "outputs": [],
   "source": [
    "IMAGE_SIZE = (320, 320)\n",
    "models_path = \"trained_models/\"\n",
    "\n",
    "# CNN\n",
    "#cnn = load_model(models_path+\"hasyv2model31.h5\")\n",
    "#cnn = load_model(models_path+\"hasyv2model51.h5\")\n",
    "cnn = load_model(models_path+\"model3.h5\")\n",
    "\n",
    "# ANN\n",
    "#ann = load_model(models_path+\"ann1.h5\")"
   ]
  },
  {
   "cell_type": "markdown",
   "metadata": {},
   "source": [
    "### Load symbols/labels"
   ]
  },
  {
   "cell_type": "code",
   "execution_count": 7,
   "metadata": {},
   "outputs": [
    {
     "data": {
      "text/html": [
       "<div>\n",
       "<style scoped>\n",
       "    .dataframe tbody tr th:only-of-type {\n",
       "        vertical-align: middle;\n",
       "    }\n",
       "\n",
       "    .dataframe tbody tr th {\n",
       "        vertical-align: top;\n",
       "    }\n",
       "\n",
       "    .dataframe thead th {\n",
       "        text-align: right;\n",
       "    }\n",
       "</style>\n",
       "<table border=\"1\" class=\"dataframe\">\n",
       "  <thead>\n",
       "    <tr style=\"text-align: right;\">\n",
       "      <th></th>\n",
       "      <th>latex</th>\n",
       "      <th>old_symbol</th>\n",
       "      <th>new_id</th>\n",
       "    </tr>\n",
       "  </thead>\n",
       "  <tbody>\n",
       "    <tr>\n",
       "      <th>0</th>\n",
       "      <td>A</td>\n",
       "      <td>31</td>\n",
       "      <td>0</td>\n",
       "    </tr>\n",
       "    <tr>\n",
       "      <th>1</th>\n",
       "      <td>B</td>\n",
       "      <td>32</td>\n",
       "      <td>1</td>\n",
       "    </tr>\n",
       "    <tr>\n",
       "      <th>2</th>\n",
       "      <td>C</td>\n",
       "      <td>33</td>\n",
       "      <td>2</td>\n",
       "    </tr>\n",
       "    <tr>\n",
       "      <th>3</th>\n",
       "      <td>D</td>\n",
       "      <td>34</td>\n",
       "      <td>3</td>\n",
       "    </tr>\n",
       "    <tr>\n",
       "      <th>4</th>\n",
       "      <td>E</td>\n",
       "      <td>35</td>\n",
       "      <td>4</td>\n",
       "    </tr>\n",
       "  </tbody>\n",
       "</table>\n",
       "</div>"
      ],
      "text/plain": [
       "  latex  old_symbol  new_id\n",
       "0     A          31       0\n",
       "1     B          32       1\n",
       "2     C          33       2\n",
       "3     D          34       3\n",
       "4     E          35       4"
      ]
     },
     "execution_count": 7,
     "metadata": {},
     "output_type": "execute_result"
    }
   ],
   "source": [
    "symbols = pd.read_csv(\"processed_data/symbols.csv\").drop([\"Unnamed: 0\"], axis=1)\n",
    "symbols.head()"
   ]
  },
  {
   "cell_type": "markdown",
   "metadata": {},
   "source": [
    "### Feature Detection"
   ]
  },
  {
   "cell_type": "code",
   "execution_count": 11,
   "metadata": {
    "collapsed": true,
    "jupyter": {
     "outputs_hidden": true
    }
   },
   "outputs": [
    {
     "name": "stdout",
     "output_type": "stream",
     "text": [
      "Image path:  Datasets/Object_Detection/test\\exp0015.png\n"
     ]
    },
    {
     "data": {
      "image/png": "[encoded data removed]",
      "text/plain": [
       "<Figure size 360x360 with 1 Axes>"
      ]
     },
     "metadata": {
      "needs_background": "light"
     },
     "output_type": "display_data"
    },
    {
     "name": "stdout",
     "output_type": "stream",
     "text": [
      "CNN/ANN Predictions:\n",
      "Symbol_id: 61 , Latex: z , Confidence Score: 99.62 %\n"
     ]
    },
    {
     "data": {
      "image/png": "[encoded data removed]",
      "text/plain": [
       "<Figure size 72x72 with 1 Axes>"
      ]
     },
     "metadata": {
      "needs_background": "light"
     },
     "output_type": "display_data"
    },
    {
     "name": "stdout",
     "output_type": "stream",
     "text": [
      "CNN/ANN Predictions:\n",
      "Symbol_id: 81 , Latex: \\supset , Confidence Score: 47.64 %\n",
      "Symbol_id: 104 , Latex: = , Confidence Score: 23.3 %\n",
      "Symbol_id: 83 , Latex: - , Confidence Score: 9.81 %\n",
      "Symbol_id: 96 , Latex: \\perp , Confidence Score: 2.74 %\n",
      "Symbol_id: 65 , Latex: \\Delta , Confidence Score: 2.57 %\n",
      "Symbol_id: 31 , Latex: 5 , Confidence Score: 2.5 %\n",
      "Symbol_id: 51 , Latex: o , Confidence Score: 2.36 %\n",
      "Symbol_id: 75 , Latex: \\cdot , Confidence Score: 1.34 %\n",
      "Symbol_id: 98 , Latex: \\exists , Confidence Score: 1.22 %\n",
      "Symbol_id: 105 , Latex: //( , Confidence Score: 1.08 %\n"
     ]
    },
    {
     "data": {
      "image/png": "[encoded data removed]",
      "text/plain": [
       "<Figure size 72x72 with 1 Axes>"
      ]
     },
     "metadata": {
      "needs_background": "light"
     },
     "output_type": "display_data"
    },
    {
     "name": "stdout",
     "output_type": "stream",
     "text": [
      "CNN/ANN Predictions:\n",
      "Symbol_id: 81 , Latex: \\supset , Confidence Score: 42.18 %\n",
      "Symbol_id: 104 , Latex: = , Confidence Score: 29.61 %\n",
      "Symbol_id: 83 , Latex: - , Confidence Score: 10.21 %\n",
      "Symbol_id: 96 , Latex: \\perp , Confidence Score: 4.24 %\n",
      "Symbol_id: 65 , Latex: \\Delta , Confidence Score: 2.61 %\n",
      "Symbol_id: 31 , Latex: 5 , Confidence Score: 1.64 %\n",
      "Symbol_id: 51 , Latex: o , Confidence Score: 1.6 %\n",
      "Symbol_id: 105 , Latex: //( , Confidence Score: 1.28 %\n",
      "Symbol_id: 75 , Latex: \\cdot , Confidence Score: 1.21 %\n"
     ]
    },
    {
     "data": {
      "image/png": "[encoded data removed]",
      "text/plain": [
       "<Figure size 72x72 with 1 Axes>"
      ]
     },
     "metadata": {
      "needs_background": "light"
     },
     "output_type": "display_data"
    },
    {
     "name": "stdout",
     "output_type": "stream",
     "text": [
      "CNN/ANN Predictions:\n",
      "Symbol_id: 92 , Latex: \\times , Confidence Score: 99.42 %\n"
     ]
    },
    {
     "data": {
      "image/png": "[encoded data removed]",
      "text/plain": [
       "<Figure size 72x72 with 1 Axes>"
      ]
     },
     "metadata": {
      "needs_background": "light"
     },
     "output_type": "display_data"
    },
    {
     "name": "stdout",
     "output_type": "stream",
     "text": [
      "CNN/ANN Predictions:\n",
      "Symbol_id: 84 , Latex: + , Confidence Score: 98.91 %\n"
     ]
    },
    {
     "data": {
      "image/png": "[encoded data removed]",
      "text/plain": [
       "<Figure size 72x72 with 1 Axes>"
      ]
     },
     "metadata": {
      "needs_background": "light"
     },
     "output_type": "display_data"
    },
    {
     "name": "stdout",
     "output_type": "stream",
     "text": [
      "CNN/ANN Predictions:\n",
      "Symbol_id: 63 , Latex: \\gamma , Confidence Score: 95.91 %\n",
      "Symbol_id: 24 , Latex: Y , Confidence Score: 2.83 %\n",
      "Symbol_id: 60 , Latex: y , Confidence Score: 1.16 %\n"
     ]
    },
    {
     "data": {
      "image/png": "[encoded data removed]",
      "text/plain": [
       "<Figure size 72x72 with 1 Axes>"
      ]
     },
     "metadata": {
      "needs_background": "light"
     },
     "output_type": "display_data"
    },
    {
     "name": "stdout",
     "output_type": "stream",
     "text": [
      "number of char in image: 6\n",
      "Image path:  Datasets/Object_Detection/test\\exp0016.png\n"
     ]
    },
    {
     "data": {
      "image/png": "[encoded data removed]",
      "text/plain": [
       "<Figure size 360x360 with 1 Axes>"
      ]
     },
     "metadata": {
      "needs_background": "light"
     },
     "output_type": "display_data"
    },
    {
     "name": "stdout",
     "output_type": "stream",
     "text": [
      "CNN/ANN Predictions:\n",
      "Symbol_id: 25 , Latex: Z , Confidence Score: 88.24 %\n",
      "Symbol_id: 28 , Latex: 2 , Confidence Score: 7.87 %\n",
      "Symbol_id: 61 , Latex: z , Confidence Score: 3.87 %\n"
     ]
    },
    {
     "data": {
      "image/png": "[encoded data removed]",
      "text/plain": [
       "<Figure size 72x72 with 1 Axes>"
      ]
     },
     "metadata": {
      "needs_background": "light"
     },
     "output_type": "display_data"
    },
    {
     "name": "stdout",
     "output_type": "stream",
     "text": [
      "CNN/ANN Predictions:\n",
      "Symbol_id: 81 , Latex: \\supset , Confidence Score: 44.76 %\n",
      "Symbol_id: 104 , Latex: = , Confidence Score: 22.91 %\n",
      "Symbol_id: 83 , Latex: - , Confidence Score: 10.4 %\n",
      "Symbol_id: 65 , Latex: \\Delta , Confidence Score: 3.57 %\n",
      "Symbol_id: 51 , Latex: o , Confidence Score: 3.41 %\n",
      "Symbol_id: 31 , Latex: 5 , Confidence Score: 2.85 %\n",
      "Symbol_id: 96 , Latex: \\perp , Confidence Score: 2.23 %\n",
      "Symbol_id: 75 , Latex: \\cdot , Confidence Score: 1.7 %\n",
      "Symbol_id: 105 , Latex: //( , Confidence Score: 1.45 %\n"
     ]
    },
    {
     "data": {
      "image/png": "[encoded data removed]",
      "text/plain": [
       "<Figure size 72x72 with 1 Axes>"
      ]
     },
     "metadata": {
      "needs_background": "light"
     },
     "output_type": "display_data"
    },
    {
     "name": "stdout",
     "output_type": "stream",
     "text": [
      "CNN/ANN Predictions:\n",
      "Symbol_id: 81 , Latex: \\supset , Confidence Score: 61.21 %\n",
      "Symbol_id: 104 , Latex: = , Confidence Score: 20.3 %\n",
      "Symbol_id: 83 , Latex: - , Confidence Score: 3.4 %\n",
      "Symbol_id: 65 , Latex: \\Delta , Confidence Score: 2.51 %\n",
      "Symbol_id: 51 , Latex: o , Confidence Score: 2.18 %\n",
      "Symbol_id: 75 , Latex: \\cdot , Confidence Score: 2.16 %\n",
      "Symbol_id: 31 , Latex: 5 , Confidence Score: 1.47 %\n",
      "Symbol_id: 95 , Latex: \\cap , Confidence Score: 1.27 %\n",
      "Symbol_id: 105 , Latex: //( , Confidence Score: 1.23 %\n"
     ]
    },
    {
     "data": {
      "image/png": "[encoded data removed]",
      "text/plain": [
       "<Figure size 72x72 with 1 Axes>"
      ]
     },
     "metadata": {
      "needs_background": "light"
     },
     "output_type": "display_data"
    },
    {
     "name": "stdout",
     "output_type": "stream",
     "text": [
      "CNN/ANN Predictions:\n",
      "Symbol_id: 92 , Latex: \\times , Confidence Score: 99.99 %\n"
     ]
    },
    {
     "data": {
      "image/png": "[encoded data removed]",
      "text/plain": [
       "<Figure size 72x72 with 1 Axes>"
      ]
     },
     "metadata": {
      "needs_background": "light"
     },
     "output_type": "display_data"
    },
    {
     "name": "stdout",
     "output_type": "stream",
     "text": [
      "CNN/ANN Predictions:\n",
      "Symbol_id: 84 , Latex: + , Confidence Score: 83.46 %\n",
      "Symbol_id: 96 , Latex: \\perp , Confidence Score: 11.68 %\n"
     ]
    },
    {
     "data": {
      "image/png": "[encoded data removed]",
      "text/plain": [
       "<Figure size 72x72 with 1 Axes>"
      ]
     },
     "metadata": {
      "needs_background": "light"
     },
     "output_type": "display_data"
    },
    {
     "name": "stdout",
     "output_type": "stream",
     "text": [
      "CNN/ANN Predictions:\n",
      "Symbol_id: 60 , Latex: y , Confidence Score: 53.52 %\n",
      "Symbol_id: 63 , Latex: \\gamma , Confidence Score: 26.85 %\n",
      "Symbol_id: 24 , Latex: Y , Confidence Score: 14.39 %\n",
      "Symbol_id: 59 , Latex: x , Confidence Score: 2.03 %\n",
      "Symbol_id: 33 , Latex: 7 , Confidence Score: 1.07 %\n"
     ]
    },
    {
     "data": {
      "image/png": "[encoded data removed]",
      "text/plain": [
       "<Figure size 72x72 with 1 Axes>"
      ]
     },
     "metadata": {
      "needs_background": "light"
     },
     "output_type": "display_data"
    },
    {
     "name": "stdout",
     "output_type": "stream",
     "text": [
      "number of char in image: 6\n",
      "Image path:  Datasets/Object_Detection/test\\exp0029.png\n"
     ]
    },
    {
     "data": {
      "image/png": "[encoded data removed]",
      "text/plain": [
       "<Figure size 360x360 with 1 Axes>"
      ]
     },
     "metadata": {
      "needs_background": "light"
     },
     "output_type": "display_data"
    },
    {
     "name": "stdout",
     "output_type": "stream",
     "text": [
      "CNN/ANN Predictions:\n",
      "Symbol_id: 61 , Latex: z , Confidence Score: 93.76 %\n",
      "Symbol_id: 25 , Latex: Z , Confidence Score: 5.91 %\n"
     ]
    },
    {
     "data": {
      "image/png": "[encoded data removed]",
      "text/plain": [
       "<Figure size 72x72 with 1 Axes>"
      ]
     },
     "metadata": {
      "needs_background": "light"
     },
     "output_type": "display_data"
    },
    {
     "name": "stdout",
     "output_type": "stream",
     "text": [
      "CNN/ANN Predictions:\n",
      "Symbol_id: 104 , Latex: = , Confidence Score: 37.76 %\n",
      "Symbol_id: 96 , Latex: \\perp , Confidence Score: 17.76 %\n",
      "Symbol_id: 76 , Latex: \\leq , Confidence Score: 16.29 %\n",
      "Symbol_id: 77 , Latex: \\geq , Confidence Score: 13.37 %\n",
      "Symbol_id: 81 , Latex: \\supset , Confidence Score: 6.55 %\n",
      "Symbol_id: 82 , Latex: \\subseteq , Confidence Score: 5.1 %\n",
      "Symbol_id: 61 , Latex: z , Confidence Score: 1.2 %\n",
      "Symbol_id: 94 , Latex: \\div , Confidence Score: 1.04 %\n"
     ]
    },
    {
     "data": {
      "image/png": "[encoded data removed]",
      "text/plain": [
       "<Figure size 72x72 with 1 Axes>"
      ]
     },
     "metadata": {
      "needs_background": "light"
     },
     "output_type": "display_data"
    },
    {
     "name": "stdout",
     "output_type": "stream",
     "text": [
      "CNN/ANN Predictions:\n",
      "Symbol_id: 92 , Latex: \\times , Confidence Score: 99.6 %\n"
     ]
    },
    {
     "data": {
      "image/png": "[encoded data removed]",
      "text/plain": [
       "<Figure size 72x72 with 1 Axes>"
      ]
     },
     "metadata": {
      "needs_background": "light"
     },
     "output_type": "display_data"
    },
    {
     "name": "stdout",
     "output_type": "stream",
     "text": [
      "CNN/ANN Predictions:\n",
      "Symbol_id: 94 , Latex: \\div , Confidence Score: 99.94 %\n"
     ]
    },
    {
     "data": {
      "image/png": "[encoded data removed]",
      "text/plain": [
       "<Figure size 72x72 with 1 Axes>"
      ]
     },
     "metadata": {
      "needs_background": "light"
     },
     "output_type": "display_data"
    },
    {
     "name": "stdout",
     "output_type": "stream",
     "text": [
      "CNN/ANN Predictions:\n",
      "Symbol_id: 97 , Latex: \\forall , Confidence Score: 64.37 %\n",
      "Symbol_id: 60 , Latex: y , Confidence Score: 32.37 %\n",
      "Symbol_id: 98 , Latex: \\exists , Confidence Score: 1.93 %\n"
     ]
    },
    {
     "data": {
      "image/png": "[encoded data removed]",
      "text/plain": [
       "<Figure size 72x72 with 1 Axes>"
      ]
     },
     "metadata": {
      "needs_background": "light"
     },
     "output_type": "display_data"
    },
    {
     "name": "stdout",
     "output_type": "stream",
     "text": [
      "number of char in image: 5\n",
      "Image path:  Datasets/Object_Detection/test\\exp0037.png\n"
     ]
    },
    {
     "data": {
      "image/png": "[encoded data removed]",
      "text/plain": [
       "<Figure size 360x360 with 1 Axes>"
      ]
     },
     "metadata": {
      "needs_background": "light"
     },
     "output_type": "display_data"
    },
    {
     "name": "stdout",
     "output_type": "stream",
     "text": [
      "CNN/ANN Predictions:\n",
      "Symbol_id: 61 , Latex: z , Confidence Score: 95.74 %\n",
      "Symbol_id: 25 , Latex: Z , Confidence Score: 4.04 %\n"
     ]
    },
    {
     "data": {
      "image/png": "[encoded data removed]",
      "text/plain": [
       "<Figure size 72x72 with 1 Axes>"
      ]
     },
     "metadata": {
      "needs_background": "light"
     },
     "output_type": "display_data"
    },
    {
     "name": "stdout",
     "output_type": "stream",
     "text": [
      "CNN/ANN Predictions:\n",
      "Symbol_id: 104 , Latex: = , Confidence Score: 37.76 %\n",
      "Symbol_id: 96 , Latex: \\perp , Confidence Score: 17.76 %\n",
      "Symbol_id: 76 , Latex: \\leq , Confidence Score: 16.29 %\n",
      "Symbol_id: 77 , Latex: \\geq , Confidence Score: 13.37 %\n",
      "Symbol_id: 81 , Latex: \\supset , Confidence Score: 6.55 %\n",
      "Symbol_id: 82 , Latex: \\subseteq , Confidence Score: 5.1 %\n",
      "Symbol_id: 61 , Latex: z , Confidence Score: 1.2 %\n",
      "Symbol_id: 94 , Latex: \\div , Confidence Score: 1.04 %\n"
     ]
    },
    {
     "data": {
      "image/png": "[encoded data removed]",
      "text/plain": [
       "<Figure size 72x72 with 1 Axes>"
      ]
     },
     "metadata": {
      "needs_background": "light"
     },
     "output_type": "display_data"
    },
    {
     "name": "stdout",
     "output_type": "stream",
     "text": [
      "CNN/ANN Predictions:\n",
      "Symbol_id: 97 , Latex: \\forall , Confidence Score: 64.37 %\n",
      "Symbol_id: 60 , Latex: y , Confidence Score: 32.37 %\n",
      "Symbol_id: 98 , Latex: \\exists , Confidence Score: 1.93 %\n"
     ]
    },
    {
     "data": {
      "image/png": "[encoded data removed]",
      "text/plain": [
       "<Figure size 72x72 with 1 Axes>"
      ]
     },
     "metadata": {
      "needs_background": "light"
     },
     "output_type": "display_data"
    },
    {
     "name": "stdout",
     "output_type": "stream",
     "text": [
      "CNN/ANN Predictions:\n",
      "Symbol_id: 90 , Latex: \\% , Confidence Score: 99.98 %\n"
     ]
    },
    {
     "data": {
      "image/png": "[encoded data removed]",
      "text/plain": [
       "<Figure size 72x72 with 1 Axes>"
      ]
     },
     "metadata": {
      "needs_background": "light"
     },
     "output_type": "display_data"
    },
    {
     "name": "stdout",
     "output_type": "stream",
     "text": [
      "CNN/ANN Predictions:\n",
      "Symbol_id: 92 , Latex: \\times , Confidence Score: 99.95 %\n"
     ]
    },
    {
     "data": {
      "image/png": "[encoded data removed]",
      "text/plain": [
       "<Figure size 72x72 with 1 Axes>"
      ]
     },
     "metadata": {
      "needs_background": "light"
     },
     "output_type": "display_data"
    },
    {
     "name": "stdout",
     "output_type": "stream",
     "text": [
      "number of char in image: 5\n",
      "Image path:  Datasets/Object_Detection/test\\exp0044.png\n"
     ]
    },
    {
     "data": {
      "image/png": "[encoded data removed]",
      "text/plain": [
       "<Figure size 360x360 with 1 Axes>"
      ]
     },
     "metadata": {
      "needs_background": "light"
     },
     "output_type": "display_data"
    },
    {
     "name": "stdout",
     "output_type": "stream",
     "text": [
      "CNN/ANN Predictions:\n",
      "Symbol_id: 47 , Latex: k , Confidence Score: 98.55 %\n",
      "Symbol_id: 10 , Latex: K , Confidence Score: 1.4 %\n"
     ]
    },
    {
     "data": {
      "image/png": "[encoded data removed]",
      "text/plain": [
       "<Figure size 72x72 with 1 Axes>"
      ]
     },
     "metadata": {
      "needs_background": "light"
     },
     "output_type": "display_data"
    },
    {
     "name": "stdout",
     "output_type": "stream",
     "text": [
      "CNN/ANN Predictions:\n",
      "Symbol_id: 62 , Latex: \\Sigma , Confidence Score: 52.19 %\n",
      "Symbol_id: 90 , Latex: \\% , Confidence Score: 43.08 %\n",
      "Symbol_id: 94 , Latex: \\div , Confidence Score: 3.41 %\n"
     ]
    },
    {
     "data": {
      "image/png": "[encoded data removed]",
      "text/plain": [
       "<Figure size 72x72 with 1 Axes>"
      ]
     },
     "metadata": {
      "needs_background": "light"
     },
     "output_type": "display_data"
    },
    {
     "name": "stdout",
     "output_type": "stream",
     "text": [
      "CNN/ANN Predictions:\n",
      "Symbol_id: 37 , Latex: a , Confidence Score: 38.84 %\n",
      "Symbol_id: 6 , Latex: G , Confidence Score: 28.27 %\n",
      "Symbol_id: 16 , Latex: Q , Confidence Score: 13.26 %\n",
      "Symbol_id: 88 , Latex: \\& , Confidence Score: 12.66 %\n",
      "Symbol_id: 85 , Latex: \\$ , Confidence Score: 6.05 %\n"
     ]
    },
    {
     "data": {
      "image/png": "[encoded data removed]",
      "text/plain": [
       "<Figure size 72x72 with 1 Axes>"
      ]
     },
     "metadata": {
      "needs_background": "light"
     },
     "output_type": "display_data"
    },
    {
     "name": "stdout",
     "output_type": "stream",
     "text": [
      "CNN/ANN Predictions:\n",
      "Symbol_id: 84 , Latex: + , Confidence Score: 99.58 %\n"
     ]
    },
    {
     "data": {
      "image/png": "[encoded data removed]",
      "text/plain": [
       "<Figure size 72x72 with 1 Axes>"
      ]
     },
     "metadata": {
      "needs_background": "light"
     },
     "output_type": "display_data"
    },
    {
     "name": "stdout",
     "output_type": "stream",
     "text": [
      "CNN/ANN Predictions:\n",
      "Symbol_id: 85 , Latex: \\$ , Confidence Score: 99.99 %\n"
     ]
    },
    {
     "data": {
      "image/png": "[encoded data removed]",
      "text/plain": [
       "<Figure size 72x72 with 1 Axes>"
      ]
     },
     "metadata": {
      "needs_background": "light"
     },
     "output_type": "display_data"
    },
    {
     "name": "stdout",
     "output_type": "stream",
     "text": [
      "CNN/ANN Predictions:\n",
      "Symbol_id: 81 , Latex: \\supset , Confidence Score: 53.35 %\n",
      "Symbol_id: 104 , Latex: = , Confidence Score: 26.88 %\n",
      "Symbol_id: 31 , Latex: 5 , Confidence Score: 7.75 %\n",
      "Symbol_id: 51 , Latex: o , Confidence Score: 2.8 %\n",
      "Symbol_id: 65 , Latex: \\Delta , Confidence Score: 2.18 %\n"
     ]
    },
    {
     "data": {
      "image/png": "[encoded data removed]",
      "text/plain": [
       "<Figure size 72x72 with 1 Axes>"
      ]
     },
     "metadata": {
      "needs_background": "light"
     },
     "output_type": "display_data"
    },
    {
     "name": "stdout",
     "output_type": "stream",
     "text": [
      "CNN/ANN Predictions:\n",
      "Symbol_id: 85 , Latex: \\$ , Confidence Score: 43.98 %\n",
      "Symbol_id: 63 , Latex: \\gamma , Confidence Score: 14.16 %\n",
      "Symbol_id: 90 , Latex: \\% , Confidence Score: 10.77 %\n",
      "Symbol_id: 6 , Latex: G , Confidence Score: 10.5 %\n",
      "Symbol_id: 29 , Latex: 3 , Confidence Score: 9.98 %\n",
      "Symbol_id: 76 , Latex: \\leq , Confidence Score: 2.5 %\n",
      "Symbol_id: 45 , Latex: i , Confidence Score: 1.88 %\n",
      "Symbol_id: 94 , Latex: \\div , Confidence Score: 1.14 %\n",
      "Symbol_id: 55 , Latex: s , Confidence Score: 1.12 %\n"
     ]
    },
    {
     "data": {
      "image/png": "[encoded data removed]",
      "text/plain": [
       "<Figure size 72x72 with 1 Axes>"
      ]
     },
     "metadata": {
      "needs_background": "light"
     },
     "output_type": "display_data"
    },
    {
     "name": "stdout",
     "output_type": "stream",
     "text": [
      "CNN/ANN Predictions:\n",
      "Symbol_id: 90 , Latex: \\% , Confidence Score: 87.67 %\n",
      "Symbol_id: 89 , Latex: \\# , Confidence Score: 12.26 %\n"
     ]
    },
    {
     "data": {
      "image/png": "[encoded data removed]",
      "text/plain": [
       "<Figure size 72x72 with 1 Axes>"
      ]
     },
     "metadata": {
      "needs_background": "light"
     },
     "output_type": "display_data"
    },
    {
     "name": "stdout",
     "output_type": "stream",
     "text": [
      "CNN/ANN Predictions:\n",
      "Symbol_id: 49 , Latex: m , Confidence Score: 72.47 %\n",
      "Symbol_id: 50 , Latex: n , Confidence Score: 26.25 %\n",
      "Symbol_id: 12 , Latex: M , Confidence Score: 1.02 %\n"
     ]
    },
    {
     "data": {
      "image/png": "[encoded data removed]",
      "text/plain": [
       "<Figure size 72x72 with 1 Axes>"
      ]
     },
     "metadata": {
      "needs_background": "light"
     },
     "output_type": "display_data"
    },
    {
     "name": "stdout",
     "output_type": "stream",
     "text": [
      "number of char in image: 9\n",
      "Image path:  Datasets/Object_Detection/test\\exp0051.png\n"
     ]
    },
    {
     "data": {
      "image/png": "[encoded data removed]",
      "text/plain": [
       "<Figure size 360x360 with 1 Axes>"
      ]
     },
     "metadata": {
      "needs_background": "light"
     },
     "output_type": "display_data"
    },
    {
     "name": "stdout",
     "output_type": "stream",
     "text": [
      "CNN/ANN Predictions:\n",
      "Symbol_id: 30 , Latex: 4 , Confidence Score: 72.19 %\n",
      "Symbol_id: 0 , Latex: A , Confidence Score: 13.38 %\n",
      "Symbol_id: 89 , Latex: \\# , Confidence Score: 11.92 %\n",
      "Symbol_id: 90 , Latex: \\% , Confidence Score: 1.5 %\n"
     ]
    },
    {
     "data": {
      "image/png": "[encoded data removed]",
      "text/plain": [
       "<Figure size 72x72 with 1 Axes>"
      ]
     },
     "metadata": {
      "needs_background": "light"
     },
     "output_type": "display_data"
    },
    {
     "name": "stdout",
     "output_type": "stream",
     "text": [
      "CNN/ANN Predictions:\n",
      "Symbol_id: 62 , Latex: \\Sigma , Confidence Score: 44.21 %\n",
      "Symbol_id: 76 , Latex: \\leq , Confidence Score: 21.53 %\n",
      "Symbol_id: 94 , Latex: \\div , Confidence Score: 14.0 %\n",
      "Symbol_id: 61 , Latex: z , Confidence Score: 7.56 %\n",
      "Symbol_id: 104 , Latex: = , Confidence Score: 5.0 %\n",
      "Symbol_id: 25 , Latex: Z , Confidence Score: 3.18 %\n",
      "Symbol_id: 90 , Latex: \\% , Confidence Score: 1.41 %\n",
      "Symbol_id: 98 , Latex: \\exists , Confidence Score: 1.01 %\n"
     ]
    },
    {
     "data": {
      "image/png": "[encoded data removed]",
      "text/plain": [
       "<Figure size 72x72 with 1 Axes>"
      ]
     },
     "metadata": {
      "needs_background": "light"
     },
     "output_type": "display_data"
    },
    {
     "name": "stdout",
     "output_type": "stream",
     "text": [
      "CNN/ANN Predictions:\n",
      "Symbol_id: 28 , Latex: 2 , Confidence Score: 99.93 %\n"
     ]
    },
    {
     "data": {
      "image/png": "[encoded data removed]",
      "text/plain": [
       "<Figure size 72x72 with 1 Axes>"
      ]
     },
     "metadata": {
      "needs_background": "light"
     },
     "output_type": "display_data"
    },
    {
     "name": "stdout",
     "output_type": "stream",
     "text": [
      "CNN/ANN Predictions:\n",
      "Symbol_id: 25 , Latex: Z , Confidence Score: 96.7 %\n",
      "Symbol_id: 90 , Latex: \\% , Confidence Score: 1.16 %\n"
     ]
    },
    {
     "data": {
      "image/png": "[encoded data removed]",
      "text/plain": [
       "<Figure size 72x72 with 1 Axes>"
      ]
     },
     "metadata": {
      "needs_background": "light"
     },
     "output_type": "display_data"
    },
    {
     "name": "stdout",
     "output_type": "stream",
     "text": [
      "number of char in image: 4\n",
      "Image path:  Datasets/Object_Detection/test\\exp9.png\n"
     ]
    },
    {
     "data": {
      "image/png": "[encoded data removed]",
      "text/plain": [
       "<Figure size 360x360 with 1 Axes>"
      ]
     },
     "metadata": {
      "needs_background": "light"
     },
     "output_type": "display_data"
    },
    {
     "name": "stdout",
     "output_type": "stream",
     "text": [
      "CNN/ANN Predictions:\n",
      "Symbol_id: 92 , Latex: \\times , Confidence Score: 96.34 %\n",
      "Symbol_id: 93 , Latex: \\ast , Confidence Score: 2.54 %\n",
      "Symbol_id: 59 , Latex: x , Confidence Score: 1.11 %\n"
     ]
    },
    {
     "data": {
      "image/png": "[encoded data removed]",
      "text/plain": [
       "<Figure size 72x72 with 1 Axes>"
      ]
     },
     "metadata": {
      "needs_background": "light"
     },
     "output_type": "display_data"
    },
    {
     "name": "stdout",
     "output_type": "stream",
     "text": [
      "CNN/ANN Predictions:\n",
      "Symbol_id: 84 , Latex: + , Confidence Score: 99.94 %\n"
     ]
    },
    {
     "data": {
      "image/png": "[encoded data removed]",
      "text/plain": [
       "<Figure size 72x72 with 1 Axes>"
      ]
     },
     "metadata": {
      "needs_background": "light"
     },
     "output_type": "display_data"
    },
    {
     "name": "stdout",
     "output_type": "stream",
     "text": [
      "CNN/ANN Predictions:\n",
      "Symbol_id: 77 , Latex: \\geq , Confidence Score: 64.55 %\n",
      "Symbol_id: 62 , Latex: \\Sigma , Confidence Score: 32.26 %\n",
      "Symbol_id: 85 , Latex: \\$ , Confidence Score: 2.32 %\n"
     ]
    },
    {
     "data": {
      "image/png": "[encoded data removed]",
      "text/plain": [
       "<Figure size 72x72 with 1 Axes>"
      ]
     },
     "metadata": {
      "needs_background": "light"
     },
     "output_type": "display_data"
    },
    {
     "name": "stdout",
     "output_type": "stream",
     "text": [
      "CNN/ANN Predictions:\n",
      "Symbol_id: 77 , Latex: \\geq , Confidence Score: 88.44 %\n",
      "Symbol_id: 104 , Latex: = , Confidence Score: 8.22 %\n",
      "Symbol_id: 62 , Latex: \\Sigma , Confidence Score: 3.24 %\n"
     ]
    },
    {
     "data": {
      "image/png": "[encoded data removed]",
      "text/plain": [
       "<Figure size 72x72 with 1 Axes>"
      ]
     },
     "metadata": {
      "needs_background": "light"
     },
     "output_type": "display_data"
    },
    {
     "name": "stdout",
     "output_type": "stream",
     "text": [
      "CNN/ANN Predictions:\n",
      "Symbol_id: 61 , Latex: z , Confidence Score: 93.76 %\n",
      "Symbol_id: 25 , Latex: Z , Confidence Score: 5.91 %\n"
     ]
    },
    {
     "data": {
      "image/png": "[encoded data removed]",
      "text/plain": [
       "<Figure size 72x72 with 1 Axes>"
      ]
     },
     "metadata": {
      "needs_background": "light"
     },
     "output_type": "display_data"
    },
    {
     "name": "stdout",
     "output_type": "stream",
     "text": [
      "number of char in image: 5\n"
     ]
    }
   ],
   "source": [
    "for i in image_paths:\n",
    "    image = cv2.imread(i)\n",
    "    print('Image path: ', i)\n",
    "    plt.figure(figsize=(5,5))\n",
    "    plt.imshow(image)\n",
    "    plt.show()\n",
    "    \n",
    "    # Image Preprocessing\n",
    "    # Remove Noise\n",
    "    image = cv2.fastNlMeansDenoisingColored(image,None,10,10,7,21)\n",
    "    \n",
    "    # Change color channel to Grayscale\n",
    "    gray = cv2.cvtColor(image,cv2.COLOR_BGR2GRAY)\n",
    "    \n",
    "    # Convert not so faint pixels to black and others to white \n",
    "    res,thresh = cv2.threshold(gray,200,255,cv2.THRESH_BINARY_INV) #threshold \n",
    "    \n",
    "    # Structuring Element\n",
    "    kernel = cv2.getStructuringElement(cv2.MORPH_CROSS,(3,3)) \n",
    "    \n",
    "    # Lower the thickness of features\n",
    "    dilated = cv2.dilate(thresh,kernel,iterations = 5) \n",
    "    \n",
    "    # Find countours/features and draw bounding box around them\n",
    "    val,contours, hierarchy = cv2.findContours(dilated,cv2.RETR_EXTERNAL,cv2.CHAIN_APPROX_NONE) \n",
    "    coord = []\n",
    "    for contour in contours:  \n",
    "        [x,y,w,h] = cv2.boundingRect(contour)   \n",
    "        if h>300 and w>300:   \n",
    "            continue   \n",
    "        if h<7 or w<7:   \n",
    "            continue  \n",
    "        coord.append((x,y,w,h)) \n",
    "    \n",
    "    # if the image has only one sentence sort in one axis\n",
    "    coord.sort(key=lambda tup:tup[0]) \n",
    "    \n",
    "    # crop the bounding boxes and detect labels for them\n",
    "    count = 0\n",
    "    for cor in coord:\n",
    "        [x,y,w,h] = cor\n",
    "        \n",
    "        # crop image\n",
    "        t = image[y:y+h,x:x+w,:]\n",
    "        \n",
    "        # remove extra whitespace layer around feature\n",
    "        t = remove_wspaces(t)\n",
    "        \n",
    "        # resize image to 32 x 32\n",
    "        t = cv2.resize(t, (32,32))\n",
    "        \n",
    "        # convert to a binary array (contains either 0 or 1)\n",
    "        _, t = cv2.threshold(t,200,255,cv2.THRESH_BINARY)\n",
    "        \n",
    "        # edge detection to remove noise\n",
    "        t = cv2.Laplacian(t,cv2.CV_64F, ksize=3)\n",
    "        \n",
    "        # fill any gaps inside feature lost during edge detection\n",
    "        kernel = np.ones((3,3),np.uint8)\n",
    "        t = cv2.morphologyEx(t, cv2.MORPH_CLOSE, kernel)\n",
    "        #\n",
    "        \n",
    "        # Erosion area (output is too thin (around 1 px)) \n",
    "        # Both CNN/ANN were not able to detect features because of this method\n",
    "        # kernel = np.ones((2,2),np.uint8)\n",
    "        #t = cv2.erode(t,kernel,iterations = 1)\n",
    "        #\n",
    "        \n",
    "        # invert inverted image to white background and black features\n",
    "        t = 255 - t\n",
    "        \n",
    "        # this line is used to reset all values to 0 or 255\n",
    "        _, t = cv2.threshold(t,50,255,cv2.THRESH_BINARY)\n",
    "                \n",
    "        # Convert image to numpy array (uint8 since fatures are 255/0)\n",
    "        # If image contains values as 0 to 255, they should be in integers \n",
    "        # (uint8 takes values between 0 and 255)\n",
    "        # If image contains values as 0 or 1, they should be in float\n",
    "        t_im = np.asarray(t).astype('uint8')\n",
    "        \n",
    "        # Change Color channels to grayscale\n",
    "        #t_im = cv2.cvtColor(t_im, cv2.COLOR_BGRA2RGBA)\n",
    "        #t_im = cv2.cvtColor(t_im, cv2.COLOR_RGBA2RGB)\n",
    "        #t_im = cv2.cvtColor(t_im, cv2.COLOR_BGR2RGB)\n",
    "        t_im = cv2.cvtColor(t_im, cv2.COLOR_RGB2GRAY)\n",
    "        \n",
    "        # resize image to 32 x 32 (not required but just to ensure image is 32 x 32)\n",
    "        t_im = cv2.resize(t_im, (32,32))\n",
    "        \n",
    "        # change features to 0/1\n",
    "        t_im = t_im / 255.0\n",
    "        \n",
    "        # Label Prediction\n",
    "        # CNN\n",
    "        t_im = np.resize(t_im, (1, 1, 32, 32))\n",
    "        t_im = t_im.astype('float32')\n",
    "        res = cnn.predict(t_im)\n",
    "        #\n",
    "        # ANN\n",
    "        #t_im = t_im.flatten().reshape((1, 32*32))\n",
    "        #print(t_im.shape)\n",
    "        #res = ann.predict(t_im)\n",
    "        #\n",
    "        \n",
    "        # flatten result and convert one hot encoded result to a label (0 to 106)\n",
    "        res = res.flatten()\n",
    "        # lbl = one_hot_encode_to_char(res, threshold=0.1)\n",
    "        # if type(lbl) == list: lbl = lbl[0]\n",
    "        # print(\"Symbol is :\", symbols.loc[symbols['new_id']==lbl])\n",
    "        lbls = one_hot_encode_to_char_list(res, threshold=0.01, get_max = False)\n",
    "        \n",
    "        # Print Predictions\n",
    "        print(\"CNN/ANN Predictions:\")\n",
    "        for j in lbls:\n",
    "            symbols_row = symbols[symbols['new_id'] == j[0]][['latex', 'old_symbol', 'new_id']]\n",
    "            latex, old_symbol, new_id = symbols_row.iloc[0].to_list()\n",
    "            print('Symbol_id:', new_id, ', Latex:', latex, ', Confidence Score:', round(j[1]*100, 2), '%')\n",
    "\n",
    "        # Display figure\n",
    "        plt.figure(figsize=(1,1))\n",
    "        # plt.subplot(len(coord),1, count+1)\n",
    "        plt.imshow(t.astype('uint8'))\n",
    "        plt.show()\n",
    "        count += 1\n",
    "    print(\"number of char in image:\", count)"
   ]
  },
  {
   "cell_type": "code",
   "execution_count": null,
   "metadata": {},
   "outputs": [],
   "source": []
  },
  {
   "cell_type": "code",
   "execution_count": 15,
   "metadata": {},
   "outputs": [],
   "source": []
  },
  {
   "cell_type": "markdown",
   "metadata": {},
   "source": [
    "### Example showing the output of each image processing"
   ]
  },
  {
   "cell_type": "code",
   "execution_count": 22,
   "metadata": {},
   "outputs": [
    {
     "name": "stdout",
     "output_type": "stream",
     "text": [
      "Image path:  Datasets/Object_Detection/test\\exp0015.png\n",
      "Original Image\n"
     ]
    },
    {
     "data": {
      "image/png": "[encoded data removed]",
      "text/plain": [
       "<Figure size 432x288 with 1 Axes>"
      ]
     },
     "metadata": {
      "needs_background": "light"
     },
     "output_type": "display_data"
    },
    {
     "name": "stdout",
     "output_type": "stream",
     "text": [
      "after denoising\n"
     ]
    },
    {
     "data": {
      "image/png": "[encoded data removed]",
      "text/plain": [
       "<Figure size 432x288 with 1 Axes>"
      ]
     },
     "metadata": {
      "needs_background": "light"
     },
     "output_type": "display_data"
    },
    {
     "name": "stdout",
     "output_type": "stream",
     "text": [
      "after changing color channel\n"
     ]
    },
    {
     "data": {
      "image/png": "[encoded data removed]",
      "text/plain": [
       "<Figure size 432x288 with 1 Axes>"
      ]
     },
     "metadata": {
      "needs_background": "light"
     },
     "output_type": "display_data"
    },
    {
     "name": "stdout",
     "output_type": "stream",
     "text": [
      "after changing color\n"
     ]
    },
    {
     "data": {
      "image/png": "[encoded data removed]",
      "text/plain": [
       "<Figure size 432x288 with 1 Axes>"
      ]
     },
     "metadata": {
      "needs_background": "light"
     },
     "output_type": "display_data"
    },
    {
     "name": "stdout",
     "output_type": "stream",
     "text": [
      "Structuring element\n",
      "array([[0, 1, 0],\n",
      "       [1, 1, 1],\n",
      "       [0, 1, 0]], dtype=uint8)\n",
      "after dilation\n"
     ]
    },
    {
     "data": {
      "image/png": "[encoded data removed]",
      "text/plain": [
       "<Figure size 432x288 with 1 Axes>"
      ]
     },
     "metadata": {
      "needs_background": "light"
     },
     "output_type": "display_data"
    },
    {
     "name": "stdout",
     "output_type": "stream",
     "text": [
      "After contour search\n",
      "contours:  6\n",
      "hierarchy:  [[[ 1 -1 -1 -1]\n",
      "  [ 2  0 -1 -1]\n",
      "  [ 3  1 -1 -1]\n",
      "  [ 4  2 -1 -1]\n",
      "  [ 5  3 -1 -1]\n",
      "  [-1  4 -1 -1]]]\n",
      "predicted bboxes [(84, 164, 40, 12), (78, 151, 36, 12), (126, 138, 56, 42), (11, 138, 51, 44), (191, 136, 43, 41), (252, 133, 36, 40)]\n",
      "orted bboxes [(11, 138, 51, 44), (78, 151, 36, 12), (84, 164, 40, 12), (126, 138, 56, 42), (191, 136, 43, 41), (252, 133, 36, 40)]\n",
      "cropped images\n"
     ]
    },
    {
     "data": {
      "image/png": "[encoded data removed]",
      "text/plain": [
       "<Figure size 432x288 with 1 Axes>"
      ]
     },
     "metadata": {
      "needs_background": "light"
     },
     "output_type": "display_data"
    },
    {
     "name": "stdout",
     "output_type": "stream",
     "text": [
      "after removing whitespaces\n"
     ]
    },
    {
     "data": {
      "image/png": "[encoded data removed]",
      "text/plain": [
       "<Figure size 432x288 with 1 Axes>"
      ]
     },
     "metadata": {
      "needs_background": "light"
     },
     "output_type": "display_data"
    },
    {
     "name": "stdout",
     "output_type": "stream",
     "text": [
      "after resizing to 32 x 32\n"
     ]
    },
    {
     "data": {
      "image/png": "[encoded data removed]",
      "text/plain": [
       "<Figure size 432x288 with 1 Axes>"
      ]
     },
     "metadata": {
      "needs_background": "light"
     },
     "output_type": "display_data"
    },
    {
     "name": "stdout",
     "output_type": "stream",
     "text": [
      "after getting theshold \n"
     ]
    },
    {
     "data": {
      "image/png": "[encoded data removed]",
      "text/plain": [
       "<Figure size 432x288 with 1 Axes>"
      ]
     },
     "metadata": {
      "needs_background": "light"
     },
     "output_type": "display_data"
    },
    {
     "name": "stderr",
     "output_type": "stream",
     "text": [
      "Clipping input data to the valid range for imshow with RGB data ([0..1] for floats or [0..255] for integers).\n"
     ]
    },
    {
     "name": "stdout",
     "output_type": "stream",
     "text": [
      "after edge detection\n"
     ]
    },
    {
     "data": {
      "image/png": "[encoded data removed]",
      "text/plain": [
       "<Figure size 432x288 with 1 Axes>"
      ]
     },
     "metadata": {
      "needs_background": "light"
     },
     "output_type": "display_data"
    },
    {
     "name": "stderr",
     "output_type": "stream",
     "text": [
      "Clipping input data to the valid range for imshow with RGB data ([0..1] for floats or [0..255] for integers).\n"
     ]
    },
    {
     "name": "stdout",
     "output_type": "stream",
     "text": [
      "after filling gaps\n"
     ]
    },
    {
     "data": {
      "image/png": "[encoded data removed]",
      "text/plain": [
       "<Figure size 432x288 with 1 Axes>"
      ]
     },
     "metadata": {
      "needs_background": "light"
     },
     "output_type": "display_data"
    },
    {
     "name": "stderr",
     "output_type": "stream",
     "text": [
      "Clipping input data to the valid range for imshow with RGB data ([0..1] for floats or [0..255] for integers).\n"
     ]
    },
    {
     "name": "stdout",
     "output_type": "stream",
     "text": [
      "after inverting and getting threshold\n"
     ]
    },
    {
     "data": {
      "image/png": "[encoded data removed]",
      "text/plain": [
       "<Figure size 432x288 with 1 Axes>"
      ]
     },
     "metadata": {
      "needs_background": "light"
     },
     "output_type": "display_data"
    },
    {
     "name": "stdout",
     "output_type": "stream",
     "text": [
      "before character classification\n"
     ]
    },
    {
     "data": {
      "image/png": "[encoded data removed]",
      "text/plain": [
       "<Figure size 432x288 with 1 Axes>"
      ]
     },
     "metadata": {
      "needs_background": "light"
     },
     "output_type": "display_data"
    },
    {
     "name": "stdout",
     "output_type": "stream",
     "text": [
      "array([[1., 1., 0., ..., 1., 1., 1.],\n",
      "       [1., 1., 0., ..., 1., 1., 1.],\n",
      "       [0., 0., 0., ..., 1., 1., 1.],\n",
      "       ...,\n",
      "       [1., 1., 1., ..., 1., 1., 1.],\n",
      "       [1., 1., 1., ..., 1., 1., 1.],\n",
      "       [1., 1., 1., ..., 1., 1., 1.]])\n",
      "CNN/ANN Predictions:\n",
      "Symbol_id: 61 , Latex: z , Confidence Score: 99.62 %\n"
     ]
    },
    {
     "data": {
      "image/png": "[encoded data removed]",
      "text/plain": [
       "<Figure size 72x72 with 1 Axes>"
      ]
     },
     "metadata": {
      "needs_background": "light"
     },
     "output_type": "display_data"
    },
    {
     "name": "stdout",
     "output_type": "stream",
     "text": [
      "number of char in image: 1\n"
     ]
    }
   ],
   "source": [
    "for i in image_paths:\n",
    "    image = cv2.imread(i)\n",
    "    print('Image path: ', i)\n",
    "    print(\"Original Image\")\n",
    "    plt.figure()\n",
    "    plt.imshow(image)\n",
    "    plt.show()\n",
    "    \n",
    "    # Image Preprocessing\n",
    "    # Remove Noise\n",
    "    image = cv2.fastNlMeansDenoisingColored(image,None,10,10,7,21)\n",
    "    print('after denoising')\n",
    "    plt.imshow(image)\n",
    "    plt.show()\n",
    "    \n",
    "    # Change color channel to Grayscale\n",
    "    gray = cv2.cvtColor(image,cv2.COLOR_BGR2GRAY)\n",
    "    print('after changing color channel')\n",
    "    plt.imshow(gray)\n",
    "    plt.show()\n",
    "    \n",
    "    # Convert not so faint pixels to black and others to white \n",
    "    res,thresh = cv2.threshold(gray,200,255,cv2.THRESH_BINARY_INV) #threshold \n",
    "    print('after changing color')\n",
    "    plt.imshow(thresh)\n",
    "    plt.show()\n",
    "    \n",
    "    # Structuring Element\n",
    "    kernel = cv2.getStructuringElement(cv2.MORPH_CROSS,(3,3)) \n",
    "    print('Structuring element')\n",
    "    pprint(kernel)\n",
    "    \n",
    "    # Lower the thickness of features\n",
    "    dilated = cv2.dilate(thresh,kernel,iterations = 5) \n",
    "    print('after dilation')\n",
    "    plt.imshow(dilated)\n",
    "    plt.show()\n",
    "    \n",
    "    # Find countours/features and draw bounding box around them\n",
    "    val,contours, hierarchy = cv2.findContours(dilated,cv2.RETR_EXTERNAL,cv2.CHAIN_APPROX_NONE) \n",
    "    coord = []\n",
    "    for contour in contours:  \n",
    "        [x,y,w,h] = cv2.boundingRect(contour)   \n",
    "        if h>300 and w>300:   \n",
    "            continue   \n",
    "        if h<7 or w<7:   \n",
    "            continue  \n",
    "        coord.append((x,y,w,h))\n",
    "    \n",
    "    print('After contour search')\n",
    "    # print('val: ', val.shape)\n",
    "    print('contours: ', len(contours))\n",
    "    print('hierarchy: ', hierarchy)\n",
    "    print('predicted bboxes', coord)\n",
    "    \n",
    "    # if the image has only one sentence sort in one axis\n",
    "    coord.sort(key=lambda tup:tup[0]) \n",
    "    \n",
    "    print('orted bboxes', coord)\n",
    "    \n",
    "    # crop the bounding boxes and detect labels for them\n",
    "    count = 0\n",
    "    for cor in coord:\n",
    "        [x,y,w,h] = cor\n",
    "        \n",
    "        # crop image\n",
    "        t = image[y:y+h,x:x+w,:]\n",
    "        print('cropped images')\n",
    "        plt.imshow(t)\n",
    "        plt.show()\n",
    "    \n",
    "        # remove extra whitespace layer around feature\n",
    "        t = remove_wspaces(t)\n",
    "        print('after removing whitespaces')\n",
    "        plt.imshow(t)\n",
    "        plt.show()\n",
    "    \n",
    "        # resize image to 32 x 32\n",
    "        t = cv2.resize(t, (32,32))\n",
    "        print('after resizing to 32 x 32')\n",
    "        plt.imshow(t)\n",
    "        plt.show()\n",
    "    \n",
    "        # convert to a binary array (contains either 0 or 1)\n",
    "        _, t = cv2.threshold(t,200,255,cv2.THRESH_BINARY)\n",
    "        print('after getting theshold ')\n",
    "        plt.imshow(t)\n",
    "        plt.show()\n",
    "    \n",
    "        # edge detection to remove noise\n",
    "        t = cv2.Laplacian(t,cv2.CV_64F, ksize=3)\n",
    "        print('after edge detection')\n",
    "        plt.imshow(t)\n",
    "        plt.show()\n",
    "    \n",
    "        \n",
    "        # fill any gaps inside feature lost during edge detection\n",
    "        kernel = np.ones((3,3),np.uint8)\n",
    "        t = cv2.morphologyEx(t, cv2.MORPH_CLOSE, kernel)\n",
    "        #\n",
    "        print('after filling gaps')\n",
    "        plt.imshow(t)\n",
    "        plt.show()\n",
    "    \n",
    "        \n",
    "        # Erosion area (output is too thin (around 1 px)) \n",
    "        # Both CNN/ANN were not able to detect features because of this method\n",
    "        # kernel = np.ones((2,2),np.uint8)\n",
    "        #t = cv2.erode(t,kernel,iterations = 1)\n",
    "        #\n",
    "        \n",
    "        # invert inverted image to white background and black features\n",
    "        t = 255 - t\n",
    "        \n",
    "        # this line is used to reset all values to 0 or 255\n",
    "        _, t = cv2.threshold(t,50,255,cv2.THRESH_BINARY)\n",
    "        print('after inverting and getting threshold')\n",
    "        plt.imshow(t)\n",
    "        plt.show()\n",
    "    \n",
    "        # Convert image to numpy array (uint8 since fatures are 255/0)\n",
    "        # If image contains values as 0 to 255, they should be in integers \n",
    "        # (uint8 takes values between 0 and 255)\n",
    "        # If image contains values as 0 or 1, they should be in float\n",
    "        t_im = np.asarray(t).astype('uint8')\n",
    "        \n",
    "        # Change Color channels to grayscale\n",
    "        #t_im = cv2.cvtColor(t_im, cv2.COLOR_BGRA2RGBA)\n",
    "        #t_im = cv2.cvtColor(t_im, cv2.COLOR_RGBA2RGB)\n",
    "        #t_im = cv2.cvtColor(t_im, cv2.COLOR_BGR2RGB)\n",
    "        t_im = cv2.cvtColor(t_im, cv2.COLOR_RGB2GRAY)\n",
    "        \n",
    "        # resize image to 32 x 32 (not required but just to ensure image is 32 x 32)\n",
    "        t_im = cv2.resize(t_im, (32,32))\n",
    "        \n",
    "        # change features to 0/1\n",
    "        t_im = t_im / 255.0\n",
    "        print('before character classification')\n",
    "        plt.imshow(t_im)\n",
    "        plt.show()\n",
    "        pprint(t_im)\n",
    "    \n",
    "        # Label Prediction\n",
    "        # CNN\n",
    "        t_im = np.resize(t_im, (1, 1, 32, 32))\n",
    "        t_im = t_im.astype('float32')\n",
    "        res = cnn.predict(t_im)\n",
    "        #\n",
    "        # ANN\n",
    "        #t_im = t_im.flatten().reshape((1, 32*32))\n",
    "        #print(t_im.shape)\n",
    "        #res = ann.predict(t_im)\n",
    "        #\n",
    "        \n",
    "        # flatten result and convert one hot encoded result to a label (0 to 106)\n",
    "        res = res.flatten()\n",
    "        # lbl = one_hot_encode_to_char(res, threshold=0.1)\n",
    "        # if type(lbl) == list: lbl = lbl[0]\n",
    "        # print(\"Symbol is :\", symbols.loc[symbols['new_id']==lbl])\n",
    "        lbls = one_hot_encode_to_char_list(res, threshold=0.01, get_max = False)\n",
    "        \n",
    "        # Print Predictions\n",
    "        print(\"CNN/ANN Predictions:\")\n",
    "        for j in lbls:\n",
    "            symbols_row = symbols[symbols['new_id'] == j[0]][['latex', 'old_symbol', 'new_id']]\n",
    "            latex, old_symbol, new_id = symbols_row.iloc[0].to_list()\n",
    "            print('Symbol_id:', new_id, ', Latex:', latex, ', Confidence Score:', round(j[1]*100, 2), '%')\n",
    "\n",
    "        # Display figure\n",
    "        plt.figure(figsize=(1,1))\n",
    "        # plt.subplot(len(coord),1, count+1)\n",
    "        plt.imshow(t.astype('uint8'))\n",
    "        plt.show()\n",
    "        count += 1\n",
    "        break\n",
    "    print(\"number of char in image:\", count)\n",
    "    break"
   ]
  },
  {
   "cell_type": "code",
   "execution_count": null,
   "metadata": {},
   "outputs": [],
   "source": []
  }
 ],
 "metadata": {
  "kernelspec": {
   "display_name": "Python 3",
   "language": "python",
   "name": "python3"
  },
  "language_info": {
   "codemirror_mode": {
    "name": "ipython",
    "version": 3
   },
   "file_extension": ".py",
   "mimetype": "text/x-python",
   "name": "python",
   "nbconvert_exporter": "python",
   "pygments_lexer": "ipython3",
   "version": "3.6.9"
  }
 },
 "nbformat": 4,
 "nbformat_minor": 4
}
